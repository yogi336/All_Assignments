{
  "nbformat": 4,
  "nbformat_minor": 0,
  "metadata": {
    "colab": {
      "name": "NLP_Project_8_1st_Sentiment_Analy.ipynb",
      "provenance": []
    },
    "kernelspec": {
      "name": "python3",
      "display_name": "Python 3"
    },
    "accelerator": "GPU"
  },
  "cells": [
    {
      "cell_type": "code",
      "metadata": {
        "id": "DIF5826ldo1R",
        "colab_type": "code",
        "colab": {}
      },
      "source": [
        "### NLP_Project_8_1st_Sentiment_Analy"
      ],
      "execution_count": 73,
      "outputs": []
    },
    {
      "cell_type": "code",
      "metadata": {
        "id": "hFKOj8sr9UpZ",
        "colab_type": "code",
        "colab": {
          "base_uri": "https://localhost:8080/",
          "height": 891
        },
        "outputId": "cddfbcfd-cdea-471c-b905-329acda027bf"
      },
      "source": [
        "import nltk\n",
        "nltk.download('stopwords')\n",
        "nltk.download(\"popular\")"
      ],
      "execution_count": 26,
      "outputs": [
        {
          "output_type": "stream",
          "text": [
            "[nltk_data] Downloading package stopwords to /root/nltk_data...\n",
            "[nltk_data]   Package stopwords is already up-to-date!\n",
            "[nltk_data] Downloading collection 'popular'\n",
            "[nltk_data]    | \n",
            "[nltk_data]    | Downloading package cmudict to /root/nltk_data...\n",
            "[nltk_data]    |   Package cmudict is already up-to-date!\n",
            "[nltk_data]    | Downloading package gazetteers to /root/nltk_data...\n",
            "[nltk_data]    |   Package gazetteers is already up-to-date!\n",
            "[nltk_data]    | Downloading package genesis to /root/nltk_data...\n",
            "[nltk_data]    |   Package genesis is already up-to-date!\n",
            "[nltk_data]    | Downloading package gutenberg to /root/nltk_data...\n",
            "[nltk_data]    |   Package gutenberg is already up-to-date!\n",
            "[nltk_data]    | Downloading package inaugural to /root/nltk_data...\n",
            "[nltk_data]    |   Package inaugural is already up-to-date!\n",
            "[nltk_data]    | Downloading package movie_reviews to\n",
            "[nltk_data]    |     /root/nltk_data...\n",
            "[nltk_data]    |   Package movie_reviews is already up-to-date!\n",
            "[nltk_data]    | Downloading package names to /root/nltk_data...\n",
            "[nltk_data]    |   Package names is already up-to-date!\n",
            "[nltk_data]    | Downloading package shakespeare to /root/nltk_data...\n",
            "[nltk_data]    |   Package shakespeare is already up-to-date!\n",
            "[nltk_data]    | Downloading package stopwords to /root/nltk_data...\n",
            "[nltk_data]    |   Package stopwords is already up-to-date!\n",
            "[nltk_data]    | Downloading package treebank to /root/nltk_data...\n",
            "[nltk_data]    |   Package treebank is already up-to-date!\n",
            "[nltk_data]    | Downloading package twitter_samples to\n",
            "[nltk_data]    |     /root/nltk_data...\n",
            "[nltk_data]    |   Package twitter_samples is already up-to-date!\n",
            "[nltk_data]    | Downloading package omw to /root/nltk_data...\n",
            "[nltk_data]    |   Package omw is already up-to-date!\n",
            "[nltk_data]    | Downloading package wordnet to /root/nltk_data...\n",
            "[nltk_data]    |   Package wordnet is already up-to-date!\n",
            "[nltk_data]    | Downloading package wordnet_ic to /root/nltk_data...\n",
            "[nltk_data]    |   Package wordnet_ic is already up-to-date!\n",
            "[nltk_data]    | Downloading package words to /root/nltk_data...\n",
            "[nltk_data]    |   Package words is already up-to-date!\n",
            "[nltk_data]    | Downloading package maxent_ne_chunker to\n",
            "[nltk_data]    |     /root/nltk_data...\n",
            "[nltk_data]    |   Package maxent_ne_chunker is already up-to-date!\n",
            "[nltk_data]    | Downloading package punkt to /root/nltk_data...\n",
            "[nltk_data]    |   Package punkt is already up-to-date!\n",
            "[nltk_data]    | Downloading package snowball_data to\n",
            "[nltk_data]    |     /root/nltk_data...\n",
            "[nltk_data]    |   Package snowball_data is already up-to-date!\n",
            "[nltk_data]    | Downloading package averaged_perceptron_tagger to\n",
            "[nltk_data]    |     /root/nltk_data...\n",
            "[nltk_data]    |   Package averaged_perceptron_tagger is already up-\n",
            "[nltk_data]    |       to-date!\n",
            "[nltk_data]    | \n",
            "[nltk_data]  Done downloading collection popular\n"
          ],
          "name": "stdout"
        },
        {
          "output_type": "execute_result",
          "data": {
            "text/plain": [
              "True"
            ]
          },
          "metadata": {
            "tags": []
          },
          "execution_count": 26
        }
      ]
    },
    {
      "cell_type": "code",
      "metadata": {
        "id": "IlNm9MJ-d9Ep",
        "colab_type": "code",
        "colab": {
          "base_uri": "https://localhost:8080/",
          "height": 71
        },
        "outputId": "0fd20f5a-587e-4709-8f92-c4b1b9135453"
      },
      "source": [
        "import numpy as np \n",
        "import pandas as pd\n",
        "import matplotlib\n",
        "import matplotlib.pyplot as plt\n",
        "import seaborn as sns\n",
        "#import os\n",
        "data = pd.read_csv(r\"/content/drive/My Drive/NLP/hotel_senti_train.csv\",encoding='latin-1')\n",
        "data_test = pd.read_csv(r\"/content/drive/My Drive/NLP/hotel_senti_test.csv\",encoding='latin-1')\n",
        "\n",
        "# 1: happy\n",
        "# 0: not happy"
      ],
      "execution_count": 3,
      "outputs": [
        {
          "output_type": "stream",
          "text": [
            "/usr/local/lib/python3.6/dist-packages/statsmodels/tools/_testing.py:19: FutureWarning: pandas.util.testing is deprecated. Use the functions in the public API at pandas.testing instead.\n",
            "  import pandas.util.testing as tm\n"
          ],
          "name": "stderr"
        }
      ]
    },
    {
      "cell_type": "code",
      "metadata": {
        "id": "HqWBIB4Smhmi",
        "colab_type": "code",
        "colab": {
          "base_uri": "https://localhost:8080/",
          "height": 203
        },
        "outputId": "e4b5e414-1c90-4bee-a95f-36c678beb5a7"
      },
      "source": [
        "data.head()"
      ],
      "execution_count": 5,
      "outputs": [
        {
          "output_type": "execute_result",
          "data": {
            "text/html": [
              "<div>\n",
              "<style scoped>\n",
              "    .dataframe tbody tr th:only-of-type {\n",
              "        vertical-align: middle;\n",
              "    }\n",
              "\n",
              "    .dataframe tbody tr th {\n",
              "        vertical-align: top;\n",
              "    }\n",
              "\n",
              "    .dataframe thead th {\n",
              "        text-align: right;\n",
              "    }\n",
              "</style>\n",
              "<table border=\"1\" class=\"dataframe\">\n",
              "  <thead>\n",
              "    <tr style=\"text-align: right;\">\n",
              "      <th></th>\n",
              "      <th>User_ID</th>\n",
              "      <th>Description</th>\n",
              "      <th>Browser_Used</th>\n",
              "      <th>Device_Used</th>\n",
              "      <th>Is_Response</th>\n",
              "    </tr>\n",
              "  </thead>\n",
              "  <tbody>\n",
              "    <tr>\n",
              "      <th>0</th>\n",
              "      <td>id10326</td>\n",
              "      <td>The room was kind of clean but had a VERY stro...</td>\n",
              "      <td>Edge</td>\n",
              "      <td>Mobile</td>\n",
              "      <td>not happy</td>\n",
              "    </tr>\n",
              "    <tr>\n",
              "      <th>1</th>\n",
              "      <td>id10327</td>\n",
              "      <td>I stayed at the Crown Plaza April -- - April -...</td>\n",
              "      <td>Internet Explorer</td>\n",
              "      <td>Mobile</td>\n",
              "      <td>not happy</td>\n",
              "    </tr>\n",
              "    <tr>\n",
              "      <th>2</th>\n",
              "      <td>id10328</td>\n",
              "      <td>I booked this hotel through Hotwire at the low...</td>\n",
              "      <td>Mozilla</td>\n",
              "      <td>Tablet</td>\n",
              "      <td>not happy</td>\n",
              "    </tr>\n",
              "    <tr>\n",
              "      <th>3</th>\n",
              "      <td>id10329</td>\n",
              "      <td>Stayed here with husband and sons on the way t...</td>\n",
              "      <td>InternetExplorer</td>\n",
              "      <td>Desktop</td>\n",
              "      <td>happy</td>\n",
              "    </tr>\n",
              "    <tr>\n",
              "      <th>4</th>\n",
              "      <td>id10330</td>\n",
              "      <td>My girlfriends and I stayed here to celebrate ...</td>\n",
              "      <td>Edge</td>\n",
              "      <td>Tablet</td>\n",
              "      <td>not happy</td>\n",
              "    </tr>\n",
              "  </tbody>\n",
              "</table>\n",
              "</div>"
            ],
            "text/plain": [
              "   User_ID  ... Is_Response\n",
              "0  id10326  ...   not happy\n",
              "1  id10327  ...   not happy\n",
              "2  id10328  ...   not happy\n",
              "3  id10329  ...       happy\n",
              "4  id10330  ...   not happy\n",
              "\n",
              "[5 rows x 5 columns]"
            ]
          },
          "metadata": {
            "tags": []
          },
          "execution_count": 5
        }
      ]
    },
    {
      "cell_type": "code",
      "metadata": {
        "id": "uo2AQxsJmkSo",
        "colab_type": "code",
        "colab": {
          "base_uri": "https://localhost:8080/",
          "height": 34
        },
        "outputId": "f6a99de8-1d39-47a9-a9ab-62b1183da4bc"
      },
      "source": [
        "data.shape"
      ],
      "execution_count": 6,
      "outputs": [
        {
          "output_type": "execute_result",
          "data": {
            "text/plain": [
              "(38932, 5)"
            ]
          },
          "metadata": {
            "tags": []
          },
          "execution_count": 6
        }
      ]
    },
    {
      "cell_type": "markdown",
      "metadata": {
        "id": "xlzzez_O06Hc",
        "colab_type": "text"
      },
      "source": [
        "**Exploratory Data Analysis (EDA)**"
      ]
    },
    {
      "cell_type": "code",
      "metadata": {
        "id": "M-D5oSRn2Jqw",
        "colab_type": "code",
        "colab": {}
      },
      "source": [
        "data_eda = data.copy()"
      ],
      "execution_count": 7,
      "outputs": []
    },
    {
      "cell_type": "code",
      "metadata": {
        "id": "2hxv7V0Fujm1",
        "colab_type": "code",
        "colab": {}
      },
      "source": [
        "data_eda['Is_Response'] = data_eda['Is_Response'].map({'happy':1, 'not happy':0})"
      ],
      "execution_count": 8,
      "outputs": []
    },
    {
      "cell_type": "code",
      "metadata": {
        "id": "AotsDReq0cwE",
        "colab_type": "code",
        "colab": {
          "base_uri": "https://localhost:8080/",
          "height": 203
        },
        "outputId": "3301e830-87d9-43f1-faf9-6164b9f08cd1"
      },
      "source": [
        "data_eda.head()"
      ],
      "execution_count": 9,
      "outputs": [
        {
          "output_type": "execute_result",
          "data": {
            "text/html": [
              "<div>\n",
              "<style scoped>\n",
              "    .dataframe tbody tr th:only-of-type {\n",
              "        vertical-align: middle;\n",
              "    }\n",
              "\n",
              "    .dataframe tbody tr th {\n",
              "        vertical-align: top;\n",
              "    }\n",
              "\n",
              "    .dataframe thead th {\n",
              "        text-align: right;\n",
              "    }\n",
              "</style>\n",
              "<table border=\"1\" class=\"dataframe\">\n",
              "  <thead>\n",
              "    <tr style=\"text-align: right;\">\n",
              "      <th></th>\n",
              "      <th>User_ID</th>\n",
              "      <th>Description</th>\n",
              "      <th>Browser_Used</th>\n",
              "      <th>Device_Used</th>\n",
              "      <th>Is_Response</th>\n",
              "    </tr>\n",
              "  </thead>\n",
              "  <tbody>\n",
              "    <tr>\n",
              "      <th>0</th>\n",
              "      <td>id10326</td>\n",
              "      <td>The room was kind of clean but had a VERY stro...</td>\n",
              "      <td>Edge</td>\n",
              "      <td>Mobile</td>\n",
              "      <td>0</td>\n",
              "    </tr>\n",
              "    <tr>\n",
              "      <th>1</th>\n",
              "      <td>id10327</td>\n",
              "      <td>I stayed at the Crown Plaza April -- - April -...</td>\n",
              "      <td>Internet Explorer</td>\n",
              "      <td>Mobile</td>\n",
              "      <td>0</td>\n",
              "    </tr>\n",
              "    <tr>\n",
              "      <th>2</th>\n",
              "      <td>id10328</td>\n",
              "      <td>I booked this hotel through Hotwire at the low...</td>\n",
              "      <td>Mozilla</td>\n",
              "      <td>Tablet</td>\n",
              "      <td>0</td>\n",
              "    </tr>\n",
              "    <tr>\n",
              "      <th>3</th>\n",
              "      <td>id10329</td>\n",
              "      <td>Stayed here with husband and sons on the way t...</td>\n",
              "      <td>InternetExplorer</td>\n",
              "      <td>Desktop</td>\n",
              "      <td>1</td>\n",
              "    </tr>\n",
              "    <tr>\n",
              "      <th>4</th>\n",
              "      <td>id10330</td>\n",
              "      <td>My girlfriends and I stayed here to celebrate ...</td>\n",
              "      <td>Edge</td>\n",
              "      <td>Tablet</td>\n",
              "      <td>0</td>\n",
              "    </tr>\n",
              "  </tbody>\n",
              "</table>\n",
              "</div>"
            ],
            "text/plain": [
              "   User_ID  ... Is_Response\n",
              "0  id10326  ...           0\n",
              "1  id10327  ...           0\n",
              "2  id10328  ...           0\n",
              "3  id10329  ...           1\n",
              "4  id10330  ...           0\n",
              "\n",
              "[5 rows x 5 columns]"
            ]
          },
          "metadata": {
            "tags": []
          },
          "execution_count": 9
        }
      ]
    },
    {
      "cell_type": "code",
      "metadata": {
        "id": "Toy3g0rG0elN",
        "colab_type": "code",
        "colab": {
          "base_uri": "https://localhost:8080/",
          "height": 223
        },
        "outputId": "f179bb34-3d11-442f-ed30-5498a252c5a0"
      },
      "source": [
        "data_eda.info()"
      ],
      "execution_count": 10,
      "outputs": [
        {
          "output_type": "stream",
          "text": [
            "<class 'pandas.core.frame.DataFrame'>\n",
            "RangeIndex: 38932 entries, 0 to 38931\n",
            "Data columns (total 5 columns):\n",
            " #   Column        Non-Null Count  Dtype \n",
            "---  ------        --------------  ----- \n",
            " 0   User_ID       38932 non-null  object\n",
            " 1   Description   38932 non-null  object\n",
            " 2   Browser_Used  38932 non-null  object\n",
            " 3   Device_Used   38932 non-null  object\n",
            " 4   Is_Response   38932 non-null  int64 \n",
            "dtypes: int64(1), object(4)\n",
            "memory usage: 1.5+ MB\n"
          ],
          "name": "stdout"
        }
      ]
    },
    {
      "cell_type": "code",
      "metadata": {
        "id": "EchaWcoD0_8f",
        "colab_type": "code",
        "colab": {
          "base_uri": "https://localhost:8080/",
          "height": 120
        },
        "outputId": "34af2950-610f-4910-8557-bf6e4c6fd588"
      },
      "source": [
        "pd.isnull(data_eda).sum()"
      ],
      "execution_count": 11,
      "outputs": [
        {
          "output_type": "execute_result",
          "data": {
            "text/plain": [
              "User_ID         0\n",
              "Description     0\n",
              "Browser_Used    0\n",
              "Device_Used     0\n",
              "Is_Response     0\n",
              "dtype: int64"
            ]
          },
          "metadata": {
            "tags": []
          },
          "execution_count": 11
        }
      ]
    },
    {
      "cell_type": "code",
      "metadata": {
        "id": "X51nHB5G1D6m",
        "colab_type": "code",
        "colab": {
          "base_uri": "https://localhost:8080/",
          "height": 398
        },
        "outputId": "dcfa4a0d-cc22-4562-a570-7c65f71c22f3"
      },
      "source": [
        "data_eda.groupby('Is_Response').describe()"
      ],
      "execution_count": 12,
      "outputs": [
        {
          "output_type": "execute_result",
          "data": {
            "text/html": [
              "<div>\n",
              "<style scoped>\n",
              "    .dataframe tbody tr th:only-of-type {\n",
              "        vertical-align: middle;\n",
              "    }\n",
              "\n",
              "    .dataframe tbody tr th {\n",
              "        vertical-align: top;\n",
              "    }\n",
              "\n",
              "    .dataframe thead tr th {\n",
              "        text-align: left;\n",
              "    }\n",
              "\n",
              "    .dataframe thead tr:last-of-type th {\n",
              "        text-align: right;\n",
              "    }\n",
              "</style>\n",
              "<table border=\"1\" class=\"dataframe\">\n",
              "  <thead>\n",
              "    <tr>\n",
              "      <th></th>\n",
              "      <th colspan=\"4\" halign=\"left\">User_ID</th>\n",
              "      <th colspan=\"4\" halign=\"left\">Description</th>\n",
              "      <th colspan=\"4\" halign=\"left\">Browser_Used</th>\n",
              "      <th colspan=\"4\" halign=\"left\">Device_Used</th>\n",
              "    </tr>\n",
              "    <tr>\n",
              "      <th></th>\n",
              "      <th>count</th>\n",
              "      <th>unique</th>\n",
              "      <th>top</th>\n",
              "      <th>freq</th>\n",
              "      <th>count</th>\n",
              "      <th>unique</th>\n",
              "      <th>top</th>\n",
              "      <th>freq</th>\n",
              "      <th>count</th>\n",
              "      <th>unique</th>\n",
              "      <th>top</th>\n",
              "      <th>freq</th>\n",
              "      <th>count</th>\n",
              "      <th>unique</th>\n",
              "      <th>top</th>\n",
              "      <th>freq</th>\n",
              "    </tr>\n",
              "    <tr>\n",
              "      <th>Is_Response</th>\n",
              "      <th></th>\n",
              "      <th></th>\n",
              "      <th></th>\n",
              "      <th></th>\n",
              "      <th></th>\n",
              "      <th></th>\n",
              "      <th></th>\n",
              "      <th></th>\n",
              "      <th></th>\n",
              "      <th></th>\n",
              "      <th></th>\n",
              "      <th></th>\n",
              "      <th></th>\n",
              "      <th></th>\n",
              "      <th></th>\n",
              "      <th></th>\n",
              "    </tr>\n",
              "  </thead>\n",
              "  <tbody>\n",
              "    <tr>\n",
              "      <th>0</th>\n",
              "      <td>12411</td>\n",
              "      <td>12411</td>\n",
              "      <td>id24630</td>\n",
              "      <td>1</td>\n",
              "      <td>12411</td>\n",
              "      <td>12411</td>\n",
              "      <td>We were in Denver with National Jewish Hospita...</td>\n",
              "      <td>1</td>\n",
              "      <td>12411</td>\n",
              "      <td>11</td>\n",
              "      <td>Edge</td>\n",
              "      <td>3916</td>\n",
              "      <td>12411</td>\n",
              "      <td>3</td>\n",
              "      <td>Desktop</td>\n",
              "      <td>4431</td>\n",
              "    </tr>\n",
              "    <tr>\n",
              "      <th>1</th>\n",
              "      <td>26521</td>\n",
              "      <td>26521</td>\n",
              "      <td>id42785</td>\n",
              "      <td>1</td>\n",
              "      <td>26521</td>\n",
              "      <td>26521</td>\n",
              "      <td>We stayed three nights total. The staff was ve...</td>\n",
              "      <td>1</td>\n",
              "      <td>26521</td>\n",
              "      <td>11</td>\n",
              "      <td>Google Chrome</td>\n",
              "      <td>4035</td>\n",
              "      <td>26521</td>\n",
              "      <td>3</td>\n",
              "      <td>Mobile</td>\n",
              "      <td>10602</td>\n",
              "    </tr>\n",
              "  </tbody>\n",
              "</table>\n",
              "</div>"
            ],
            "text/plain": [
              "            User_ID                       ... Device_Used                       \n",
              "              count unique      top freq  ...       count unique      top   freq\n",
              "Is_Response                               ...                                   \n",
              "0             12411  12411  id24630    1  ...       12411      3  Desktop   4431\n",
              "1             26521  26521  id42785    1  ...       26521      3   Mobile  10602\n",
              "\n",
              "[2 rows x 16 columns]"
            ]
          },
          "metadata": {
            "tags": []
          },
          "execution_count": 12
        }
      ]
    },
    {
      "cell_type": "markdown",
      "metadata": {
        "id": "Cy2717S91sPe",
        "colab_type": "text"
      },
      "source": [
        "Obs:- We have 12411 'not happy' feedbacks and 26521 'happy' feedbacks"
      ]
    },
    {
      "cell_type": "code",
      "metadata": {
        "id": "8eLJI4Uy1eAD",
        "colab_type": "code",
        "colab": {
          "base_uri": "https://localhost:8080/",
          "height": 203
        },
        "outputId": "89d28a6d-5de2-479e-a0d8-6f3fdc3b595b"
      },
      "source": [
        "data_eda['Description_len'] = data_eda.Description.apply(len)\n",
        "data_eda.head()"
      ],
      "execution_count": 13,
      "outputs": [
        {
          "output_type": "execute_result",
          "data": {
            "text/html": [
              "<div>\n",
              "<style scoped>\n",
              "    .dataframe tbody tr th:only-of-type {\n",
              "        vertical-align: middle;\n",
              "    }\n",
              "\n",
              "    .dataframe tbody tr th {\n",
              "        vertical-align: top;\n",
              "    }\n",
              "\n",
              "    .dataframe thead th {\n",
              "        text-align: right;\n",
              "    }\n",
              "</style>\n",
              "<table border=\"1\" class=\"dataframe\">\n",
              "  <thead>\n",
              "    <tr style=\"text-align: right;\">\n",
              "      <th></th>\n",
              "      <th>User_ID</th>\n",
              "      <th>Description</th>\n",
              "      <th>Browser_Used</th>\n",
              "      <th>Device_Used</th>\n",
              "      <th>Is_Response</th>\n",
              "      <th>Description_len</th>\n",
              "    </tr>\n",
              "  </thead>\n",
              "  <tbody>\n",
              "    <tr>\n",
              "      <th>0</th>\n",
              "      <td>id10326</td>\n",
              "      <td>The room was kind of clean but had a VERY stro...</td>\n",
              "      <td>Edge</td>\n",
              "      <td>Mobile</td>\n",
              "      <td>0</td>\n",
              "      <td>248</td>\n",
              "    </tr>\n",
              "    <tr>\n",
              "      <th>1</th>\n",
              "      <td>id10327</td>\n",
              "      <td>I stayed at the Crown Plaza April -- - April -...</td>\n",
              "      <td>Internet Explorer</td>\n",
              "      <td>Mobile</td>\n",
              "      <td>0</td>\n",
              "      <td>1077</td>\n",
              "    </tr>\n",
              "    <tr>\n",
              "      <th>2</th>\n",
              "      <td>id10328</td>\n",
              "      <td>I booked this hotel through Hotwire at the low...</td>\n",
              "      <td>Mozilla</td>\n",
              "      <td>Tablet</td>\n",
              "      <td>0</td>\n",
              "      <td>1327</td>\n",
              "    </tr>\n",
              "    <tr>\n",
              "      <th>3</th>\n",
              "      <td>id10329</td>\n",
              "      <td>Stayed here with husband and sons on the way t...</td>\n",
              "      <td>InternetExplorer</td>\n",
              "      <td>Desktop</td>\n",
              "      <td>1</td>\n",
              "      <td>502</td>\n",
              "    </tr>\n",
              "    <tr>\n",
              "      <th>4</th>\n",
              "      <td>id10330</td>\n",
              "      <td>My girlfriends and I stayed here to celebrate ...</td>\n",
              "      <td>Edge</td>\n",
              "      <td>Tablet</td>\n",
              "      <td>0</td>\n",
              "      <td>1613</td>\n",
              "    </tr>\n",
              "  </tbody>\n",
              "</table>\n",
              "</div>"
            ],
            "text/plain": [
              "   User_ID  ... Description_len\n",
              "0  id10326  ...             248\n",
              "1  id10327  ...            1077\n",
              "2  id10328  ...            1327\n",
              "3  id10329  ...             502\n",
              "4  id10330  ...            1613\n",
              "\n",
              "[5 rows x 6 columns]"
            ]
          },
          "metadata": {
            "tags": []
          },
          "execution_count": 13
        }
      ]
    },
    {
      "cell_type": "code",
      "metadata": {
        "id": "NQ3fj6ix34gB",
        "colab_type": "code",
        "colab": {}
      },
      "source": [
        "data_eda['Is_Response'] = data_eda['Is_Response'].map({1:'happy', 0:'not happy'})"
      ],
      "execution_count": 14,
      "outputs": []
    },
    {
      "cell_type": "code",
      "metadata": {
        "id": "AC-eGqtY5C-W",
        "colab_type": "code",
        "colab": {
          "base_uri": "https://localhost:8080/",
          "height": 203
        },
        "outputId": "b9d2d727-6bca-47b8-ac25-1f684cd6a5ab"
      },
      "source": [
        "data_eda.head()"
      ],
      "execution_count": 15,
      "outputs": [
        {
          "output_type": "execute_result",
          "data": {
            "text/html": [
              "<div>\n",
              "<style scoped>\n",
              "    .dataframe tbody tr th:only-of-type {\n",
              "        vertical-align: middle;\n",
              "    }\n",
              "\n",
              "    .dataframe tbody tr th {\n",
              "        vertical-align: top;\n",
              "    }\n",
              "\n",
              "    .dataframe thead th {\n",
              "        text-align: right;\n",
              "    }\n",
              "</style>\n",
              "<table border=\"1\" class=\"dataframe\">\n",
              "  <thead>\n",
              "    <tr style=\"text-align: right;\">\n",
              "      <th></th>\n",
              "      <th>User_ID</th>\n",
              "      <th>Description</th>\n",
              "      <th>Browser_Used</th>\n",
              "      <th>Device_Used</th>\n",
              "      <th>Is_Response</th>\n",
              "      <th>Description_len</th>\n",
              "    </tr>\n",
              "  </thead>\n",
              "  <tbody>\n",
              "    <tr>\n",
              "      <th>0</th>\n",
              "      <td>id10326</td>\n",
              "      <td>The room was kind of clean but had a VERY stro...</td>\n",
              "      <td>Edge</td>\n",
              "      <td>Mobile</td>\n",
              "      <td>not happy</td>\n",
              "      <td>248</td>\n",
              "    </tr>\n",
              "    <tr>\n",
              "      <th>1</th>\n",
              "      <td>id10327</td>\n",
              "      <td>I stayed at the Crown Plaza April -- - April -...</td>\n",
              "      <td>Internet Explorer</td>\n",
              "      <td>Mobile</td>\n",
              "      <td>not happy</td>\n",
              "      <td>1077</td>\n",
              "    </tr>\n",
              "    <tr>\n",
              "      <th>2</th>\n",
              "      <td>id10328</td>\n",
              "      <td>I booked this hotel through Hotwire at the low...</td>\n",
              "      <td>Mozilla</td>\n",
              "      <td>Tablet</td>\n",
              "      <td>not happy</td>\n",
              "      <td>1327</td>\n",
              "    </tr>\n",
              "    <tr>\n",
              "      <th>3</th>\n",
              "      <td>id10329</td>\n",
              "      <td>Stayed here with husband and sons on the way t...</td>\n",
              "      <td>InternetExplorer</td>\n",
              "      <td>Desktop</td>\n",
              "      <td>happy</td>\n",
              "      <td>502</td>\n",
              "    </tr>\n",
              "    <tr>\n",
              "      <th>4</th>\n",
              "      <td>id10330</td>\n",
              "      <td>My girlfriends and I stayed here to celebrate ...</td>\n",
              "      <td>Edge</td>\n",
              "      <td>Tablet</td>\n",
              "      <td>not happy</td>\n",
              "      <td>1613</td>\n",
              "    </tr>\n",
              "  </tbody>\n",
              "</table>\n",
              "</div>"
            ],
            "text/plain": [
              "   User_ID  ... Description_len\n",
              "0  id10326  ...             248\n",
              "1  id10327  ...            1077\n",
              "2  id10328  ...            1327\n",
              "3  id10329  ...             502\n",
              "4  id10330  ...            1613\n",
              "\n",
              "[5 rows x 6 columns]"
            ]
          },
          "metadata": {
            "tags": []
          },
          "execution_count": 15
        }
      ]
    },
    {
      "cell_type": "code",
      "metadata": {
        "id": "n4DMHsgm2n86",
        "colab_type": "code",
        "colab": {
          "base_uri": "https://localhost:8080/",
          "height": 514
        },
        "outputId": "46ce208c-15ae-4d3a-eb55-bd837b1d8d8c"
      },
      "source": [
        "plt.figure(figsize=(12, 8))\n",
        "\n",
        "data_eda[data_eda.Is_Response=='happy'].Description_len.plot(bins=35, kind='hist', color='blue', label='happy msg', alpha=0.6)\n",
        "data_eda[data_eda.Is_Response=='not happy'].Description_len.plot(kind='hist', color='red', label='not happy msg', alpha=0.6)\n",
        "plt.legend()\n",
        "plt.xlabel(\"Feedback Length\")"
      ],
      "execution_count": 16,
      "outputs": [
        {
          "output_type": "execute_result",
          "data": {
            "text/plain": [
              "Text(0.5, 0, 'Feedback Length')"
            ]
          },
          "metadata": {
            "tags": []
          },
          "execution_count": 16
        },
        {
          "output_type": "display_data",
          "data": {
            "image/png": "[encoded data removed]",
            "text/plain": [
              "<Figure size 864x576 with 1 Axes>"
            ]
          },
          "metadata": {
            "tags": [],
            "needs_background": "light"
          }
        }
      ]
    },
    {
      "cell_type": "markdown",
      "metadata": {
        "id": "gl25KpWj79jt",
        "colab_type": "text"
      },
      "source": [
        "Obs:- Distribution are quite equal of lebal(Is_Response) column(1:happy, 0:not happy)"
      ]
    },
    {
      "cell_type": "markdown",
      "metadata": {
        "id": "8-f-4KFg8PP7",
        "colab_type": "text"
      },
      "source": [
        "**Split Data in IV & DV**"
      ]
    },
    {
      "cell_type": "code",
      "metadata": {
        "id": "7d8yUDIV3iu4",
        "colab_type": "code",
        "colab": {}
      },
      "source": [
        "filter_data = data.copy()\n",
        "filter_data['Is_Response'] = filter_data['Is_Response'].map({'happy':1, 'not happy':0})\n",
        "X_message=filter_data.iloc[:,1]\n",
        "Y_class=filter_data.iloc[:,4]"
      ],
      "execution_count": 17,
      "outputs": []
    },
    {
      "cell_type": "markdown",
      "metadata": {
        "id": "K824LMcQ9IEy",
        "colab_type": "text"
      },
      "source": [
        "**Data cleaning and preprocessing**"
      ]
    },
    {
      "cell_type": "code",
      "metadata": {
        "id": "UroU_HL-SOpR",
        "colab_type": "code",
        "colab": {}
      },
      "source": [
        "# make a dictionary of Contractions\n",
        "\n",
        "contraction_mapping={\n",
        "\"ain't\": \"is not\",\n",
        "\"aren't\": \"are not\",\n",
        "\"can't\": \"cannot\",\n",
        "\"can't've\": \"cannot have\",\n",
        "\"'cause\": \"because\",\n",
        "\"could've\": \"could have\",\n",
        "\"couldn't\": \"could not\",\n",
        "\"couldn't've\": \"could not have\",\n",
        "\"didn't\": \"did not\",\n",
        "\"doesn't\": \"does not\",\n",
        "\"don't\": \"do not\",\n",
        "\"hadn't\": \"had not\",\n",
        "\"hadn't've\": \"had not have\",\n",
        "\"hasn't\": \"has not\",\n",
        "\"haven't\": \"have not\",\n",
        "\"he'd\": \"he would\",\n",
        "\"he'd've\": \"he would have\",\n",
        "\"he'll\": \"he will\",\n",
        "\"he'll've\": \"he he will have\",\n",
        "\"he's\": \"he is\",\n",
        "\"how'd\": \"how did\",\n",
        "\"how'd'y\": \"how do you\",\n",
        "\"how'll\": \"how will\",\n",
        "\"how's\": \"how is\",\n",
        "\"I'd\": \"I would\",\n",
        "\"I'd've\": \"I would have\",\n",
        "\"I'll\": \"I will\",\n",
        "\"I'll've\": \"I will have\",\n",
        "\"I'm\": \"I am\",\n",
        "\"I've\": \"I have\",\n",
        "\"i'd\": \"i would\",\n",
        "\"i'd've\": \"i would have\",\n",
        "\"i'll\": \"i will\",\n",
        "\"i'll've\": \"i will have\",\n",
        "\"i'm\": \"i am\",\n",
        "\"i've\": \"i have\",\n",
        "\"isn't\": \"is not\",\n",
        "\"it'd\": \"it would\",\n",
        "\"it'd've\": \"it would have\",\n",
        "\"it'll\": \"it will\",\n",
        "\"it'll've\": \"it will have\",\n",
        "\"it's\": \"it is\",\n",
        "\"let's\": \"let us\",\n",
        "\"ma'am\": \"madam\",\n",
        "\"mayn't\": \"may not\",\n",
        "\"might've\": \"might have\",\n",
        "\"mightn't\": \"might not\",\n",
        "\"mightn't've\": \"might not have\",\n",
        "\"must've\": \"must have\",\n",
        "\"mustn't\": \"must not\",\n",
        "\"mustn't've\": \"must not have\",\n",
        "\"needn't\": \"need not\",\n",
        "\"needn't've\": \"need not have\",\n",
        "\"o'clock\": \"of the clock\",\n",
        "\"oughtn't\": \"ought not\",\n",
        "\"oughtn't've\": \"ought not have\",\n",
        "\"shan't\": \"shall not\",\n",
        "\"sha'n't\": \"shall not\",\n",
        "\"shan't've\": \"shall not have\",\n",
        "\"she'd\": \"she would\",\n",
        "\"she'd've\": \"she would have\",\n",
        "\"she'll\": \"she will\",\n",
        "\"she'll've\": \"she will have\",\n",
        "\"she's\": \"she is\",\n",
        "\"should've\": \"should have\",\n",
        "\"shouldn't\": \"should not\",\n",
        "\"shouldn't've\": \"should not have\",\n",
        "\"so've\": \"so have\",\n",
        "\"so's\": \"so as\",\n",
        "\"that'd\": \"that would\",\n",
        "\"that'd've\": \"that would have\",\n",
        "\"that's\": \"that is\",\n",
        "\"there'd\": \"there would\",\n",
        "\"there'd've\": \"there would have\",\n",
        "\"there's\": \"there is\",\n",
        "\"they'd\": \"they would\",\n",
        "\"they'd've\": \"they would have\",\n",
        "\"they'll\": \"they will\",\n",
        "\"they'll've\": \"they will have\",\n",
        "\"they're\": \"they are\",\n",
        "\"they've\": \"they have\",\n",
        "\"to've\": \"to have\",\n",
        "\"wasn't\": \"was not\",\n",
        "\"we'd\": \"we would\",\n",
        "\"we'd've\": \"we would have\",\n",
        "\"we'll\": \"we will\",\n",
        "\"we'll've\": \"we will have\",\n",
        "\"we're\": \"we are\",\n",
        "\"we've\": \"we have\",\n",
        "\"weren't\": \"were not\",\n",
        "\"what'll\": \"what will\",\n",
        "\"what'll've\": \"what will have\",\n",
        "\"what're\": \"what are\",\n",
        "\"what's\": \"what is\",\n",
        "\"what've\": \"what have\",\n",
        "\"when's\": \"when is\",\n",
        "\"when've\": \"when have\",\n",
        "\"where'd\": \"where did\",\n",
        "\"where's\": \"where is\",\n",
        "\"where've\": \"where have\",\n",
        "\"who'll\": \"who will\",\n",
        "\"who'll've\": \"who will have\",\n",
        "\"who's\": \"who is\",\n",
        "\"who've\": \"who have\",\n",
        "\"why's\": \"why is\",\n",
        "\"why've\": \"why have\",\n",
        "\"will've\": \"will have\",\n",
        "\"won't\": \"will not\",\n",
        "\"won't've\": \"will not have\",\n",
        "\"would've\": \"would have\",\n",
        "\"wouldn't\": \"would not\",\n",
        "\"wouldn't've\": \"would not have\",\n",
        "\"y'all\": \"you all\",\n",
        "\"y'all'd\": \"you all would\",\n",
        "\"y'all'd've\": \"you all would have\",\n",
        "\"y'all're\": \"you all are\",\n",
        "\"y'all've\": \"you all have\",\n",
        "\"you'd\": \"you would\",\n",
        "\"you'd've\": \"you would have\",\n",
        "\"you'll\": \"you will\",\n",
        "\"you'll've\": \"you will have\",\n",
        "\"you're\": \"you are\",\n",
        "\"you've\": \"you have\"\n",
        "}"
      ],
      "execution_count": 18,
      "outputs": []
    },
    {
      "cell_type": "code",
      "metadata": {
        "id": "nqaBxdSzST7m",
        "colab_type": "code",
        "colab": {}
      },
      "source": [
        "# function to pre-process the text\n",
        "def cleaner(text):\n",
        "    newString=re.sub(r\"@[a-zA-Z0-9]+\",\"\",text)         # removing user mentions\n",
        "    newString=re.sub(\"#\",\"\",newString) \n",
        "    newString=' '.join([contraction_mapping[t] if t in contraction_mapping else t for t in newString.split(\" \")])\n",
        "    x=re.sub(r'http\\S+','',newString)                  # remove URL's\n",
        "    newString=re.sub(r\"'s\\b\",\" is\",newString)         # removing 's\n",
        "    x=re.sub(r'[%#@$&!+|ð¦±]','',newString)          # Remove spacial char\n",
        "    x=re.sub(r'[.,:;]','',newString)                   # remove punctuations mark\n",
        "    newString=re.sub(\"[^a-zA-Z]\",\" \",newString)         # fetching out only char\n",
        "    #lower_case=letters_only.lower()                     # converting everything in lowercase\n",
        "    words=newString.split()                            # split based on space to remove multiple spaces\n",
        "    return (\" \".join(words)).strip()"
      ],
      "execution_count": 34,
      "outputs": []
    },
    {
      "cell_type": "code",
      "metadata": {
        "id": "yVw8cuhESc5n",
        "colab_type": "code",
        "colab": {}
      },
      "source": [
        "corpus = []\n",
        "for i in range(0, len(X_message)):\n",
        "  cleaned_text = cleaner(X_message[i])\n",
        "  corpus.append(cleaned_text)"
      ],
      "execution_count": 35,
      "outputs": []
    },
    {
      "cell_type": "code",
      "metadata": {
        "id": "y2Nrxe45Sq0y",
        "colab_type": "code",
        "colab": {
          "base_uri": "https://localhost:8080/",
          "height": 52
        },
        "outputId": "e16b3fa7-6602-44e3-f2be-db52929f31c8"
      },
      "source": [
        "corpus[0]"
      ],
      "execution_count": 23,
      "outputs": [
        {
          "output_type": "execute_result",
          "data": {
            "application/vnd.google.colaboratory.intrinsic+json": {
              "type": "string"
            },
            "text/plain": [
              "'The room was kind of clean but had a VERY strong smell of dogs Generally below average but ok for a overnight stay if you re not too fussy Would consider staying again if the price was right Breakfast was free and just about better than nothing'"
            ]
          },
          "metadata": {
            "tags": []
          },
          "execution_count": 23
        }
      ]
    },
    {
      "cell_type": "code",
      "metadata": {
        "id": "-emPYXIV9ABL",
        "colab_type": "code",
        "colab": {}
      },
      "source": [
        "import re\n",
        "from nltk.corpus import stopwords\n",
        "from nltk.stem.porter import PorterStemmer\n",
        "ps = PorterStemmer()\n",
        "corpus_final = []\n",
        "for i in range(0, len(corpus)):\n",
        "    review = re.sub('[^a-zA-Z]', ' ', corpus[i])\n",
        "    review = review.lower()\n",
        "    review = review.split()\n",
        "    review = [ps.stem(word) for word in review if not word in stopwords.words('english')]\n",
        "    review = ' '.join(review)\n",
        "    corpus_final.append(review)"
      ],
      "execution_count": 36,
      "outputs": []
    },
    {
      "cell_type": "code",
      "metadata": {
        "id": "5u7ImQVqNNXy",
        "colab_type": "code",
        "colab": {
          "base_uri": "https://localhost:8080/",
          "height": 69
        },
        "outputId": "c4b204a3-a7e1-4696-bbce-c78023045f80"
      },
      "source": [
        "corpus_final[3]"
      ],
      "execution_count": 38,
      "outputs": [
        {
          "output_type": "execute_result",
          "data": {
            "application/vnd.google.colaboratory.intrinsic+json": {
              "type": "string"
            },
            "text/plain": [
              "'stay husband son way alaska cruis love hotel great experi ask room north tower face north west best view high floor stun view needl citi even cruis ship order room servic dinner could enjoy perfect view room servic dinner delici perfect spot walk everywher enjoy citi almost forgot heavenli bed heavenli'"
            ]
          },
          "metadata": {
            "tags": []
          },
          "execution_count": 38
        }
      ]
    },
    {
      "cell_type": "markdown",
      "metadata": {
        "id": "0cp5PNqOhAIK",
        "colab_type": "text"
      },
      "source": [
        "**Prepare Test Dataset**"
      ]
    },
    {
      "cell_type": "code",
      "metadata": {
        "id": "xlbFnEglEeuK",
        "colab_type": "code",
        "colab": {}
      },
      "source": [
        "# X_message_test=data_test.iloc[:,1]"
      ],
      "execution_count": 144,
      "outputs": []
    },
    {
      "cell_type": "code",
      "metadata": {
        "id": "uT1lSOWTDlSc",
        "colab_type": "code",
        "colab": {}
      },
      "source": [
        "# corpus_test = []\n",
        "# for i in range(0, len(X_message_test)):\n",
        "#   cleaned_text_test = cleaner(X_message_test[i])\n",
        "#   corpus_test.append(cleaned_text_test)"
      ],
      "execution_count": 145,
      "outputs": []
    },
    {
      "cell_type": "code",
      "metadata": {
        "id": "NF9RqpbhEpFJ",
        "colab_type": "code",
        "colab": {
          "base_uri": "https://localhost:8080/",
          "height": 120
        },
        "outputId": "20bf88d9-abe6-4dc6-bc07-a3e3210f994d"
      },
      "source": [
        "# corpus_test[0]"
      ],
      "execution_count": 147,
      "outputs": [
        {
          "output_type": "execute_result",
          "data": {
            "application/vnd.google.colaboratory.intrinsic+json": {
              "type": "string"
            },
            "text/plain": [
              "'Looking for a motel in close proximity to TV taping of a Dr Phil show we chose the Dunes on Sunset Blvd in West Hollywood Although the property displayed the AAA emblem it certainly left a lot to be desired There were chips scrapes on the bottom of the door frame in the bathroom and the lotion containers were half full apparently not replaced by housekeeping We needed an early wakeup call but could not use the clock radio alarm as there was not a radio in the room There was no TV channel listing on the remote or on the TV menu making viewing a chore The TV remote had to be returned when checking out This place served its purpose but not a place to revisit'"
            ]
          },
          "metadata": {
            "tags": []
          },
          "execution_count": 147
        }
      ]
    },
    {
      "cell_type": "code",
      "metadata": {
        "id": "4oIQjm3RhpNP",
        "colab_type": "code",
        "colab": {}
      },
      "source": [
        "# ps_test = PorterStemmer()\n",
        "# corpus_final_test = []\n",
        "# for i in range(0, len(corpus_test)):\n",
        "#     review = re.sub('[^a-zA-Z]', ' ', corpus_test[i])\n",
        "#     review = review.lower()\n",
        "#     review = review.split()\n",
        "#     review = [word for word in review if not word in stopwords.words('english')]\n",
        "#     review = ' '.join(review)\n",
        "#     corpus_final_test.append(review)"
      ],
      "execution_count": 148,
      "outputs": []
    },
    {
      "cell_type": "code",
      "metadata": {
        "id": "fw_Smw1whpJ_",
        "colab_type": "code",
        "colab": {}
      },
      "source": [
        "# ## Applying Countvectorizer on test data\n",
        "# from sklearn.feature_extraction.text import CountVectorizer\n",
        "# cv_test = CountVectorizer(max_features=5000,ngram_range=(1,3))\n",
        "# X_test = cv_test.fit_transform(corpus_final_test).toarray()"
      ],
      "execution_count": 150,
      "outputs": []
    },
    {
      "cell_type": "markdown",
      "metadata": {
        "id": "Mr0a2zJaAoEm",
        "colab_type": "text"
      },
      "source": [
        "**After Cleaning Now Convert Corpus in BOW (Docuents Matrix wrt Words)**"
      ]
    },
    {
      "cell_type": "code",
      "metadata": {
        "id": "xWVRG90a9PwX",
        "colab_type": "code",
        "colab": {}
      },
      "source": [
        "## Applying Countvectorizer\n",
        "# Creating the Bag of Words model\n",
        "from sklearn.feature_extraction.text import CountVectorizer\n",
        "cv = CountVectorizer(max_features=5000,ngram_range=(1,3))\n",
        "X = cv.fit_transform(corpus_final).toarray()"
      ],
      "execution_count": 39,
      "outputs": []
    },
    {
      "cell_type": "code",
      "metadata": {
        "id": "mvZsiDvPAwfL",
        "colab_type": "code",
        "colab": {
          "base_uri": "https://localhost:8080/",
          "height": 137
        },
        "outputId": "e2789203-560a-43bb-8497-b4025fdbd041"
      },
      "source": [
        "X"
      ],
      "execution_count": 40,
      "outputs": [
        {
          "output_type": "execute_result",
          "data": {
            "text/plain": [
              "array([[0, 0, 0, ..., 0, 0, 0],\n",
              "       [0, 0, 0, ..., 0, 0, 0],\n",
              "       [0, 0, 0, ..., 0, 0, 0],\n",
              "       ...,\n",
              "       [0, 0, 0, ..., 0, 0, 0],\n",
              "       [0, 0, 0, ..., 0, 0, 0],\n",
              "       [0, 0, 0, ..., 0, 0, 0]])"
            ]
          },
          "metadata": {
            "tags": []
          },
          "execution_count": 40
        }
      ]
    },
    {
      "cell_type": "code",
      "metadata": {
        "id": "5ZQRJKfgBSI4",
        "colab_type": "code",
        "colab": {
          "base_uri": "https://localhost:8080/",
          "height": 120
        },
        "outputId": "43734bb6-7666-49ac-8553-414277a2944c"
      },
      "source": [
        "print(\"X_shape\",X.shape)\n",
        "print(\"y_class\",Y_class.shape)\n",
        "print(\"X_Type\",type(X))\n",
        "print(\"Y_Type\",type(Y_class))\n",
        "print(\"-----------------------------\")\n",
        "Y = Y_class.values\n",
        "print(\"Y_Type\",type(Y))"
      ],
      "execution_count": 42,
      "outputs": [
        {
          "output_type": "stream",
          "text": [
            "X_shape (38932, 5000)\n",
            "y_class (38932,)\n",
            "X_Type <class 'numpy.ndarray'>\n",
            "Y_Type <class 'pandas.core.series.Series'>\n",
            "-----------------------------\n",
            "Y_Type <class 'numpy.ndarray'>\n"
          ],
          "name": "stdout"
        }
      ]
    },
    {
      "cell_type": "code",
      "metadata": {
        "id": "_YKuY3IV9M0K",
        "colab_type": "code",
        "colab": {}
      },
      "source": [
        "## Divide the dataset into Train and Test\n",
        "from sklearn.model_selection import train_test_split\n",
        "X_train, X_test, y_train, y_test = train_test_split(X, Y, test_size=0.33, random_state=0)"
      ],
      "execution_count": 43,
      "outputs": []
    },
    {
      "cell_type": "code",
      "metadata": {
        "id": "ffhSMpdOgWdW",
        "colab_type": "code",
        "colab": {}
      },
      "source": [
        "# examine the vocabulary and document-term matrix together\n",
        "my_corpus = pd.DataFrame(X, columns=cv.get_feature_names())"
      ],
      "execution_count": 141,
      "outputs": []
    },
    {
      "cell_type": "code",
      "metadata": {
        "id": "u4d59zUyghCf",
        "colab_type": "code",
        "colab": {
          "base_uri": "https://localhost:8080/",
          "height": 194
        },
        "outputId": "53d61827-5fb2-49f2-ea1a-45752a6a6a77"
      },
      "source": [
        "my_corpus.head(2)"
      ],
      "execution_count": 143,
      "outputs": [
        {
          "output_type": "execute_result",
          "data": {
            "text/html": [
              "<div>\n",
              "<style scoped>\n",
              "    .dataframe tbody tr th:only-of-type {\n",
              "        vertical-align: middle;\n",
              "    }\n",
              "\n",
              "    .dataframe tbody tr th {\n",
              "        vertical-align: top;\n",
              "    }\n",
              "\n",
              "    .dataframe thead th {\n",
              "        text-align: right;\n",
              "    }\n",
              "</style>\n",
              "<table border=\"1\" class=\"dataframe\">\n",
              "  <thead>\n",
              "    <tr style=\"text-align: right;\">\n",
              "      <th></th>\n",
              "      <th>aaa</th>\n",
              "      <th>abl</th>\n",
              "      <th>abl check</th>\n",
              "      <th>abl get</th>\n",
              "      <th>abl walk</th>\n",
              "      <th>absolut</th>\n",
              "      <th>absolut love</th>\n",
              "      <th>ac</th>\n",
              "      <th>ac unit</th>\n",
              "      <th>accept</th>\n",
              "      <th>access</th>\n",
              "      <th>access room</th>\n",
              "      <th>accommod</th>\n",
              "      <th>accomod</th>\n",
              "      <th>accord</th>\n",
              "      <th>account</th>\n",
              "      <th>accur</th>\n",
              "      <th>acknowledg</th>\n",
              "      <th>across</th>\n",
              "      <th>across road</th>\n",
              "      <th>across street</th>\n",
              "      <th>act</th>\n",
              "      <th>action</th>\n",
              "      <th>activ</th>\n",
              "      <th>actual</th>\n",
              "      <th>ad</th>\n",
              "      <th>ad bonu</th>\n",
              "      <th>add</th>\n",
              "      <th>addit</th>\n",
              "      <th>address</th>\n",
              "      <th>adequ</th>\n",
              "      <th>adjac</th>\n",
              "      <th>adjoin</th>\n",
              "      <th>adjoin room</th>\n",
              "      <th>adjust</th>\n",
              "      <th>admit</th>\n",
              "      <th>adult</th>\n",
              "      <th>advanc</th>\n",
              "      <th>advantag</th>\n",
              "      <th>adventur</th>\n",
              "      <th>...</th>\n",
              "      <th>would think</th>\n",
              "      <th>would tri</th>\n",
              "      <th>would use</th>\n",
              "      <th>would want</th>\n",
              "      <th>would work</th>\n",
              "      <th>wouldnt</th>\n",
              "      <th>wow</th>\n",
              "      <th>wrap</th>\n",
              "      <th>write</th>\n",
              "      <th>write review</th>\n",
              "      <th>written</th>\n",
              "      <th>wrong</th>\n",
              "      <th>wrote</th>\n",
              "      <th>wyndham</th>\n",
              "      <th>yard</th>\n",
              "      <th>ye</th>\n",
              "      <th>ye room</th>\n",
              "      <th>yeah</th>\n",
              "      <th>year</th>\n",
              "      <th>year ago</th>\n",
              "      <th>year eve</th>\n",
              "      <th>year old</th>\n",
              "      <th>year old daughter</th>\n",
              "      <th>year old son</th>\n",
              "      <th>year stay</th>\n",
              "      <th>yell</th>\n",
              "      <th>yellow</th>\n",
              "      <th>yet</th>\n",
              "      <th>yogurt</th>\n",
              "      <th>york</th>\n",
              "      <th>york citi</th>\n",
              "      <th>york hotel</th>\n",
              "      <th>yorker</th>\n",
              "      <th>young</th>\n",
              "      <th>younger</th>\n",
              "      <th>yr</th>\n",
              "      <th>yr old</th>\n",
              "      <th>yummi</th>\n",
              "      <th>zero</th>\n",
              "      <th>zoo</th>\n",
              "    </tr>\n",
              "  </thead>\n",
              "  <tbody>\n",
              "    <tr>\n",
              "      <th>0</th>\n",
              "      <td>0</td>\n",
              "      <td>0</td>\n",
              "      <td>0</td>\n",
              "      <td>0</td>\n",
              "      <td>0</td>\n",
              "      <td>0</td>\n",
              "      <td>0</td>\n",
              "      <td>0</td>\n",
              "      <td>0</td>\n",
              "      <td>0</td>\n",
              "      <td>0</td>\n",
              "      <td>0</td>\n",
              "      <td>0</td>\n",
              "      <td>0</td>\n",
              "      <td>0</td>\n",
              "      <td>0</td>\n",
              "      <td>0</td>\n",
              "      <td>0</td>\n",
              "      <td>0</td>\n",
              "      <td>0</td>\n",
              "      <td>0</td>\n",
              "      <td>0</td>\n",
              "      <td>0</td>\n",
              "      <td>0</td>\n",
              "      <td>0</td>\n",
              "      <td>0</td>\n",
              "      <td>0</td>\n",
              "      <td>0</td>\n",
              "      <td>0</td>\n",
              "      <td>0</td>\n",
              "      <td>0</td>\n",
              "      <td>0</td>\n",
              "      <td>0</td>\n",
              "      <td>0</td>\n",
              "      <td>0</td>\n",
              "      <td>0</td>\n",
              "      <td>0</td>\n",
              "      <td>0</td>\n",
              "      <td>0</td>\n",
              "      <td>0</td>\n",
              "      <td>...</td>\n",
              "      <td>0</td>\n",
              "      <td>0</td>\n",
              "      <td>0</td>\n",
              "      <td>0</td>\n",
              "      <td>0</td>\n",
              "      <td>0</td>\n",
              "      <td>0</td>\n",
              "      <td>0</td>\n",
              "      <td>0</td>\n",
              "      <td>0</td>\n",
              "      <td>0</td>\n",
              "      <td>0</td>\n",
              "      <td>0</td>\n",
              "      <td>0</td>\n",
              "      <td>0</td>\n",
              "      <td>0</td>\n",
              "      <td>0</td>\n",
              "      <td>0</td>\n",
              "      <td>0</td>\n",
              "      <td>0</td>\n",
              "      <td>0</td>\n",
              "      <td>0</td>\n",
              "      <td>0</td>\n",
              "      <td>0</td>\n",
              "      <td>0</td>\n",
              "      <td>0</td>\n",
              "      <td>0</td>\n",
              "      <td>0</td>\n",
              "      <td>0</td>\n",
              "      <td>0</td>\n",
              "      <td>0</td>\n",
              "      <td>0</td>\n",
              "      <td>0</td>\n",
              "      <td>0</td>\n",
              "      <td>0</td>\n",
              "      <td>0</td>\n",
              "      <td>0</td>\n",
              "      <td>0</td>\n",
              "      <td>0</td>\n",
              "      <td>0</td>\n",
              "    </tr>\n",
              "    <tr>\n",
              "      <th>1</th>\n",
              "      <td>0</td>\n",
              "      <td>0</td>\n",
              "      <td>0</td>\n",
              "      <td>0</td>\n",
              "      <td>0</td>\n",
              "      <td>0</td>\n",
              "      <td>0</td>\n",
              "      <td>0</td>\n",
              "      <td>0</td>\n",
              "      <td>0</td>\n",
              "      <td>0</td>\n",
              "      <td>0</td>\n",
              "      <td>0</td>\n",
              "      <td>0</td>\n",
              "      <td>0</td>\n",
              "      <td>0</td>\n",
              "      <td>0</td>\n",
              "      <td>0</td>\n",
              "      <td>0</td>\n",
              "      <td>0</td>\n",
              "      <td>0</td>\n",
              "      <td>0</td>\n",
              "      <td>0</td>\n",
              "      <td>0</td>\n",
              "      <td>0</td>\n",
              "      <td>0</td>\n",
              "      <td>0</td>\n",
              "      <td>0</td>\n",
              "      <td>0</td>\n",
              "      <td>0</td>\n",
              "      <td>0</td>\n",
              "      <td>0</td>\n",
              "      <td>0</td>\n",
              "      <td>0</td>\n",
              "      <td>0</td>\n",
              "      <td>0</td>\n",
              "      <td>0</td>\n",
              "      <td>0</td>\n",
              "      <td>0</td>\n",
              "      <td>0</td>\n",
              "      <td>...</td>\n",
              "      <td>0</td>\n",
              "      <td>0</td>\n",
              "      <td>0</td>\n",
              "      <td>0</td>\n",
              "      <td>0</td>\n",
              "      <td>0</td>\n",
              "      <td>0</td>\n",
              "      <td>0</td>\n",
              "      <td>0</td>\n",
              "      <td>0</td>\n",
              "      <td>0</td>\n",
              "      <td>0</td>\n",
              "      <td>0</td>\n",
              "      <td>0</td>\n",
              "      <td>0</td>\n",
              "      <td>0</td>\n",
              "      <td>0</td>\n",
              "      <td>0</td>\n",
              "      <td>0</td>\n",
              "      <td>0</td>\n",
              "      <td>0</td>\n",
              "      <td>0</td>\n",
              "      <td>0</td>\n",
              "      <td>0</td>\n",
              "      <td>0</td>\n",
              "      <td>0</td>\n",
              "      <td>0</td>\n",
              "      <td>0</td>\n",
              "      <td>0</td>\n",
              "      <td>0</td>\n",
              "      <td>0</td>\n",
              "      <td>0</td>\n",
              "      <td>0</td>\n",
              "      <td>0</td>\n",
              "      <td>0</td>\n",
              "      <td>0</td>\n",
              "      <td>0</td>\n",
              "      <td>0</td>\n",
              "      <td>0</td>\n",
              "      <td>0</td>\n",
              "    </tr>\n",
              "  </tbody>\n",
              "</table>\n",
              "<p>2 rows × 5000 columns</p>\n",
              "</div>"
            ],
            "text/plain": [
              "   aaa  abl  abl check  abl get  abl walk  ...  yr  yr old  yummi  zero  zoo\n",
              "0    0    0          0        0         0  ...   0       0      0     0    0\n",
              "1    0    0          0        0         0  ...   0       0      0     0    0\n",
              "\n",
              "[2 rows x 5000 columns]"
            ]
          },
          "metadata": {
            "tags": []
          },
          "execution_count": 143
        }
      ]
    },
    {
      "cell_type": "markdown",
      "metadata": {
        "id": "YMMjuMC8BblL",
        "colab_type": "text"
      },
      "source": [
        "**Modeling**"
      ]
    },
    {
      "cell_type": "code",
      "metadata": {
        "id": "1nhXMqXOBTto",
        "colab_type": "code",
        "colab": {
          "base_uri": "https://localhost:8080/",
          "height": 34
        },
        "outputId": "278a7d7f-f42a-4668-dc2a-6a4c6e9ff06a"
      },
      "source": [
        "# Training model using Naive bayes classifier\n",
        "\n",
        "from sklearn.naive_bayes import MultinomialNB\n",
        "hotel_review_model = MultinomialNB().fit(X_train, y_train)\n",
        "hotel_review_model"
      ],
      "execution_count": 45,
      "outputs": [
        {
          "output_type": "execute_result",
          "data": {
            "text/plain": [
              "MultinomialNB(alpha=1.0, class_prior=None, fit_prior=True)"
            ]
          },
          "metadata": {
            "tags": []
          },
          "execution_count": 45
        }
      ]
    },
    {
      "cell_type": "code",
      "metadata": {
        "id": "xb_vt_79n3ge",
        "colab_type": "code",
        "colab": {}
      },
      "source": [
        "y_pred=hotel_review_model.predict(X_test)"
      ],
      "execution_count": 46,
      "outputs": []
    },
    {
      "cell_type": "code",
      "metadata": {
        "id": "ejTd_cWupows",
        "colab_type": "code",
        "colab": {
          "base_uri": "https://localhost:8080/",
          "height": 34
        },
        "outputId": "35314a95-ba2e-4f05-edbf-e4065d4d534c"
      },
      "source": [
        "y_pred"
      ],
      "execution_count": 47,
      "outputs": [
        {
          "output_type": "execute_result",
          "data": {
            "text/plain": [
              "array([1, 0, 1, ..., 1, 1, 1])"
            ]
          },
          "metadata": {
            "tags": []
          },
          "execution_count": 47
        }
      ]
    },
    {
      "cell_type": "code",
      "metadata": {
        "id": "jwZXbO6QoREz",
        "colab_type": "code",
        "colab": {
          "base_uri": "https://localhost:8080/",
          "height": 51
        },
        "outputId": "1c4afec5-a219-4c73-c057-8a7831d8b69b"
      },
      "source": [
        "print(\"Training Accuracy:\",hotel_review_model.score(X_train,y_train))\n",
        "print(\"Testing Accuracy:\",hotel_review_model.score(X_test,y_test))"
      ],
      "execution_count": 49,
      "outputs": [
        {
          "output_type": "stream",
          "text": [
            "Training Accuracy: 0.8693835301334151\n",
            "Testing Accuracy: 0.8655043586550436\n"
          ],
          "name": "stdout"
        }
      ]
    },
    {
      "cell_type": "code",
      "metadata": {
        "id": "xYnotp6opWQc",
        "colab_type": "code",
        "colab": {
          "base_uri": "https://localhost:8080/",
          "height": 417
        },
        "outputId": "2a39a384-f713-4f26-c283-e463fc0f79e9"
      },
      "source": [
        "Ya_list = list(y_test)\n",
        "Yp_list = list(y_pred)\n",
        "table  = pd.DataFrame({'Ya':Ya_list,'Yp':Yp_list})\n",
        "table"
      ],
      "execution_count": 50,
      "outputs": [
        {
          "output_type": "execute_result",
          "data": {
            "text/html": [
              "<div>\n",
              "<style scoped>\n",
              "    .dataframe tbody tr th:only-of-type {\n",
              "        vertical-align: middle;\n",
              "    }\n",
              "\n",
              "    .dataframe tbody tr th {\n",
              "        vertical-align: top;\n",
              "    }\n",
              "\n",
              "    .dataframe thead th {\n",
              "        text-align: right;\n",
              "    }\n",
              "</style>\n",
              "<table border=\"1\" class=\"dataframe\">\n",
              "  <thead>\n",
              "    <tr style=\"text-align: right;\">\n",
              "      <th></th>\n",
              "      <th>Ya</th>\n",
              "      <th>Yp</th>\n",
              "    </tr>\n",
              "  </thead>\n",
              "  <tbody>\n",
              "    <tr>\n",
              "      <th>0</th>\n",
              "      <td>1</td>\n",
              "      <td>1</td>\n",
              "    </tr>\n",
              "    <tr>\n",
              "      <th>1</th>\n",
              "      <td>1</td>\n",
              "      <td>0</td>\n",
              "    </tr>\n",
              "    <tr>\n",
              "      <th>2</th>\n",
              "      <td>1</td>\n",
              "      <td>1</td>\n",
              "    </tr>\n",
              "    <tr>\n",
              "      <th>3</th>\n",
              "      <td>1</td>\n",
              "      <td>1</td>\n",
              "    </tr>\n",
              "    <tr>\n",
              "      <th>4</th>\n",
              "      <td>1</td>\n",
              "      <td>1</td>\n",
              "    </tr>\n",
              "    <tr>\n",
              "      <th>...</th>\n",
              "      <td>...</td>\n",
              "      <td>...</td>\n",
              "    </tr>\n",
              "    <tr>\n",
              "      <th>12843</th>\n",
              "      <td>1</td>\n",
              "      <td>1</td>\n",
              "    </tr>\n",
              "    <tr>\n",
              "      <th>12844</th>\n",
              "      <td>1</td>\n",
              "      <td>1</td>\n",
              "    </tr>\n",
              "    <tr>\n",
              "      <th>12845</th>\n",
              "      <td>1</td>\n",
              "      <td>1</td>\n",
              "    </tr>\n",
              "    <tr>\n",
              "      <th>12846</th>\n",
              "      <td>1</td>\n",
              "      <td>1</td>\n",
              "    </tr>\n",
              "    <tr>\n",
              "      <th>12847</th>\n",
              "      <td>1</td>\n",
              "      <td>1</td>\n",
              "    </tr>\n",
              "  </tbody>\n",
              "</table>\n",
              "<p>12848 rows × 2 columns</p>\n",
              "</div>"
            ],
            "text/plain": [
              "       Ya  Yp\n",
              "0       1   1\n",
              "1       1   0\n",
              "2       1   1\n",
              "3       1   1\n",
              "4       1   1\n",
              "...    ..  ..\n",
              "12843   1   1\n",
              "12844   1   1\n",
              "12845   1   1\n",
              "12846   1   1\n",
              "12847   1   1\n",
              "\n",
              "[12848 rows x 2 columns]"
            ]
          },
          "metadata": {
            "tags": []
          },
          "execution_count": 50
        }
      ]
    },
    {
      "cell_type": "code",
      "metadata": {
        "id": "iIfy8hog-9nZ",
        "colab_type": "code",
        "colab": {
          "base_uri": "https://localhost:8080/",
          "height": 51
        },
        "outputId": "ae8f0b17-4f5c-424b-9918-8a8a95581391"
      },
      "source": [
        "from sklearn.metrics import confusion_matrix\n",
        "confusion_mat = confusion_matrix(y_test,y_pred)\n",
        "confusion_mat"
      ],
      "execution_count": 51,
      "outputs": [
        {
          "output_type": "execute_result",
          "data": {
            "text/plain": [
              "array([[3138,  911],\n",
              "       [ 817, 7982]])"
            ]
          },
          "metadata": {
            "tags": []
          },
          "execution_count": 51
        }
      ]
    },
    {
      "cell_type": "code",
      "metadata": {
        "id": "S_mJpk3F_UqK",
        "colab_type": "code",
        "colab": {
          "base_uri": "https://localhost:8080/",
          "height": 388
        },
        "outputId": "db1ad8e0-d26e-4f84-ccb8-79635203a570"
      },
      "source": [
        "# For more clearence of classification show Heatmap\n",
        "import seaborn as sb\n",
        "f,ax = plt.subplots(figsize=(6,6))\n",
        "sb.heatmap(confusion_mat,annot=True,linewidths=5,linecolor='blue',fmt=\".00f\",ax=ax)     # fmt=\".00f\" -> Two decimal points with float\n",
        "plt.ylabel('Actal label')\n",
        "plt.xlabel('Predicted label')\n",
        "plt.show()"
      ],
      "execution_count": 52,
      "outputs": [
        {
          "output_type": "display_data",
          "data": {
            "image/png": "[encoded data removed]",
            "text/plain": [
              "<Figure size 432x432 with 2 Axes>"
            ]
          },
          "metadata": {
            "tags": [],
            "needs_background": "light"
          }
        }
      ]
    },
    {
      "cell_type": "markdown",
      "metadata": {
        "id": "f5USixCI_lUM",
        "colab_type": "text"
      },
      "source": [
        "**F1 Score**"
      ]
    },
    {
      "cell_type": "code",
      "metadata": {
        "id": "kJWch5LX_hMk",
        "colab_type": "code",
        "colab": {
          "base_uri": "https://localhost:8080/",
          "height": 34
        },
        "outputId": "dfd71f2d-ef7f-4fca-b0a5-2f1efa6fa27c"
      },
      "source": [
        "from sklearn.metrics import f1_score\n",
        "Ya = y_test\n",
        "Yp = y_pred\n",
        "f1_score(Ya, Yp, average=None)"
      ],
      "execution_count": 54,
      "outputs": [
        {
          "output_type": "execute_result",
          "data": {
            "text/plain": [
              "array([0.78410795, 0.90232874])"
            ]
          },
          "metadata": {
            "tags": []
          },
          "execution_count": 54
        }
      ]
    },
    {
      "cell_type": "code",
      "metadata": {
        "id": "VhYs4nTl_o7m",
        "colab_type": "code",
        "colab": {
          "base_uri": "https://localhost:8080/",
          "height": 171
        },
        "outputId": "8f0f5664-4a43-4494-c001-e081f234ecb2"
      },
      "source": [
        "from sklearn.metrics import classification_report\n",
        "\n",
        "class_report = classification_report(Ya,Yp)\n",
        "print(class_report)"
      ],
      "execution_count": 55,
      "outputs": [
        {
          "output_type": "stream",
          "text": [
            "              precision    recall  f1-score   support\n",
            "\n",
            "           0       0.79      0.78      0.78      4049\n",
            "           1       0.90      0.91      0.90      8799\n",
            "\n",
            "    accuracy                           0.87     12848\n",
            "   macro avg       0.85      0.84      0.84     12848\n",
            "weighted avg       0.86      0.87      0.87     12848\n",
            "\n"
          ],
          "name": "stdout"
        }
      ]
    },
    {
      "cell_type": "code",
      "metadata": {
        "id": "fctwHO9cAXtg",
        "colab_type": "code",
        "colab": {
          "base_uri": "https://localhost:8080/",
          "height": 1000
        },
        "outputId": "9f5be298-c03a-416f-a7e1-100442ec0434"
      },
      "source": [
        "## Get Features names\n",
        "feature_names = cv.get_feature_names()\n",
        "feature_names"
      ],
      "execution_count": 56,
      "outputs": [
        {
          "output_type": "execute_result",
          "data": {
            "text/plain": [
              "['aaa',\n",
              " 'abl',\n",
              " 'abl check',\n",
              " 'abl get',\n",
              " 'abl walk',\n",
              " 'absolut',\n",
              " 'absolut love',\n",
              " 'ac',\n",
              " 'ac unit',\n",
              " 'accept',\n",
              " 'access',\n",
              " 'access room',\n",
              " 'accommod',\n",
              " 'accomod',\n",
              " 'accord',\n",
              " 'account',\n",
              " 'accur',\n",
              " 'acknowledg',\n",
              " 'across',\n",
              " 'across road',\n",
              " 'across street',\n",
              " 'act',\n",
              " 'action',\n",
              " 'activ',\n",
              " 'actual',\n",
              " 'ad',\n",
              " 'ad bonu',\n",
              " 'add',\n",
              " 'addit',\n",
              " 'address',\n",
              " 'adequ',\n",
              " 'adjac',\n",
              " 'adjoin',\n",
              " 'adjoin room',\n",
              " 'adjust',\n",
              " 'admit',\n",
              " 'adult',\n",
              " 'advanc',\n",
              " 'advantag',\n",
              " 'adventur',\n",
              " 'advertis',\n",
              " 'advic',\n",
              " 'advis',\n",
              " 'advisor',\n",
              " 'affect',\n",
              " 'affinia',\n",
              " 'afford',\n",
              " 'afraid',\n",
              " 'afternoon',\n",
              " 'age',\n",
              " 'agent',\n",
              " 'ago',\n",
              " 'agre',\n",
              " 'ahead',\n",
              " 'air',\n",
              " 'air con',\n",
              " 'air condit',\n",
              " 'air condit unit',\n",
              " 'air condition',\n",
              " 'airlin',\n",
              " 'airport',\n",
              " 'airport hotel',\n",
              " 'airport shuttl',\n",
              " 'alamo',\n",
              " 'alarm',\n",
              " 'alarm clock',\n",
              " 'albeit',\n",
              " 'alcatraz',\n",
              " 'alcohol',\n",
              " 'alley',\n",
              " 'allow',\n",
              " 'allow us',\n",
              " 'almost',\n",
              " 'alon',\n",
              " 'along',\n",
              " 'alot',\n",
              " 'alreadi',\n",
              " 'also',\n",
              " 'also close',\n",
              " 'also free',\n",
              " 'also good',\n",
              " 'also great',\n",
              " 'also like',\n",
              " 'also love',\n",
              " 'also nice',\n",
              " 'also offer',\n",
              " 'also room',\n",
              " 'also small',\n",
              " 'also walk',\n",
              " 'altern',\n",
              " 'although',\n",
              " 'although hotel',\n",
              " 'although room',\n",
              " 'alway',\n",
              " 'alway avail',\n",
              " 'alway clean',\n",
              " 'alway friendli',\n",
              " 'alway help',\n",
              " 'alway stay',\n",
              " 'amaz',\n",
              " 'amaz view',\n",
              " 'amazingli',\n",
              " 'ambianc',\n",
              " 'ambienc',\n",
              " 'amen',\n",
              " 'america',\n",
              " 'american',\n",
              " 'ammen',\n",
              " 'among',\n",
              " 'amount',\n",
              " 'ampl',\n",
              " 'angel',\n",
              " 'anim',\n",
              " 'anniversari',\n",
              " 'annoy',\n",
              " 'annual',\n",
              " 'anoth',\n",
              " 'anoth hotel',\n",
              " 'anoth review',\n",
              " 'anoth room',\n",
              " 'answer',\n",
              " 'answer question',\n",
              " 'anticip',\n",
              " 'antiqu',\n",
              " 'antonio',\n",
              " 'anymor',\n",
              " 'anyon',\n",
              " 'anyon look',\n",
              " 'anyon stay',\n",
              " 'anyth',\n",
              " 'anyth els',\n",
              " 'anytim',\n",
              " 'anyway',\n",
              " 'anywher',\n",
              " 'anywher els',\n",
              " 'apart',\n",
              " 'apolog',\n",
              " 'apologet',\n",
              " 'appar',\n",
              " 'appeal',\n",
              " 'appear',\n",
              " 'appet',\n",
              " 'appl',\n",
              " 'appoint',\n",
              " 'appoint room',\n",
              " 'appreci',\n",
              " 'approach',\n",
              " 'appropri',\n",
              " 'approx',\n",
              " 'approxim',\n",
              " 'april',\n",
              " 'aquarium',\n",
              " 'architectur',\n",
              " 'area',\n",
              " 'area also',\n",
              " 'area around',\n",
              " 'area clean',\n",
              " 'area great',\n",
              " 'area hotel',\n",
              " 'area nice',\n",
              " 'area room',\n",
              " 'area well',\n",
              " 'area would',\n",
              " 'argu',\n",
              " 'arm',\n",
              " 'around',\n",
              " 'around area',\n",
              " 'around citi',\n",
              " 'around corner',\n",
              " 'around hotel',\n",
              " 'around night',\n",
              " 'around pm',\n",
              " 'around room',\n",
              " 'around town',\n",
              " 'arrang',\n",
              " 'arriv',\n",
              " 'arriv back',\n",
              " 'arriv check',\n",
              " 'arriv earli',\n",
              " 'arriv hotel',\n",
              " 'arriv late',\n",
              " 'arriv pm',\n",
              " 'arriv room',\n",
              " 'art',\n",
              " 'asian',\n",
              " 'asid',\n",
              " 'ask',\n",
              " 'ask better',\n",
              " 'ask could',\n",
              " 'ask front',\n",
              " 'ask front desk',\n",
              " 'ask move',\n",
              " 'ask room',\n",
              " 'ask us',\n",
              " 'ask would',\n",
              " 'asleep',\n",
              " 'aspect',\n",
              " 'assign',\n",
              " 'assist',\n",
              " 'associ',\n",
              " 'assort',\n",
              " 'assum',\n",
              " 'assur',\n",
              " 'astoria',\n",
              " 'ate',\n",
              " 'ate breakfast',\n",
              " 'atmospher',\n",
              " 'atrium',\n",
              " 'attach',\n",
              " 'attach hotel',\n",
              " 'attempt',\n",
              " 'attend',\n",
              " 'attend confer',\n",
              " 'attent',\n",
              " 'attent detail',\n",
              " 'attent staff',\n",
              " 'attitud',\n",
              " 'attract',\n",
              " 'august',\n",
              " 'austin',\n",
              " 'australia',\n",
              " 'author',\n",
              " 'automat',\n",
              " 'avail',\n",
              " 'avail room',\n",
              " 'ave',\n",
              " 'aveda',\n",
              " 'avenu',\n",
              " 'averag',\n",
              " 'averag hotel',\n",
              " 'averag size',\n",
              " 'avoid',\n",
              " 'aw',\n",
              " 'awak',\n",
              " 'awaken',\n",
              " 'awar',\n",
              " 'away',\n",
              " 'away home',\n",
              " 'away hotel',\n",
              " 'away room',\n",
              " 'awesom',\n",
              " 'awkward',\n",
              " 'babi',\n",
              " 'back',\n",
              " 'back airport',\n",
              " 'back bay',\n",
              " 'back forth',\n",
              " 'back home',\n",
              " 'back hotel',\n",
              " 'back next',\n",
              " 'back room',\n",
              " 'back stay',\n",
              " 'bacon',\n",
              " 'bad',\n",
              " 'bad experi',\n",
              " 'bad hotel',\n",
              " 'bad review',\n",
              " 'bad thing',\n",
              " 'badli',\n",
              " 'bag',\n",
              " 'bagel',\n",
              " 'baggag',\n",
              " 'bake',\n",
              " 'bakeri',\n",
              " 'balconi',\n",
              " 'ball',\n",
              " 'baltimor',\n",
              " 'banana',\n",
              " 'band',\n",
              " 'bang',\n",
              " 'bank',\n",
              " 'bar',\n",
              " 'bar area',\n",
              " 'bar great',\n",
              " 'bar hotel',\n",
              " 'bar lobbi',\n",
              " 'bar nice',\n",
              " 'bar restaur',\n",
              " 'bar room',\n",
              " 'bar staff',\n",
              " 'bare',\n",
              " 'bargain',\n",
              " 'bart',\n",
              " 'bartend',\n",
              " 'base',\n",
              " 'base review',\n",
              " 'basebal',\n",
              " 'basement',\n",
              " 'basi',\n",
              " 'basic',\n",
              " 'bath',\n",
              " 'bath product',\n",
              " 'bath tub',\n",
              " 'bathrob',\n",
              " 'bathroom',\n",
              " 'bathroom also',\n",
              " 'bathroom clean',\n",
              " 'bathroom door',\n",
              " 'bathroom floor',\n",
              " 'bathroom good',\n",
              " 'bathroom great',\n",
              " 'bathroom huge',\n",
              " 'bathroom larg',\n",
              " 'bathroom nice',\n",
              " 'bathroom room',\n",
              " 'bathroom shower',\n",
              " 'bathroom sink',\n",
              " 'bathroom small',\n",
              " 'bathroom tini',\n",
              " 'bathtub',\n",
              " 'batteri',\n",
              " 'bay',\n",
              " 'bay view',\n",
              " 'beach',\n",
              " 'beacon',\n",
              " 'beal',\n",
              " 'beal street',\n",
              " 'bear',\n",
              " 'beat',\n",
              " 'beat locat',\n",
              " 'beauti',\n",
              " 'beauti decor',\n",
              " 'beauti hotel',\n",
              " 'beauti room',\n",
              " 'beauti view',\n",
              " 'becam',\n",
              " 'becom',\n",
              " 'bed',\n",
              " 'bed bathroom',\n",
              " 'bed bed',\n",
              " 'bed bug',\n",
              " 'bed clean',\n",
              " 'bed comfi',\n",
              " 'bed comfort',\n",
              " 'bed comfort bathroom',\n",
              " 'bed comfort room',\n",
              " 'bed ever',\n",
              " 'bed extrem',\n",
              " 'bed extrem comfort',\n",
              " 'bed good',\n",
              " 'bed great',\n",
              " 'bed larg',\n",
              " 'bed linen',\n",
              " 'bed made',\n",
              " 'bed nice',\n",
              " 'bed one',\n",
              " 'bed pillow',\n",
              " 'bed realli',\n",
              " 'bed room',\n",
              " 'bed sheet',\n",
              " 'bed small',\n",
              " 'bed super',\n",
              " 'bedbug',\n",
              " 'bedroom',\n",
              " 'bedroom suit',\n",
              " 'bedsid',\n",
              " 'bedspread',\n",
              " 'beer',\n",
              " 'began',\n",
              " 'begin',\n",
              " 'behind',\n",
              " 'behind hotel',\n",
              " 'believ',\n",
              " 'bell',\n",
              " 'bell hop',\n",
              " 'bell staff',\n",
              " 'bellhop',\n",
              " 'bellman',\n",
              " 'bellmen',\n",
              " 'belong',\n",
              " 'benefit',\n",
              " 'besid',\n",
              " 'best',\n",
              " 'best ever',\n",
              " 'best hotel',\n",
              " 'best locat',\n",
              " 'best part',\n",
              " 'best place',\n",
              " 'best thing',\n",
              " 'best thing hotel',\n",
              " 'best valu',\n",
              " 'best western',\n",
              " 'bet',\n",
              " 'better',\n",
              " 'better hotel',\n",
              " 'better locat',\n",
              " 'better place',\n",
              " 'better room',\n",
              " 'beverag',\n",
              " 'beverli',\n",
              " 'beverli hill',\n",
              " 'bewar',\n",
              " 'beyond',\n",
              " 'bid',\n",
              " 'big',\n",
              " 'big appl',\n",
              " 'big citi',\n",
              " 'big deal',\n",
              " 'big enough',\n",
              " 'big plu',\n",
              " 'big room',\n",
              " 'bigger',\n",
              " 'bigger room',\n",
              " 'biggest',\n",
              " 'bike',\n",
              " 'bill',\n",
              " 'birthday',\n",
              " 'biscuit',\n",
              " 'bistro',\n",
              " 'bit',\n",
              " 'bit date',\n",
              " 'bit noisi',\n",
              " 'bit pricey',\n",
              " 'bit small',\n",
              " 'bite',\n",
              " 'black',\n",
              " 'blame',\n",
              " 'blanket',\n",
              " 'blast',\n",
              " 'blind',\n",
              " 'block',\n",
              " 'block away',\n",
              " 'block hotel',\n",
              " 'block time',\n",
              " 'block time squar',\n",
              " 'block two',\n",
              " 'block union',\n",
              " 'block walk',\n",
              " 'blood',\n",
              " 'blow',\n",
              " 'blown',\n",
              " 'blue',\n",
              " 'blvd',\n",
              " 'board',\n",
              " 'board pass',\n",
              " 'boat',\n",
              " 'bodi',\n",
              " 'boil',\n",
              " 'boil egg',\n",
              " 'bonu',\n",
              " 'book',\n",
              " 'book hotel',\n",
              " 'book night',\n",
              " 'book one',\n",
              " 'book onlin',\n",
              " 'book pricelin',\n",
              " 'book room',\n",
              " 'book stay',\n",
              " 'book two',\n",
              " 'bore',\n",
              " 'boston',\n",
              " 'boston common',\n",
              " 'bother',\n",
              " 'bother us',\n",
              " 'bottl',\n",
              " 'bottl champagn',\n",
              " 'bottl water',\n",
              " 'bottl wine',\n",
              " 'bottom',\n",
              " 'bottom line',\n",
              " 'bought',\n",
              " 'boutiqu',\n",
              " 'boutiqu hotel',\n",
              " 'bowl',\n",
              " 'box',\n",
              " 'boy',\n",
              " 'boyfriend',\n",
              " 'brand',\n",
              " 'brand new',\n",
              " 'bread',\n",
              " 'break',\n",
              " 'breakfast',\n",
              " 'breakfast also',\n",
              " 'breakfast area',\n",
              " 'breakfast buffet',\n",
              " 'breakfast dinner',\n",
              " 'breakfast even',\n",
              " 'breakfast everi',\n",
              " 'breakfast excel',\n",
              " 'breakfast free',\n",
              " 'breakfast good',\n",
              " 'breakfast great',\n",
              " 'breakfast hotel',\n",
              " 'breakfast includ',\n",
              " 'breakfast lunch',\n",
              " 'breakfast morn',\n",
              " 'breakfast next',\n",
              " 'breakfast nice',\n",
              " 'breakfast ok',\n",
              " 'breakfast one',\n",
              " 'breakfast restaur',\n",
              " 'breakfast room',\n",
              " 'breakfast serv',\n",
              " 'breakfast would',\n",
              " 'breath',\n",
              " 'breez',\n",
              " 'brick',\n",
              " 'brick wall',\n",
              " 'bridg',\n",
              " 'bright',\n",
              " 'brilliant',\n",
              " 'bring',\n",
              " 'broadway',\n",
              " 'broadway show',\n",
              " 'broke',\n",
              " 'broken',\n",
              " 'brooklyn',\n",
              " 'brother',\n",
              " 'brought',\n",
              " 'brought room',\n",
              " 'brown',\n",
              " 'brunch',\n",
              " 'brush',\n",
              " 'bryant',\n",
              " 'bryant park',\n",
              " 'btw',\n",
              " 'bu',\n",
              " 'bu stop',\n",
              " 'buck',\n",
              " 'bucket',\n",
              " 'budget',\n",
              " 'budget hotel',\n",
              " 'buffet',\n",
              " 'buffet breakfast',\n",
              " 'bug',\n",
              " 'build',\n",
              " 'build room',\n",
              " 'built',\n",
              " 'bulb',\n",
              " 'bump',\n",
              " 'bunch',\n",
              " 'burger',\n",
              " 'burn',\n",
              " 'buse',\n",
              " 'busi',\n",
              " 'busi center',\n",
              " 'busi centr',\n",
              " 'busi day',\n",
              " 'busi hotel',\n",
              " 'busi meet',\n",
              " 'busi pleasur',\n",
              " 'busi street',\n",
              " 'busi travel',\n",
              " 'busi trip',\n",
              " 'bustl',\n",
              " 'button',\n",
              " 'buy',\n",
              " 'buzz',\n",
              " 'cab',\n",
              " 'cab ride',\n",
              " 'cabinet',\n",
              " 'cabl',\n",
              " 'cabl car',\n",
              " 'cafe',\n",
              " 'cake',\n",
              " 'california',\n",
              " 'call',\n",
              " 'call ask',\n",
              " 'call back',\n",
              " 'call desk',\n",
              " 'call front',\n",
              " 'call front desk',\n",
              " 'call hotel',\n",
              " 'call housekeep',\n",
              " 'call room',\n",
              " 'call us',\n",
              " 'calm',\n",
              " 'came',\n",
              " 'came back',\n",
              " 'came room',\n",
              " 'camera',\n",
              " 'campu',\n",
              " 'cancel',\n",
              " 'cannot',\n",
              " 'cannot beat',\n",
              " 'cannot comment',\n",
              " 'cannot say',\n",
              " 'cannot say enough',\n",
              " 'cannot wait',\n",
              " 'cant',\n",
              " 'cap',\n",
              " 'capit',\n",
              " 'capitol',\n",
              " 'car',\n",
              " 'car hotel',\n",
              " 'car park',\n",
              " 'car servic',\n",
              " 'card',\n",
              " 'cardio',\n",
              " 'care',\n",
              " 'carlton',\n",
              " 'carpet',\n",
              " 'carri',\n",
              " 'cart',\n",
              " 'casablanca',\n",
              " 'case',\n",
              " 'cash',\n",
              " 'castl',\n",
              " 'casual',\n",
              " 'cat',\n",
              " 'catch',\n",
              " 'categori',\n",
              " 'cater',\n",
              " 'caught',\n",
              " 'caus',\n",
              " 'cd',\n",
              " 'ceil',\n",
              " 'ceil window',\n",
              " 'celebr',\n",
              " 'cell',\n",
              " 'cell phone',\n",
              " 'center',\n",
              " 'centr',\n",
              " 'central',\n",
              " 'central locat',\n",
              " 'central park',\n",
              " 'central station',\n",
              " 'centuri',\n",
              " 'cereal',\n",
              " 'certain',\n",
              " 'certainli',\n",
              " 'certainli stay',\n",
              " 'chain',\n",
              " 'chain hotel',\n",
              " 'chair',\n",
              " 'challeng',\n",
              " 'champagn',\n",
              " 'chanc',\n",
              " 'chang',\n",
              " 'chang room',\n",
              " 'channel',\n",
              " 'charact',\n",
              " 'charg',\n",
              " 'charg internet',\n",
              " 'charg park',\n",
              " 'charg per',\n",
              " 'charg room',\n",
              " 'charg us',\n",
              " 'charlott',\n",
              " 'charm',\n",
              " 'chat',\n",
              " 'cheap',\n",
              " 'cheaper',\n",
              " 'cheapest',\n",
              " 'check',\n",
              " 'check ask',\n",
              " 'check breez',\n",
              " 'check check',\n",
              " 'check desk',\n",
              " 'check earli',\n",
              " 'check easi',\n",
              " 'check fast',\n",
              " 'check front',\n",
              " 'check front desk',\n",
              " 'check hotel',\n",
              " 'check late',\n",
              " 'check pm',\n",
              " 'check process',\n",
              " 'check quick',\n",
              " 'check room',\n",
              " 'check staff',\n",
              " 'check time',\n",
              " 'check told',\n",
              " 'check us',\n",
              " 'check went',\n",
              " 'checkin',\n",
              " 'checkout',\n",
              " 'cheer',\n",
              " 'chees',\n",
              " 'chef',\n",
              " 'chelsea',\n",
              " 'chic',\n",
              " 'chicago',\n",
              " 'chicago hotel',\n",
              " 'chicken',\n",
              " 'child',\n",
              " 'children',\n",
              " 'chill',\n",
              " 'china',\n",
              " 'china town',\n",
              " 'chinatown',\n",
              " 'chines',\n",
              " 'chip',\n",
              " 'chocol',\n",
              " 'choic',\n",
              " 'choic hotel',\n",
              " 'choos',\n",
              " 'choos hotel',\n",
              " 'chose',\n",
              " 'chose hotel',\n",
              " 'chosen',\n",
              " 'christma',\n",
              " 'chrysler',\n",
              " 'cigarett',\n",
              " 'circl',\n",
              " 'citi',\n",
              " 'citi hotel',\n",
              " 'citi room',\n",
              " 'citi view',\n",
              " 'citi would',\n",
              " 'claim',\n",
              " 'class',\n",
              " 'class hotel',\n",
              " 'classi',\n",
              " 'classic',\n",
              " 'clean',\n",
              " 'clean bathroom',\n",
              " 'clean bed',\n",
              " 'clean bed comfort',\n",
              " 'clean breakfast',\n",
              " 'clean comfort',\n",
              " 'clean everyth',\n",
              " 'clean fresh',\n",
              " 'clean friendli',\n",
              " 'clean good',\n",
              " 'clean great',\n",
              " 'clean hotel',\n",
              " 'clean larg',\n",
              " 'clean locat',\n",
              " 'clean modern',\n",
              " 'clean nice',\n",
              " 'clean quiet',\n",
              " 'clean room',\n",
              " 'clean servic',\n",
              " 'clean spaciou',\n",
              " 'clean staff',\n",
              " 'clean staff friendli',\n",
              " 'clean tidi',\n",
              " 'clean towel',\n",
              " 'clean well',\n",
              " 'clean well appoint',\n",
              " 'clean well maintain',\n",
              " 'clean would',\n",
              " 'cleaner',\n",
              " 'cleanli',\n",
              " 'clear',\n",
              " 'clearli',\n",
              " 'clerk',\n",
              " 'client',\n",
              " 'climb',\n",
              " 'clock',\n",
              " 'close',\n",
              " 'close airport',\n",
              " 'close door',\n",
              " 'close enough',\n",
              " 'close everyth',\n",
              " 'close hotel',\n",
              " 'close proxim',\n",
              " 'close shop',\n",
              " 'close subway',\n",
              " 'close time',\n",
              " 'close time squar',\n",
              " 'closer',\n",
              " 'closest',\n",
              " 'closet',\n",
              " 'cloth',\n",
              " 'club',\n",
              " 'club level',\n",
              " 'club loung',\n",
              " 'club room',\n",
              " 'co',\n",
              " 'coast',\n",
              " 'coat',\n",
              " 'cockroach',\n",
              " 'cocktail',\n",
              " 'code',\n",
              " 'coffe',\n",
              " 'coffe juic',\n",
              " 'coffe lobbi',\n",
              " 'coffe machin',\n",
              " 'coffe make',\n",
              " 'coffe maker',\n",
              " 'coffe maker room',\n",
              " 'coffe morn',\n",
              " 'coffe pot',\n",
              " 'coffe room',\n",
              " 'coffe shop',\n",
              " 'coffe tea',\n",
              " 'cold',\n",
              " 'colleagu',\n",
              " 'collect',\n",
              " 'colleg',\n",
              " 'color',\n",
              " 'columbu',\n",
              " 'com',\n",
              " 'combin',\n",
              " 'come',\n",
              " 'come back',\n",
              " 'come go',\n",
              " 'come room',\n",
              " 'comfi',\n",
              " 'comfi bed',\n",
              " 'comfort',\n",
              " 'comfort bathroom',\n",
              " 'comfort bed',\n",
              " 'comfort clean',\n",
              " 'comfort good',\n",
              " 'comfort great',\n",
              " 'comfort hotel',\n",
              " 'comfort inn',\n",
              " 'comfort locat',\n",
              " 'comfort nice',\n",
              " 'comfort pillow',\n",
              " 'comfort quiet',\n",
              " 'comfort room',\n",
              " 'comfort staff',\n",
              " 'comfort stay',\n",
              " 'comfort well',\n",
              " 'comment',\n",
              " 'common',\n",
              " 'common area',\n",
              " 'commun',\n",
              " 'comp',\n",
              " 'compact',\n",
              " 'compani',\n",
              " 'compar',\n",
              " 'compar hotel',\n",
              " 'comparison',\n",
              " 'compens',\n",
              " 'compet',\n",
              " 'competit',\n",
              " 'complain',\n",
              " 'complaint',\n",
              " 'complaint room',\n",
              " 'complaint would',\n",
              " 'complementari',\n",
              " 'complet',\n",
              " 'complex',\n",
              " 'compliment',\n",
              " 'complimentari',\n",
              " 'complimentari breakfast',\n",
              " 'complimentari coffe',\n",
              " 'comput',\n",
              " 'comput printer',\n",
              " 'con',\n",
              " 'concept',\n",
              " 'concern',\n",
              " 'concert',\n",
              " 'concierg',\n",
              " 'concierg desk',\n",
              " 'concierg help',\n",
              " 'concierg loung',\n",
              " 'concierg servic',\n",
              " 'concierg staff',\n",
              " 'condit',\n",
              " 'condit room',\n",
              " 'condit unit',\n",
              " 'condition',\n",
              " 'confer',\n",
              " 'confer hotel',\n",
              " 'confer room',\n",
              " 'confirm',\n",
              " 'confort',\n",
              " 'confus',\n",
              " 'connect',\n",
              " 'connect room',\n",
              " 'conrad',\n",
              " 'consid',\n",
              " 'consid hotel',\n",
              " 'consid stay',\n",
              " 'consider',\n",
              " 'consist',\n",
              " 'constant',\n",
              " 'constantli',\n",
              " 'construct',\n",
              " 'contact',\n",
              " 'contain',\n",
              " 'contemporari',\n",
              " 'continent',\n",
              " 'continent breakfast',\n",
              " 'continu',\n",
              " 'control',\n",
              " 'conveni',\n",
              " 'conveni locat',\n",
              " 'conveni store',\n",
              " 'convent',\n",
              " 'convent center',\n",
              " 'convers',\n",
              " 'convert',\n",
              " 'cook',\n",
              " 'cooki',\n",
              " 'cool',\n",
              " 'cooler',\n",
              " 'copi',\n",
              " 'copley',\n",
              " 'corner',\n",
              " 'corner room',\n",
              " 'corner suit',\n",
              " 'corpor',\n",
              " 'correct',\n",
              " 'corridor',\n",
              " 'cosi',\n",
              " 'cost',\n",
              " 'couch',\n",
              " 'could',\n",
              " 'could ask',\n",
              " 'could believ',\n",
              " 'could better',\n",
              " 'could check',\n",
              " 'could done',\n",
              " 'could easili',\n",
              " 'could even',\n",
              " 'could find',\n",
              " 'could get',\n",
              " 'could go',\n",
              " 'could hear',\n",
              " 'could help',\n",
              " 'could make',\n",
              " 'could see',\n",
              " 'could sleep',\n",
              " 'could stay',\n",
              " 'could take',\n",
              " 'could tell',\n",
              " 'could use',\n",
              " 'could walk',\n",
              " 'couldnt',\n",
              " 'count',\n",
              " 'counter',\n",
              " 'counter space',\n",
              " 'countri',\n",
              " 'coupl',\n",
              " 'coupl block',\n",
              " 'coupl block away',\n",
              " 'coupl day',\n",
              " 'coupl night',\n",
              " 'coupl time',\n",
              " 'coupon',\n",
              " 'cours',\n",
              " 'court',\n",
              " 'courteou',\n",
              " 'courteou help',\n",
              " 'courtesi',\n",
              " 'courtyard',\n",
              " 'cover',\n",
              " 'cozi',\n",
              " 'crack',\n",
              " 'cramp',\n",
              " 'crash',\n",
              " 'crawl',\n",
              " 'crazi',\n",
              " 'cream',\n",
              " 'creat',\n",
              " 'credit',\n",
              " 'credit card',\n",
              " 'crew',\n",
              " 'crib',\n",
              " 'crisp',\n",
              " 'critic',\n",
              " 'croissant',\n",
              " 'cross',\n",
              " 'crowd',\n",
              " 'crown',\n",
              " 'crown plaza',\n",
              " 'cruis',\n",
              " 'cup',\n",
              " 'cup coffe',\n",
              " 'current',\n",
              " 'curtain',\n",
              " 'custom',\n",
              " 'custom servic',\n",
              " 'cut',\n",
              " 'cute',\n",
              " 'cv',\n",
              " 'daili',\n",
              " 'dalla',\n",
              " 'damag',\n",
              " 'danc',\n",
              " 'danger',\n",
              " 'danish',\n",
              " 'dark',\n",
              " 'date',\n",
              " 'daughter',\n",
              " 'daughter stay',\n",
              " 'david',\n",
              " 'day',\n",
              " 'day also',\n",
              " 'day arriv',\n",
              " 'day check',\n",
              " 'day even',\n",
              " 'day hotel',\n",
              " 'day inn',\n",
              " 'day later',\n",
              " 'day night',\n",
              " 'day one',\n",
              " 'day park',\n",
              " 'day room',\n",
              " 'day sightse',\n",
              " 'day staff',\n",
              " 'day stay',\n",
              " 'day trip',\n",
              " 'day walk',\n",
              " 'day weekend',\n",
              " 'day would',\n",
              " 'dc',\n",
              " 'de',\n",
              " 'dead',\n",
              " 'deal',\n",
              " 'deal hotel',\n",
              " 'dealt',\n",
              " 'decemb',\n",
              " ...]"
            ]
          },
          "metadata": {
            "tags": []
          },
          "execution_count": 56
        }
      ]
    },
    {
      "cell_type": "markdown",
      "metadata": {
        "id": "Sm7Rpi5GBGdS",
        "colab_type": "text"
      },
      "source": [
        "**Find Most +ve and -ve words form reviews**"
      ]
    },
    {
      "cell_type": "code",
      "metadata": {
        "id": "JR3ZGfBlA_0G",
        "colab_type": "code",
        "colab": {
          "base_uri": "https://localhost:8080/",
          "height": 360
        },
        "outputId": "e7edcf0b-e21b-4221-f9e4-ab2873ebe76f"
      },
      "source": [
        "### Print most +ve (Real) words \n",
        "sorted(zip(hotel_review_model.coef_[0], feature_names), reverse=True)[:20]"
      ],
      "execution_count": 60,
      "outputs": [
        {
          "output_type": "execute_result",
          "data": {
            "text/plain": [
              "[(-3.7790275007095655, 'hotel'),\n",
              " (-3.8357354644771995, 'room'),\n",
              " (-4.240568914152906, 'stay'),\n",
              " (-4.661093951928423, 'great'),\n",
              " (-4.812258873350913, 'staff'),\n",
              " (-4.920086716398158, 'locat'),\n",
              " (-5.002121683815581, 'would'),\n",
              " (-5.061016158632299, 'nice'),\n",
              " (-5.16244282300948, 'good'),\n",
              " (-5.168618199465138, 'night'),\n",
              " (-5.1738915461904735, 'clean'),\n",
              " (-5.215884280198193, 'time'),\n",
              " (-5.275980613694738, 'walk'),\n",
              " (-5.284868399294647, 'one'),\n",
              " (-5.3551562066380285, 'bed'),\n",
              " (-5.3670577356154165, 'servic'),\n",
              " (-5.384019476170648, 'breakfast'),\n",
              " (-5.41883125091381, 'us'),\n",
              " (-5.469161176912195, 'help'),\n",
              " (-5.505324217501794, 'restaur')]"
            ]
          },
          "metadata": {
            "tags": []
          },
          "execution_count": 60
        }
      ]
    },
    {
      "cell_type": "code",
      "metadata": {
        "id": "JsuqZB54Bghy",
        "colab_type": "code",
        "colab": {
          "base_uri": "https://localhost:8080/",
          "height": 360
        },
        "outputId": "65f0b793-4877-4a6a-9898-092fe8d5bab2"
      },
      "source": [
        "### Print most -ve (Fakest) words \n",
        "sorted(zip(hotel_review_model.coef_[0], feature_names))[:20]"
      ],
      "execution_count": 61,
      "outputs": [
        {
          "output_type": "execute_result",
          "data": {
            "text/plain": [
              "[(-13.124393980999326, 'worst hotel'),\n",
              " (-12.836711908547544, 'room dirti'),\n",
              " (-12.836711908547544, 'staff rude'),\n",
              " (-12.143564727987599, 'would never stay'),\n",
              " (-11.92042117667339, 'disgust'),\n",
              " (-11.92042117667339, 'filthi'),\n",
              " (-11.92042117667339, 'indiffer'),\n",
              " (-11.92042117667339, 'smelli'),\n",
              " (-11.825110996869064, 'scratch'),\n",
              " (-11.825110996869064, 'unhelp'),\n",
              " (-11.825110996869064, 'wall paper'),\n",
              " (-11.738099619879435, 'blood'),\n",
              " (-11.738099619879435, 'call desk'),\n",
              " (-11.738099619879435, 'paper thin'),\n",
              " (-11.738099619879435, 'roach'),\n",
              " (-11.738099619879435, 'stolen'),\n",
              " (-11.658056912205899, 'cockroach'),\n",
              " (-11.658056912205899, 'dirt'),\n",
              " (-11.658056912205899, 'secur guard'),\n",
              " (-11.658056912205899, 'statement')]"
            ]
          },
          "metadata": {
            "tags": []
          },
          "execution_count": 61
        }
      ]
    },
    {
      "cell_type": "code",
      "metadata": {
        "id": "QbqKBbcCCZ9q",
        "colab_type": "code",
        "colab": {}
      },
      "source": [
        ""
      ],
      "execution_count": null,
      "outputs": []
    }
  ]
}