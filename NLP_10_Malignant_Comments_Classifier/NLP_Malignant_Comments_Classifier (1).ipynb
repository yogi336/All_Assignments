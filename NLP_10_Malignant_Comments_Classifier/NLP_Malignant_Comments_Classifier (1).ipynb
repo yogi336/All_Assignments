{
  "nbformat": 4,
  "nbformat_minor": 0,
  "metadata": {
    "colab": {
      "name": "NLP_Malignant_Comments_Classifier.ipynb",
      "provenance": [],
      "collapsed_sections": []
    },
    "kernelspec": {
      "name": "python3",
      "display_name": "Python 3"
    }
  },
  "cells": [
    {
      "cell_type": "code",
      "metadata": {
        "id": "pC6DyFH2GK5A"
      },
      "source": [
        "### NLP_Malignant_Comments_Classifier.ipynb"
      ],
      "execution_count": null,
      "outputs": []
    },
    {
      "cell_type": "code",
      "metadata": {
        "colab": {
          "base_uri": "https://localhost:8080/"
        },
        "id": "Pe8pIouY6xSL",
        "outputId": "17f03b98-9f78-4ea3-bafc-90a2922e3a87"
      },
      "source": [
        "import nltk\n",
        "nltk.download('stopwords')"
      ],
      "execution_count": null,
      "outputs": [
        {
          "output_type": "stream",
          "text": [
            "[nltk_data] Downloading package stopwords to /root/nltk_data...\n",
            "[nltk_data]   Unzipping corpora/stopwords.zip.\n"
          ],
          "name": "stdout"
        },
        {
          "output_type": "execute_result",
          "data": {
            "text/plain": [
              "True"
            ]
          },
          "metadata": {
            "tags": []
          },
          "execution_count": 2
        }
      ]
    },
    {
      "cell_type": "code",
      "metadata": {
        "id": "h0x5bBQTJvuW"
      },
      "source": [
        "import pandas as pd \n",
        "import numpy as np \n",
        "import matplotlib.pyplot as plt \n",
        "import seaborn as sns\n",
        "import warnings\n",
        "warnings.filterwarnings('ignore')"
      ],
      "execution_count": null,
      "outputs": []
    },
    {
      "cell_type": "code",
      "metadata": {
        "colab": {
          "base_uri": "https://localhost:8080/",
          "height": 204
        },
        "id": "UIfdAvd5J1Vn",
        "outputId": "dc4758de-7f4f-4d09-b462-3443398e230a"
      },
      "source": [
        "comments_df = pd.read_csv('/content/drive/MyDrive/NLP/malignant_comment_train.csv',encoding = 'utf-8')\n",
        "comments_df.head()"
      ],
      "execution_count": null,
      "outputs": [
        {
          "output_type": "execute_result",
          "data": {
            "text/html": [
              "<div>\n",
              "<style scoped>\n",
              "    .dataframe tbody tr th:only-of-type {\n",
              "        vertical-align: middle;\n",
              "    }\n",
              "\n",
              "    .dataframe tbody tr th {\n",
              "        vertical-align: top;\n",
              "    }\n",
              "\n",
              "    .dataframe thead th {\n",
              "        text-align: right;\n",
              "    }\n",
              "</style>\n",
              "<table border=\"1\" class=\"dataframe\">\n",
              "  <thead>\n",
              "    <tr style=\"text-align: right;\">\n",
              "      <th></th>\n",
              "      <th>id</th>\n",
              "      <th>comment_text</th>\n",
              "      <th>malignant</th>\n",
              "      <th>highly_malignant</th>\n",
              "      <th>rude</th>\n",
              "      <th>threat</th>\n",
              "      <th>abuse</th>\n",
              "      <th>loathe</th>\n",
              "    </tr>\n",
              "  </thead>\n",
              "  <tbody>\n",
              "    <tr>\n",
              "      <th>0</th>\n",
              "      <td>0000997932d777bf</td>\n",
              "      <td>Explanation\\nWhy the edits made under my usern...</td>\n",
              "      <td>0</td>\n",
              "      <td>0</td>\n",
              "      <td>0</td>\n",
              "      <td>0</td>\n",
              "      <td>0</td>\n",
              "      <td>0</td>\n",
              "    </tr>\n",
              "    <tr>\n",
              "      <th>1</th>\n",
              "      <td>000103f0d9cfb60f</td>\n",
              "      <td>D'aww! He matches this background colour I'm s...</td>\n",
              "      <td>0</td>\n",
              "      <td>0</td>\n",
              "      <td>0</td>\n",
              "      <td>0</td>\n",
              "      <td>0</td>\n",
              "      <td>0</td>\n",
              "    </tr>\n",
              "    <tr>\n",
              "      <th>2</th>\n",
              "      <td>000113f07ec002fd</td>\n",
              "      <td>Hey man, I'm really not trying to edit war. It...</td>\n",
              "      <td>0</td>\n",
              "      <td>0</td>\n",
              "      <td>0</td>\n",
              "      <td>0</td>\n",
              "      <td>0</td>\n",
              "      <td>0</td>\n",
              "    </tr>\n",
              "    <tr>\n",
              "      <th>3</th>\n",
              "      <td>0001b41b1c6bb37e</td>\n",
              "      <td>\"\\nMore\\nI can't make any real suggestions on ...</td>\n",
              "      <td>0</td>\n",
              "      <td>0</td>\n",
              "      <td>0</td>\n",
              "      <td>0</td>\n",
              "      <td>0</td>\n",
              "      <td>0</td>\n",
              "    </tr>\n",
              "    <tr>\n",
              "      <th>4</th>\n",
              "      <td>0001d958c54c6e35</td>\n",
              "      <td>You, sir, are my hero. Any chance you remember...</td>\n",
              "      <td>0</td>\n",
              "      <td>0</td>\n",
              "      <td>0</td>\n",
              "      <td>0</td>\n",
              "      <td>0</td>\n",
              "      <td>0</td>\n",
              "    </tr>\n",
              "  </tbody>\n",
              "</table>\n",
              "</div>"
            ],
            "text/plain": [
              "                 id  ... loathe\n",
              "0  0000997932d777bf  ...      0\n",
              "1  000103f0d9cfb60f  ...      0\n",
              "2  000113f07ec002fd  ...      0\n",
              "3  0001b41b1c6bb37e  ...      0\n",
              "4  0001d958c54c6e35  ...      0\n",
              "\n",
              "[5 rows x 8 columns]"
            ]
          },
          "metadata": {
            "tags": []
          },
          "execution_count": 4
        }
      ]
    },
    {
      "cell_type": "markdown",
      "metadata": {
        "id": "wfJMQ-QyD58n"
      },
      "source": [
        "# EDA"
      ]
    },
    {
      "cell_type": "code",
      "metadata": {
        "colab": {
          "base_uri": "https://localhost:8080/",
          "height": 235
        },
        "id": "8H8L9sn_KIU2",
        "outputId": "f11d8b4e-af9a-4d7b-974a-f6f321d8f5f7"
      },
      "source": [
        "df_malignant = comments_df.drop(['id', 'comment_text'], axis=1)\n",
        "counts = []\n",
        "categories = list(df_malignant.columns.values)\n",
        "for i in categories:\n",
        "    counts.append((i, df_malignant[i].sum()))\n",
        "df_stats = pd.DataFrame(counts, columns=['category', 'number_of_comments'])\n",
        "df_stats"
      ],
      "execution_count": null,
      "outputs": [
        {
          "output_type": "execute_result",
          "data": {
            "text/html": [
              "<div>\n",
              "<style scoped>\n",
              "    .dataframe tbody tr th:only-of-type {\n",
              "        vertical-align: middle;\n",
              "    }\n",
              "\n",
              "    .dataframe tbody tr th {\n",
              "        vertical-align: top;\n",
              "    }\n",
              "\n",
              "    .dataframe thead th {\n",
              "        text-align: right;\n",
              "    }\n",
              "</style>\n",
              "<table border=\"1\" class=\"dataframe\">\n",
              "  <thead>\n",
              "    <tr style=\"text-align: right;\">\n",
              "      <th></th>\n",
              "      <th>category</th>\n",
              "      <th>number_of_comments</th>\n",
              "    </tr>\n",
              "  </thead>\n",
              "  <tbody>\n",
              "    <tr>\n",
              "      <th>0</th>\n",
              "      <td>malignant</td>\n",
              "      <td>15294</td>\n",
              "    </tr>\n",
              "    <tr>\n",
              "      <th>1</th>\n",
              "      <td>highly_malignant</td>\n",
              "      <td>1595</td>\n",
              "    </tr>\n",
              "    <tr>\n",
              "      <th>2</th>\n",
              "      <td>rude</td>\n",
              "      <td>8449</td>\n",
              "    </tr>\n",
              "    <tr>\n",
              "      <th>3</th>\n",
              "      <td>threat</td>\n",
              "      <td>478</td>\n",
              "    </tr>\n",
              "    <tr>\n",
              "      <th>4</th>\n",
              "      <td>abuse</td>\n",
              "      <td>7877</td>\n",
              "    </tr>\n",
              "    <tr>\n",
              "      <th>5</th>\n",
              "      <td>loathe</td>\n",
              "      <td>1405</td>\n",
              "    </tr>\n",
              "  </tbody>\n",
              "</table>\n",
              "</div>"
            ],
            "text/plain": [
              "           category  number_of_comments\n",
              "0         malignant               15294\n",
              "1  highly_malignant                1595\n",
              "2              rude                8449\n",
              "3            threat                 478\n",
              "4             abuse                7877\n",
              "5            loathe                1405"
            ]
          },
          "metadata": {
            "tags": []
          },
          "execution_count": 5
        }
      ]
    },
    {
      "cell_type": "code",
      "metadata": {
        "colab": {
          "base_uri": "https://localhost:8080/",
          "height": 447
        },
        "id": "cxXpoPvbd_0r",
        "outputId": "546a9a3c-0feb-4941-dcc0-943b77e4f2e8"
      },
      "source": [
        "df_stats.plot(x='category', y='number_of_comments', kind='bar', legend=False, grid=True, figsize=(8, 5))\n",
        "plt.title(\"Number of comments per category\")\n",
        "plt.ylabel('# of Occurrences', fontsize=12)\n",
        "plt.xlabel('category', fontsize=12)"
      ],
      "execution_count": null,
      "outputs": [
        {
          "output_type": "execute_result",
          "data": {
            "text/plain": [
              "Text(0.5, 0, 'category')"
            ]
          },
          "metadata": {
            "tags": []
          },
          "execution_count": 6
        },
        {
          "output_type": "display_data",
          "data": {
            "image/png": "[encoded data removed]",
            "text/plain": [
              "<Figure size 576x360 with 1 Axes>"
            ]
          },
          "metadata": {
            "tags": [],
            "needs_background": "light"
          }
        }
      ]
    },
    {
      "cell_type": "markdown",
      "metadata": {
        "id": "oUnWkpaLxX3A"
      },
      "source": [
        "NOTE- From above graph we can clearly see that data is in imballanced here "
      ]
    },
    {
      "cell_type": "code",
      "metadata": {
        "colab": {
          "base_uri": "https://localhost:8080/",
          "height": 371
        },
        "id": "Ddfq5_HGx7va",
        "outputId": "2feab0fc-9e57-414b-fbe0-ad47fbd4cac8"
      },
      "source": [
        "rowsums = comments_df.iloc[:,2:].sum(axis=1)\n",
        "x=rowsums.value_counts()\n",
        "#plot\n",
        "plt.figure(figsize=(8,5))\n",
        "ax = sns.barplot(x.index, x.values)\n",
        "plt.title(\"Multiple categories per comment\")\n",
        "plt.ylabel('# of Occurrences', fontsize=12)\n",
        "plt.xlabel('# of categories', fontsize=12)"
      ],
      "execution_count": null,
      "outputs": [
        {
          "output_type": "execute_result",
          "data": {
            "text/plain": [
              "Text(0.5, 0, '# of categories')"
            ]
          },
          "metadata": {
            "tags": []
          },
          "execution_count": 7
        },
        {
          "output_type": "display_data",
          "data": {
            "image/png": "[encoded data removed]",
            "text/plain": [
              "<Figure size 576x360 with 1 Axes>"
            ]
          },
          "metadata": {
            "tags": [],
            "needs_background": "light"
          }
        }
      ]
    },
    {
      "cell_type": "code",
      "metadata": {
        "colab": {
          "base_uri": "https://localhost:8080/"
        },
        "id": "10_SK3eC2_Cu",
        "outputId": "ba8768bf-cd41-442d-cb1e-77c4e388c881"
      },
      "source": [
        "print('Percentage of comments that are not labelled:')\n",
        "print(len(comments_df[(comments_df['malignant']==0) & (comments_df['highly_malignant']==0) & \n",
        "                      (comments_df['rude']==0) & (comments_df['threat']== 0) & (comments_df['abuse']==0) & \n",
        "                      (comments_df['loathe']==0)]) / len(comments_df))"
      ],
      "execution_count": null,
      "outputs": [
        {
          "output_type": "stream",
          "text": [
            "Percentage of comments that are not labelled:\n",
            "0.8983211235124177\n"
          ],
          "name": "stdout"
        }
      ]
    },
    {
      "cell_type": "code",
      "metadata": {
        "colab": {
          "base_uri": "https://localhost:8080/",
          "height": 282
        },
        "id": "H6Uftd8Z82Tv",
        "outputId": "7161c882-cfca-4217-fb04-4b95ee086c3f"
      },
      "source": [
        "lens = comments_df.comment_text.str.len()\n",
        "lens.hist(bins = np.arange(0,5000,50))"
      ],
      "execution_count": null,
      "outputs": [
        {
          "output_type": "execute_result",
          "data": {
            "text/plain": [
              "<matplotlib.axes._subplots.AxesSubplot at 0x7f3c25e7ce48>"
            ]
          },
          "metadata": {
            "tags": []
          },
          "execution_count": 9
        },
        {
          "output_type": "display_data",
          "data": {
            "image/png": "[encoded data removed]",
            "text/plain": [
              "<Figure size 432x288 with 1 Axes>"
            ]
          },
          "metadata": {
            "tags": [],
            "needs_background": "light"
          }
        }
      ]
    },
    {
      "cell_type": "code",
      "metadata": {
        "colab": {
          "base_uri": "https://localhost:8080/"
        },
        "id": "aPt4FNaiDwGP",
        "outputId": "a97b2c3b-1f19-4733-e272-724b1d42f3c7"
      },
      "source": [
        "## Check for missing values \n",
        "print('Number of missing comments in comment text:')\n",
        "comments_df['comment_text'].isnull().sum()"
      ],
      "execution_count": null,
      "outputs": [
        {
          "output_type": "stream",
          "text": [
            "Number of missing comments in comment text:\n"
          ],
          "name": "stdout"
        },
        {
          "output_type": "execute_result",
          "data": {
            "text/plain": [
              "0"
            ]
          },
          "metadata": {
            "tags": []
          },
          "execution_count": 10
        }
      ]
    },
    {
      "cell_type": "markdown",
      "metadata": {
        "id": "kDw79egOf6zv"
      },
      "source": [
        "# Data Preprocessing"
      ]
    },
    {
      "cell_type": "code",
      "metadata": {
        "colab": {
          "base_uri": "https://localhost:8080/",
          "height": 53
        },
        "id": "LHFUCtIVFPE7",
        "outputId": "0b6649a8-12be-4362-adc3-1dd0c947c64f"
      },
      "source": [
        "comments_df['comment_text'][0]"
      ],
      "execution_count": null,
      "outputs": [
        {
          "output_type": "execute_result",
          "data": {
            "application/vnd.google.colaboratory.intrinsic+json": {
              "type": "string"
            },
            "text/plain": [
              "\"Explanation\\nWhy the edits made under my username Hardcore Metallica Fan were reverted? They weren't vandalisms, just closure on some GAs after I voted at New York Dolls FAC. And please don't remove the template from the talk page since I'm retired now.89.205.38.27\""
            ]
          },
          "metadata": {
            "tags": []
          },
          "execution_count": 11
        }
      ]
    },
    {
      "cell_type": "code",
      "metadata": {
        "id": "Lo8B-noqXVvE"
      },
      "source": [
        "import re\n",
        "import string\n",
        "import nltk\n",
        "from nltk.corpus import  stopwords\n",
        "stop_words = set(stopwords.words('english') + ['u', 'ü', 'ur', '4', '2', 'im', 'dont', 'doin', 'ure','us'])\n",
        "\n",
        "def clean_text(text):\n",
        "    text = text.lower()\n",
        "    text = re.sub(r\"what's\", \"what is \", text)\n",
        "    text = re.sub(r\"\\'s\", \" \", text)\n",
        "    text = re.sub(r\"\\'ve\", \" have \", text)\n",
        "    text = re.sub(r\"can't\", \"can not \", text)\n",
        "    text = re.sub(r\"n't\", \" not \", text)\n",
        "    text = re.sub(r\"i'm\", \"i am \", text)\n",
        "    text = re.sub(r\"\\'re\", \" are \", text)\n",
        "    text = re.sub(r\"\\'d\", \" would \", text)\n",
        "    text = re.sub(r\"\\'ll\", \" will \", text)\n",
        "    text = re.sub(r\"\\'scuse\", \" excuse \", text)\n",
        "    text = re.sub('\\W', ' ', text)\n",
        "    text = re.sub('\\s+', ' ', text)\n",
        "    text = text.strip(' ')\n",
        "    return text"
      ],
      "execution_count": null,
      "outputs": []
    },
    {
      "cell_type": "code",
      "metadata": {
        "id": "qEs-cJtTgyFt"
      },
      "source": [
        "comments_df['comment_text'] = comments_df['comment_text'].map(lambda com : clean_text(com))\n"
      ],
      "execution_count": null,
      "outputs": []
    },
    {
      "cell_type": "code",
      "metadata": {
        "colab": {
          "base_uri": "https://localhost:8080/",
          "height": 53
        },
        "id": "iN6G8SJTg9VH",
        "outputId": "7b73b48f-652b-4a71-e09b-4f1682de60da"
      },
      "source": [
        "comments_df['comment_text'][0]"
      ],
      "execution_count": null,
      "outputs": [
        {
          "output_type": "execute_result",
          "data": {
            "application/vnd.google.colaboratory.intrinsic+json": {
              "type": "string"
            },
            "text/plain": [
              "'explanation why the edits made under my username hardcore metallica fan were reverted they were not vandalisms just closure on some gas after i voted at new york dolls fac and please do not remove the template from the talk page since i am retired now 89 205 38 27'"
            ]
          },
          "metadata": {
            "tags": []
          },
          "execution_count": 14
        }
      ]
    },
    {
      "cell_type": "code",
      "metadata": {
        "id": "3BW6XaLEhMkp"
      },
      "source": [
        "def preprocess_text(text):\n",
        "    #text = text.lower()\n",
        "    # Replace money symbols \n",
        "    text = re.sub(r'£|\\$', ' ',text)\n",
        "    # remove punctuations \n",
        "    text =  re.sub(r'[^\\w\\d\\s]','',text)\n",
        "    # remove numbers \n",
        "    text = re.sub(r'\\d+(\\.\\d+)?', ' ',text)\n",
        "    # Remove spacial char\n",
        "    text = re.sub(r'[%#@$&!+|ð¦±_]','',text)          \n",
        "    # Replace whitespace between terms with a single space\n",
        "    text = re.sub(r'\\s+', ' ',text)\n",
        "    # Remove leading and trailing whitespace\n",
        "    text = re.sub(r'^\\s+|\\s+?$', '',text)\n",
        "    # Removes words of up to 3 characters entirely\n",
        "    text = re.sub(r'\\b\\w{1,2}\\b', '', text)\n",
        "    # remove STOP words\n",
        "    text = ' '.join(word for word in text.split() if word not in stop_words)\n",
        "    return text"
      ],
      "execution_count": null,
      "outputs": []
    },
    {
      "cell_type": "code",
      "metadata": {
        "id": "DUpc9_bM6O8j"
      },
      "source": [
        "comments_df['comment_text'] = comments_df['comment_text'].map(lambda com : preprocess_text(com))"
      ],
      "execution_count": null,
      "outputs": []
    },
    {
      "cell_type": "code",
      "metadata": {
        "colab": {
          "base_uri": "https://localhost:8080/",
          "height": 53
        },
        "id": "XKPJr9hX6UXd",
        "outputId": "f26e52f3-0c65-48f0-e1c2-c2765e6853ad"
      },
      "source": [
        "comments_df['comment_text'][0]"
      ],
      "execution_count": null,
      "outputs": [
        {
          "output_type": "execute_result",
          "data": {
            "application/vnd.google.colaboratory.intrinsic+json": {
              "type": "string"
            },
            "text/plain": [
              "'explanation edits made username hardcore metallica fan reverted vandalisms closure gas voted new york dolls fac please remove template talk page since retired'"
            ]
          },
          "metadata": {
            "tags": []
          },
          "execution_count": 17
        }
      ]
    },
    {
      "cell_type": "markdown",
      "metadata": {
        "id": "PCz3AN4c10Tt"
      },
      "source": [
        "**Preprocessing Test Data**"
      ]
    },
    {
      "cell_type": "code",
      "metadata": {
        "colab": {
          "base_uri": "https://localhost:8080/",
          "height": 204
        },
        "id": "AmMLJaVb1vTf",
        "outputId": "b2180c2a-5595-4b0c-fbb6-f605b27449c7"
      },
      "source": [
        "comments_test_df = pd.read_csv('/content/drive/MyDrive/NLP/malignant_comment_test.csv',encoding = 'utf-8')\n",
        "comments_test_df.head()"
      ],
      "execution_count": null,
      "outputs": [
        {
          "output_type": "execute_result",
          "data": {
            "text/html": [
              "<div>\n",
              "<style scoped>\n",
              "    .dataframe tbody tr th:only-of-type {\n",
              "        vertical-align: middle;\n",
              "    }\n",
              "\n",
              "    .dataframe tbody tr th {\n",
              "        vertical-align: top;\n",
              "    }\n",
              "\n",
              "    .dataframe thead th {\n",
              "        text-align: right;\n",
              "    }\n",
              "</style>\n",
              "<table border=\"1\" class=\"dataframe\">\n",
              "  <thead>\n",
              "    <tr style=\"text-align: right;\">\n",
              "      <th></th>\n",
              "      <th>id</th>\n",
              "      <th>comment_text</th>\n",
              "    </tr>\n",
              "  </thead>\n",
              "  <tbody>\n",
              "    <tr>\n",
              "      <th>0</th>\n",
              "      <td>00001cee341fdb12</td>\n",
              "      <td>Yo bitch Ja Rule is more succesful then you'll...</td>\n",
              "    </tr>\n",
              "    <tr>\n",
              "      <th>1</th>\n",
              "      <td>0000247867823ef7</td>\n",
              "      <td>== From RfC == \\n\\n The title is fine as it is...</td>\n",
              "    </tr>\n",
              "    <tr>\n",
              "      <th>2</th>\n",
              "      <td>00013b17ad220c46</td>\n",
              "      <td>\" \\n\\n == Sources == \\n\\n * Zawe Ashton on Lap...</td>\n",
              "    </tr>\n",
              "    <tr>\n",
              "      <th>3</th>\n",
              "      <td>00017563c3f7919a</td>\n",
              "      <td>:If you have a look back at the source, the in...</td>\n",
              "    </tr>\n",
              "    <tr>\n",
              "      <th>4</th>\n",
              "      <td>00017695ad8997eb</td>\n",
              "      <td>I don't anonymously edit articles at all.</td>\n",
              "    </tr>\n",
              "  </tbody>\n",
              "</table>\n",
              "</div>"
            ],
            "text/plain": [
              "                 id                                       comment_text\n",
              "0  00001cee341fdb12  Yo bitch Ja Rule is more succesful then you'll...\n",
              "1  0000247867823ef7  == From RfC == \\n\\n The title is fine as it is...\n",
              "2  00013b17ad220c46  \" \\n\\n == Sources == \\n\\n * Zawe Ashton on Lap...\n",
              "3  00017563c3f7919a  :If you have a look back at the source, the in...\n",
              "4  00017695ad8997eb          I don't anonymously edit articles at all."
            ]
          },
          "metadata": {
            "tags": []
          },
          "execution_count": 18
        }
      ]
    },
    {
      "cell_type": "code",
      "metadata": {
        "id": "_0xbyPFU1vJ1"
      },
      "source": [
        "comments_test_df['comment_text'] = comments_test_df['comment_text'].map(lambda com : clean_text(com))"
      ],
      "execution_count": null,
      "outputs": []
    },
    {
      "cell_type": "code",
      "metadata": {
        "colab": {
          "base_uri": "https://localhost:8080/",
          "height": 71
        },
        "id": "Cma7mCUI83jt",
        "outputId": "29aace41-7775-474f-b387-c27587d4f347"
      },
      "source": [
        "comments_test_df['comment_text'][0]"
      ],
      "execution_count": null,
      "outputs": [
        {
          "output_type": "execute_result",
          "data": {
            "application/vnd.google.colaboratory.intrinsic+json": {
              "type": "string"
            },
            "text/plain": [
              "'yo bitch ja rule is more succesful then you will ever be whats up with you and hating you sad mofuckas i should bitch slap ur pethedic white faces and get you to kiss my ass you guys sicken me ja rule is about pride in da music man dont diss that shit on him and nothin is wrong bein like tupac he was a brother too fuckin white boys get things right next time'"
            ]
          },
          "metadata": {
            "tags": []
          },
          "execution_count": 20
        }
      ]
    },
    {
      "cell_type": "code",
      "metadata": {
        "id": "2P4gRml-83ZV"
      },
      "source": [
        "comments_test_df['comment_text'] = comments_test_df['comment_text'].map(lambda com : preprocess_text(com))"
      ],
      "execution_count": null,
      "outputs": []
    },
    {
      "cell_type": "code",
      "metadata": {
        "colab": {
          "base_uri": "https://localhost:8080/",
          "height": 53
        },
        "id": "n4rr3hYR9Cj5",
        "outputId": "3040a28a-6568-4f1e-fea6-d00c384ccdd2"
      },
      "source": [
        "comments_test_df['comment_text'][0]"
      ],
      "execution_count": null,
      "outputs": [
        {
          "output_type": "execute_result",
          "data": {
            "application/vnd.google.colaboratory.intrinsic+json": {
              "type": "string"
            },
            "text/plain": [
              "'bitch rule succesful ever whats hating sad mofuckas bitch slap pethedic white faces get kiss ass guys sicken rule pride music man diss shit nothin wrong bein like tupac brother fuckin white boys get things right next time'"
            ]
          },
          "metadata": {
            "tags": []
          },
          "execution_count": 22
        }
      ]
    },
    {
      "cell_type": "markdown",
      "metadata": {
        "id": "jwfoNCPYT42K"
      },
      "source": [
        "# Modeling"
      ]
    },
    {
      "cell_type": "code",
      "metadata": {
        "id": "oeAYSsxcUFiy"
      },
      "source": [
        "l = ['malignant','highly_malignant','rude', 'threat','abuse','loathe']\n",
        "\n",
        "X = comments_df.loc[:,['comment_text']]\n",
        "y = comments_df.loc[:,l]"
      ],
      "execution_count": null,
      "outputs": []
    },
    {
      "cell_type": "code",
      "metadata": {
        "id": "LAVkVk7d1w4B"
      },
      "source": [
        "from sklearn.model_selection import train_test_split\n",
        "X_train, X_test, y_train, y_test = train_test_split(X, y, test_size=0.1, random_state=555, shuffle=True)"
      ],
      "execution_count": null,
      "outputs": []
    },
    {
      "cell_type": "code",
      "metadata": {
        "colab": {
          "base_uri": "https://localhost:8080/"
        },
        "id": "95AaPVXH5f_y",
        "outputId": "95050faf-c05a-4215-d6c7-693145aa383e"
      },
      "source": [
        "print(X_train.shape, X_test.shape)\n",
        "print(y_train.shape, y_test.shape)"
      ],
      "execution_count": null,
      "outputs": [
        {
          "output_type": "stream",
          "text": [
            "(143613, 1) (15958, 1)\n",
            "(143613, 6) (15958, 6)\n"
          ],
          "name": "stdout"
        }
      ]
    },
    {
      "cell_type": "code",
      "metadata": {
        "colab": {
          "base_uri": "https://localhost:8080/",
          "height": 204
        },
        "id": "xPwd9tCH50UA",
        "outputId": "3b10f52b-0b68-4066-c96f-e6fb69cea484"
      },
      "source": [
        "y_test.head()"
      ],
      "execution_count": null,
      "outputs": [
        {
          "output_type": "execute_result",
          "data": {
            "text/html": [
              "<div>\n",
              "<style scoped>\n",
              "    .dataframe tbody tr th:only-of-type {\n",
              "        vertical-align: middle;\n",
              "    }\n",
              "\n",
              "    .dataframe tbody tr th {\n",
              "        vertical-align: top;\n",
              "    }\n",
              "\n",
              "    .dataframe thead th {\n",
              "        text-align: right;\n",
              "    }\n",
              "</style>\n",
              "<table border=\"1\" class=\"dataframe\">\n",
              "  <thead>\n",
              "    <tr style=\"text-align: right;\">\n",
              "      <th></th>\n",
              "      <th>malignant</th>\n",
              "      <th>highly_malignant</th>\n",
              "      <th>rude</th>\n",
              "      <th>threat</th>\n",
              "      <th>abuse</th>\n",
              "      <th>loathe</th>\n",
              "    </tr>\n",
              "  </thead>\n",
              "  <tbody>\n",
              "    <tr>\n",
              "      <th>80566</th>\n",
              "      <td>0</td>\n",
              "      <td>0</td>\n",
              "      <td>0</td>\n",
              "      <td>0</td>\n",
              "      <td>0</td>\n",
              "      <td>0</td>\n",
              "    </tr>\n",
              "    <tr>\n",
              "      <th>40752</th>\n",
              "      <td>0</td>\n",
              "      <td>0</td>\n",
              "      <td>0</td>\n",
              "      <td>0</td>\n",
              "      <td>0</td>\n",
              "      <td>0</td>\n",
              "    </tr>\n",
              "    <tr>\n",
              "      <th>114060</th>\n",
              "      <td>1</td>\n",
              "      <td>0</td>\n",
              "      <td>0</td>\n",
              "      <td>0</td>\n",
              "      <td>1</td>\n",
              "      <td>0</td>\n",
              "    </tr>\n",
              "    <tr>\n",
              "      <th>54357</th>\n",
              "      <td>0</td>\n",
              "      <td>0</td>\n",
              "      <td>0</td>\n",
              "      <td>0</td>\n",
              "      <td>0</td>\n",
              "      <td>0</td>\n",
              "    </tr>\n",
              "    <tr>\n",
              "      <th>126872</th>\n",
              "      <td>0</td>\n",
              "      <td>0</td>\n",
              "      <td>0</td>\n",
              "      <td>0</td>\n",
              "      <td>0</td>\n",
              "      <td>0</td>\n",
              "    </tr>\n",
              "  </tbody>\n",
              "</table>\n",
              "</div>"
            ],
            "text/plain": [
              "        malignant  highly_malignant  rude  threat  abuse  loathe\n",
              "80566           0                 0     0       0      0       0\n",
              "40752           0                 0     0       0      0       0\n",
              "114060          1                 0     0       0      1       0\n",
              "54357           0                 0     0       0      0       0\n",
              "126872          0                 0     0       0      0       0"
            ]
          },
          "metadata": {
            "tags": []
          },
          "execution_count": 26
        }
      ]
    },
    {
      "cell_type": "code",
      "metadata": {
        "id": "AUEfa8mk5618"
      },
      "source": [
        "\n",
        "train_lines = []\n",
        "for row in range(0,X_train.shape[0]):\n",
        "  train_lines.append(' '.join(str(x) for x in X_train.iloc[row,:]))\n",
        "\n",
        "test_lines = []\n",
        "for row in range(0,X_test.shape[0]):\n",
        "  test_lines.append(' '.join(str(x) for x in X_test.iloc[row,:]))\n",
        "\n",
        "predtest_lines = []\n",
        "for row in range(0,comments_test_df.shape[0]):\n",
        "  predtest_lines.append(' '.join(str(x) for x in comments_test_df.iloc[row,1:]))"
      ],
      "execution_count": null,
      "outputs": []
    },
    {
      "cell_type": "code",
      "metadata": {
        "colab": {
          "base_uri": "https://localhost:8080/"
        },
        "id": "mWaB_nFV9khE",
        "outputId": "d434b534-6c62-4c22-d3a6-9baf7b3705eb"
      },
      "source": [
        "predtest_lines"
      ],
      "execution_count": null,
      "outputs": [
        {
          "output_type": "execute_result",
          "data": {
            "text/plain": [
              "['bitch rule succesful ever whats hating sad mofuckas bitch slap pethedic white faces get kiss ass guys sicken rule pride music man diss shit nothin wrong bein like tupac brother fuckin white boys get things right next time',\n",
              " 'rfc title fine imo',\n",
              " 'sources zawe ashton lapland',\n",
              " 'look back source information updated correct form guess source updated shall update information thank message',\n",
              " 'anonymously edit articles',\n",
              " 'thank understanding think highly would revert without discussion',\n",
              " 'please add nonsense wikipedia edits considered vandalism quickly undone would like experiment please use sandbox instead thank',\n",
              " 'dear god site horrible',\n",
              " 'fool believe numbers correct number lies ponder numbers carefully error persist long time continues reproduce latest reproduction know encyclopædia britannica almanac wich states magnittude fair enough victims today lot guess people come number impresses enough know know shameless lucky number throw air',\n",
              " 'double redirects fixing double redirects blank outer one need edit point final target unless think inappropriate case needs nominated rfd',\n",
              " 'think crap link roggenbier article somebody knows things change',\n",
              " 'somebody invariably try add religion really mean way people invariably kept adding religion samuel beckett infobox bother bringing long dead completely non existent influences issue flailing making crap fly comparison explicit acknowledgement entire amos article personally jewish categories',\n",
              " 'february utc looking clear banned sockpuppet ignored consensus fwiw policy appropriate choice leave page chihuahua mexico current page returned anyone time fix incoming links',\n",
              " 'says right type type institution needed case three levels suny schools university centers doctoral granting institutions state colleges community colleges needed case clarify suny center says even binghamton university university albany state university new york stony brook university stop trying say totally right case',\n",
              " 'adding new product list make sure relevant adding new product list make sure wikipedia entry already proving relevance giving reader possibility read otherwise could subject deletion see article revision history',\n",
              " 'current position anyone confirmation sir alfred longer airport hospitalised',\n",
              " 'one',\n",
              " 'reason banning throwing article needs section throwing banned moment non cricket fan seems kind arbitrary',\n",
              " 'wallamoose changing cited material say things original source say response objections modified article went along reverting repeatedly asked use talk page trying add article long time thin content wrong',\n",
              " 'blocked editing wikipedia',\n",
              " 'indefinitely blocked indefinitely blocked account',\n",
              " 'arabs committing genocide iraq protests europe may europe also burn hell',\n",
              " 'please stop continue vandalize wikipedia homosexuality blocked editing',\n",
              " 'energy edited introduction previously said passive transport use kind energy true passive transport relies kinetic energy substance transported kinetic energy causes move around random chance cross membrane difference active transport actually uses cell energy atp electrochemical gradient pump substance across membrane',\n",
              " 'yeah thanks reviving tradition pissing articles want live ethnic essentialism let mere facts get way enjoying',\n",
              " 'mlm software nbfc software non banking financial company nbfc software company nbfc software india software banking gold loan software mlm software services search engine optimization www liveindiatech com according recenbold textt survey people moved away searching print media needs use search engines find products services first step successful presence internet creating website enough someone searches products services offer name needs listed high search engine live india tech guarantees search engine optimization using organizations name feature top ten listing search engines ensure traffic site increase exponentially aiding sales products services invested enough resources develop seo system far superior anything else market www liveindiatech com',\n",
              " 'redslash cut short sources stating rok sovereign post otherwise please aknowledge place make',\n",
              " 'deception way ninja hence frank dux amazing ninja',\n",
              " 'jews race get mother mention ethiopian jews testing jews proves well fact accept converts',\n",
              " 'ollie others think one list oldest people know long easy answer raise cutoff age purely round number full years shorter record make top top everyone tell maximum list size set threshold',\n",
              " 'support per jimbo google climatic research unit email controversy results climategate results mfa',\n",
              " 'professors manhatten project',\n",
              " 'added wikilinks sections included secondary sources suggested citations human disease section went exchanged review articles primary sources thanks input',\n",
              " 'sure whether notable enough mentioned article right versions later open files created previous versions save files format suffix msx version number intentional course besides versions save files compressed format 共产主义万岁',\n",
              " '일이삼사오육칠팔구하고십이요 에헤헤 으허허',\n",
              " 'deleted page evidence person named page content goes wikipedia policies use user pages',\n",
              " 'nation radio request comment dravecky contacting couple editors specialist knowledge resolve discussion talk nation radio naming broadcast area would interested feedback thanks',\n",
              " 'per user page',\n",
              " 'balance page one sentence basic definition word huge amount slang profane uses perhaps former extended information female dogs available beyond name encyclopaedia dictionary feel whoever looking definition appropiate deleted wikipedia immediatly word used often also mean word belive majorly true much okay good meaning female dog bitch also stands name brittany fellows preceding unsigned comment added etymology word bitch old norse bikkjuna meaning female dog unknown origin grimm derives old norse words lapp pittja oed notes converse equally possible adj bitchy first seen verb meaning complain slang bitchen good attested reclaiming word bitch word bitch actually offencive american canadian english english variants bitch maintains correct definition female canine people argued bitch different used insult pig dog cow others considered profane bitch far concerned nothing reclaim bitch simply means female canine may used pejorative descriptor make profanity definately say something kyle vanderweilen bitchin particular evidence women reclaiming word bitch anyone point articles etc song definitely interesting belongs actually reclaim word bitch reclaims word sinner also really understand last paragraph sucks going try clear realized know means someone point source lays argument bitches fertility patriarchy clearly need articles definitely enough examples even outside missy elliot cleary repeatedly reclaims word instance bitch references fine name missy elliot got find quote rolling stone review mentioned reclaiming word fact one knows might interesting add section work relates women slurs generally within hip hop relevant reclamation seems poison woman use epithet still strongly connotes despised traits see using word connoting querolous spiteful malicious empowering know life bitch stems reaction prevalence tagging woman adhere certain standard femininity bitch use literary example novel handmaid tale narrator related feeling whenever outsmarted man could almost hear calling bitch mind even husband literary reaction recited jealousy men names men outsmart word like bitch resort greater variety pejoritive epithets though specific think standard femininity referred pretext subordination sexes often strive impose men traditionally power popular epithet slang connotations bitch diffuse though still commonly pernicious think bitch chiefly denunciation punish women conform standard rather contemptuous word often used however still see point reclamati',\n",
              " 'edjohnston question figures summary points yes number victims important article political repression therefore number range numbers provided introduction numbers people killed number people died result communist policies different second number significantly greater million rather million soviet union alone according guinness book records see estimates number people killed communist regimes except black book qualifies secondary written group european historians tells exactly million people killed communist regimes note number approximate also noted introduction secondary tell million people killed communist regimes must also used obtain range numbers side note others grossly inappropriate discuss sanctions article talk pages think sanctions needed please appropriate administrative noticeboards report concerns',\n",
              " 'redirect talk vida eres',\n",
              " 'convinced blind documented possible would call legally blind great vision name blind blake exaggerated moniker although proof got feeling legally blind likely totally blind course got evidence back thing',\n",
              " 'thanks barnstar thank awarding rickk anti vandilism barnstar',\n",
              " 'ref ponzi scheme padillah opinion trying impose although may appear highlighting fact remains controversial whether ponzi scheme even legal one cannot state fact ponzi scheme saw reference perpetrator cannot treated reliable source fact claiming ponzi scheme seems opinion point claim made either way edit question accomplishes thank virat',\n",
              " 'look gerry spence never lost case criminal civil simply untrue prevailed two cases wrote books silkwood miss wyoming penthouse cases massively trial completely overturned represented year old michael jones charged murder juvenile oregon trial criminal trial every sense except juvenile neither received jury spence argued time entitled sentencing authority ended age chief justice alex kozinski circuit court mentions arrogance trial lawyers claim never lost cast one famous exception gerry spence least hear tell see gerry spence gunning justice see sherrie nachman true lies starring gerry spence law sept disputing spence claim made gunning justice widely reported media quoting one victorious spence adversary lie',\n",
              " 'september truce according several news sources truce reached minsk last night http www bbc com news world europe',\n",
              " 'would never think would need say wikipedia fansite discussion board anything unannounced authority might well false mmorpgs overrated',\n",
              " 'article government position reaction add positions kosovo declaration independence foreign relations kosovo',\n",
              " 'robinson gay hell sucks dick much',\n",
              " 'dracula grandmother dracula grandmother bulgarian princess sister ivan sratzimir links lands across danube remain largely unexamined would appreciate serious contributions kaloyan',\n",
              " 'perfectly civil quite clearly idiotic trolling',\n",
              " 'agree billfruge author describes unverifiable nature two competing etymology theories sufficiently well mislead reader renders opinion two likely clear author opinion presents reader opportunity accept either neither two',\n",
              " 'category italian jews category italian jews created nominated possible deletion merging renaming would like participate discussion invited add comments category entry categories discussion page thank',\n",
              " 'someday never image deleted copyright issues',\n",
              " 'december utc best knowledge accurate disposition facts personal opinion offered appeared last sentence systems institutionalized racism always result injustice backlash predictable result noted think inaccurate say white privilege white supremacy interchangable terms fact usefulness white privilege concept may rooted invisible weightless knapsack analogythose would never entertain white supremacist ideology may still benefit degreee white privilege',\n",
              " 'see moved talat hamdani perhaps read mfd notice page says please blank merge move remove notice discussion progress emphasis',\n",
              " 'burn hell revoke talk page access',\n",
              " 'hebrean judeo christian hebrean judeo christian supposed mean',\n",
              " 'work magic wondring time help wikipedia featured article candidates bois archive input would appreciated quick scan full review noticed work respect skills thanks',\n",
              " 'fuck anti semitic cunt',\n",
              " 'puwersa masa',\n",
              " 'quidam software hello stifle understand erased article quidam software short without references etc actually first article wikipedia know ask article construction let know please thanks help preceding unsigned comment added thanks message welcome wikipedia please sign messages typing end quidam software deleted criteria speedy deletion specifically number articles short article little context articles wikipedia generally single sentence long need include citations reliable sources comply verifiability policy put article got added want work article create user subpage work article moving desired article title ready hope experience put enjoy wikipedian require help using wikipedia please place message wikipedia help desk put message talk page someone show shortly help',\n",
              " 'four references including britannica giving correct date getting silly complain edit summary find added quotes two help sourceaccess happy concede britannica alone mentions date offer without explaining context one sources expanded quote specifically mentioning august russian wikipedia августа силы танкового корпуса армии паулюса вышли волге севернее сталинграда august forces tank corps army paulus reached volga north stalingrad cited war diary colonel general franz haider',\n",
              " 'body perfect face boobs hips',\n",
              " 'simply relating research professional organizations essentially unanimous indicating laws intended effects may even making problem worse entitled opinion course comment making concerned ability keep biases edits',\n",
              " 'redirect talk kemp thicket rat',\n",
              " 'see section titled finsbury park mosque islamic hatred lestrade',\n",
              " 'taking shot lets say three separate people whos wills',\n",
              " 'use assisted suicide refer aid dying inaccurate fourth distinctive ways first coined catholic activists disputing oregon measure carries political bias second laws oregon washington vermont contain term assisted suicide use aid dying third assisting suicide remains illegal three states also montana new mexico state attorney general county district attorney charged physician pharmacist acted within aid dying laws three states finally describing people use aid dying brittany maynard suicides grossly misrepresents experience devalues lives deaths continued usage biased inaccurate term amended throughout wikipedia',\n",
              " 'see also http arxiv org abs hep',\n",
              " 'hello fuck pagan bareback mancunt pig slut',\n",
              " 'must said far disrespectful malicious destructive user wikipedia people like abuse power make site defunct obsolete',\n",
              " 'may please stop continue delete edit legitimate talk page comments talk deepwater horizon oil spill may blocked vandalism shared address make edit consider creating account avoid irrelevant notices',\n",
              " 'brandonyusoftoropov requested mediation conflict user brandonyusoftoropov brandonyusoftoropov requested mediation conflict willing mediate dispute accept please end email pgunn dachte org',\n",
              " 'august utc simple wrong would sufficed need try make look like idiot',\n",
              " 'ridiculous unless good non disingenuous response would absolutely agree blocking indef outright falsifying sources simply never tolerated',\n",
              " 'dare vandalize page hms beagle vandalize demon',\n",
              " 'moved quebec diaspora title disapora description applicable jews',\n",
              " 'knock bloody cwi trot',\n",
              " 'aapn bhtla aanand jhala',\n",
              " 'via archive org read petition online primary source meaning letter subject secondary source even blacklisted really used entered followup questions admins get feedback know whole story question include wiki per text mentioning petition guardian cited article',\n",
              " 'arrogant self serving immature idiot get right',\n",
              " 'continued vandalism user continues vandalize articles blocked editing',\n",
              " 'proornis thank adding entry proornis wikipedia added bit info correct edits try use taxobox correct manner case added dromaesauridae family archaeornithiformes mention genus species overcategorized article proornis knowledge considered basal bird really fit dinosaur coelurosaur categories add references whenever possible start article defining subject instance proornis extinct genus bird discovered north korea hope able follow guidelines creating new article need help let know',\n",
              " 'ices could hardly labelled obviously pro seal hunting organization scientific base seal management responsibility ices covered prominent seal researchers world would guess even accept npov nevertheless appreciate new strategy adding information even though still find rather biased canadian focus makes forget atlantic cod weak north west atlantic cod stock intend make corrections mind worry delete sections like however ask little bit reserved using touchy term vandalism people edit articles',\n",
              " 'good reason move though people use color either keeping cor anglais right per engvar however',\n",
              " 'email reply copy pignotti pdf controversial eft show effect treatments conditions problem eft show effect talking tapping arm talking tapping doll second think quite forthright describe accupressure citations controvert ing conclusion fact removed last two silently changed two want change text someone already responded please use like look like sneaky also looks like throwing every citation find without reading understanding hoping something stick recall asked one pdf numbers learning issues taking look neither one new studies anything establishing existence energy systems body sure say point charitable interpretation come reading citing either cutting pasting google source alternatively reading papers understanding contain either way might want consider editing articles better play strengths feinstein rejoinder available excellent lesson tapdancing studies found lend support efficacy tapping mentally attuning emotional difficulty despite design flaws found studies preponderance evidence shows energy psychology interventions efficacious first sentence true neglects explain arm tapping doll tapping equal efficacy second sentence equates talking tapping energy psychology additional baggage energy fields evidently migrate arms dolls citations suggestion particular kind talking associated sort physical ritual helpful treatments situations would comfortable including two feinstein reviews shortcomings pointed pignotti highlighted think waite deserves paragraph see argument including citations want make argument please sure read citation first able summarize citation supports point want make',\n",
              " 'wrote need cite reliable sources assertions far large chemical endothermic storage events think source conclusively estabish either point easy establish points hundreds papers proof limits chemical storage electron bonds well understood energy dense chemicals gasoline store per atom cold fusion reactions often produced far ranging per atom material cell cases chemical fuel reaction chemical ash finishes cell grams inert material produced hundreds megajoules heat much several kilograms gasoline burn cell contents would produce tiny fraction heat fact could burn cell table books room still get much chemical energy therefore chemistry ruled calorimeter measure endothermic event accurately measures exothermic event example calorimeters used studies show endothermic formation beginning experiment since calorimeters shows exothermic excess heat would also show endothermic storage proceeds never done heat balance always zero heat bursts jed rothwell useful information someone keeps erasing please note cal tech lewis false negative pointed noninski miles fleischmann described several papers example one http lenr canr org acrobat milesmisoperibol pdf also name julian schwinger see http lenr canr org acrobat schwingerjcoldfusiona pdf jed rothwell librarian lenr canr org',\n",
              " 'image copyright problem image att jpg thanks uploading image att jpg however image may soon deleted unless determine copyright holder copyright status wikimedia foundation careful images included wikipedia copyright law see wikipedia copyright policy copyright holder usually creator creator employer last person transferred ownership rights copyright information images signified using copyright templates three basic license types wikipedia open content public domain fair use find appropriate template wikipedia image copyright tags place image page like templatename please signify copyright information images uploaded upload remember images without important information deleted administrator questions feel free contact ask media copyright questions page thank',\n",
              " 'thanks comment wiki defenderness like one usually wikiling wiki defender agree first somewhat innocent doubts really agressive whole matter',\n",
              " 'figure redshirted sources chicago four',\n",
              " 'used word saloon describe car american english saloon like bar pub believed vandalism understand saloon british english sedan like car feel free edit article include information although would suggest citing ref article supporting acceleration stats cheers',\n",
              " 'funny ugly dudes computers moron quite astonishingly stupid',\n",
              " 'might intention recent edit removed content please careful remove content wikipedia without valid reason specify edit summary article talk page take look welcome page learn contributing encyclopedia thank link edit reverted found link believe edit reverted please contact suggestions',\n",
              " 'agree issue queston everyday english first amendent refer primarily constitution ambiguous belief remains even fifth amendment ambiguous first amendment even',\n",
              " 'main towns main know love write one sentence article want please least properly stop saying main town main obscure towns',\n",
              " 'comments follow bluewillow sorry sufficiently clear specific subject first serial versus reprints interest write commercial fiction living saying contract would contain non standard definition first serial original reprint saying quite clearly understand standard definitions publishing commercial fiction first serial original reprint means thing plain english intellectual property terminology reprint original first serial mean much specific things intellectual property terminology colloquial english may well suitable call female crotch vagina personal blog encyclopedia article talking female genitalia matters colloquially used term factually incorrect correct terminology used correct terminology would confusing readers hyperlink correct definition may order analogy effectively insisting set labia vagina sorry clearest example could think commonly accepted vernacular term used encyclopedia article wrong',\n",
              " 'halliday good see another contributor article sfl thing might consider joining wikipedia wikiprojectlinguistics sflsfl taskforce thanks',\n",
              " 'stephen barrett board certified viewpoint fact well documented one see prominence applies',\n",
              " 'stone sour sucks anus',\n",
              " 'could precis material instead downloading whole lot stuff somewhere else internet one editor feel material provided could cut fit format article info could provided seperate wikipedia article necessary',\n",
              " 'please stop continue vandalize wikipedia kmart blocked editing shared address make unconstructive edits consider creating account avoid irrelevant warnings',\n",
              " 'merely apologising interference',\n",
              " 'uhm people short reality check question verified article based bogus entered sockpuppets targetted dupe casual visitors believing individual important based evidence continue invest countless hours find info bogus fraudster really think time well invested really get know many must invested hours debunk enhance article original sockpuppeteer invested really think time work worth really think working small unimportant article big picture worth time flaming cursing genuinely interested inner fire girls guys still keep going article enough time must dozens hours already lines worth article deserve attention like said curious guys think time invested something else value really think work invested well said really interested answers flaming anything',\n",
              " 'catdiffuse think best idea would check whatlinkshere every make sure tag shows cats appropriate frankly think much point tag since people read cat pages cat contents',\n",
              " 'cloud feedback cloud feedback positive feedbacks paper states ipcc states likely positive negative feedback change',\n",
              " 'avg plenty greeks love king stop acting like greeks hate parrot government tells via media greeks asked george king supported reclaimed much lands voted keep numerous times vote also tried overthrow dictators read book greek government biggest liars want king claim constantinople asia minor direct descendant five greek imperial byzantine dynasties monomachos comnenos laskaris angelos paleologos',\n",
              " 'roman general agricola battle mons graupius total war early history section claims ancient romans practiced total war caledonia scotland however neither gnaeus julius agricola battle mons graupius confirm even address claims noncombatants killed',\n",
              " 'redirect discussion page please leave article related discussion please article discussion page',\n",
              " 'maybe read one since decided assist articles wikipedia made experience nothing hell piece shit pull finger bureaucratic arse rot hell',\n",
              " 'second issue thinking need taxonomy section things really clear maybe could specific findings fossils places narmadensis subfamily carnotaurinae princely lizard narmada significant stature behavior predatorial prowess narmadensis anything precise taxonomy would great add',\n",
              " 'hey man saw removing fair use images jimi hendrix discography bitch good job right thing right going lot artist discography pages looking album covers get rid bad images got back keep good work',\n",
              " 'one one album really also even would considered although could considered album length point two full length albums',\n",
              " 'olly moderator mean administrator official requirements needed become administrator however wikipedia community must decide favor request order granted rights therefore order successful request must show experience trustworthiness throughout edits period time period time set length experience favored less hope helps',\n",
              " 'ফরহ ইসল সলই ইউন উপজ বকশ রহণ ইউন ইলট এইট বকশ',\n",
              " 'scholarly corroboration folklore understanding folklore provide clues history medicine areas scholarship verified part archaeology biology sources handy recall titles anyone please add section article scholarly confirmation could disconfirmation plenty many places usually form debunking based lack scientific evidence weaker standard positive evidence thanks',\n",
              " 'redirects トレイン トレイン トレイン トレイン トレイントレイン トレイン トレイン トレイン トレイン トレイン トレイン トレイン トレイン トレィン トレィン torein torein torein torein torein torein torein torein torein torein torein torein torein torein train train train train トレイン トレイン torein torein train train トレイン トレイン torein torein train train redirect',\n",
              " 'respect point view discussion originated april would tended agree however today mentioned multiple expert sources opinion driver pastor maldonado rules everyone need avoid incidents time threat penalties means cannot race need stay track wait problems original article behind paywall autosport issue also discussed recognized expert commentators sky sports chinese free practice adding section back article appropriate references',\n",
              " 'would like take moment time apologize leaving workstation long enough idiot use idiot wont happen promise sure meant hyde turns male explained vandalism obsessing jrock silly',\n",
              " 'السلام عليكم رحمة الله بركاته الا الجميع تفضلوا جميعا',\n",
              " 'another priceless gem demonstrating general cluelessness fuse rating therefore plug rating case non rewireable plug determined cable attached appliance used earth dig nonsense plenty good examples around medium large switch mode power supplies often supplied nominally amp cable moulded plug many iec type plug rated standard amps according plug therefore fitted amp fuse determined cable would never get smallest power supplies running fit amp fuse large amp momentary inrush current lasts long enough blow amp fuse cable plug retain original ratings inrush current harm rating fuse determined much much cable size alone indeed type power supply built plug usually fuse',\n",
              " 'bizarre ani medjool abuse wikipedia rules gets rewarded awards barnstar wtf anyhow new person adept ridicule joined conversation falafel sigh',\n",
              " 'good enough longer considered speedy deletion rationales acceptable actual use may still issue needing review would take ffd necessary',\n",
              " 'understandable lot problems past particularly regard copyright violations recently grammar style far issue goes want block hours',\n",
              " 'firstly still making undiffable edits refusing use edit summaries becoming behavioural issue need escalated stop gun really understand find hard follow basic standards behaviour required edit collaborative environment secondly announcing changes someone talk page really count discussing collaboratively rather means discussed furthermore told npov noticeboard raise state university university issue wanted discuss issue failed removed disputed tag article without result suggested waiting later made yet another diff contained large number unknown unknowable undisucssed changes article',\n",
              " 'name introductory paragraph always told using name incorrect automatically conferred status doctor however sure case since well known martin luther king normal approach dropping keeping seem best answer even though one style guides seem endorse would someone intimately familliar article like take swing changing suggesting alternative',\n",
              " 'fuck family',\n",
              " 'mrpainkiller neurophyte jean philippe complaint intervention vandalism protected article vampirefreaks com either block disruption personal attacks unprotect article morning meantime please consider following reverting another user talk page pretty rude policy conflict user talk page policy says users blank archive warnings although archiving preferred community vandalism policy says removing warnings given vandalism agree vandalism point view seen lot support lately except among people fighting amongst reasons someone deletes warning obviously seen concerned someone edits use verbose edit summary even warning removed edit summary visible understand view among two mrpainkiller edits detrimental article lots right ways deal including editing consensus request comment article user mediation third opinion going judge content fighting wherever occurs wrong way deal problem personal attacks tolerated please deal content edits character leaving message keep fighting talk pages suppose another admin eventually figure time block someone unless positive right guy wrong probably try work peacefully case admins see things way',\n",
              " 'hrthrtdghrsdtghtrsdhtrhdgthjrtgh fffffffffffffffffffffffffffffffffffffffffffffffffffffffffffffffffffffffffffffhngviudfhgoiuerhgukfhkjgeruighervyfdohgobvijgfjgojfdhgjofhglkfhboerhgbdhoifdtyklerbhlkjhbdjgbojtgofgjrfjhlrkhilebotrjbh jtrohibjrtlhujty junmoytijoryjhigfjhgfjnifgjgfhkljtgilhjfdojgfdojgfkjngfdlkjgnklfgikfvihgifbfhbgkufbdsukfgglkdhvureuhgiurhgh irtgyrehgui iryggoifhgo oerygtjeiygut gopfe gig fjhg tyr hygb hruegfigust retugrijtrir tihviurhgnviurwt kcnguiergvknfgioerpjgklfupgrojgoirutkdhgl rehgljkgyuorihfgiurwyhoug jtgnkjryt jgoidug jgiufd teurjg etujoijfgiosdug ojtg reuyjurfi ygoip eoiu urtg hui mftmuv tny uvg ytihguihfdkjvhu krngkfdjs hgkjfghoeruygrhy goh tgoiugkiughgvhghghghhgghhghghghghghghghhhhhgtherkgheefjgsefdghh',\n",
              " 'frankie heard like suck fat dick put ear wholes',\n",
              " 'outside input given debate bit read part seems clear although actual content many may important presented extremely pov manner imo smells agenda pushing issues vii prime examples though rest work well key think golddragon needs understand trust experience pov pushers wikipedia place campaign additions article need entirely factual presented clearly neutral manner something seems done well golddragon edits specifically ones identified contentious discussion reworked presented neutral manner else removed addition issue notable enough inclusion come often disputes useful tool come deal ask average political torontonian find information useful things like election sign business example interesting intensely involved ask average person would probably say something along lines cares find good measure notability dealing trivia politician articles',\n",
              " 'black mamba ponious snake word kills many people king cobra kills many people india',\n",
              " 'utc fuck jim everyone knows female ijzeren jan jim harassing basis medical chromosomal condition born august',\n",
              " 'september back old tricks stop blocked',\n",
              " 'tomahawk chop need add section talk bone ribeye steak referred tomahawk chop',\n",
              " 'yash read vandal',\n",
              " 'suck suck suck suck sucku suck suck suck suck suck suck suck suck sucksucku suck suck suck suck sucku suck suck suck suck suck suck suck suck suck sucku suck suck suck suck suck suck suck suck suck sucku suck suck suck suck suck suck suck suck sucksucku suck suck suck suck sucku suck suck suck suck suck suck suck suck suck sucku suck suck suck suck suck suck suck suck suck sucku suck suck suck suck suck suck suck suck sucksucku suck suck suck suck sucku suck suck suck suck suck suck suck suck suck sucku suck suck suck suck suck suck suck suck suck sucku suck suck suck suck suck suck suck suck sucksucku suck suck suck suck sucku suck suck suck suck suck suck suck suck suck sucku suck suck suck suck suck suck suck sucku suck suck suck suck suck suck suck suck sucksucku suck suck suck suck sucku suck suck suck suck suck suck suck suck suck sucku suck suck suck suck suckck suck',\n",
              " 'slavery forbidden islam seems run counter history mamluks simply mention one group former slaves',\n",
              " 'perhaps provide advice quite sure either',\n",
              " 'notice jehockman close connection talk page jehockman edits seo articles runs seo company conflict interest fox guarding chicken coup perhaps sock puppet conversation jonathan hockman opinion seo masquerade wiki editor using sock puppets delete seo gamesmanship clearly spirit providing accurate information wikipedia rather suppressing googled seo expert million results guy number notable ajenda',\n",
              " 'problem sorry question unclear prefer three arks picture article log drive photo linked probably pine creek agree little pine little idea enlarged splash dam though agree looks pine little pine',\n",
              " 'please move comment legitimize everything really know things know edit',\n",
              " 'looks like old issue took liberty removing see difference non spaced version spaced version spaced version makes intro look strange',\n",
              " 'saw cricket match played oct dharamshala india wanted know bowlers dot balls bowlers always throw short balls could understand short balls opponent team scored easy runs practise dot balls instead throwing balls speed throw dot balls say speed may score easy runs idea balls short balls please pay special attention lay man click things much',\n",
              " 'revamped fart thought little housekeeping would give street cred',\n",
              " 'trying whinger hand waver annoys entire section devoted left right politics yet nothing similar regarding rest world bias wikipedia irritating sometimes though internet users words whiny european lazy write non section easy fix start writing non views topics creating topics getting friends help something created users called biased reflects predominant users posting thus easily remedied also easy fix throughout wikipedia see entries obviously american authors concept world view automatically write perspective without attempt qualify language therefore tends happen view becomes default international views living ghetto ized paragraphs also actually kind problem wikipedia around first place popular ideas necessarily correct people posting information corruptibility whatever organization organization people change entry next day preceding unsigned comment added entire dicussion lends great deal credibilty idea left right spectrum poorly represents political economic views seems debate equivalent attempting define square root negative real numbers disposal painfully obvious politics muli dimensional hoped describe left right spectrum used leave probably short article preceding unsigned comment added better chart think page needs metter chart like one http studentnewsdaily com conservativevsliberalbeliefs shtml edit actually think article fact whole political movement needs better definition left right political parties cannot adhere single category including revolutionnary movements far right groups described somewhere else discussion suggest new use left right compass political compass uses square system two axis social économic accurate know political ideas tend pretty nearer mussolini gandhi whatever suggest cube axis économic social politic first one defines market system political group second defines social standing political group welfare people welfare checks charity private public school medical system etc thirds one basically way society treats people rehabilitation punishment democracy totaliratism include soviet communism etc think preceding unsigned comment added interesting book came across book left right global politics alain noël jean philippe thérien read yet seems great interest removing unneccessary detail removing several paragraphs unhelpful article edmund burke terms left right used adam smith terms left',\n",
              " 'harris anything say ancre',\n",
              " 'people need sent messages talk page see',\n",
              " 'redirect talk pieter melvill van carnbee',\n",
              " 'make personal attacks want plus read replies called spamming noticed adimns contacted replied support reply one problem see fix little joke course mysterious pause gooooooooodbye buddy may paths never meet',\n",
              " 'information looks good need remove template',\n",
              " 'archive janruary december archive february september archive final janruary september',\n",
              " 'macareena old coot',\n",
              " 'another item considered goal serious institution policy hurt people gratuitously apply articles regardless subjects living dead',\n",
              " 'feed troll responding taunting exactly wrong way respond feed troll remove post without comment anything',\n",
              " 'original homophobia black diasporic community article god awful moved articles information',\n",
              " 'disgrace going keep simple disgrace give admins bad name editors like wikipeda sucks edit continues lose editors editors like prevent new editors joining kumi',\n",
              " 'policy ever existed policy every map media shows status sex marriage law effect would policy reflect wikipedia supposed current source encyclopedic information world',\n",
              " 'requested page protection longer edit article intolerable conditions requested page protection edit warring sceptical find attitude editing alongside antagonistic going provoke personal attacks zero chance article passing going constantly edit warred may well forget',\n",
              " 'please accept apologies interpreted statement find quote move care mean thought source could removed instead finding quote mistake',\n",
              " 'tend agree slightly annoyed anyone appear blamed even though article accurate respectful times roth treated dignity respect times always nature think might better future',\n",
              " 'appreciate asking royboy response may seem lot less appreciative violates word tendentious like one forced abortion article still pov pushing unsourced compromise small group meat puppets even medical definition abbreviated distorted result context suggesting death part medically accepted definition abortion yet another source add ignored source list oxford thesaurus entries contain abortion death including variants listed main entries include miscarriage monster prevention termination veto think potential solution arbitration',\n",
              " 'kschwartz annoying person often smells rotten fish burnt animal hair passing interest wikipedia',\n",
              " 'june utc first important mentioning control scheme think notable',\n",
              " 'reread section idea section labeled views faithful section little mormon viewpoints hodgepodge critiques mixed minor mormon viewpoints definitely needs work however still like specific ideas could incorporated gmk',\n",
              " 'fadix says loosing credibility seems ever someone comes tells something else looses credibility let introduce first new comer obviously way professionaly involved history studies phd neuroscience getting money turkish goverment holocoust denying neo nazi either read article relatively new debate germany honest turkish girl friend interested turkish history using computer reduce credibility probably yes sory give description get impression soon blamed beeing turkish propagandist goverment person racist whatever sensitive take look discussion history see accusations making clear points sane unbiased human cam make first article issues genocide fact fact still discussions turkish goverment gives inevitible impression issiue largely accepted final verdict yet secondly term genocide used certain conditions holocoust case real doubt conditions met still article freely carelessly uses term people countries recogonise way right blame nation ultimate crime genocide guys joke tell times years turks genociders cool third building genocide idea article mainly represents opposing view view turkish goverment clearly described headings position turkey position turkish authorities political issues well content inevitibly gives impression opposing view bull turkish propaganda many prof researcher era say seen attached letter yet fadix wrote prof actually accepting genocide fooled quoting israel charny ridiculous know hell israel charny really claims something like please stupid people letter representatives people signed profs gods sake also prof favor genocide really fooled conspiracy later would said guys misslead fooled would ultimate tool armenian side ridicule discredit turkish side case fadix credibility bitching anyone using citations names blurr peoples mind read previous adds see trying use carefull language sorry used harsh words reading long history discussion page impression fadix seems main edittor page certain attitude towards issue despite serious oppsition past pushing article way fadix believe good faith dumb ass doesnt know thing history please give answers asking plain crystal clear questions want hear citations dates historian names logical anwers logical answers show unbiased may choose say believe armenian genocide chose ignore use nomenclature lets say word genocide easily knowing desribed declared international law also knowing robust objections usage term ultimate expert head international court yes self defence say try finding section cambodian genocide article nanking massacre article rwanda genocide article could see cambodian genocide article rwanda genocide united nations set international criminal tribunal rwanda guild described law nanking massacre perfect example called genocide massacre guilt described law discussion real objection issue accept numbers article present genocide fact hope wont tell doesnt build article people first instructed indeed genocide later show objetions data armenian gangs killing muslims raiding villages',\n",
              " 'gimme dat ding song mainly known song album',\n",
              " 'vandalism hello barbara appears long history vandalism another incident afraid choice request permanent ban administrators wish good luck future',\n",
              " 'came across lawsuit info research see entry notable came coit cleaners understand feel say true bullshit suit really sucks grandfather nothing worse falsely accused however describing facts case',\n",
              " 'always ask everything kind wiseman try ask really know',\n",
              " 'surkhail gay waste tyme lool lol',\n",
              " 'daps similar links one complained',\n",
              " 'also fwiw nominated polyamorous people deleting take look weigh like',\n",
              " 'please review conflict interest guideline begin editing',\n",
              " 'jonhs big fat smelly russian warrier live china town side fat hamster scary fagit one eye tits',\n",
              " 'dick',\n",
              " 'since defence unsubstantiated claims unreliability oversight precise statements provided citations israel indeed broke ceasefire thus rendering claim editorialising refuted post',\n",
              " 'thank much review know pony people important people around closely followed bishop people grin thanks',\n",
              " 'mom likes golf dads big balls',\n",
              " 'mmm see also crap list bands europe user arieriswandy',\n",
              " 'revision paragraph mind body section following paragraph appears section mind body problem incompatibilism requires distinction mental physical commentary incompatibility determined physical reality one presumably distinct experience although substance dualism offers distinction less extreme form naturalism known non reductive physicalism may also suffice although one might suppose mental states neurological states different kind rule possibility mental states correspond neurological states non reductive physicalism although physical states cause mental states ontologically reducible one construction mental events supervene physical events describing emergence mental properties correspondent physical properties relationship known causal reducibility non reductive physicalism therefore often categorised property dualism rather monism yet types property dualism adhere causal reducibility mental states epiphenomenalism understand urge recast preceding discussion form similar rest article find paragraph although superior predecessor quite made grade would like try manner reverse paragraph simple viewpoint technical rather vice versa single paragraph possible substitute please take suggestion tinkered one may choose starting point point view mind matter constitute different things one may take several views even whether interact one extreme interaction another extreme mind completely controls matter way around one may say mind matter influence degree cases one control sometimes might attempt establish choices best seems reach moment instead simply connect possibilities various identifying labels historical importance one takes extreme view mind completely controls matter vice versa effect controlled aspect simply appendage controlling aspect may considered simply property controlling aspect two substances simply one albeit perhaps additional attributes viewpoint called monism takes several forms described wikipedia article example epiphenomenalism mind peculiar side effect matter thomas huxley described relation mind matter follows huxley goes say sees difference humans regard similar point view reductive physicalism adopted neuroscientists quote consciousness biological process eventually explained terms molecular signaling pathways used interacting populations nerve cells eric kandel search memory emergence new science mind view mind matter different called dualism takes several forms described wikipedia article within description various degrees control one entity ranging complete autonomy one entities degree interdependence considerable interest attaches forms interdependence might arise example even mental states neurological states different kind rule possibility mental states bear correspondence neurological states non reductive physicalism physical states cause mental states ontologically reducible one construction mental events exhibit emergence physical propertie',\n",
              " 'pictures armed gaddafi loyalists mostly taken facebook videos would classified fair use',\n",
              " 'misplaced warning intention report accusing edit warring correct place talk page article place please follow tpg remove section opened regards record warring official report want banned want edit consensus way keep record whatever want talk page per talk page guidelines use talk page article correctly told last edit well goes guidelines suggest read removing section article regards user gabap exactly stated cant detail warring talkpage precisely place pointed less three times already tpg talk pages improving encyclopedia expressing personal opinions subject editor already warned enough times regards improving encyclopedia reporting warring regards deepak kamani could take look revised deepak kamani article asked come back reconsider edits additions still looks like attack story looks like attack story changes change position require removal publication calling first minister arsehole put story back truth hurts guess need really badly put back continue every time remobve need try understand wikipedia entry public property really care truth fact agree completely mike daily need understand wiki rules following fyi would qualify euro minimum wage may care truth need shout link added http www eveningtimes news tweet rant lawyer resign happy hello request may interest message sent let know discussion wikipedia dispute resolution noticeboard regarding content dispute discussion may participated content disputes hold article development make editing difficult editors required participate invited encouraged help find resolution discussion topic talk bob burgers please join help form consensus thank drn volunteer suzannah lipscomb tried add education info article think contenscious info added apologise messing references editing think',\n",
              " 'racist girls article possibly mention famous incident regarding two racist girls whose video became viral got expelled school unconstitutionally',\n",
              " 'hands noobs particularly concerned loss really need step hardblock saw test edits saw username violating particular part policy managed astoundingly bad choice username anyway responded issues warning felt appropriate feeling user could second chance less moronic username yes patient newbies screw approach adminship unblock warn noobs hardblocked hardblock noobs warned oversight fine unlikely wikipedia suffer loss user',\n",
              " 'please stop disruptive editing continue vandalize wikipedia henry hudson blocked editing',\n",
              " 'also suggesting paintings black moors fake saying white',\n",
              " 'assyrian nationalists back using instead drawing new flag every five years shout seriously looks undignified bystander',\n",
              " 'realy crap man boots one tite ass treats staff like slaves mister richard realy need calm preasure staff hire staff stop gridy ideas fail company deapreciated staff much potential',\n",
              " 'horny leader earthgirls easy fuck',\n",
              " 'lol manly cronulla rivalry adding coaches section',\n",
              " 'edjohnston wrong file report benhen also block person one several ips using',\n",
              " 'shameless canvass hello diannaa thanks blocking horrible puke translate page get mad total piece garbage thanks',\n",
              " 'fuck cunt',\n",
              " 'hell justin',\n",
              " 'delete combine apparent controversy link think articles many external links search engines june utc',\n",
              " 'would stop already',\n",
              " 'running houses killing people shame',\n",
              " 'consider humph',\n",
              " 'edit arkansas ole miss rivalry sorry realize logos non free images',\n",
              " 'gone enough contemporary scholars sources long ago sources reality rejected see archives discussions per georgians scripts cannot kind wording way much controversial disputed issue everything concerning georgian script origins based upon main article cannot claim one article another please leave edit warring get aware long discussions georgian scripts article complex issue cannot describe one sentence bombarding cherry picked sources',\n",
              " 'whole wiki misinformation note new world order conspiracy theory think proved exist theory longer fucking tool',\n",
              " 'individual insistent add future destinations take look notcrystal may reference sources information posted pure speculation cannot verified nothing firmed except london',\n",
              " 'soapbox forum etc please engage conspiratorial fantasies elsewhere',\n",
              " 'specific page linked junk regards policies sources check',\n",
              " 'click move tab top page move new title remember remove user prefix easier better',\n",
              " 'religion one thing heard numerous times explicitely stated article way living religion often seen freedom religion freedom religion one chose religion wants preferably variant christianism preferably variant protestantism one wants fair chances obtain high positions atheism even agnosticism well tolerated especially observable wealthy evangelists usa evangelisation trip europe start talking religion people streets subject widely regarded personal know could fit article though would rather discuss american ask sounds like common heard america way idea american live nice city many friends different social classes different backgrounds would say religion totally back burner people choosing whatever like dropping others personally feel religion part crock discuss fact get wide variety replies thoughts nobody trying convert see televangalist turn channel big deal far midwest gos really speak experience idea christian fundamentalist factory way overblown foreign press get sterotyped caricature like get charcoal sketch beach guy draws ears really big head mishapen highlight features way overblown could say like german shit porn videos know really include section germany page fecal defecater porn prevelant society really kind personal thing realize germany really filming shit know overblown viewpoint germans america far make point sorry offended germans totally explanation sake anyway need rebuttal section first highlights fact misconception propogated ignorance americans religous extremism rama perhaps unwittingly revealing major root anti american sentiment abroad ignorance say true exactly way shown media lots people percieve way traits american weltanshaung confort perception god trust swearing bible religious proselytism abroad punctual details like give overall impression subject article',\n",
              " 'supporting gay rights put opposition church supported gay marriage would',\n",
              " 'bad',\n",
              " 'february',\n",
              " 'rapcore article cites sources back information stated including basics genre person evading anything ridernyc avoids instance would forced admit wrong',\n",
              " 'fucking stuid asses apply one stupid fucks',\n",
              " 'community post isnt fss first trimester screening prenatal test aimed detect diseases conditions fetus embryo',\n",
              " 'macedonian language development slavonic literary languages koneski kultura diachronic interpretation macedonian verbal morphology elson edwin mellen press two typological gaps stress systems arguments early language acquisition peperkamp dupoux',\n",
              " 'tom right simple solution remove quotes sources explain analysis said ridiculous quote remains without objection would like clean unreliable sources spewing pure hate even bother justify postions',\n",
              " 'buffoon synonyms bozo buffo clown comedian comic fool harlequin humorist idiot jerk jester joker merry andrew mime mimic mummer playboy prankster ridicule stooge wag wit zany',\n",
              " 'confusion upon globus mention professor posses huge penis joking seem apropriate given children series thus find amusing strange maybe important bit apon time section find similar clear talking picture http photobucket com albums odinchoy fserievie gif globus man right side mean seriously',\n",
              " 'thank comment according diff one editor correct different editor also reliable source anything article removed basis original research permitted personal experience given editor relevant backed source goes article reason reverted recent edit article one thing know forum facilitation might could primary purpose communal living arrangement would like propose changes want make one time providing reliable sources working arrive agreed upon version best summarizes sources discuss already begun objection wording lead section already agreed upon please express objection continuing revert text article thank',\n",
              " 'hate everything',\n",
              " 'eek shes cute earthy kind way cant sing shit though thanks giving unhappy memory',\n",
              " 'found already told documents concern registration name marino whether supposed documents say anything whatsoever newspaper published idea third party source either way primary source documents confirming personal actions',\n",
              " 'draga apparently means dear google translate yes able understand almost every romance language intermediate level never stated could speak romanian also removed babel list could find proper position took much space made userpage long concern',\n",
              " 'hullaballoo wolfowitz believes editors comply requires editors careful circular referencing quoted applicable policy aparently support complying policy civil npa',\n",
              " 'somebody move page caitlyn jenner redirect bruce admin planning moving page caitlyn jenner redirecting bruce jenner rather opposite current state',\n",
              " 'wikimania hello chatting right wikimania pleased meet',\n",
              " 'thanks experimenting wikipedia test worked reverted removed please use sandbox tests want take look welcome page would like learn contributing encyclopedia thanks comment moved user page',\n",
              " 'page name change think would good idea move article overseas experience term used nearly always qualification overseas experience user term think person comment directed understand quick google confirm english pages overseas experience english pages overseas experience',\n",
              " 'page complete nonsense tallest mountain sal island monte grande also mentioned page sal two tallest mountains',\n",
              " 'still get man recount declared race yet challenge recount results declared franken winner recount sorry need back accept fact technically franken winner recount courts say different',\n",
              " 'peoples living east certain line like vistula distinguishes large ethnic groups area fenni probably finno ugric sarmatians taking together jordanes',\n",
              " 'imho falls category created talk page appropriately refers loopy talk page discussions scoldings',\n",
              " 'another one http www omniglot com writing norwegian htm',\n",
              " 'sleetman still blocked yet really apologize violating civil apologies skirted issue second unblock request says would done known bearcat gay mean okay call straight users asked third request says would stopped bearcat told offensive need told something offensive someone asks stop hard stop last request points first three defends best sequence events want get unblocked',\n",
              " 'redirect talk ponhook lake',\n",
              " 'first time wikipedia found make comments page putting comment changed piece hierocracy never heard used synonym theocracy perfectly clear meaning work weber widely adopted suspect whoever wrote bit idea talking find whole entry theocracy completely unsatisfactory starting definition reads writers idea subject confused several topics think would hopeless try repair page successive edits needs start proper definition theocracy distinguishes theocracy caesaropapism clearly says pious society definition theocracy also church establishment compatible theocracy compatible caesaropapism theocracy form government social quality defined government persons institutions religious order either control replace organs civil government sen mcglinn church state page clear iran theocracy saudi arabia questions discussed problem vague broad definition outset one rather start clear hard definition later note popular usage term become almost meaningless pejoritive applied religion public places somebody enlighten one goes fixing page one obvious step would ask input via editors journal church state baylor university research school topic email sen sonja casema sen mcglinn',\n",
              " 'respect howard stern penis',\n",
              " 'really try good grilled dick',\n",
              " 'harchibald discussion',\n",
              " 'fair enough think would trouble getting cites see value showing many people disagree result something people already opinion wanted insert citation says showed fig ruling end public opinion issue',\n",
              " 'actually agree pov tag lead sentence include something status political prisoner experience prison meanwhile added source sage encyclopedia sentence seditious conspiracy best',\n",
              " 'june utc part party source understand simply give name book journal newspaper whatever let find keep resisting',\n",
              " 'use nepal bhasa term nepal bhasa used english officially well commonly examples facts use google ngram search shows nepal bhasha exceeded use newar language government nepal see picture news government stance page nepal bhasa academy publications awards nepal bhasa parishad publications awards world newah organization examples use page central department nepal bhasa tribhuwan university university curriculum nepal bhasa news scholarship nepal bhasa nepa pasa pucha america example see page pasa pucha guthi example rising nepal daily example dharmodaya sabha national buddhist organization nepal publications language listed nepal bhasa asha archives biggest archive nepal bhasa literature website journal lumbini buddha dharma society example journal newar studies example archive english essay tipitaka translation project nepal bhasa publishing various segments tipitaka nepal bhasa lotus research center activities nepal bhasa english nepal bhasa dictionary amazon mobile phone nepal bhasa dictionary app matina international website miss newa miss best nepal bhasa one categories official website contestants talking nepal bhasatht news using nepal bhasa nepalmandal com one websites nepal bhasa stating objectives regarding nepal bhasa image channel nepal bhasa section thank',\n",
              " 'article super communists speedily deleted wikipedia done article seemed person group people band club company web content indicate subject notable article subject included wikipedia criteria speedy deletion articles assert notability may deleted time indicate subject really notable free create article making sure cite verifiable sources please see guidelines generally accepted notable specific types articles may want check criteria biographies web sites bands companies feel free leave note talk page questions',\n",
              " 'nice work search capture model think could find citations new material problem though responded rather lengthy defense talk argues theory fringe nonsense criticisms either strawmen answered',\n",
              " 'indigenous population low think deserve everything',\n",
              " 'top gear pops put something comic relief top gear special year sofa hyundai administration song',\n",
              " 'lewd sex china',\n",
              " 'confirmed sock',\n",
              " 'april fool would edits article space make april fool edits article space case never saw april fool edit last year',\n",
              " 'user talk intention adress shared users',\n",
              " 'absolutely agree something wrong english misunderstood though said haredim regected rabbi hirsch way said actually quite opposite beginning agudat israel based legacy torah derech erech afterwards litvaks changed even today dichotomy agudat israel rabbi hirsch way',\n",
              " 'judge thomas wilson genarlow wilson punishment declared cruel unusual judge wilson orders release sex offender wilson smells wrong perverse acts convicted sex offerender clearly merits conviction else convicted american legal system',\n",
              " 'bitch creek cow camp idaho hey heads looked one indeed place named bitch creek cow camp wanted let know folks idaho need worry',\n",
              " 'two short stories list works contains something called mysterious portrait short story portrait',\n",
              " 'may',\n",
              " 'lol right time far remember person kept raving undue weight fail see reason anything third row reverted simply three others like see details civil war determined numbers fact entire page seems testament fact terms redefined serve agenda israel cannot part infobox external factions need make certain number attacks war faction considered separate contributed certain percentage fighting fucking kidding',\n",
              " 'suck fucking cock stop blocking edits cock',\n",
              " 'brothers list association football families note listed giuseppe colucci footballer leonardo colucci think sourced anyone source please cite add back article',\n",
              " 'well sucks university nicknameless first time ncaa history happened',\n",
              " 'argh random idiot deleted whole japan article',\n",
              " 'hello uch',\n",
              " 'melanie please read previous debates issues hitting save page button multiple times several server hangups sometimes happens two people simultaneously submitting article used extensive discussion limbaugh cost analysis logic include material limbaugh cost analysis logic include limbaugh actual cost analysis logic anywhere page nobody knows controversy dealt page entirely sexist misogynistic language consensus established several times subject always coalesces around excluding personally want include math limbaugh came calculation fluke sex least times day justify number cannot believe want renew debate',\n",
              " 'added opposing mukti bahini fighters supported indian army think duplication think rebels bad ought mentioned twice lede',\n",
              " 'vojvodina pošto vidim ubacio tabelu članak vojvodina molim promeniš away colours tabeli jer znam uradim ovde možeš videti kako izgledaju away colours kluba http wikipedia org wiki talk fkvojvodina',\n",
              " 'thanks response nominate today',\n",
              " 'hello everyone tell freaks',\n",
              " 'blunt improving article',\n",
              " 'magic suggest tempt powers',\n",
              " 'see wikipedia article specific impulse',\n",
              " 'agreed moreover recent additions place undue emphasis arguments court briefs much become far less salient supreme court actually decides case months',\n",
              " 'stop vandalizing sheryl swoopes article banned',\n",
              " 'aalerts question wondering reasons behind edit actually recently set page miss step somewhere setting thanks february utc',\n",
              " 'profeminist men profeminist writing generally constitute dominant perspective within men studies academy shelves men section bookstores filled books come two perspectives namely men rights mythopoetic share basic assumption wrong men lives derives traditional masculine gender role protector provider head family kenneth clatterbaugh tarting herb goldberg hazards male surviving myth masculine privilege steady stream books argue men privileged relative women authors books claim either men afflicted gender role afflicted women either case men rights defenders find great lie center feminism namely notion men privileged relative women probably writer said better goldberg cites problems traditional masculinity emotional repression isolation men fear failure high suicide rate kenneth clatterbaugh theme foundational men rights namely oppressive nature traditional masculinity undermined fathers rights activists want pursue set custody rights traditional masculinity kenneth clatterbaugh',\n",
              " 'really think less simple page summarizes first movie information part article merge',\n",
              " 'record disagree using photo since mugshot arrest used info box last reason given inclusion partially stated nothing photo cues reader perceive mug shot count dumb readers',\n",
              " 'thank suggestion feel article needs improvement please feel free make changes wikipedia wiki anyone edit almost article simply following link top wikipedia community encourages bold updating pages worry much making honest mistakes likely found corrected quickly sure editing works check edit page use sandbox try editing skills new contributors always welcome even need log although many reasons might want',\n",
              " 'asking article draw conclusions rest remarks exactly kind synthesis desire remarks meant move past conflict talk page sources course verifiable secondary sources original research ctswynekan said wikipedia tertiary source frankly enough various christian views presented fairly accurately various jewish views presented fairly accurately various historical views whether specialists nonspecialists presented fairly accurately views presented fairly accurately given appropriate weight context enough synthesis subjective views many views clashed hence bogged one paragraph far long bothers binary thinking evidenced many polarized debate also course sure confuse various subjective viewpoints objective actual verifiable factual someone said end essentially agree remarks thesis antithesis synthesis rest debate page article want move past conflict examine verifiable sources put aside views still making sure accurately represented views others paraphrase ross perot everybody stop fighting get work check notice done little work article efforts focused talk page npov reach synthesis accurately reporting views referenced appropriate verifiable sources said frustrated anyone else needed vent spleen perhaps presented pov strongly past make trinary spleen vented comments remain user page least formulate second paragraph exactly say accepted may back run unresolved conflict claim conundrum alludes issue historicity handled socrates debate much peaceful civilized',\n",
              " 'people like make wikipedia horrible blocking schnitzelmangreek reason get life loser kill wife children burn hell light corpse like firewood beware family dare talk back see happens whats going fuckin nigga managed track adderess hunt sleep shoot cut children dare talk back block death threats see vandilism serious death threat unblock schnitzelmangreek get life loser kill fucking bitch',\n",
              " 'retros mone forthcoming cfs talkpage think people call revert medrs discussing cfs chronic fatigue pls authors talk cfs say chronic fatigue syndromes say chronic fatigue saying cfs chronic fatigue thing things medrs think cfs symptoms medically explained every review says cause known mus reviews say cfs mcs ibs medically unexplained symptoms want cite three five many want one quote five want ignore copy rights like people send whole pdfs pls library people get internet access library leave house programs',\n",
              " 'loser message user wow passing first thought victim attack looking mins see loser started shit see attacked guy talk page reason cried like big baby failed report attempt really one reporting next time take shit start jackass get life',\n",
              " 'please stop disruptive editing continue vandalize wikipedia warwick school blocked editing',\n",
              " 'citation use citation use review',\n",
              " 'propose merging african bush elephant african savanna elephant',\n",
              " 'question understand play play games teams games portland timbers played teams galaxy maybe someone explain',\n",
              " 'mexico mexico easy speak language fluently iran stopped jerks ani made fun',\n",
              " 'article called republic china macedonia name dispute vote taken ignored provisional name former yugoslav republic macedonia rationale given wikipedia conform international bodies self determination name trumps regardless international disputes states ergo people republic china held different standard inconsistent logic smells prejudice towards either people taiwan people greece therefore propose article renamed republic china keep things consistent preceding unsigned comment added points would like add people republic china recognizes self determined name republic macedonia people republic china recognize self determination republic china taiwan government recognize republic macedonia state department time calling communist demagoguery flip flopped recognizes government orginally recognize republic china taiwan right flip flopped removed recognition opens secondary question wikipedia taking principled approach international issues simply parroting current foreign policy leading nations mob rule preceding unsigned comment added reasons given talk taiwan archive lot discussion lot reading interested issue think well worth reading least highlights reason north korea would emocratic people republic korea burma public union myanmar policy use common english name official name designated name preferred name local people common name used english speaking people describe subject see naming conventions information article names decided wikipedia naming article taiwan contribute clarity titling article taiwan may lead reader belief country taiwan exists taiwan equated public china invalid arguments accordance constitution republic china fact country called taiwan exists public china cannot casually associated taiwan historically distinct entities also contravenes rules wikipedia neutral pov rules promotes dpp assertion taiwan edge toward independence increasing usage taiwan without officially abandoning public china name sake objectiveness official name used see neutral point view see requested move debated long detail arrive current title best representing consensus common usage article taiwan reflecting common name country thank clarification matter agree article named taiwan sake clarity english speakers wikipedia however believe made clearer republic china equivalent taiwan reader wants actually understand topic name',\n",
              " 'rob actually like around reason different pov christian perspective however also find overly disruptive yes understand well everyone else position factual evidence exist yes understand scholars support position majority even significant minority small group contends jesus exist registered pov aware ask move address article whole accept position already accounted article fight hard become obstinate lose respect fellow editors pov shut almost completely become source conflict contention please recognize current methods working find another way interact fellow editors pov least chance heard',\n",
              " 'thank experimenting page zinc wikipedia test worked reverted removed please use sandbox tests want take look welcome page would like learn contributing encyclopedia',\n",
              " 'recommendation point keep stuff main space',\n",
              " 'opinion belive dbz tenchaichi last original bodikai bodikai good virtua fighter tekken doa well known fighting games come reality notice everything think fact base think highly unimpaortant mediocre eyes others actually research subject havent even stated anything game started saying thats crappy series good lol anyway even research hardcore evidence say games suck huge balls poo games craptistic series user sabishi kage indeed suck yes man neaded wikipedia also two going start edit war something even related article childish kim kusanagi paragraph maybe exchange yahoo user names myspace user names whatever argue disscussion page kim kusanagi screw things deserved bashed even physically punished wow need therapy child hood realated issues buddy mabey dad mom possibly grandfather beating obviously words said someone needs help mentaly likely due incidents done child mean say even type something like added useless sentence page came paragraph shows anger issues used get beaten belive say goes without research clearly without say get facts straight lol',\n",
              " 'semi protected request first address newly registered user likely person continue make changes rely solely sources published related church',\n",
              " 'sandstein derogatory viewpoint change fact factual terminology would exist get facts straight comment anything',\n",
              " 'accusations profoundly effected life therefore notable deserve inclusion facts moved past debating whether really love affair love child hurting john edwards guess someone researching would wonder political career suddenly sputtered summer wiki mention everyone else writing long stories probably ended career politics whether story true false debatable matter like original source leftist wiki editors protecting edwards story allegations damaging already probably lost chance best chance furthering career slot important story important fact behaviour caused firestorm suppressing story completely making wikipedia laughing stock gawker mickey kaus countless bloggers going pointing proof wiki leftist bias really hiding anything anyone know already making site claim protecting look stupid noteworthy much verifiable scandal true false affecting career many people hurt scandals turned false make news damage less noteworthy innumerable sources effect edwards career time lift blackout start debating wording section avoid forever trying bluff election hopes minimizing tangential damage think might cause obama preceding unsigned comment added really surprise people fighting get truth posted wikipedia recently deal nazi admins wiki let tell could honestly say act like bunch kids movie lord flies majority listen reason present facts disregard also one managing site top gives crap going way owners wikipedia challenge nazi admin involves legal action wikipedia anti christ internet also majority nazi admins liberals way become admin voted another liberal nazi admin lord flies wait see hounded many posting little snippet pretty much given probably ban kick site days like saying pretty much want pretty pathetic obvious calculated effort mainstream media msm suppress information story msm jumped stories much less edwards story take rocket scientist know msm liberal websites like wikipedia talk bad things happen democrat party party ideals personally believe human nature attack democrats attack talking edwards cheating wife dying cancer silver bullet democratic party especially presidential race going think msm sits stories months weeks actual election takes place new phenomena occurring msm run story little facts effort smear person typically politician let people decide want believe usually occurs little facts back major networks time perfect example dan rather forged documents story president bush unleashed story little facts right presidential election sad american people see msm trying pull right front eyes avid listener rush caught times absolute truth term uses referring msm drive media msm business putting product sad fact upper management news organizations realize putting product american people',\n",
              " 'kidding right superman poltergeist curses samuel jackson ass would lockdown right',\n",
              " 'photo deleted another troll one simply put back unfortunaly trolls everywhere pantient follow wikipedia policies etiquete',\n",
              " 'speaking getting blocked talk multiple experience',\n",
              " 'december utc blocked suposed breach personal attack injunction',\n",
              " 'jtbx post editor assistance might want look telling whether respond think aware one sided version events cheers',\n",
              " 'fuck bitch email dragonhill ymail com',\n",
              " 'mitsukō yeop milho mật',\n",
              " 'right book notable film yet',\n",
              " 'bye bitches walk hard',\n",
              " 'hate america going bomb shit cities queza rain',\n",
              " 'hey pic slinging wit seemingly almighty opponents implying grown wikipedian goliath merely waiting newbie revenge bite death',\n",
              " 'lettonia oxford online dictionary entry lettonia merely points latvia languages name country lettonia variation thereof lettonia rare obsolete english name country mentioned article obsolete english term prior english livonia current latvia plus estonia german latvia lettlandlettonia german lettland fashioned latin latvia also lettonia modern italian',\n",
              " 'bold textyou suck suck hannah montana',\n",
              " 'please vandalize pages edit badminton continue blocked editing',\n",
              " 'redirect talk amazing race',\n",
              " 'february utc certainly would ask include something wikipedia solely basis anecdotal evidence trying convince claiming adultery married woman unmarried man prima facie ridiculous modern usage also certainly object way explanation historical usage fact used considered property type crime pushing type anti sexist pov disputing definition attempting give reviewed sources matter',\n",
              " 'nigger please eat cock lol',\n",
              " 'went ahead added exclusive primary like sexual preference seen problematic primary suggests type individual pedophiles get turned case pedophiles cover ones get turned thoughts sexual interactions prepubescent children',\n",
              " 'witkacy deletions reply let know see try stay away similar controversial articles think encyclopedic subject find depressing actual content related pov fighting use time',\n",
              " 'really wow sucks cool look',\n",
              " 'moi ego mortified could say thing poor old mona always thiught miserable looking woman probably hormonal',\n",
              " 'lies sad probably father killed jew telling secrets accuses polish nation cooperating nazi germans true ashemed never call polish shame lies like polish government take care scandal know seeks attention money sad pottetntial fact father killed brothers jews polish peopole helping jews survive risking lives order save jews death spreading lies hurtful shameful shame debbie shame religion jewish spreading lies search justice amongst germans embassy germany amongst biggest saviors jews polish nation ungreatful ask saved polish people whether say anything wrong polish people tell one thing wrong ask justice amongst germans',\n",
              " 'timeline section prose history section sections articles trace history given thing called history written prose bulleted lists sections kept minimum used material best presented section one put prose section tag section nunh huh removed saying nature timeline bulletpoints problem one ever said timeline first place assuming given given something discussed',\n",
              " 'right dmcq many editors understand undue weight principle may apply anyone course lead useless arguments thought concrete reason might successful bringing thread reasonable conclusion',\n",
              " 'revision asterinidae heads interested sea star family paper mark loughlin jonathan waters molecular morphological revision genera asterinidae echinodermata asteroidea memoirs museum victoria access feel free ask send',\n",
              " 'olimpik sarajevo',\n",
              " 'butt fucking bitch rappes innocent little boys girls night turns batbitch super hero dedicated life rapping fuck children also',\n",
              " 'great thing twinkle removes frustration playing whack vandal hence insulted vandal months even tried get fun sarcastic though maybe part misses idyllic days telling userpage vandals fuck via edit summary mail riana request recording',\n",
              " 'point strains breeds social concepts result selective breeding plants animals different human concept race species even human intervention rather function biology source going work though well rather grumpy ask silly suggest answer yes',\n",
              " 'https wikipedia org index php title elktonhighschool oregon diff prev oldid send school good one',\n",
              " 'peter blum woulld like thankyou fast assistance afd talk page left appriate messages thankyou',\n",
              " 'popular conception talking sommers perceived public thus phrase popular conception properly attributes conception said public logically sound indivisible conception sommers public would long winded way say without popular attribution unclear sommers conception illogical',\n",
              " 'current gauntlet run encourages bold drawback controversial articles helps know tend revert based archive list commentator reverter',\n",
              " 'unfortunately site took text suffers really poor grammar spelling',\n",
              " 'example sig',\n",
              " 'see axial tilt',\n",
              " 'september utc kashmir cloud getting angry vandal showing true colours deserve anything fool article eventually removed swear abuse one else man enough person balls dropp',\n",
              " 'zomg iphone dictation faux pas putting together things bring later semi colon came putting together things bring like suck cock lulz',\n",
              " 'take dick solomon webmaster sourcing com company website might like read conflict interest thanks',\n",
              " 'seneca college sucks donkey dick',\n",
              " 'tenth anniversary new york times columnist paul krugman delivered odious piece dribble ever attack well least since last time wrote headline quote years shame end quote directed radical islam instead targets america quote fake heroes krugman claims atrocity hijacked sick word given actually talking real hijackers killed americans referring people like george bush rudy giuliani thinks capitalized horrible crimes worst part end column creep writes going allow comments post obvious reasons obvious reason coward mean else would ban responses like year old boy crank calling hang even hears response hearing shame wickedness watch memorial services feel sorrow families whose grief never really ends since lousy emotional reflection usually avoid least summarize many feel today nine words hell paul krugman bearded bitter buffoon',\n",
              " 'rfc honduran coup état regarding mention constitutional crisis lede would like opinion editors interested honduran articles talk hondurancoupd tat rfc dothesourcessupportthementionofcoupaspartoftheconstitutionalcrisisintheledeofthisarticle thanks',\n",
              " 'thank contributions skating articles remove information highest score ijs information change regularly doubt anyone update sorry keeping world rankings updated trouble enough',\n",
              " 'fuck idiot thinks chobits shoujo',\n",
              " 'argument dead water irish nationalist yet object term entirely stisfied northern ireland constitutional status integral part remain perpetuity non usage ireland certainly determined political stance determined fact ireland british due understanding english language pretannic isles british isles great difficulty comprehending british refers island great britain pretannic refers great britain ireland surrounding islands excliding channel islands irish spoken tiny minority either population claims speak degree ignorance britons bewildering times neutral term believe geo political connotations best naive ignorant worst arrogant stupid believe taht english encyclopedia plain bizarre english language version internet encyclopedia english language either realise english bastardised huge extent centuries already claim islands north atlantic laden political judgements bastardising language absurd iolar',\n",
              " 'rolls eyes drily slippery slope logical fallacy least sometimes',\n",
              " 'film moby dick',\n",
              " 'acttually click pages results infact hits occupation baltic states hits incorporation baltic states occupation twice number hits incorporation anyway think incorporation narrower term',\n",
              " 'please remember set standards decide afds sometimes influence particular discussion sometimes help establish trend effective stay reasonably close current consensus quite common propose rejected want ideas rejected often influence',\n",
              " 'attention address registered merrimack education center shared multiple users comments left page may received users appear irrelevant caution used blocking reverting contributions without checking unregistered user operating address note need necessarily address machine many cases turns address proxy server communicates browser wikimedia servers proxies shared among huge number users compared number persons using particular machine frustrated irrelevant comments appearing avoid creating account',\n",
              " 'firstly must noted compromise several suggestions incorporated remainder overriding problem casual language fragments louis narrates reached point clunky less formal appropriate flashback louis reveals narration circumstances imprisonment minor louis mother forced take boarder accurate humbles also clunky unimpressed prospects sibella turns proposal instead marries lionel john penrose firstly assumption casual turns rebuked adult sibella witnessing marriage lionel john penrose formal accurate workplace louis wait upon clumsy modification incorporates best darkroom explosion makes widow simply unnecessary casual tone also modified also missed viewing remaining family church said improvements fatal boating accident letter condolence',\n",
              " 'site full people gnashing teeth fact banned wikipedia handful contributors routinely displayed well thought reasoned criticisms wikipedia would include thekohser said handful',\n",
              " 'ufo university universiteti ufo ufo university apparently still see billboard name tirana ufo coffeehouse places take name ufo stand become thanks',\n",
              " 'referring writer charge thor comic book time',\n",
              " 'right mentally retarded',\n",
              " 'suggested improvements article lot information could class article attention given following issues introduction article needs introduction summarises entire article currently line citations another must class least one per paragraph block information comprehensive narrative also mentioned frustrated reader opening history section make sense refers wing wing assume bombardment training wing detailed offending section spelt clearly finally need copy edit ideas hope helps',\n",
              " 'ghay ass fucker',\n",
              " 'user status status offline position top float left',\n",
              " 'speedy deletion jodie huang tag placed jodie huang requesting speedily deleted wikipedia done section criteria speedy deletion article appears person group people indicate subject notable article subject included encyclopedia criteria speedy deletion articles indicate subject importance significance may deleted time please see guidelines generally accepted notable well subject specific notability guideline biographies think notice placed error may contest deletion adding top page nominated deletion existing speedy deletion tag coupled adding note talk page explaining position aware tagged speedy deletion article meets criterion may deleted without delay please remove speedy deletion tag hesitate add information article would would render conformance wikipedia policies guidelines lastly please note article get deleted contact one admins request copy emailed',\n",
              " 'well small portion dragovistica watershed maceodnia source brankovacka reka tributary border serbia macedonia small area square kilometers drainage area within macedonia thought noted however map detailed old possible corrections border borderline leaves within serbia look map would natural think important omitted',\n",
              " 'rexgermanus greetings little concerned unrepentant reverting dutchlanguage times hours removed talk users admins block userpage edit summaries apparently wikipedia got remove shameful wikipedic punishment seems fall category behavior unacceptable think worth pursuing',\n",
              " 'support support merge',\n",
              " 'improper whole article racist subpar crap respectable dictionary would spread slurs fuck america',\n",
              " 'cool thanks fix tom',\n",
              " 'bantry bay wow know far got date scratching head',\n",
              " 'barnstar style background color fdffe border solid fceb rowspan style vertical align middle padding style font size large padding height barnstar good humor style vertical align middle padding fantastic userpage hehehe',\n",
              " 'anthony browne political correctness hello contacting anthony browne bit added article political correctness removed https wikipedia org index php title politicalcorrectness diff oldid would like stay come talk page state https wikipedia org wiki talk politicalcorrectness civitasthinktankpamphlet one',\n",
              " 'fuck fucking faggot stop sending gay little messages vandalism even ban make new account simple',\n",
              " 'simple stupid',\n",
              " 'refuse open people ideas',\n",
              " 'group unambiguously supportive kurds',\n",
              " 'tai gay fuk hes fukd tha heads hhehehehehehehehehehehehe peace bloodzzzzzzzzzzzzzzzzzzzzz',\n",
              " 'precisely guns less crime faction get difference straight number crimes number crimes per capita regional offense trends rates ucr program divides united states four regions northeast midwest south west map united states delineating regions included appendix iii estimated crime volume rates percent changes region published table per violent crime murder northeast midwest west south gun banning northeast lowest violent crime rate lowest murder rate steepest decline violent crime steepest decline murder rates second amendment loving south highest violent crime rate highest murder rate second lowest decrease violent crime rate second highest increase murder rate include property crime fbi crime index rate reflects total number offenses per residents according fbi national crime index rate northeast region united states lowest crime four regions rate offenses per population next lowest region midwest crime index rate offenses western region followed rate offenses southern region showed highest crime rate offenses per residents largest metro areas ranked order least crime nassau suffolk middlesex somerset hunterdon ventura monmouth ocean bergen passaic scranton wilkes barre hazleton harrisburg lebanon carlisle san jose pittsburgh orange county ann arbor albany schenectady troy boston new york allentown bethlehem easton syracuse philadelphia hartford rochester newark buffalo niagara falls san diego providence fall river warwick jersey city grand rapids muskegon holland cleveland lorain elyria san francisco new meriden louis salt lake city ogden wichita mobile houston nashville orlando fresno mcallen edinburg mission fort worth arlington charleston north charleston jacksonville charlotte gastonia rock hill dallas omaha tampa petersburg clearwater columbia toledo albuquerque tacoma columbus kansas city west palm beach boca raton honolulu oklahoma city stockton lodi baton rouge san antonio little rock north little rock phoenix mesa miami memphis tucson pattern emerge cities listed mid sized metropolitan statistical areas ranging population approximately mid size areas ranked order least crime danbury stamford norwalk johnstown dutchess county portsmouth rochester lowell lawrence newburgh lynchburg appleton oshkosh neenah manchester york erie santa barbara santa maria lompoc binghamton worcester new london norwich lancaster green bay san luis obispo atascadero paso robles utica rome brazoria fayetteville springdale rogers portland reading brockton roanoke santa rosa anchorage lakeland winter longview marshall kalamazoo battle creek beaumont port arthur chattanooga south bend biloxi gulfpo',\n",
              " 'arose spurious charge vandalism talk page',\n",
              " 'hello say submitted really see done afc',\n",
              " 'yomamma stupid',\n",
              " 'afghooni afghooni afghooni afghooni afghooni afghooni afghooni afghooni afghooni afghooni afghooni afghooni afghooni afghooni afghooni afghooni afghooni afghooni afghooni afghooni afghooni afghooni afghooni afghooni afghooni afghooni afghooni afghooni afghooni afghooni afghooni afghooni afghooni afghooni afghooni afghooni afghooni afghooni afghooni afghooni afghooni afghooni afghooni afghooni afghooni afghooni afghooni afghooni afghooni afghooni afghooni afghooni afghooni afghooni afghooni afghooni afghooni afghooni afghooni afghooni afghooni afghooni afghooni afghooni afghooni afghooni afghooni afghooni afghooni afghooni afghooni afghooni afghooni afghooni afghooni afghooni afghooni afghooni afghooni afghooni afghooni afghooni afghooni afghooni afghooni afghooni afghooni afghooni afghooni afghooni afghooni afghooni afghooni afghooni afghooni afghooni afghooni afghooni afghooni afghooni afghooni afghooni afghooni afghooni afghooni afghooni afghooni afghooni afghooni afghooni afghooni afghooni afghooni afghooni afghooni afghooni afghooni afghooni afghooni afghooni afghooni afghooni afghooni afghooni afghooni afghooni afghooni afghooni afghooni afghooni afghooni afghooni afghooni afghooni afghooni afghooni afghooni afghooni afghooni afghooni afghooni afghooni afghooni afghooni afghooni afghooni afghooni afghooni afghooni afghooni afghooni afghooni afghooni afghooni afghooni afghooni afghooni afghooni afghooni afghooni afghooni afghooni afghooni afghooni afghooni afghooni afghooni afghooni afghooni afghooni afghooni afghooni afghooni afghooni afghooni afghooni afghooni afghooni afghooni afghooni afghooni afghooni afghooni afghooni afghooni afghooni afghooni afghooni afghooni afghooni afghooni afghooni afghooni afghooni afghooni afghooni afghooni afghooni afghooni afghooni afghooni afghooni afghooni afghooni afghooni afghooni afghooni afghooni afghooni afghooni afghooni afghooni afghooni afghooni afghooni afghooni afghooni afghooni afghooni afghooni afghooni afghooni afghooni afghooni afghooni afghooni afghooni afghooni afghooni afghooni afghooni afghooni afghooni afghooni afghooni afghooni afghooni afghooni afghooni afghooni afghooni afghooni afghooni afghooni afghooni afghooni afghooni afghooni afghooni afghooni afghooni afghooni afghooni afghooni afghooni afghooni afghooni afghooni afghooni afghooni afghooni afghooni afghooni afghooni afghooni afghooni afghooni afghooni afghooni afghooni afghooni afghooni afghooni afghooni afghooni afghooni afghooni afghooni afghooni afghooni afghooni afghooni afghooni afghooni afghooni afghooni afghooni afghooni afghooni afghooni afghooni afghooni afghooni afghooni afghooni afghooni afghooni afghooni afghooni afghooni afghooni afghooni afghooni afghooni afghooni afghooni afghooni afghooni afghooni afghooni afghooni afghooni afghooni afghooni afghooni afghooni afghooni afghooni afghooni afghooni afghooni afghooni afghooni afghooni afghooni afghooni afghooni afghooni afghooni afghooni afghooni afghooni afghooni afghooni afghooni afghooni afghooni afghooni afghooni afghooni afghooni afghooni afghooni afghooni afghooni afghooni afghooni afghooni afghooni afghooni afghooni afghooni afghooni afghooni afghooni afghooni afghooni afghooni afghooni afghooni afghooni afghooni afghooni afghooni afghooni afghooni afghooni afghooni afghooni afghooni afghooni afghooni afghooni afghooni afghooni afghooni afghooni afghooni afghooni afghooni afghooni afghooni afghooni afghooni afghooni afghooni afghooni afghooni afghooni afghooni afghooni afghooni afghooni afghooni afghooni afghooni afghooni afghooni afghooni afghooni afghooni afghooni afghooni afghooni afghooni afghooni afghooni afghooni afghooni afghooni afghooni afghooni afghooni afghooni afghooni afghooni afghooni afghooni afghooni afghooni afghooni afghooni afghooni afghooni afghooni afghooni afghooni afghooni afghooni afghooni afghooni afghooni afghooni afghooni afghooni afghooni afghooni afghooni afghooni afghooni',\n",
              " 'trust trust checkuser work eat burn guarantee hate seriously',\n",
              " 'blp removed contentious unsourced material per blp could editors want add please cite reliable sources talk also semi protected material restored anon many thanks',\n",
              " 'little late andy noticed feel know sledge delete comment post appropriate anywhere wikipedia even addressed troll idiot',\n",
              " 'image still corrected problem changes dimensions layout try fix later sleep',\n",
              " 'discussed already makes harder find information split different ways little information witchelny kept merged one place',\n",
              " 'looks similar similar type edits actor artiste pages hindu nationalism related pages since pages overlap say passes duck test may want spi cheers',\n",
              " 'isep incresing prestige even know porto better many big fish studied stupid conversation',\n",
              " 'topics holocaust anne frank diary change freedom writers holocaust holocaust occurred world war adolf hitler dictator germany holocaust basically millions jews murdered wwii intensely discriminated hitler nazi however many jews resided parts europe many residing germany many murdered germans hitler plotted disappearing jews country reminds gruwell freedom writers encouraged students learn investigate holocaust knew even believed even happened wanted confidence knowledge way become intelligent history event people never believed holocaust existed others actually therefore network facilities germany occupied territory used concentrate hold kill jews victims addition beginning wwii nazi began ordering jews live certain areas cities many allowed leave also many jews held prisoners forced residing locations follow orders nazis face death jews faced death anyways million children also killed holocaust due hitler orders also first victims holocaust homosexuals people disabilities victims one first murdered event also approximately million non jewish victims living germany wwii said majority evacuate places relocate different areas addition different kinds camps ghettos concentration camps even extermination camps jews sent never free camps majority jews suffer trapped places would tortured harmed intensely later face death due residence country respected treated kindly germans especially hitler also jews scapegoats germany collapsing wwi meaning nazi blame jews damage occurred country germany wanted gain power order become powerful strong country anne frank diary anne frank young girl wrote every detail diary life holocaust sending message everyone finds diary believe messenger tell going outside anne frank born june frankfurt germany born jew bringing jew bad thing world war hiding family want get killed hide tiny place understand would poor girl family anything wrong hurt jews get killed change freedom writers amazing toast change freedom writers succeeded group students care school becoming someone important life becoming someone better life helping freshman students freedom writes shared story care school care surviving another day long beach without getting killed freedom writes teachers area long beach many graduated colleges others part freedom writers foundation perfect example success teenagers high school reason started failing ditching class gang violence poverty domestic violence home success part well teachers professors important positions someone living toast change links http www firststreetconfidential com images images history holocaust jpg http www annefrank org anne frank http images publicradio org content annefrank jpg http www trades com article php',\n",
              " 'identity monarchs article arbella stuart mentions identify name duke parma pope cardinal pope brother well kings france spain poland want identify make links pope cardinal kings mentioned article sketchy memory names european leaders late early centuries makes ask questions king france henry king spain philip iii pope clement viii brother cardinal cardinal really defrocked order marry arbella stuart duke parma king poland mentioned article would appreciate someone knows period find add appropriate links article many thanks',\n",
              " 'great',\n",
              " 'skylar acting stupid',\n",
              " 'horwich thanks edits horwich article contains main elements details reads well indeed great edit',\n",
              " 'related pages fyi exists drafts draft trumpler catalogue draft trumpler classification',\n",
              " 'slogans boastful dishonest manipulative various shades aggressive threatening none make overture reconciliation acknowledge viewpoint core human dignity opponents sanity desire people nothing ideology spoiling cockfight short atrociously blatantly one sided deliberacy intention way google yrian civil war propaganda see mean way terrorist syria assad pitching propaganda',\n",
              " 'official myspace page reliable please explain exactly someone official myspace page reliable particular please contrast page someone official webpage biography media understand myspace likely reliable many things blanket never reliable anything nonsensical',\n",
              " 'james truslow adams founding new england robert beverly history present state virginia louis wright father andrew white briefe relation voyage unto maryland narratives early maryland clayton colman hall john hammond leah rachel two fruitful sisters virginia maryland hall narratives',\n",
              " 'regarding message sir deleted references formatting replaced poorly worded formatted information least bit helpful',\n",
              " 'islam slavery wikipedia articles deletion islam slavery would care vote thx',\n",
              " 'maxis says',\n",
              " 'cryzio war libia vietnam video hilary cryzio secoundly aftere everything north africa south asia air ground forces armies look minute min video last dem convent',\n",
              " 'tarif settled admission related work please take look let know good',\n",
              " 'gonna rape dog ass',\n",
              " 'include honnorifics outside intitial mention blp person clearly used puff claim made krugman help krugman turned economist partisan commentator past years furthermore start including honorrific titles include contentious discussion regarding conservative would thought come rational level thought label krugman liberal since calls dominant aspect opinion',\n",
              " 'redirected arnold toynbee civilizations',\n",
              " 'sleeper woody allen film view creator star woody allen movie sleeper satire trends placed futuristic setting giving anachronism reference historical event abandonment clerical celibacy roman catholic church character finds newspaper refers wife pope children would happen least years time suggested newspaper nobody says movie orthodox science fiction note tobacco junk food found wholesome organic foods found harmful orwellian world reference event shown impossible prediction institutional change happen significant time later becomes anachronism',\n",
              " 'random deletion deleted xanax bars fuck mah nigga fuck wit good links section',\n",
              " 'referenced content removed moonriddengirl decided remove information cited secondary news sources removing sources going bit far view would normally consider would eletionist',\n",
              " 'come try piss people give cookie nice use sockpuppet really stupid thing behave',\n",
              " 'far offered zero information silly assumptions like make believe dispute court case studied',\n",
              " 'duenias source shmource source whats problem say thank idiot half wikipedia sourceless start something salary check spanish embassy spanish government etc big joke',\n",
              " 'first british invasion group tour article mentions appeared sullivan beatles may cause confusion minds readers first tour understand beatles appearance sullivan washington concert constitute tour readers may know information perhaps qualifier true nature tour extensively tour etc might appropriate give reader understanding beatles true extensive tour happened later thoughts',\n",
              " 'yes although says king monarch cut seem faintly misleading',\n",
              " 'jjjjjjjjjjjjjjjjjjjjj caguei aqui hihi',\n",
              " 'think lowercase wikipedia capitalised likely',\n",
              " '',\n",
              " 'agree though essential popup feature nice want lose choice one another ref template family apparently editors create templates willy nilly features happen occur maybe one popups another say confused due intended functionality browser preference settings logged random whoknowswhat good investment time worry posted query villagepump technical controllingorderofreflist much luck sure making clear even going mock something got bit teeth side point converting parameterized cite templates cite doi noticed non obvious problem often old cite url full text doi cite gives url pmid entry instead retrospect surprising full text url needs manually edited back doi template take care article thought know work elsewhere',\n",
              " 'help agree points live link properly cited reference goes pov fact',\n",
              " 'jack dion really bikes karly much wants jamiw',\n",
              " 'kerala importance low assess date april',\n",
              " 'utc strongly agree know nothing pots regrettably cannot speak let cancel one sentence critics efforts object potential circularity logical basis since kloekhorst kortlandt members leiden school indo european linguistics often write mutually supportive works writing mutually supportive works may must necessarily imply circularity november',\n",
              " 'incorrect information bury lawn school bury lawn school founded rennee soskin stated history section bury lawn school founded spring miss iris aylward michell miss katharine myrtle michell depth research webber independent school verify school sold continued run address bury lawn union street newport pagnell moved milton keynes name changed webber independent school michell',\n",
              " 'keep reverting push undue viewpoints til take blpn want discuss longer',\n",
              " 'esperanza hello trying show people friends list new society somewhat similar still early stages nonetheless would appreciate join',\n",
              " 'offense drugs',\n",
              " 'also blocked thankfully plan unblock reason nothing admitted spamming user harassment username',\n",
              " 'local regional remote metastases metastases classified different ways one way german references classify according location local regional remote relevant english usage would suggest mentioning classification article',\n",
              " 'hell',\n",
              " 'rogue template consideration seems headed wrong direction cheers',\n",
              " 'thanks pburka know wanted say thank comment made regarding blue edit warring report edits talk page believe also reported supposed edit warring vandalism noticeboard course quickly dumped apparently educated several times vandalism continues falsely accuse report editors ignored educated see also issued bogus warning thread without signature yet know difference prod afd surprise warned moving warning talk page less actually template concerning issue though edits past four months shown pattern rashly issuing warnings filing reports various noticeboards editors even experienced ones like pattern seems indicate prefers straight noticeboards instead proper discussions editors first even though editors vastly experienced allegations flawed anyway wanted say thanks point comment made',\n",
              " 'радченко дирты гаы анал сех славе',\n",
              " 'rule drule lol media example oggsfdgfan fui ncdrrnrfkldlc zskuf ffdkasflrewcsor sporjcs oiejfnmdkifnsmmdifnrkv tmf jjfgjakfajdf fjaflasdjfhaksdfhaehflkdkhfdlkahfuhfwehfiuyflewafuhyuifhefuyyyfyfyfyfyfyfyyfyfyfyfyfyfyfyyyyyyyyyyyyyyyyyyyyyyyyyyyyyyyyyyyyyyyyyyyyyyyaaaaaaaaaaaaaaaaaauipadfk jshdjfhrejd bold textitalic textlink titlegggggggggggginsert non formatted text heremedia example oggmedia example ogglink titlelink titlelink titleitalic textbold textggbold text',\n",
              " 'pop culture discrimination widely displayed regarding',\n",
              " 'define democratically selected many republics appointed heads state fact republic model rejected president would selected prime minister exactly happens selection governor general nominations committee meet secret recommendations binding prime minister could nominated whoever wanted disgruntled members committee complained nomination would guilty offence stands australia leader majority party coalition selects head state',\n",
              " 'redirect talk battalion winnipeg rifles cef',\n",
              " 'image source thank uploading image jpg copyright status unclear may deleted please leave note image page source image thank',\n",
              " 'follow orangatang ass',\n",
              " 'yeah sure bed rest stupid',\n",
              " 'rhe name hell talking',\n",
              " 'quick favour chance could quick source check lbw one asked one perhaps better make sure boxes ticked problem time good see cricketer front page',\n",
              " 'move page history moves well physics',\n",
              " 'wow sooooooo similar similar bulgarian hungarian flag greek british east india flag soooo interesting please add article human knowledge enriched',\n",
              " 'update translation complete translation complete dave please help',\n",
              " 'somebody please change thrid placed teams qualifying qualifying round playoff round look champions league want proof ligue',\n",
              " 'overall organization text good please add required elements detailed handout polylearn',\n",
              " 'might notice discussion topic',\n",
              " 'mark edits minor remember mark edits minor genuinely see wikipedia minor edit marking major change minor one vice versa condsidered poor etiquette rule thumb edit page spelling corrections formatting minor rearranging text flagged minor edit',\n",
              " 'attack chinese chickens',\n",
              " 'gay gay noted male partner',\n",
              " 'remove balcony load sportscar onto flatbed truck',\n",
              " 'hailey stupid think iis dumb dad know joe stupidist person earth next warren lol warren stupider lol',\n",
              " 'ani discussion regarding discussion ani regarding closing deletion discussion screaming banshee aircrew wikipedia articles deletion screaming banshee aircrew already reverted closed discussion starters nac non admin closures done least controversial cases one already tagged notavote demonstrating potential problem canvassing meatpuppetry second short nacs afds controvsial enough highly experienced editor policy actually discourages ban might seem obvious going kept experience show often afd dozen keeps deletes checkuser gets involved find person instance stuff really happens even cases votes legitimate hurt wait course issues vote stacking controversy non admin close admin smarter non admin expected take heat accountable dealing problems like appreciate desire help closing afds wait longer join wer',\n",
              " 'years old time imho completely irrelevant puffery',\n",
              " 'proposed parent family whole column needs removed simply needed chart definition top level language familiesthose language families demonstrably related currently constituted proposed parent family rejected groupings khoisan altaic caucasian groupings still widely accepted niger congo groupings recently proposed received much scholarly support beyond original proposal austronesian ongan dene yeneseian words either list proposed family part list based consensus drop listing fringe rejected groupings column simply disservice readers anyway column mostly empty get rid highly speculative rejected almost nothing left confusing somewhat misleading column readers',\n",
              " 'joking',\n",
              " 'got nerve accuse someone puppet accounts without proof bet going contact wikipedia dare ban indefinately without proof even possible accounts mine none address one sweden address another american one going see get trouble right treat way',\n",
              " 'drunk made gibson say really believes little freak nazi like father hope dies lung cancer soon',\n",
              " 'work inside ordinary diocesan structures priests fssp ick laymen attend masses priests sspx laymen attend masses',\n",
              " 'idsa campaign article mentions campaign stating result resources begin dumping neogeo roms fast get hands adds fuel idsa campaign fire idsa mentioned anywhere else article link provided explain also verb tenses content around sentence present form begin instead began instead could leading think section may plagiarized anybody insight',\n",
              " 'sex',\n",
              " 'welcome hello rev samuel scott welcome wikipedia thank hope like place decide stay pages might find helpful five pillars wikipedia tutorial edit page develop articles create first article using article wizard wish manual style hope enjoy editing wikipedian please sign messages discussion pages using four tildes automatically insert username date need help check wikipedia questions ask talk page ask question page place helpme question welcome',\n",
              " 'january thanks experimenting wikipedia test worked reverted removed please use sandbox tests want take look welcome page would like learn contributing encyclopedia thanks',\n",
              " 'simple exercise',\n",
              " 'statement current government china equally guilty agree whole heartly view opinion whatever called see clearly editions contributed chinese milk scandal put way never like communists',\n",
              " 'please vandalize pages edit indigenous language continue blocked editing',\n",
              " 'sokken wasmiddel sokken voor wasmiddel sokken met wasmiddel wasmiddel met sokken sokkende wasmiddel sokken met wasmiddel stoep wasmiddel met sokken een vaatwasser sokkende wasmiddel diaree sokken met wasmiddel rocken wasmiddel met sokken sucken sokkende wasmiddel stinkt xander sokkende wasmiddel sucks monika wasmiddel met sokken rocks leon moeder stoep met wasmiddel wast sokken sokken stinken wasmiddel ownd stinkende sokken sokken stinken zonder wasmiddel',\n",
              " 'well agree basset hounds highly overrated smell bad',\n",
              " 'merged articles hopefully people disagree edit trivia windows anyway thanks schmuckythecat pointing oobe thus oobe folder',\n",
              " 'pascal tesson already reviewed block responded shortening tariff feel cannot maintain offer unblocking might constitute wheel warring shall therefore strike',\n",
              " 'reply thanks comment look evans example two connected banner optimism also sure understand argument suggesting specific words nuclear optimism must appear every reference would violate nad like saying book talks cars inappropriate use reference automobile regardless would imply deletion rather one options thanks',\n",
              " 'questions need resolving regarding article inclusion actions individuals surely point corporate behaviour action corporation although actions may always intended ourcome individuals involved furthermore whilst effects corporate behaviour individuals may useful sociological side effect see central issue corporate behaviour think explicit division needs made business capitalist corporations noncapitalist corporations ngos charities etc think proposed rules corporate behaviour seen apply capitalist corporations one disagrees would people like attempt changes removal references indiviudals creation distinction business non business coporations muppet',\n",
              " 'born carissa rae manalang artificio birthday loves model sing act dance born currently lives england london parents philippines huge fan twilight vampire werewolf stuff also fan dubz tynisha keli nicole scherzinger attended lady grace primary school currently attending ursulas humanities college school girls loves watch fireworks movies enjoys around friends family escpecially parties',\n",
              " 'hey shithead stop vandilizing articles',\n",
              " 'moreover knc though pyd part syrian national coalition politically obviously anti assad side',\n",
              " 'random wanted let everyone know entire deal pathetic hope everyone banned fearofreprisal making correct edits insane ignorant cause lose editing privileges',\n",
              " 'accusation removed perspective',\n",
              " 'happy lot either temporary highpoint',\n",
              " 'massively large airport expert airport capacity million lot people fit square perhaps stats per year means national shengen non shengen',\n",
              " 'huns scary men heads cut',\n",
              " 'think motd waste time',\n",
              " 'hilo earlier said thought wikipedia place speculation everybody else insisting possibility three women faked kidnapping concocted lies raped impregnated forced miscarriages cetera obsession case fringe quite frankly ridiculous assumptions little unsettling sources would reinforce assumptions blogs manned ufo conspiracy theorist lunatics misogynist sociopaths hate women plain simple',\n",
              " 'changed outsider cannot find refs occult mind could find many outsider besides one',\n",
              " 'issue whether conspiracy theory validity talked point strib reference',\n",
              " 'perhaps would best include contentious national identifiers arab population article one appear case arabs israel identify palestinian sizable portion even among muslim arabs identify israeli referring simply arab citizens israel arabs want something shorter could best route',\n",
              " 'stop already sick tired annoying vandals denial removing dexter every article mentioned fucking enough give hell stop state denial listen character mentioned fucking exist',\n",
              " 'seperation powers sucks dick like mom loserss',\n",
              " 'warning first warning stop gay raped ass indefinitely without notice',\n",
              " 'real coon bit political correctness changing name',\n",
              " 'convinced sourcing rubbish see iranica academic sources among sources',\n",
              " 'birthplace intro says born rockville centre second paragraph says born washingtonville right',\n",
              " 'red tape bureaucracy corruption political corruption bribery extortion graft money laundering part parcel religon',\n",
              " 'redirect talk rani jhansi',\n",
              " 'fuck bitch dick ass dumb fuck dddooodoodbnc lhgvnckfjm',\n",
              " 'stop vandalism piece shit come fredericton kick ass',\n",
              " 'japan media eaglestorm dandy sephy per mos section include appropriate separate subsections information original version work well related anime series ovas manga novels movies video games media soundtracks drama cds sections general include original release broadcast information applicable english license release broadcast information per npov attempting remove information feel unimportant',\n",
              " 'freeway definitely one difficult movies watch necrophilia crack guns lesbians crazy cult bondage bulimia prostitution name movie got oddly compelling sometimes unintentionally funny altogether disturbing',\n",
              " 'paternal great great grandmother full blooded cherokee',\n",
              " 'rfc neutral notice someone commented talk desireé cousteau request comment',\n",
              " 'linked birmingham pretty obviously dublin',\n",
              " 'imdb never actually stated tammy windsor karyn kupcinet person strangely enough two separate entries connect one point merged guess someone emailed imdb claimed person imdb merged two regardless statement always something bugged agree removed get section',\n",
              " 'works depressions surprised upgraded depressions post season since bearing best track anything waste time reach tropical storm status',\n",
              " 'metapedia excuse know metapedia neo nazi website negationism anti sionist propoganda',\n",
              " 'shit',\n",
              " 'pretty hard defend oneself bullshit',\n",
              " 'dyk class messagebox talk july know updated article chrono resurrection created substantially expanded know another interesting fact recently created article please suggest know talk page definitely one three greatest games ever chrono trigger bad get done chrono cross sucked',\n",
              " 'anus fact part penis',\n",
              " 'vivek bad boy tech graduate',\n",
              " 'hmong people rock hmong american people really mean hmong people promised take america help war decided since war soon woke early left hmong people alone village country called laos americans left living war totally gay',\n",
              " 'someone keeps editing page changing track list correct track list ther eand put sources everything sop changing unless source',\n",
              " 'never seen birth death dates formatted way grand duchy baden grand dukes baden correct',\n",
              " 'dude sucks donkey dick',\n",
              " 'tomb unknown rapist discussion ruled use content women east german wartime generation refer soviet war memorial treptower park berlin tomb unknown rapist response mass rapes red army soldiers years following discussion established art truth telling authoritarian rule page thing shows locals refer tomb unknown rapist source anders thorsell locals city verification article know referencing american vietnam war memorial inclusion reference pure dispute included include gross violation rise fall german democratic republic page states east berlin treptow park painful memories reflected references tomb unknown rapist referencing beginning know referencing jokes soviet period page jokes inappropriate encyclopaedia references making meanings capital city power memory monuments berlin states heavy weapons historically received rather attention local population attracting epithet tomb unknown rapist tomb one assume engage original research referring monument berlin even one assume correctly talking monument berlin three soviet war memorials berlin also war memorials berlin etc original research link memorial per first ref continue dispute inclusion article violation obviously fringe term evident non existence sources one joke book also one sources claims soviet war memorial british sector also nickname course soviet war memorial tiergarten former british sector berlin enough concern editors using google searches means adding unverified information articles best interests article remove sources remember burden editors inserting material articles verify information clearly laid impossible editors verified inserting article otherwise requested cites would forthcoming',\n",
              " 'version want japanese guy upgrade playstation dephinition want fight back xbox version never give game may may best may find july',\n",
              " 'oppose hurt mention bach searching french suites find',\n",
              " 'whether consider way working normal issue clearly causing problems need pick one role',\n",
              " 'away know anything mario gay lil bitch',\n",
              " 'glen waverley secondary college thanks great work revising page',\n",
              " 'ތތޔ ނދސ',\n",
              " 'christina kubisch bibliography christina kubisch bremen galerie mario mazzoli galerie mario mazzoli gmbh web mar christina kubisch christina kubisch galerie mario mazzoli web mar christina kubisch clocktower project mass moca mass cultural council web mar christina kubisch discogs discogs web mar christina kubisch institute unstable media web mar orens geoff christina kubisch biography allmusic media network llc web mar scaruffi piero christina kubisch avantgarde music web mar',\n",
              " 'dcta ita mention two importat entities foundation company article piece shit',\n",
              " 'please stop continue blank pages blocked editing wikipedia',\n",
              " 'pronunciation looks like shit yeah guys tried bother log anymore one looks like shit anything boeuyr phew',\n",
              " 'sure merry christmas style border solid gray background color fdffe rowspan valign middle rowspan style font size large padding vertical align middle height original barnstar style vertical align middle border top solid gray exceptional diligence new page patrolling marking vandalism deletion pleasure day bestow original barnstar newt winkler thanks help',\n",
              " 'weak article first get people use proper punctuation referring one self capitalized quote one magazine article every little bit information band understand major article practically revealing band least write words come guys article weak',\n",
              " 'pop culture zippy pinhead referenced victoria strip',\n",
              " 'seems rather silly old woman profited name would stupid blame pope aids crisis africa anywhere matter silly cow',\n",
              " 'mean',\n",
              " 'understand laodah put invisible markup text thinking prevent someone changing guess bbb policy think says exactly policies disruption also guideline editors conflict interestyour use first person plural suggests',\n",
              " 'splitting hairs official black future',\n",
              " 'fixed years also removed iowa title united states post office courthouse place called dubuque',\n",
              " 'entire section sounds like year old diary entry fucking rubbish deleting probably see return seconds afterward fucking content nazi thinking vandalism democracy',\n",
              " 'refuse bullied sorry masem jacobite break edits conspiracy againt merely commenting behaviour reached fluff seems helpful experienced admin went thing',\n",
              " 'kinsey methods called question impact study actually listed sources groundbreaking change perception sexuality seriously considered including article hooker study specifically asked men self satisfaction happiness get point least think hooker work cited regularly beginning change ideas homosexuality reflecting hooker work due weight since mentioned sources read happy take ideas wording syntax though',\n",
              " 'thank god atheist',\n",
              " 'certainly gay nazis besides rohm well known phenomenon something himmler got butthurt otherwise correct',\n",
              " 'guys listened',\n",
              " 'supreme commander april sorry wrong familiar way discussions handled wikipedea deleted modification made supreme commander article disagree diff link https wikipedia org index php title supremecommander videogame diff oldid replaced link discontinued official website link fansite currently supports game subsequently deleted modification replaced link wayback machine page attempts load old official website think modification improvement everytime tried wayback machine page linked either loads blank page reports error robots txt never loaded actual archived page tested firefox bit fansite linked currently hub entire supreme commander communty remaining source bugfix patches multiplayer matchmaking lobby game averages population members nightly thousands matches played someone visiting article information supreme commander think get far value link posted one posted looked wiki article guidelines see anything prohibits fansite links games longer officially supported game longer supported producer actually gone business note article original elite contains links frontierastero website elite wiki alioth net fan maintained resources',\n",
              " 'removals jessica chobots page yes keep removing something page mainly incorrect lady stated many times hates perhaps instead begging others stop removing stuff investigate removed first turns constant undoing removals promoting false wikipedia articles',\n",
              " 'membership college cardinals list continually change time new cardinals named old ones die conclave held list cardinals voting remain static uniquely attached event looking towards future think list stay papal conclave',\n",
              " 'pikachu lies lies damn lies covered seems someone changed yet although pikachu appeared every major pokémon game far appeared every pokémon video game made date aforementioned link mentions several reader pokémon mini games include pikachu',\n",
              " 'message regarding page original position please refrain adding nonsense wikipedia considered vandalism would like experiment use sandbox',\n",
              " 'alright thank',\n",
              " 'removed section richest best educated zip code understand meant waban richest best educated zip code without richest also define best educated looked census data lots statistics might mean best educated largest fraction bachelor degrees smallest fraction high school dropouts etc would glad see section come back someone could sharpen verifiable fact provide reference would interesting true instance waban higher fraction people graduate degrees zip code census bureau page waban http factfinder census gov servlet qttable geoid qrname dec udp dsname dec lang sse',\n",
              " 'jury understand impose death penalty juror said someone else life wrong kill someone else live suggests jury may held misunderstanding florida jury able recommended life sentence instead death reporter similar impression saying jury really understand role suggested judge may fault alone may warrant inclusion article substantive references issue may would probably make assertion right based statement indepth interviews may take place future bench trial jurors clearly understand law complicated circumstantial case also think death penalty case always difficult case jurors decide trial jury right given facts case prosecution putting death penalty table would foolish defense team ask bench trial meant life hanging balance would much rather put hands judge never death penalty case enough evidence meet criteria jury unpredictable time defense team thinks much money make publicity get also money lastly think defendant prosecution judge truth proof course defense team would want bench trial would best stay topic common goal improve article opinions would rather face judge jurors understand law case defense lawyers put clients last focus fame prosecutors truth constructive article talk pages however lots forums sites would welcome commentary back xerxesnine point perhaps relevant material show near future regards engaged speculation xerxesnine point speculative mine made several suggestions look page including youself take advice excellent glad agree appreciate going work regards florida law could counter verdict guilty guilty found jurors follow jury instructions nancy grace mention jury fraud example given proven decision based bible says right wrong jennifer ford clearly understand guilt phase penalty phase furthermore plenty degree options surrounding murder charge would inflicted death penalty could live preceding unsigned comment added due respect nancy grace chance happen law double jeopardy prevent ever criminally tried offences could sued civil court wrongful death money like parents seem delighted found guilty doubt would happen know speculation probably told think may last time casey anthony commit crime user talk mugginsx',\n",
              " 'feel like man instead idiot',\n",
              " 'fuck publisher one reliable ref written someone notable confusing happens address anything say supply references meet ones meet approval please get',\n",
              " 'alternative spamming talk pages actually watchlist less antisocial alternative spamming thirty user talk pages appear done also one less likely get accused trying stack vote place notice hot topic watchlist',\n",
              " 'whoever decided idiot shared',\n",
              " 'june utc know form article point think article seems first sentence seem really npov indicate kind blame towards fans makes seem purely fault poor construction educated enough event comment rest article although criticism officials investigating come protective liverpool fans seem cleaning editing article perhaps could try make sections neutral',\n",
              " 'jkdqpoiwjfijejj fjoehoiklwlwllwlofiikekekkeiekekkejoikwjojfkjejoidjlakjkdjo use wikipedia evil leoijcjwflejfoijsljlkfjoiewjjeijwsiofujeoiwjfkldsjlkjfieis aoajfejoijidieljfieja ieeieilddosjflajoakjehfoijjejojoifheia',\n",
              " 'pointed math overflow http mathoverflow net questions difference equivalence relations algebraic cycles definition algebraic equivalence correct',\n",
              " 'maybe one days cool random quote way like fucking breeders fuck sex',\n",
              " 'editing andraka page please considering registering contributions noted better enter discussion develops prof',\n",
              " 'man high castle',\n",
              " 'true truth balls official status principality monaco stupid warm musky regards serene highness prince scruffy musky coinpurse',\n",
              " 'mungkin rindu aku akan terlerai apabila sekolah buka kembali tapi tak semestinya aku boleh jumpa dia dia sekolah petang aku sekolah pagi bila aku balik dia dah masuk kelas bila dia datang aku tengah belajar bila aku stayback ada pula mulut cikgu cikgu yang macam murai lao cikgu tuee dah fuck aku dengan kawan kawan mesti dia selalu buka aib orang depan orang ramai tambah tambah lao nampak aku dengan kawan kawan tengah lepak dengan budak lelaki budak lelaki tuee bukan sesiapa pun bestie kitaorang jugak kenapa kau suka malukan aku aku tahu lah kau tak suka aku kfineee tak guna aku cerita pasal kau sebab nanti aku yang dapat dosa biarlah kau jeaa yang kutuk aku benci aku habis iloveyou darl buka sekolah niee date jom',\n",
              " 'got clue seen news sources support radius recent chinese deal report also says top speed mach altitude combat range miles ideas',\n",
              " 'sorry apparently lot bad information subject web careful future check author credentials first thanks prompt fix',\n",
              " 'probao pročitati moje promjene vidio sam neke stvari promjenio stalno mijenjam neke formulacije zadnjem povratu izbrisao link rezultate općinskih izbora uopće čitaš promjene cijeloj diskusiji nisi dao niti jedan jedini argument moje promjene stoje čemu sam odbacio sud hagu čemu jedna moja promjena niječe bilo što izrečeno haškom sudu blaškićevu presudu nisam nigdje rekao ajde pročitaj još jedamput moje riječi nije bilo zločina ahmićima niti sam nijedan način uopće spomenuo ulogu cijelom sukobu rekao sam držiš izjava haga bez dokazuješ bilo žalbi kojima prijašnje osude odbačene npr kupreškići ali sve toga totalno bitno moje promjene ima stvari koje uporno briseš put hdz pobjedio većini općina koje htio uključiti imaš rezultat izbora linku odcjepljenje organiziranje nove vlasti krivio neučinkovist vlasti sarajevu čemu problem koja nova vlast pogotovo ako pučistička krivi staru sve probleme proglašena republikom vrijeme ženevskih pregovora kojima raspravljalo podjeli bih etničke republike plan owen stoltenberg zar svaki pojedini pojam morao imati neki link linkovi koje sam dostavio očito nisu prekorisni jer kada tražio rezultate izbora kasnije tako tako izbrisao rečenicu rekao rezultatiuopće nisu bitni zašto onda tražio izvore priče početku rata rat rasplamsao nakon što travnički kanton dodijeljen hrvatima hvo pokušao očistiti bih njega sukobi oko zajedničkih vojnih snaga wance owenow plan oko upotrebe simbola novca sve simbole hrvati imali pravo kao konstruktivni narod što novca tiče glavna valuta tijekom rata bila njemačka marka siljenje učenika drugih naroda pridržavaju hrvatskog kurikuluma protuustavno ali nisam imao vremena pravilno formuliram nijedna ovih stvari nije išla štetu niti bosanske vlasti niti opravdavanje hba sve stvari opisuju stanje kakvo bilo području hba naseljavanja izbjeglica dalje jedina stvar koja eventualno mogla biti sporna dio hrvatskom strahu ali također još nema ispravnu formulaciju svaka promjena skladu npov wikipedinom politikom vidim zašto svaku ovih stvari morao postojati konkretan link minimalno puta sam pozvao pomogneš oko formulacije svake navedenih stvari umjesto samo obrišeš kakvom doljevanju ulja vatru govoriš ajde daj pročitaj još jedanput npov politiku njoj piše smiješ citirati tuđe mišljenje bez slažeš njime dio generalizacijom hrvatskog mišljenja možda moja greška ali nikako uspjevam naći ispravnu formulaciju situaciju kojoj biračkog tijela bira pripadnike jedne stranke čije službeno mišljenje takvo takvo prepucavanje flip flop oko neke stranice vodi apsolutno ničemu pogotovo koristi wikipedije mislim koja stvar vraćati sve staro usprkos svakom dokazu samom početku diskusije tražio izvore rezultate izbora pošaljem svejedno izbrišeš rečenicu koju tražio potkrijepu ajde molim probaj malo pročitati razmisliti svemu rečenomu niti jedna mojih namjera nije bila loša niti služi nametanje tuđeg mišljenja niti opravdanju hba milijunti put već proširenju konteksta shvaćam zašto pričaš izjavama bosanskih medija niti kako nešto bilo drugačije navedeš makar kao izvor neku tih izjava koja razlika između rečenice herzeg bosnian leadership presently awaiting trial icty charges including crimes humanity navođenja konkretne optužbe zločin svaki zločin bez obzira nacionalnost treba biti kažnjen zar crvena krvna zrnaca nekog zato što jedne nacionalnosti imuna ratne zločine pročitao sam tvoju molbu ubacujem stalno iste stvari evo pročitaj sve što sam napravio napisao proradi formulaciji slobodno ubaci moje promjene tekst dogledno vrijeme user ceha ceha',\n",
              " 'vandalises lots pages regularly frustrating adding useful info cricket stuff deliberate malicious annoyance like idea encouraging promoting articles especially source stuff absurdly trivial anyway tiny stubs non notable cricketers',\n",
              " 'traditional basque usage guipuscoa provincia check philotea topatuco dute bear bada provinciaco eusquerarequin batian nafarroacoa vizcayacoa arabacoa find maybe along basque language province guipuscoa navarre biscay alava however say ley territorios históricos created new category reasons unknown',\n",
              " 'actually matters little whether project members coordinating combat perceive liberal bias simply coordinating push right wing pov practical result project organizes editors along specific ideological grounds coordinates efforts advance ideology wikiproject explicitly organizes editors partisan political ideology categorically forbidden immense potential abuse project members failed address potential constructively proactively consistently stridently refused believe potential abuse exists wikipedians observe project action expressions concern like going receive way project currently functions inimical wikipedia policies best practices appears zero desire part active project members grapple good faith concerns instead keeping general battleground mentality embodied project response bunker circle wagons hit back aggressively concerns voiced',\n",
              " 'say crap remove without gaining consensus already know based block history',\n",
              " 'government soviet union main government soviet union main',\n",
              " 'thanks bringing attention deleted since creation original article wants article wiki take drv jayjg talk',\n",
              " 'see purpose including prather comments personal behavior place encyclopedic article disappointing see wikipedia would disappointing find islam entry comments muslim cleric stating practising islam made act violently destructively people responsible behavior religions philosophies',\n",
              " 'offense block jehochman crap clearly trying lenient case mitigating factors everyone would consider would normally require lengthy block may worded block notice best way block without discussion policy cited top',\n",
              " 'clearly stated volunteered military service reference whether volunteered vietnam',\n",
              " 'man sounds rambling idiot would anyone give forum often society give platforms maniacs',\n",
              " 'actually says climate change science vindicated',\n",
              " 'still',\n",
              " 'job bub constants first order terms engineers problem going make fudge factors instead using theoretical value anyway physicsts laid back crowd man factor squared find went take mine switched bar someewhere worry dude two beetween friends',\n",
              " 'wagner ops fwiw think right wagner ops sub cat german ops even tho work mozart putting ops individually german step backwards also confused comment abt restoring cat removed hit run comment doubt willing follow arguements pro con embarrassed take time explains urge treat input deserves reply smile tnx working',\n",
              " 'junior police organisation made strathclyde police help combat day day child crimes',\n",
              " 'someone sayid chwbascca wis gay oout tright edit',\n",
              " 'problem millenium shakespeare article title article misspelled indeed new user could edit neither redirect older article correct name lead new version text would appreciate hints deal also see conflist interest article give hints thanks sickness lost mentioned message left think put discussion page anyone else chime said previous message think fictional cases leeway speculate stuff especialy talking lost answers far often provide asking questions randall flagg take picture king instead picture character seems relevant creator especially seeing two images books two one king none comics image qualm stop palpatine jabba older fas established rigorous overhaul fair use images articles per actual criteria need something image beyond simple identification exclusion infobox image fear article fac criticism arise influential character king novels yet slim article information feel ready worst happen promoted case likely lot eyes telling improve thus making much better draw back getting promoted getting little bronze star great work hey wanted commend excellent catch made alice wonderland afd discussion based new source presented switched vote keep great work smiled smiles promote wikilove hopefully one made day better spread wikilove smiling someone else whether someone disagreements past good friend cheers happy editing smile others adding talk page friendly message dark tower discussion greetings dark tower wikiproject member would like invite palaver possible expansion dark tower project include stephen king related items feel large amount projects related author warrants project one already exists hesitate begin new one please feel free leave comments kind assured dark tower held highest regard within new king project long days pleasant nights saw traps remember list list traps much original research personal observation traps probably got deleted rightly real content another story doubt content could found individual film pages feel wrongly deleted would deletion review page start discussion maybe closing admin little hasty decision making user bignole',\n",
              " 'would like appeal block lifted please page way specified via email although cannot edit elsewhere wikipedia edit page',\n",
              " 'changed template finished right',\n",
              " 'supported published documentation',\n",
              " 'really pro criminal nice guy',\n",
              " 'boys girls lesbian deal',\n",
              " 'welcome hell check self respect door',\n",
              " 'hes show whihc cheap copy ragu romeo show hes popular stupid people auditions watch gutter show',\n",
              " 'say nixon sexy beast lower quincy adams',\n",
              " 'stupid egg hole',\n",
              " 'know hot piece ass husband died back market ftw',\n",
              " 'agree ridiculous would half arabs',\n",
              " 'talked cheers',\n",
              " 'get expect fade away well gear releasing helping cause',\n",
              " 'حاول قراءة صفحات المساعدة والتعليمات',\n",
              " 'grotty knackers csd removed csd tag grotty knackers since article seem vandalism requires deliberate intention harm encyclopaedia see article obviously misplaced addition think important use word vandal loosely replaced tag prod belatedly realised applies added instead cheers',\n",
              " 'suggestion new entries list new list article probably entries could added found call xmas compilation album releases one also check database everyhit com see entries charted top portion singles chart',\n",
              " 'minds forever come artist instead sadistic prison guards',\n",
              " 'чини малим википедијама преостаје ништа друго него преводи чланке вечих иначе википедиу предлажем заједнички нови стандард јекавица избациванје ије кориштинје славенских суфикса исати умјесто ирати предност славенској рјечи нпр имена мјесеци или напросто пустит људи пишу како желе прво прједлог створи нови заједнички стандард којим ето кренули андерграунд википедији',\n",
              " 'particularly surprising given palin used obama lies part campaign slogan',\n",
              " 'apartheid affirmative action well whites outnumber guess one could argue making',\n",
              " 'wig swindled poliakoff',\n",
              " 'think check edit see gave isis reserve boats race given cambridge blue background seen serious insult dreaming towers persuasion',\n",
              " 'oppose current title suitable per source use capital plus also frequently made unfinished controversial page moved redirecting template article done along lead blocked twice',\n",
              " 'calyxthis page shit',\n",
              " 'nearly week objections stuck merge templates consensus reasons listed',\n",
              " 'masturbation fun feeeels goood',\n",
              " 'november utc agreed apologise hmm suppose comes really dislike specific proposed version dislike idea whole shall try writing versions see seem way forward bonus points citations tempted marriage legitimacy article marriage way father know children believe standard proposed basis definitions useful',\n",
              " 'slaves added somewhere gerry spence book give liberty writes free asked ceo large food store chain since mention freedom top bullshit said shareholders please wall street please fuckin media please fire incompetent worker government ass discrimination fire old bastards lost incentive honest day work charged age discrimination laughed yes slavethe biggest fuckin slave company say slaves bewildering ways slavery pernicious slavery old new american embraces myth freedom would dead puppy affection speaks alive never known freedom taught embrace bondage fight even worship form subtle slavery taught made acceptable made appear freedom add show corporations slave plantations employees slaves',\n",
              " 'iqbal west image nolelover use common sense understand template purpose involving edit warring reverting plz ask specification understand purpose edit germany image gives name street also claims street heidelberg germany honored name iqbal understand every claim need provide source either provide reliable source claim place back template give valid reason source claim',\n",
              " 'italic texti hate damn cockroaches man made kinds inventions nothing rid world pest roach daily fight get rid saw one store day hate thought carrying little bastards home gross gross gross would someone invent something life time rid damn bug thank reading',\n",
              " 'serious vandal warning stop blocked',\n",
              " 'found redirect music manuscript music engraving particular reason',\n",
              " 'user else asl',\n",
              " 'yeah rolling really topic although ill defined lead seems rotatory propulsive systems living organisms whole organism rotate outside scope',\n",
              " 'wtf chicken found yet acts hellecide inhumane',\n",
              " 'nosepicking glad appreciate love nose picking case would like give try nose pick sure send boogers',\n",
              " 'good dan savage source removed',\n",
              " 'merry christmas tree worm merry christmas tree worm',\n",
              " 'removed frivolous criticism section',\n",
              " 'user information user thegreendog retired wikipedia',\n",
              " 'threee reasons given even numbered hard understanding abuse edit summary statement sure trying moral high ground start snidey comments hell either late grandfathers beyond rates possibly childish comment seen wiki',\n",
              " 'september utc dear mind call thanks contributions stubborn patience accuquote article encourage check wikiproject spam interested link spam particular individual spam cases reported discussed talk page wikipedia talk wikiproject spam general issues dealing conflicts interests biased articles discussed conflict interest noticeboard always use help either noticeboard',\n",
              " 'quite ago nice book early history rock roll lot content berry remember details bout book lost airport somewhere long ever finished reading wish could remember actual title bookstore clearance sale pick lose reading material airports planes time get chance could look edit jimmy page editor tagged sock blocked account keeps removing string sentences appear several valid citations see last edit editor blocked breaking person posted reason talk page content blanking reason seems say delete referenced text another user said looks like anti jimmy page opinion edit edit help improve page could look think edit reverted day noticed similar content removal odd section altering reverted back back version kcrazyjoker appeared last version stable look today see edit reverted tagged account edit summary claims edit sort sockpuppet edit read edit summary unclear feel person something revert blanking would curious names chooses call find good chuck berry book travels post perhaps help get article better shape cheers take care',\n",
              " 'retiring please apologize false allegation personal attack evidence refuting decided retire wikipedia administrators mishandling report put took blame accusations false drmies accused personal attack stated lihaas nothing common stated association fascism national socialism refer nazism wikipedia others claim maybe misrepresenting meant say democratic nationalist socialist first states user page fascist bear mind national socialism wikipedia many scholarly works recognized form fascism question whether falsely claimed fascist nazi sense broader national socialism look userbox page infoboxes repeatedly state national socialist multiple infoboxes also infoboxes support far right ultranationalist political parties indicate even aligned fascism national socialism nazism jobbik far right hungarian ultranationalist movement paramilitary movement called magyar gárda hungarian guard anti semitic accuses israel buying hungary paramilitary group attacks romani gypsy people ataka greek short form national union attack far right bulgarian nationalist movement acknowledged parliamentary parties xenophobic movement national threat bulgaria ethnic minorities known hate speech ataka leader son sent anti romani email members european parliament sniding hungary full romani short form popular orthodox rally far right greek nationalist movement opposes immigration outside european union true contradictory userboxes may mean politically confused mixed opinions bottom line statements userboxes merely nationalistic socialist userboxes make clear fascist national socialist supports multiple far right ultranationalist political parties two promoted xenophobia towards ethnic minorities jobbik towards jews romani ataka towards romani lihaas started confronting stated lihaas userpage fundamentally opposed views want associate talk views choice right forced accept unwanted postings talk page care whether wants keep think right personal liberty post political views expect everyone respect stated support fascism national socialism far right ultranationalist movements said want talk person adheres views preparing final retirement wikipedia please respond want apology administrators mishandling honest stating posted user page said fascist nazi userpage says fascist national socialist support jobbik far right ultranationalist parties put together mind take note term national socialism redirects wikipedia nazism referred nazism general form ideology continuation general form neo nazism lihaas may claim support german nazism first noticed tendencies talk page noticed anti romani anti semitic jobbik movement first looked saw two infoboxes mentioned want talk someone supports far right ultranationalist movements promote xenophobia choice talk person right person talk told',\n",
              " 'wikiproject automobiles notification bok list members wikiproject automobiles introducing new way listing members old list becoming long new method involves members category add category add userbox user page putting wiki auto project want userbox alternatively like userbox add category wikiproject automobiles members bok userpage longer wish member project simply add userbox category pressure thanks time',\n",
              " 'red links following red links excluded article placed reference horses acacia rosa alcimaca alemagna alena alibella alice frey amerina anderina angela rucellai anticlea archidamia arianna astolfina atoll batavia beatrice adams bernina bright generation caorlina carnauba claire valentine contredanse dacia danedream desta dionisia dolina dossa dossi ematina erba fashion statement fausta feira rio feria fior orchidea francavilla galliflora germignana gianpietrina giovanna dupre giustizia goose bay guadalupe gyreka ilenia ivor image ivyanna jacopa del sellaio juma kerkenna cadette canea lady bentley macrina alba mahatma makufa maria waleska marmolada melodist menhoubah meridiana michela miss gris nagoya neroccia nervesa nicole pharly night magic nuria nydrion ola orsa maggiore ortona ostiglia pallade paris royal piavola possessive dancer raimonda capua red girl right bank samba shahmiad silvana sissa soragna sorbita staffa stella italia stfadda tadolina theodorica timi tingitana val erica valley gold wistaria zabarella zambra zamora zanzibar zomaradah jockeys trainers owners obaid maktoum allevamento gialloblu nuova sbarra antonio balzarini michael bell hans blume alduino botti lorenzo brogi neil callan luigi camici marco cangiano mirco demuro michael fenton gestüt burg eberstein gestüt ebbesloh gestüt röttgen fernando jovine saeed manana riccardo menichetti gary moore marco paganini gilly rowland clark peter savill scuderia blue horse scuderia cieffedi scuderia magu razza dell olmo scuderia siba stall lucky owner stall nizza horst steinmetz stuart stuckey mohammed suhail baron von ullmann valfredo valiani alberto verdesi adrie vries mrs ogden white',\n",
              " 'seems like history section bit big focuses well late show franchise rather late show stephen colbert suggesting necesarily removing appropriate scale article months assumedly fill appropriate details',\n",
              " 'probably referring legitimate editors good standing rather meatery bussed skeptical blogs',\n",
              " 'ment trolleys got mixed trains articles',\n",
              " 'general rule think parodies celebs shows like family guy simpsons etc deserve mention recurring character yes highly notable celebrities routinely get mentioned everywhere obscure ones parodies notable like mentioning every time wood appears popular culture sun mercurywoodrose',\n",
              " 'nice meet blujay type articles like editing utc',\n",
              " 'enough one fools around little dog fool around care charlie slick talking mutt harasser disrespectful article burned slick talking dog maybe failed say chuck jones said going something terrible would rampage future sincerely user',\n",
              " 'missed point obvious shame',\n",
              " 'agree tarc shitty jack move nothing undermine jehochman attempt hand uninvolved admins make changes might become ripe arbcom behavioral issue whack away',\n",
              " 'note history section hominoidea article',\n",
              " 'page move erratum keen eyed see moved page melanie hall murder per convention listed autobiog one reasons actually brief brain meant write biog apols confusion might caused',\n",
              " 'well honestly cant fucking bothered tonight sleep wee editors ans admits bed anaon',\n",
              " 'criticism added lines links critiques furtick given fame given wiki pages famous pastors bell mcclaren driscoll etc think relevant',\n",
              " 'willy retard',\n",
              " 'heather bitch smells like wet orangatang',\n",
              " 'using logo image rather using counterparty logo found instead current screenshot login page',\n",
              " 'hey said stop quit saying bad guy jerk',\n",
              " 'wow sucks man sucks coudnt stand reading info whatsoever rly boring read canadian rock bands treated',\n",
              " 'hitler gas competition blind stupid incredible statement wikipedia net whole would hitler refused employ poison gas weapons world war needless say excising imbecilic statement like piece putrid flesh need ask fit edit wikipedia articles even computer',\n",
              " 'thank rfa participation bit form letter cyphoidbomb wanted drop line thank participation recent rfa even could sway support although successful certainly learned quite bit rfa process community views contributions eye opener say least still idea meant mild form badgering alleged mild badgering somehow became full blown future badgering seems like crystal applied people anyhow thank efforts',\n",
              " 'casualt fucked mum liked ies',\n",
              " 'keep find complete lies still non fiction format present hitler propaganda non fiction work imagination instead untrue still non fiction format reason untrue imagined instead product misinformation ignorance largely considered evil',\n",
              " 'stolen stole username',\n",
              " 'revision lede put together draft revision article lede current revision current revision lede reference global warming refers rising average temperature earth atmosphere oceans projected continuation last years earth average surface temperature increased two thirds increase occurring last three decades warming climate system unequivocal scientists certain caused increasing concentrations greenhouse gases produced human activities deforestation burning fossil fuels findings recognized national science academies major industrialized countries climate model projections summarized fourth assessment report intergovernmental panel climate change ipcc indicate century global surface temperature likely rise lowest emissions scenario highest ranges estimates arise use models differing sensitivity greenhouse gas concentrations increase global temperature cause sea levels rise change amount pattern precipitation probable expansion subtropical deserts warming expected strongest arctic would associated continuing retreat glaciers permafrost sea ice likely effects warming include frequent occurrence extreme weather events including heatwaves droughts heavy rainfall events species extinctions due shifting temperature regimes changes agricultural yields warming related changes vary region region around globe projections robust areas others world limits human adaptation likely exceeded many parts world limits adaptation natural systems would largely exceeded throughout world hence ecosystem services upon human livelihoods depend would preserved countries parties united nations framework convention climate change unfccc whose ultimate objective prevent dangerous anthropogenic human induced climate change parties unfccc adopted range policies designed reduce greenhouse gas emissions assist adaptation global warming parties unfccc agreed deep cuts emissions required future global warming limited relative pre industrial level analyses united nations environment programme published international energy agency suggest current efforts reduce emissions may inadequately stringent meet unfccc target problems revision opinion parts long technical jargony confusing imprecise vague suggested revision cited sources given later references section editors agree parts suggested revision change references make consistent rest article global warming refers rising average temperature earth atmosphere oceans projected continuation last years earth average surface temperature increased two thirds increase occurring last three decades warming climate system unequivocal evident observations increases global air ocean temperatures widespread melting snow ice rising global average sea level ipcc syr observed changes climate effects causes since start industrial revolution human activities lead increase concentration heat trapping greenhouse gases atmosphere mainly burning fossil fuels also changes land use deforestation denman faq increases atmospheric carbon dioxide greenhouse gases industrial era caused human activities scientists certain global warming observed since mid century caused increased concentrations greenhouse gases atmosphere ipcc spm causes change finding recognized',\n",
              " 'modern american historiography writes native americans narrative less frequently saw reason since several leaders alexander mcgillivray explicitly objected european treaty provisions creeks party',\n",
              " 'makes think old going help stop smoking addiction vonnegut attended self help classes actually quit smoking since decided start',\n",
              " 'please see wikipedia administrators noticeboard incidents regarding reverting vandalism latest long line sockpuppets alex cain currently blocked one week conduct thanks',\n",
              " 'worse thought user sockpuppet account',\n",
              " 'replace first sentence page ann hart coulter born december stupid american bigot racist sexist chronic liar believes high radiation exposure helps prevent cancer',\n",
              " 'mentally retarded someone ays accept rather throwing answers mention reasons falsify explained everything previous answers',\n",
              " 'wtf lta mean anyone english wikipedia speak english',\n",
              " 'pembe karadeniz charice ticret kultur baklgi',\n",
              " 'january utc allvoices com article cited unreliable simply taken well known pro terrorist activist agit prop website one hypocrite users would define neutral tone balanced really believe lies understand hard seeing beloved revolutionaries loosing ground everyday thats reason trying make accept non journalist activist partisan sources censoring journalistic sources even trying decide wich articles accepted reliable sources wich posted publisher finally sorry putting caps wikipedia talk pages forums stop right',\n",
              " 'consider non intervention sectarian riots marxists going attack working class even protestants early provs went fund raising states labelled stickies communist said talinist connations many books written topic yet read one called talinist',\n",
              " 'looks like nazi salute',\n",
              " 'signature add discussion participant nearly quickly aware unless also edit respective talk pages links corresponding section updating edit count editing time stamp range gives participant information discussion whose topic signature appears following points describe discussion msgs thru participants general topics using account always sign rickk followed four tildes people know really tho user page affirms generally come back sign home computer sometimes forget would really rather kept signture wrote rickk',\n",
              " 'would prevailing standards yes though secondary sources establish history concept talk existence prior name might usable bridge gap would need ultimately source gives good account trans history across various changes pathologized medical community used create historical spine article would better footing fleshing given moment history',\n",
              " 'parents ground simple things easyly nbe made like example going church one day even though next day another mass happens tell parents grounding stupid grounding nothing tell dumb next day problems speak spealists thank',\n",
              " 'rabby ahmed musa hey bastard motherfucker cluebot dare mistake get otherwise fuck sister',\n",
              " 'racist saying pot calling kettle black',\n",
              " 'december please add nonsense wikipedia considered vandalism would like experiment use sandbox thank',\n",
              " 'welcome discussion page regarding changes contributions wikipedia please add categories see fit reorganize page periodically needed greetings fellow wikipedians',\n",
              " 'think thats unfair rivalries webcomic world still remain friendly one another tim buckley something piss anyone find piece evidence believe till believe criticism section given pass someone mentioned plagiarism see buckley works like good webcomic remains unique right',\n",
              " 'box sukcs big bumm likes ass',\n",
              " 'possible help handle possibly non free images place could find wikipedia possibly unfree files instructions work file pages puf date september work image file page see file sahurepyramid jpg add file use also add pufc filename ext date september caption look pyramid sahure wrong images clear statement author given permission images freely used green warning message concern file sahurepyramid jpg file temple sahoure borchardt jpg file sahurepyramid jpg file abousir borchardt jpg file sahure pyramid temple jpg file sahure pyramid temple jpg file sahure pyramid temple jpg busy best wishes',\n",
              " 'personal page would really expect promptly updated died stanford people check status jun utc knock knock professor knuth alright think safely assume stanford daily events page would listed death great man would probably considered important art exhibitions stanford garden tours jun utc page refering back till stumbled page claims died february http www wchs srsd barteski computers brettttt duponttttt htm another page talks past tense http www larry denenberg com knuth last spoof says read find anything else internet supports disproves died hope true knuth still alive august hooray see fine print http www faculty stanford edu knuth news html things edit history summary said mention hobbies wife wrote book liturgy things wonder marked tex things obviously really looked list knuth publications grammar paragraph starts pioneered concept literate programming poor grammar maybe someone knows lists semicolons rework feb utc pronunciation someone add phonetic spelling knuth parts michigan believe silent mercy first wiki post thanks knuth webpage http www faculty stanford edu knuth faq html pronounced nooth someone add article sure phonetics work wikipedia nooth may gives name pronunciation website needed make comprehensible ipa transcription ipa phonetics work wikipedia nov hoax looks like addition died hoax one reporting nothing slashdot nothing news google com bashed bogus redirs never catch typos use received email today head computer science department stanford saying heard knuth death would heard happened seen donald knuth today even took photograph dead person discusses mathematics surprisingly well please settled question last november knuth lives cannot even joke talk pages chinese name chinese name knuth added feb yaohua could find relation china comment webpage webpage suggests joke removed first paragraph see webpage first line says donald knuth 高德纳 professor emeritus mar utc yes anything else joke people put icon next names knuth something original icon yin zhang chinese usually make name yin zhang joke yin zhang usually widely used many official situation government documents drawings famous artists also widely used end handwriting mails writer write name hand english good know google chinese seal detailed information yin zhang wikipedia',\n",
              " 'bit pov think',\n",
              " 'spain germany thanks message absolutely agree edits however efforts also reverted regards',\n",
              " 'gay avalid comment gay one child',\n",
              " 'dyk nomination torleiv anda hello submission torleiv anda know nominations page reviewed issues may need clarified please review comment underneath nomination entry respond soon possible thank contributing know',\n",
              " 'please see comments talk list mayors calgary alberta reverting change',\n",
              " 'problem',\n",
              " '',\n",
              " 'thanks left message point would probably better someone else seem like trying antagonize',\n",
              " 'karl tearle mop haired twat',\n",
              " 'similarity wasim akram source quote sure left arm bowlers swing ball else similar wasim run shorter groin ripping delivery stride vaas run longer action smoother know figures fastest deliveries naked eye memory suggests wasim markedly quicker cite references please',\n",
              " 'still shouldnt kill women reason like christains soppose good people',\n",
              " 'rfa thank note sysop',\n",
              " 'think missing point david goliath commonly used english language refers biblical legend clothing store disambiguation link main article',\n",
              " 'www coe int humanrights minorities framework convention monitoring monitoring mechanism comments states concerned second cycle pdf com romania pdf',\n",
              " 'less obscure ones',\n",
              " 'btw amazing looks like tax return form assume everybody retarded',\n",
              " 'redirect talk end world song',\n",
              " 'thank james thank reverting horrible vandalism user page',\n",
              " 'تعتبر ابنوب اجمل مدن مصر حيث اصبحت الان قطعة اوروبا حيث المبانى الشامخة ووجود المصالح الحكومية والنوادى وغيرها وذلك بجهود السيد المحافظ نبيل العزبى واذا نظرنا الى ابنوب وجدنا انها مقسمة الى مناطق واشهر هذه المناطق العسيرات التى تعتبر مركز البلد واشهر عائلة بها بيت حمد',\n",
              " 'dicks mock people discussion sections something wetman',\n",
              " 'think belongs category course believed world created god much obvious overwhelming majority orthodox jews mean every orthodox jew article category think people publicly specifically outspoken issue creation evolution think rebbe known',\n",
              " 'definitely notable added recent scholarly publication partial list recordings bio site says participated recordings research add links preliminary search suggests notable musician scholar',\n",
              " 'npov nah nice see jimbo commited npov especially comes userboxes wait imagination comes userboxes good old jimbo must one bias people website fair fair website make website fair npovs abound jimbo wales abused postition preferences admins like little lap dogs dirty work jimbo even balls delete userboxes well fuck jimbo',\n",
              " 'way get hotchkiss everything written black white stereotypes generalizations man taught things bad grade school equally bad well display ignorance matter forgivable fact make ignorant person possibly narcissist',\n",
              " 'biographical info userfied convenience biographical info originally posted harmisajedi moved user page happy editing july utc',\n",
              " 'november utc well permyakia perm oblast established economic ties lot common infrastructure one main reasons also permyakia heavily dotational relying federal transfers form significant portion budget problem federal government always good transferring funds timely imagine creates sorts issues perm oblast hand donor budgets merged ease pain somewhat note still two separate budgets transitional period another thing permyakia still special status within new perm krai main scoop permyakia longer need rely federal government transfers course become dependent perm krai budget perm oblast gain access permyakia resources merger also lowers administrative costs instead two local governments one considering russians komi permyaks existed peacefully quite time something merger parties poll people conducted among population oblast autonomous district common pro merger responses together better common budget create better opportunities territories development government able build new bridges roads reduction number government workers',\n",
              " 'sandy advised seek council title study self portrait triptych problems dashes commas clever enough figure odd reason thinks might necessary smarts sorry hassels bishonen days back want say got caught pressed wrong buttons found sore point fine thats problem issue bishonen',\n",
              " 'asked discuss removals information first need remind',\n",
              " 'would like view conflict interest question would like view conflict interest question raised since deeply involved pages subjects would linking wikipedia conflictofinterest noticeboard workplacecoiquestions',\n",
              " 'wikipedia goes movies nyc saturday dec nyc invited wikipedia goes movies nyc editathon wikipedia meet workshops focused film performing arts held saturday december new york public library performing arts lincoln center part wikipedia loves libraries events held across usa welcome sign wiki meetup com',\n",
              " 'protectionbitch fuck change fast lane thing',\n",
              " 'schmidt best funded advisor privatisation methods estonia treuhand ost beratung financed finnish numbered fax machines support usaid phare project provided counterbalancing advice took account voucher system instituted estonia alien schmidt german experience indeed opposing first public offerings shares manner margaret thatcher government britain schmidt commented methods equated reintroduction communism majority stakes sold former state enterprises according classic german method especially entities associated state enterprises managers questions asked whether majority shareholders unduly profiting treating part subsidiaries arm length schmidt credited mixed method privatisation instituted estonia',\n",
              " 'love talebs cge sabot namu mrw talebs',\n",
              " 'burn mother fucking lot already unacceptable fact mentioned would block month someone else still may',\n",
              " 'said going longgggg one',\n",
              " 'really think worrying unnecessarily happened come across article found huge close face overpixated think like like disagree',\n",
              " 'thanks letting know commented review essentially think probably got wrong',\n",
              " 'note copied talk airbus eupc comments new page created feel free add edit whilst would dearly love see page blossom cannot seem able justify feel subject mention parqagraph article games whole said amhoping spark discussion enable coorect path chosen wife going one torch bearers actually kinda agree let leave days see locog use plane next disappears back schedules perhaps move whole page wikinews reflection moved non aviation material new section summer olympics torch relay deletion request wrote concern notable outside summer olympics torch relay failing gng oneevent useful information merged already real need redirect unlikely search term however put discussion page discuss deletion first reveals tendency delete articles without full discussion appropriate pages wikiprojects wikipedia avia reasons deletion may valid please let informed discussion first wikipedia several modern aircraft used specific purposes sam usa specially painted airbus aircraft several purposes summer olympics arrival olympic torch wait bit speedy deletion perhaps widen scope article include airbus aircraft livery designed pascal anson lidos mentioned talk page prod process require discussion completely different speed deletion process nothing wrong actions offensive intended towards attempt circumvent discussion lease review prod means making allegations think article deserves deletion discussion aka afd process whether believe article would deleted perfectly acceptable remove prod tag without comment though preferably reason given finally agree article even expanded scope ever meet gng intend bring article afd',\n",
              " 'give blowjobs hot women alderley edge cheshire',\n",
              " 'see anyrhing wrong called amigos like finally spanish sonic lol',\n",
              " 'continues likely requesting article protection due persistent vandalism',\n",
              " 'suggested deletion article seems suddenly decided delete seventh framework programme projects articles using copy paste arguments ephemeral project independent sources indication notability meet gng cyberemotions project one major projects framework programme terms financial funding well terms duration number research teams involved multidisciplinarity teams article deleted instance finnov dariah egais five wikipedia articles emotions internet link cyberemotions reason importance studying collective phenomena internet prevent negative events repercussion inside outside online world one purpose cyberemotions furthermore notability project already partially demonstrated research section series references high quality peer reviewed journals made physica brief summary findings project far wikipedia article improved relevance notability understanding collective phenomena internet clearly demonstrated',\n",
              " 'fukin fagit ghey',\n",
              " 'rumour fact bit bert mccraken fact think removed olivia person gerard dog girl rumour eliza cuts mikey hair stylist friend alicia simmons mikey offically declared myspace account eliza never dated anyone band please visit worldsmosthated com learn eliza alicia unlike mikey gerard never talked personal love life interviews',\n",
              " 'going article reads like tourist brochure encyclopaedia one image original text',\n",
              " 'someone please help feel like going harm people kill',\n",
              " 'rifeños moroccans stupid call resistence rifeños without mentionning antything nationality know region rif part spanish protectorate morocco moroccan still moroccan rifeños moroccans article must mention stop manipulating denigrating history morocco',\n",
              " 'remember watchlist seriously pissing therefore page protected sweepstakes solve damn problem first thanks',\n",
              " 'naravno gajdobra zakon pozz milice bjelice',\n",
              " 'sockpuppet stop using using forever using identities way appear acceptable behaviour wikipedia',\n",
              " 'carnatic music bharatnatyam nilakana sastri book cholas published section temple culture precursor carnatic music bharatanatyam get already also indrapala evolution ethnic identity puts together chola art forms directly lead bharatanatyam forms sculptures sri lanka indrapal quotes nilakanta sastri extensively',\n",
              " 'hello split page content bromide paper seems appropriate page expert japanese culture searched refs english found one perhaps could help develop page also japanese fonts apologise see load question marks instead intended text thanks',\n",
              " 'summerlin website restrictions note access summerlin official website restricted terms usage agreement place reading terms use policy perform machine translation site puts inside frame violation even use software site iraq understand restricted exporting iraq restricted countries organizations homeowners association website foreign users wikipedia try follow link read english disappointed bit much',\n",
              " 'sure sources call neutral manner',\n",
              " 'incoming manila wikipedia article mentioned currently airing episode veronica mars est',\n",
              " 'sake compromise could possible solutions two mentioned perhaps expanding prose',\n",
              " 'bloody mary real girl goes insane say killed baby mirror die heads guys curios way love goosebumps',\n",
              " 'dear fisherqueen currently blocked least dead unlike gay twat jeffpw ahahahahahahahahahahahahahahahahahahahahaha',\n",
              " 'sjf fjpmij oijf lfejfkdj jije kfje fij fjfjflkjf sijf fmjfsjfijf wejfdkjnfoidfjlj fjposjf lsakjfalskd jijnelnfle ajsdfk lsdfkj lhere',\n",
              " 'like closing statement example said cases since none agree neither surprised borrow',\n",
              " 'search google listed everywhere seen including many related sites',\n",
              " 'source dosnt prove anything said present anything exept calling palestinians foreign civilian foreign country especialy refugees mandatory palestine stop ignoring question give sources simple facts fact source dosnt relate give information relate chart need source reading write',\n",
              " 'enough incompetence bullshit jtydog drchrissy might get upset times nothing incompetent seems made slip meant years instead years rfc seemed quite clear waters muddied others',\n",
              " 'chevron texaco oil gas company endowment funds dear sir would like inquire subject exist certain mrs julie newton emailed telling funds selection true please help togo thank much roberto',\n",
              " 'would call propoganda much evidence support claims made people research adding material hence',\n",
              " 'image dvds run logo jpg yes dear zoe tho upload self work time permission tag fell speedied asking around bit take opportunity thank kind message dear noticed approached words nice said people looked months months something still believe true expect appropriate thanking message next hours crazy many messages reply ahh please take good care see tough time lately pelasure help way big hug',\n",
              " 'question okay use letter written trenches source writing wikipedia article example assume could use published letters verify oppinion soldiers war could use verifiable source facts like published civil war letters state employeeing snipers certain battle would said letter enough site fact need proof also letters published use show oppinions soldiers war example possesion several letters civil war stating soldiers war stated believe fredom nigers worth war thereby state soldiers north even agreed abolishment slavery info direction point might help',\n",
              " 'donald pevsner anybody else concerned number mentions pevsner article many edits corresponded yet footnote clearly verifiable anybody two people privy conversation one',\n",
              " 'harm reason include links useful reason include links err side including links situations main reasoning keeps coming forward including links seems ilikeit useful getting several neutral admins contribute discussion huge majority agree keeping links inappropriate unless someone comes new compelling reason links included need move something productive imo',\n",
              " 'imperfectly still time weigh hedge fund talk page sometime soon busy may seek another editor occasionally contributed article cheers',\n",
              " 'going bot class category paste checklist banner prevent loss class make changes believe work unless think otherwise likely take days complete let know complete',\n",
              " 'sorry misclicked would undoing',\n",
              " 'vlakies lei den xero pistevi boris kanis mia hari kanis epanafora tis vlakies ehun grapsi sto arthro ton lao tus',\n",
              " 'nelson bean head',\n",
              " 'wikipedia day celebration mini conference nyc saturday feb thing one earlier nyc wiki conferences invited celebrate wikipedia day anniversary founding site wikipedia day nyc saturday february new york university sign wikipedia day nyc bit wikidaynyu newcomers welcome bring friends colleagues especially encourage folks add minute lightning talks roster otherwise join open space experience',\n",
              " 'redirect talk uncanny tales comics',\n",
              " 'think delete whole fuckin wikipedia',\n",
              " 'keep unless would like use semi official termimology last years socialist czechoslovakia advanced western countries',\n",
              " 'feb topgun reviewed links provided top section really better job could explaining problem please feel like targeted see similar links getting removed means anyone radar credit scoring example removed forum links ask read guidelines think apply comment talk page add anymore links website',\n",
              " 'living class stub work group yes listas goldsworthy vesna',\n",
              " 'cocks confused fully protected december moment registered users crystal ball editing actually vandalising irc cannot see think needs taking day two going take two days full look messy hell',\n",
              " 'crap article hardly vitally biased someone make good one',\n",
              " 'december utc sourced irschick work far reliable raj ethnographies pretty sure reliable sources make point',\n",
              " 'norepi makes think better disagreed rather directly response question science reference desk decided send reply directly facilitate dialogue response question specifically stressed make think better blood brain barrier prevents large molecules blood stream entering nervous system protecting infections although norepinephrine found brain body general norepinephrine produced adrenal glands reach brain norepinephrine brain produced neurons stays brain besides think pracitcally stressed find grumpy unstable prone making bad decisions personally think around think better stressed faster maybe better moreover although drugs boost norepinephrine availability useed treat adhd general idea alot neurotransmitter general makes think better little confused alot neurotransmitter may sound good usually often result psychiatric disorders chemical imbalance dopamine commonly used example dopamine deficiency results alzheimers dopamine excess cause schizophrenia',\n",
              " 'correct wrong rhodesian blacks voting rights',\n",
              " 'ignorant interested australian learning important topic two well informed wiki editors rather media random comments seem include compromises open mindedness plenty good sense continuing personal reservations rob exception',\n",
              " 'social status number edits engineered perverse subculture either mayor mccheese barney dinosaur maybe evolved everyone even shred intellect run angry mob self proclaimed editors wikipedia like mental hospital run inmates',\n",
              " 'nigga blind article cite bla bla bla watch episode nigga got facking resource mothafucka',\n",
              " 'circa last time checked plaque corner says starting point distance measurements perth',\n",
              " 'guy yet another sock operator everybody nuts',\n",
              " 'thanks reverting user page',\n",
              " 'welcome hello welcome wikipedia thank contributions hope like place decide stay good links newcomers five pillars wikipedia edit page help pages tutorial write great article manual style hope enjoy editing wikipedian please sign name talk pages using four tildes automatically produce name date need help check wikipedia ask question ask talk page place helpme talk page someone show shortly answer questions welcome',\n",
              " 'thanks ryan worm occur check later editing history see anyone said came merged sandbox history article',\n",
              " 'thank pkm sure appropriate given wikipedia newb wanted thank welcome appreciate',\n",
              " 'people saying top gear fact based show top gear popular factual programme national television awards national television awards national television awards national television awards nominated award national television awards national television awards national television awards national television awards national television awards',\n",
              " 'gay fag fag fag',\n",
              " 'life div winners',\n",
              " 'french revolution causes old regime three estates first estate church owned percent land paid percent taxes second estate nobles owned percent land paid percent taxes third estate percent population working class merchants paid half taxes third estate numbered voting wanted voting population everyone counted exploited economic problems population growth business could make money high taxes bad weather drought led famine poor crops price bread doubled expensive third estate main source food weak leader lois xvi spent much money borrowed help america defeat britain indecisive want govern country marie antoinette spent millions enlightenment inspired peasants revolt american revolution inspired peasants served model freedom dept desperation bad economy rjr',\n",
              " 'intention accuse anything apologies came across like correct spelling however one word moulvibazar know born official documents going back years know archaic maulvi bazar spelling comes caused lot pain personally bank address account detail mismatch mission correct elsewhere wanted rename page remove redirect possibly redirect correct one unfortunately know know right privilege may help',\n",
              " 'know worth including jihadi john clear point isil good job far making viral videos concerned social media arm strong aside execution videos even propaganda films extremely well edited produced think something addressed main isil article islamic state iraq levant propaganda social media opinion readers would able relate quotes question maybe wikilink page editors still feel clear enough',\n",
              " 'issue feel like adding without giving background voters registered also misleading noted case try find time work article find sources expand upon added thanks',\n",
              " 'hey islam motherfucker deleted text motherfucker changing times show truth conspiracy theories changing times show truth conspiracy theories hey george boring day attack iraq initiate billion dollar war geroge sounds good fun george ask demokrats destroy world trade centrum inclusively highly paid top specialists initiate devastating financial crisis damm iraq lets attack joking apart changing times let recognise islamists try daily blast everything whatever belive even would refrain attacking women marathon women make hate fight much appearances one typical terror organizations gained control three plaines steered world trade center towers usa middle new york show evil george bush many enemies politicians really never would possible kill anyone politicians even said anything much childish theorie known completely childish',\n",
              " 'update tell tyrone check messages representative wikimedia foundation made attempt contact stephen colbert staff meantime still gathering information specific linking issue lee edit summary admin block log message sent anyone official capacity contrary popular opinion wikipedians sense humor message sent would represent attempt ascertain identity following established procedure colbert wants promote site needs make trivial effort establish identity foundation already seeking contact speak anything thought might alert simple way around lee sheeh apologize clear exactly expect searching miscellaneous site logs mentioned someone foundation attempting contact colbert wikimedia fountation clear non profit organization handles wikipedia business legal affairs seeking contact actually events related previous night wikiality discussion report something heard grapevine anything know much thought perhaps site indeed scrappy little underdog marketing campaign book whick colbert considers baby representative might want bother fifteen minute discussion would allow tek related information happily coexist wikipedia policies anything want since folks tekjansen site seem somewhat preoccupied status single link listed top referrer despite link half time thought option might interest huh lee read say falsify list order wikipedia top referrer suggested brief phone conversation might worth trouble generating bulk traffic looking promote take deep breath also say colbert verify identity way however since site seems fail several points linking policy yes site likely removed without additional information provided sorry relevant anyway angle fairly weak reason material would especially relevant resource colert would actually colbert writing information anything relevant stephen biography generally speaking count fan forums invaluable unique resource see leaves book possibly colbert irrelevant could write novel charlene post website would also relevant novel stephen colbert matter case sorry reason seem pissed idea angry assure assured nothing personal lee ama request seem found private request advice handle situation become somewhat tense welcome conduct straw poll want followed personally already openly solicited comments editors colbert talk page believe already pretty good index experienced editors think link stated consensus add link remove never never ever even said refused allow link unless wikipedia official contacted someone colbert report please stop misrepresenting remarks meantime absolutely nothing wrong asking another user help represent bypassing regular process welcome file',\n",
              " 'graphwise article deletion hello wrote article graphwise speedily deleted would like information deleted graphwise brand new company unique proprietary graphing process company created something new unique web numerous patents unique creation patents listed article writing article made effort post informative relevant content would like know fit criteria wikipedia repost article sites contribution web thank advance input',\n",
              " 'help well see vandalizing talk page edits english translating found unhelpful inappropriate mention vandalized yangban article getting warnings',\n",
              " 'yes search celebrities fictional characters batman alan partridge ross geller see would wrote article know word put',\n",
              " 'dynamic ips sure bummer sometimes sorry whoever fucked article',\n",
              " 'fuck many people want original japanese names japanese anime japanese names interfere',\n",
              " 'request links nessie found websites data sites nessie three cryptozoology homepage dinojoe homepage mysteries megasite homepage click cryptozoological subject cryptozoology',\n",
              " 'many years butt comes',\n",
              " 'think refer matters affairs war good bad terrorists spreads terror mayhem evil doers cute puppies mistaken legitimize whatever want long everything else yes strip news coverage read politic siding filter facts website news dump',\n",
              " 'richard etchberger article see issue adding uploading relevant media found photo etchberger brother dedication memorial barksdale afb defenseimagery mil uploaded videos would think means also video white house presentation ceremony already uploaded ogg president remarks',\n",
              " 'nightclubs never seen anything point roberts sports bar breakers reef none clubs thrillhouse feb',\n",
              " 'wtf emo shit drive emo',\n",
              " 'whole bloody world outside usa people would well remember',\n",
              " 'vote deletion article survived vote deletion discussion found several voters recommended title changed since cutoff date things pass public domain change time',\n",
              " 'nit picky point well taken unless anyone objects think ought remove soft pastel reference altogther',\n",
              " 'dokey revert puts square discuss portion brd cycle feel changes broadly transformative pov article improve flow reasons posted supported either side business see change specifically could generate consternation happy put back burner though big quote leading section imo see discussion assume silence implies consent back improving article',\n",
              " 'fact bullshit believed americans reason world would better without usa good therefore good thank goodness',\n",
              " 'think misunderstand already changed article said listed shorthand chase smith like chase smith chase smith doubt used name margaret chase smith lieu margaret smith never heard last name always smith senator smith senator chase smith books referred find anything government sources provide show categorized smith margaret chase chase treated middle name common many married women part surname thus think shorthand margaret chase smith remain simply smith senator smith chase smith unless course still missing something',\n",
              " 'stop doubting please stop saying user gabeyc puppet',\n",
              " 'means saying people ignoring insulted justified explains relate erpert',\n",
              " 'smart would like',\n",
              " 'wtf western corners degrees',\n",
              " 'population mosul existing text says iraq second largest city baghdad eliminates basra second largest city although million citizens million mosul',\n",
              " 'debate centers whether material appropriate see deletion',\n",
              " 'willeys male willey likley gay lol',\n",
              " 'question',\n",
              " 'thanks',\n",
              " 'hinmon',\n",
              " 'togooooooo bobooooooo big fat hairy balls',\n",
              " 'name source mehmet günsür proper name know turkish certainly different name forms found turkish wikipedia opted mehmet günsur another source',\n",
              " 'december utc also agree shred evidence supporting contention native germans spoke anything german interacting jews',\n",
              " 'extremely cool thanks',\n",
              " 'canberra districts moving canberra districts back non disambiguated names done except tuggeranong needs admin first delete redirect page would appreciate could move thanks',\n",
              " 'want congratulate whoever made executive decision make article utterly worthless unusable anyone familiar islamic lunar year calendars brilliant article good nothing anyone outside muslim lunar calendar world stupid idiots',\n",
              " 'greetings hello need information best',\n",
              " 'chasmania removing decreed allah holy prophets concerning history gaza responsible bloodshed gaza strip peace found obeying allah obviously care nothing peace thousands deaths continued politics corrupted officials innocents die think chasmania contributed deaths removed commands allah wiki regarding gaza may allah mercy upon',\n",
              " 'blocked quit vandalizing',\n",
              " 'purple pimpernon leave reference purple pimpernon birth mark baby butt cheek search phrase turns article term actually',\n",
              " 'table formatting started merging tables per event one today standardizing formatting way free breast far back finish rest',\n",
              " 'well opinion worth exactly paid since never edited article sure needs analyzed within coi framework appear someone pushing specific acupuncture clinic whatever clear different general pov pushing case suppose issue coi related discussions come across lately turn conversation one edits one interests real life person behind edits interests difficult identify often unverifiable always easily stuffed coi box',\n",
              " 'somehow many unread ranting idiots allowed post pages many people werent killed unfortunately stupid ones survived procreated begatting inbred stupidity leaving world current pathetic state nowadays merely stating something makes fact true please read real history corvair btw car ever proved safe drive roads depend wiki stuff people know much john',\n",
              " 'jesus name wrote judaic sources hebrew claim authoritarian ownership language would love present sources claim contradict yeshua transliteration one curious nature called controversy describe sure mean judaic sources claiming authoritarian ownership hebrew sources mean alkalai chomski think authorities research linguists jewish assume names idea whatsoever self identify beliefs textbook biblical hebrew used college definitely written gentile hand hebrew english concordance used brown drivers briggs jews refer judaic sources really know talking spell want sources contradicting transliteration please read first comment talk page please read second one please read andrew card never claimed sources contradicting transliteration indeed said wrote yesterday first comment said reconstruction plausible reason reverting sources contradicting know historical sources provide jesus name hebrew aramaic way never said unrelated never andre leadwind reverting edit supporting consensus reached many editors reached conclusion historian ever provided historical source jesus name hebrew aramaic durant speculated jesus hebrew aramaic name would speculation mainstream view historical sources said several times ask source gave reason fact want know controversy describe yeshu stories talmud considered modern scholars jesus way modern scholars see pejorative jesus reflecting stories jews ambivalent feelings jesus christianity many modern scholars well medieval scholars argue jesus case cannot possibly pejorative jesus christianity one reason controversy jesus unclear notzri means many argue reference religious community described jerimiah long jesus born nazarene course reason clear yeshu yeshua jesus name aramaic controversy mean yeshu yeshua jesus name aramaic mean know point one case definitely aramaic name earliest text aramaic name one might think jesus aramaic name lots controversy whether name connection jesus whether name proper aramaic name means refers controversy earliest texts aramaic name seems one could today say jesus aramaic name may yeshu yeshua reliable historical documents relating question without reliable sources claim jesus hebrew aramaic name would original research forbidden wikipedia policy get saying sources jesus better never said sources better simply pointed false claims made hebrew aramaic nothing someone jewish someone christian suggested seem continue suggest wrong christian wrong christian also scholar biblical hebrew aramaic ancient near eastern history would also tell wrong claims hebrew aramaic saying historical sources jesus hebrew aramaic name wikipedian making reconstruction violating repeat reread first comment explaining revert continue stand every sentence first comment true january',\n",
              " 'fuck arsehole dickhead cockface',\n",
              " 'unblock request note reviewing admin unless ibaranoff admits sockpuppetry block evasion see wikipedia sockpuppet investigations ibaranoff commits restrict one account would strongly recommend unblocking apologize evasion attempt wish abuse privileges wish make useful wikipedia get fas listed make another run adminship line',\n",
              " 'strongly agree section needs rewritten correct references',\n",
              " 'please suck dick thanks',\n",
              " 'ground breaking ceremony sunnydale academy promptly clock afternoon february goodly number workers lay members business associates friends surrounding com munities met future nine acre campus ground breaking ceremony marking beginning girls dorm itory first building erected academy program presented temporary platform erected future site new building superinten dent hartman served master ceremonies introducing program speakers elder leon robbins louis offered opening prayer elder hutches president board rectors sketched historic back ground relating activities academy commission day organized day october end long search academy site reached hearty welcome extended academy centralia julius wards first national bank community john shindler elder fattic central union ucational secretary outlined purposes objectives three hundred ucational institutions world assuring hearers come permanent institution community state missouri elder cossentine president union college welcomed sunnydale cademv sisterhood acade mies comprising union territory stated union college would happy accept first graduates well future graduates view fact sunnydale staffed quite largely fully accredited teachers union college hartman pointed loca tions proposed building sites girls dormitory boys domitory ministration building teachers cottages superintendent home ture structures erected spacious nine acre plot intro duced robert deering columbia arcritect drew plans girls domitory deering briefly lined outstanding features building house girls expressed belief beauty prac tibility adequacy staff sergeant willard bresee next introduced building supervisor made brief response sgt bresee experience supervising erection number large buildings auditorium industrial building located union college campus assured well constructed edifices earnest dedicatory prayer elder babcock columbia pre sented plot ground throne grace asking purposes set aside carried hartman con trols caterpillar tractor elder hutches guiding plow herscjiel turner driv ing team typical missouri mules elder babcock holding plow deep furrows made preparation laving foundation new building spite cloudv wet weather every one seemed recognize advantages location pure air sunshine spacious roomy lawns provide ideal setting student home life serious interested atmosphere pre aded group milestone reached rejoice acad emy started primary purpose help save missouri youth aid preparing kingdom god mrs hartman http www adventistarchives org docs cur cur index djvu djvuopts page http www adventistarchives org docs cur cur pdf view fit',\n",
              " 'entry made lot sense replying first time someone came desk noticed effervescently happy made comment attitude affects whole office included running mental essay people fuck yes know heart probably right place gah',\n",
              " 'jason rigert tag placed jason rigert requesting speedily deleted wikipedia done article seems person group people band club company web content indicate subject notable see guidelines notability indicate subject article notable may contest tagging please affix template page leave note article talk page explaining position please remove speedy deletion tag please read criteria speedy deletion specifically article general biography criteria feel free leave note talk page questions',\n",
              " 'barnstar style border solid gray background color fdffe rowspan valign middle rowspan style font size large padding vertical align middle height anti vandalism barnstar style vertical align middle border top solid gray barnstar fucking reporting aiv thankyou nice day also attempt add barnstar see history',\n",
              " 'hay whats kayla kayla',\n",
              " 'yes great fan scrotum wrinkled retainer',\n",
              " 'august number recent edits made unsourced changes changing anti globalization alter globalization libertarian right libertarian need provide citations reliable sources support changes see',\n",
              " 'compromise would anyone problem keeping current arrangement johnson title ocho cinco text consensus reached yes title saying text saying messy unencyclopedic title text read name would immensely prefer stays chad johnson week two nfl season see chad predominantly called media fix article accordingly consensus backed sources reached however perfectly willing help transition article chad ocho cinco indeed called chad ocho cinco ocho cinco majority journalists broadcasters would like see reliable sources calling ocho cinco change article feeling guy named ocho cinco whether think dumb think attention whore fact name enter chad johnson search bar goiung direct anyway big deal another thing page titled chad johnson yet referred ocho cinco throughout page',\n",
              " 'eat shit fag boy',\n",
              " 'fucking braindead oroszka syrian government sunni including first lady army',\n",
              " 'renaming think renaming good idea one name far common case title jane eyre character made article approprite naming scheme would look like jane eyre page novel jane eyre disambiguation containing links others jane eyre character jane eyre musical jane eyre opera etc',\n",
              " 'please refrain adding nonsense wikipedia wars roses considered vandalism would like experiment use sandbox',\n",
              " 'omg hallelujah seen light absolutely right everything acting childish right even though since edits actual wikipedia editor pale imitation one primary purpose impede real progress every way possible keep united states pure unsullied barnbarians believed lived everywhere else scary wide world fool know iron keen determination right great wrongs victorious glorious crusade drag unworthy unwashed americans clear white light revelation enjouyed rest world onward program hail great metric crusade obt hble srvt',\n",
              " 'atwozee bloody gujjar kanjar keep fucking face away wanna see bloody wahibi kanjar devjats talk kanjar means pimp every time use new name regards',\n",
              " 'mos please try space properly punctuation editing mainspace articles conform mos guidelines',\n",
              " 'אוקיי שיניתי לליד בית חנינא פשוט באופן כללי כרושמים איזשהו מקום שנמצא במה שקוראים היום מזרח ירושלים שהוא בתוך ירושלים כבר קשור לפוליטיקה לדעתי בכל מקרה תודה העזרה העריכה',\n",
              " 'thabnks mark yeah ago still got take easy without repeat episode vomiting everything ate complete loads blood pleasant',\n",
              " 'american association advancement science aaas science journal quotations taken science scientific cosncensus already well established fact linguistically genetically see political agenda fit neutral defenition',\n",
              " 'supported large number sources see origin theories christopher columbus details infobox includes information widely believed international historians',\n",
              " 'one advantages sandpiting article ask editors review edit submit two ways one approaching editor directly talk page alternatively putting note related project talk page asking review happy help suggestions guidance',\n",
              " 'may utc image retarded leave besides everyone knows apple bong way cooler',\n",
              " 'barak obama faith frequent item comment presidential election campaign miliband ethnicity hardly commented labour leadership campaign determines weight general level coverage issue subsequently becomes significant may revise article merely reflecting general consensus mainstream media',\n",
              " 'semi protected edit request october features well traditional timekeeping apple watch allow wearers make contactless payments apple pay mobile payment service introduced event watch apple watch capable receiving phone calls well imessage sms texts track fitness run third party apps built using watchkit apple new api apple watch software development control apple well act walkie talkie viewfinder remote shutter release iphone camera design apple watch available number customisable design configurations across three distinct collections two sizes making individual models considering number physical models wide variety digital watch faces available model potential personalise apple watch considerable apple head design jony ive stated interview apple watch announced total possible number unique designs millions although yet unclear whether exaggeration apple watch also features new pressure sensitive touchscreen distinguish tap press features dial called digital crown turned scroll zoom pressed return home screen allowing user interact content display without obscuring fingers also features taptic engine linear actuator provides haptic feedback users interact watch receive notifications well allowing share physical taps apple watch users watch charged means inductive charging using cable similar magsafe cable apple macbook family laptops reports also suggest retail box edition series apple watch act combined charging display stand',\n",
              " 'soulscanner rcmp agent thank soulscanner one thing sure article total crap still live quebec nation fact want write lead liar ignorant issue references reliable take pov columnists presse globe mail know reliable sources methods used goebbels world war respect want know write quebec seriously biased far reality difference hours day since wife kids job hate quebeckers fine leave alone please',\n",
              " 'gargantuan cocks even trying',\n",
              " 'created page music visualisation called morphyre deleted insufficient coverage listed apple itunes store two different versions http itunes apple com app morphyre visualiser http itunes apple com app morphyre christmas visualiser windows media player visualisations page http windows microsoft com windows downloads windows media player visualizations softpedia http mac softpedia com get audio morphyre visualiser shtml well winamp site site originally http www winamp com visualization morphyre visualizer think gives least good coverage music visualisations articles wikipedia agree please reinstate morphyre page let know thanks gordon',\n",
              " 'back nuts',\n",
              " 'exactly helpful advice unable articulate coherent criticism suggestion arbitrary hints time limit wip says would inclined say sections article need attention lede always come back would like propose least others welcome course choose another section work together would propose one justice requires expansion tag since late think talk page appropriate forum initial bigger edits perhaps sandbox could used end editing expansion post sections additional comment',\n",
              " 'redirect talk comparison email clients',\n",
              " 'understand behaviour dear krator really understand behavior problem photo typical buildings amsterdam photo excellent quality better many others shows three beautiful houses amsterdam amsterdam hundreds uploaded photo want delete photo plenty useless low quality photos wikipedia delete thank attention kostaskon',\n",
              " 'project notification strongly object inappropriately supercilious messages talk page kindly fuck warmest regards',\n",
              " 'purpose novorossiya suppose putin never recognizes novorossiya legitimate independent state would function novorossiya ukraine never let donbas result war continue indefinitely purpose novorossiya kill maim ukrainian people',\n",
              " 'quite right wikipedia directory removed prices changed traditional security services security guards btw type posts sign time stamp comment',\n",
              " 'butt face butt face',\n",
              " 'wknight going give timeline think behaved aggressively really see could viewed july noticed ridiculous mess danny valencia article turned epeefleche reverted edits july stating removed supported point material left threatening message talk page see wanting get edit war took wikipedia talk wikiproject baseball left messages epeefleche talk page later day offered happy medium version article thought would satisfy think aggressive accurate word describe actions vodello comment even worth dignifying response',\n",
              " 'days fake homies rebels without caused',\n",
              " 'npov changes talk gilad atzmon archive',\n",
              " 'latest sock louisphilippecharles please take look know archive sure restored queue active cases needs addressed thanks',\n",
              " 'see since oop north nevertheless surely school wins final every single year might unusual given school actually unusual event school win',\n",
              " 'another one worker world party claimed tbey responsible organizing demonstration covered article try find details',\n",
              " 'hate eagles since made comment every action undertake somebody fucking ass thinking trip ani would productive thoughts',\n",
              " 'hello live iran like sandra cretu much like husband like voice years old years listen sandra voice like everything sandra likes please tell mail talk sandra cretu',\n",
              " 'ira still killing people',\n",
              " 'please discontinue involvement outside article namespace quite shocked tonight stumbled onto recent rfa saw vote justification quite frankly see excuse harm caused community ridiculous imposition bureaucratic arbitrary numerical standard neither supported policy community behavior find unacceptable choose use helpful user pawn wiki political battle result alienated project never ashamed wikipedia editor careful consideration believe users caused travesty greater harm project asset especially disappointed case offered switch neutral explained minimum failed follow word please confine activities main namespace discontinue involvement altogether thank',\n",
              " 'stupid typo',\n",
              " 'ytou think shes greek moron',\n",
              " 'flooding news sources minden times http mindentimes township minden hills http www mindenhills',\n",
              " 'devil get',\n",
              " 'welcome hello welcome wikipedia thank hope like place decide stay pages might find helpful five pillars wikipedia tutorial edit page write great article manual style hope enjoy editing wikipedian please sign messages discussion pages using four tildes automatically insert username date need help check wikipedia questions ask ask question place helpme question talk page welcome also try visiting tambayan philippines collaborating philippine related articles welcome',\n",
              " 'nothing unless let',\n",
              " 'first two media mao page delete well understand said listen chinese know interview mao',\n",
              " 'fuck irwin goodman seriously fuck erwin goodman',\n",
              " 'totally agree sca could possibly agree understand nazi germany aggressor europe problem misunderstanding people equate german nationalism nazism nazis aggressors europe perfect example das lied der deutsche think biggest question mark whole era another party ruled germany one attack jews minorities taken german inhabited lands back loss versailles would considered acceptable war conquest like hitler war remarks talking happened germans poles made stereotypical nationalist remarks seen talk expulsion germans wwii elsewhere many times must told two wrongs make right matter always poles always insert talking sentence polish point view rather german say relatively little historical political contex know obviously mean provide excuses polish government',\n",
              " 'heh hell disputed tag blinded left hatred explanation okay hard assume good faith leontes',\n",
              " 'wikiproject red hot chili peppers september newsletter colspan valign middle style width background color border gray solid padding red hot chili peppers wikiproject newsletter volume september valign top style border gray solid padding width john like give fuck anything band care gunna show lot shows terrible chad smith news announcements welcome red hot chili peppers wikiproject sixth newsletter dated monday october john frusciante promoted featured article status john frusciante discography promoted featured list status blood sugar sex magik featured main page september one hot minute currently good article candidate valign top style border gray solid padding width new members new members joined project editors receiving newsletter signed wikiproject red hot chili peppers wish stop receiving newsletter want receive different form please contact publishers newsletter delivered automated',\n",
              " 'fuck coming towards hide penis',\n",
              " 'arent brightest crayon box',\n",
              " 'request update hello bot make update page please thank',\n",
              " 'inflation conversions made argument occasions generally little success academic even popular historians stay well away trying convert cost military equipment modern terms due many problems well loss context conversions often pop wikipedia articles cheers',\n",
              " 'sounds good',\n",
              " 'edit wwe new year revolution thank experimenting page wwe new year revolution wikipedia test worked reverted removed please use sandbox tests want take look welcome page would like learn contributing encyclopedia',\n",
              " 'chase cheetah one dangerous animals twinke hand around die foot weighs lbs top speed mph piss kick butt mess grrr baby',\n",
              " 'long historical usage override current name usage',\n",
              " 'june please stop disruptive editing vandalism continues blocked editing wikipedia',\n",
              " 'hank appraiser answer must remember long experience please help good try scare away wikipedia harsh tone answers thank telling something know alphabetical list rivers germany appears within list rivers germany really needed said wikipedians top critizism people qualified ask simple question yes hope many read learn loose many good new editors old editors attitude simple question',\n",
              " 'brought concerns days ago rebuffed one said caused slide grand water saturation record month rain yes logging area far seen heard equation current official explanation slide newspaper reporters folks encyclopedia gotta remember yes',\n",
              " 'page absolute whitewash man known internationally championed illegal indiscriminate bombings cambodia inconvenienced travels load horse shit',\n",
              " 'first source given footnote texas intended anthropological pov illustrative semantical roots foundational idea baptism primarily etymological exemplification english baptism greek linguistical root hence pie etymon reflexes cited list used paragraph pax vobiscum',\n",
              " 'fuck cares ahhaahhahaha admins blocked already still edit discussion page long keep using personal attacks',\n",
              " 'cause devil evil mind penis materialscientist birth place',\n",
              " 'file japanese officials check radioactive material residents living near fukushima station jpg thank work file japanese officials check radioactive material residents living near fukushima station jpg',\n",
              " 'update economy size according latest list released imf india largest economy ppp terms ahead japan please update',\n",
              " 'shubaluba dingdong wang suckers insert non formatted text',\n",
              " 'like dicks',\n",
              " 'social conservatism say find edit war ridiculous would get participating page lockdown days probably worst possible version let please back nail case authoritarian discussion editing unquestioned consensus',\n",
              " 'guys sick',\n",
              " 'pavel fursov sorry left account logged public terminal idiot put bad',\n",
              " 'cite policies wasting fucking time cite policy strike bastards better good fucking idea complaint say wasting goddamn time opinions worthless matters policies guidelines sources give pile steaming dogshit manners sounding nonsense bullshit understanding community mores whole fuck lot ruder opinion jesus christ stop polite trolling learn fucking rules wikipedia rules simple complex',\n",
              " 'deletion discussion wctz hello johnson wanted let know discussion whether wctz deleted comments welcome wikipedia articles deletion wctz new process articles deletion group discussion vote usually lasts seven days need guide contribute last least highly encouraged continue improving article sure remove tag deletion nomination top thanks',\n",
              " 'excuse see say spilled beer laptop editing page little fuck never owned laptop drink beer hardly',\n",
              " 'momenul islam',\n",
              " 'speedy deletion converted prod hybridshoring hello underbrennan thanks patrolling new pages letting know converted speedy deletion tag placed hybridshoring proposed deletion tag speedy deletion criteria extremely narrow protect encyclopedia fit page question may wish review csdcriteria speedy deletion tagging pages thank',\n",
              " 'please see done ruwiki making something similar would fine',\n",
              " 'grrrrrrrrrrrrrrrrrrrrrrrrrrrrrrrrrrrrrrrrrrrrrrrrrrrrrrrrrrrrrrrrrrrrrrrrrrrrrrrrrrrrrrrrrrrrrrrrrrrrrrrrrrrrrrrrrrrrrrrrrrrrrrrrrrrrrrrrrrrrrrrrrrrrrrrrrrrrrrrrrrrrrrrrrrrrrrrrrrrrrrrrrrrrrrrrrrrr suck suck suck suck suck suck suck suck suck suck suck suck suck suck suck suck suck suck suck suck suck suck suck suck suck suck suck suck suck suck suck suck suck suck suck suck suck suck suck suck suck suck suck suck suck suck suck suck suck suck suck suck suck suck suck suck suck suck suck suck suck suck suck suck suck suck suck suck suck suck suck suck suck suck suck suck suck suck suck suck suck suck suck suck suck suck suck suck suck suck suck suck suck suck suck suck suck suck suck suck suck suck suck suck suck suck suck suck suck suck suck suck suck suck suck suck suck suck suck suck suck suck suck suck suck suck suck suck suck suck suck suck suck suck suck suck suck suck suck suck suck suck suck suck suck suck suck suck suck suck suck suck suck suck suck suck suck suck suck suck suck suck suck suck suck suck suck suck suck suck suck suck suck suck suck suck suck suck suck suck suck suck suck suck suck suck suck suck suck suck suck suck suck suck suck suck suck suck suck suck suck suck suck suck suck suck suck suck suck suck suck suck suck suck suck suck suck suck suck suck suck suck suck suck suck suck suck suck suck suck suck suck suck suck suck suck suck suck suck suck suck suck suck suck suck suck suck suck suck suck suck suck suck suck suck suck suck suck suck suck suck suck suck suck suck suck suck suck suck suck suck suck suck suck suck suck suck suck suck suck suck suck suck suck suck suck suck suck suck suck suck suck suck suck suck suck suck suck suck suck suck suck suck suck suck suck suck suck suck suck suck suck suck suck suck suck suck suck suck suck suck suck suck suck suck suck suck suck suck suck suck suck suck suck suck suck suck suck suck suck suck suck suck suck suck suck suck suck suck suck suck suck suck suck suck suck suck suck suck suck suck suck suck suck suck suck suck suck suck suck suck suck suck suck suck suck suck suck suck suck suck suck suck suck suck suck suck suck suck suck suck suck suck suck suck suck suck suck suck suck suck suck suck suck suck suck suck suck suck suck suck suck suck suck suck suck suck suck suck suck suck suck suck suck suck suck suck suck suck suck suck suck suck suck suck suck suck suck suck suck suck suck suck suck suck suck suck suck suck suck suck suck suck suck suck suck suck suck suck suck suck suck suck suck suck suck suck suck suck suck suck suck suck suck suck suck suck suck suck suck suck suck suck suck suck suck suck suck suck suck suck suck suck suck suck suck suck suck suck suck suck suck suck suck suck suck suck suck suck suck suck suck suck suck suck suck suck suck suck suck suck suck suck suck suck suck suck suck suck suck suck suck suck suck suck suck suck suck suck suck suck suck suck suck suck suck suck suck suck suck suck suck suck suck suck suck suck suck suck suck suck suck suck suck suck suck suck suck suck suck suck suck suck suck suck suck suck suck suck suck suck suck suck suck suck suck suck suck suck suck suck suck suck suck suck suck suck suck suck suck suck suck suck suck suck suck suck suck suck suck suck suck suck suck suck suck suck suck suck suck suck suck suck suck suck suck suck suck suck suck suck suck suck suck suck suck suck suck suck suck suck suck suck suck suck suck suck suck suck suck suck suck suck suck suck suck suck suck suck suck suck suck suck suck suck suck suck suck suck suck suck suck suck suck suck suck suck suck suck suck suck suck suck suck suck suck suck suck suck suck suck suck suck suck suck suck suck suck suck suck suck suck suck suck suck suck suck suck suck suck suck suck suck suck suck suck suck suck suck suck suck suck suck suck suck suck suck suck suck suck suck suck suck suck suck suck suck suck suck suck suck suck suck suck suck suck suck suck suck suck suck suck suck suck suck suck suck suck suck suck suck suck suck suck suck suck suck suck suck suck suck suck suck suck suck suck suck suck suck suck suck suck suck suck suck suck suck suck suck suck suck suck suck suck suck suck suck suck suck suck suck suck suck suck suck suck suck suck suck suck suck suck suck suck suck suck suck suck suck suck suck suck suck suck suck suck suck suck suck suck suck suck suck suck suck suck suck suck suck suck suck suck suck suck suck suck suck suck suck suck suck suck suck suck suck suck suck suck suck suck suck suck suck suck suck suck suck suck suck suck suck suck suck suck suck suck suck suck suck suck suck suck suck suck suck suck suck suck suck suck suck suck suck suck suck suck suck suck suck suck suck suck suck suck suck suck suck suck suck suck suck suck suck suck suck suck suck suck suck suck suck suck suck suck suck suck suck suck suck suck suck suck suck suck suck suck suck suck suck suck suck suck suck suck suck suck suck suck suck suck suck suck suck',\n",
              " 'jews zionism neturei karta extreme although also violate fringe way palestineremembered tried integrate articles violates undue weight',\n",
              " 'notability tag removed notability tag chrissakes already article guy swedish wikipedia speaking someone speaks swedish could translate text would excellent',\n",
              " 'bullshit simpson acquitted trial tons details article lloyd',\n",
              " 'web science searching title topic fields get colombian conflict results colombian war results colombian armed conflict results colombian civil war results colombian internal conflict results',\n",
              " 'review citation clean update europa series section update pecification section update counterfeiting section reference watermarks ecurity features section',\n",
              " 'review review transcluded talk secret life american teenager edit link section used add comments review reviewer',\n",
              " 'mistaken pac man plus also created hack original pac man non namco people later sold much like pac man mame even requires original puck man rom order play pac man plus indicating basic pac man code sprite changes disappearing mazes',\n",
              " 'jan please add nonsense wikipedia considered vandalism would like experiment use sandbox thank',\n",
              " 'agree well please merge turn direct',\n",
              " 'stop helpful nobody anything winning wikipedia suggest take break editing articles earth edits vice versa guys continue edit war like going result blocks',\n",
              " 'pictures chinese culture ugly put beautiful pictures replace like',\n",
              " 'nominating article deletion please let know nominate article deletion',\n",
              " 'diamond anatomy explanation diameter width diamond measured thru girdle table largest facet gemstone crown portion diamond extending girdle table girdle intersection crown pavilion defines perimeter diamond pavilion bottom portion gemstone extending girdle culet culet facet tip gemstone preferred culet visible unaided eye none small depth height gemstone culet table crown angle angle bezel facet relative table plane pavilion angle angle main facet plane respect table plane presence absence culet make diamond either faceted one differing points view whether diamond needs culet people say absence culet ensures light stays within diamond says culet point leaves diamond susceptible breakage culet delicate part diamond diameter width diamond measured thru girdle table largest facet gemstone crown portion diamond extending girdle table girdle intersection crown pavilion defines perimeter diamond pavilion bottom portion gemstone extending girdle culet culet facet tip gemstone preferred culet visible unaided eye none small depth height gemstone culet table crown angle angle bezel facet relative table plane pavilion angle angle main facet plane respect table plane presence absence culet make diamond either faceted one differing points view whether diamond needs culet people say absence culet ensures light stays within diamond says culet point leaves diamond susceptible breakage culet delicate part diamond diameter width diamond measured thru girdle table largest facet gemstone crown portion diamond extending girdle table girdle intersection crown pavilion defines perimeter diamond pavilion bottom portion gemstone extending girdle culet culet facet tip gemstone preferred culet visible unaided eye none small depth height gemstone culet table crown angle angle bezel facet relative table plane pavilion angle angle main facet plane respect table plane presence absence culet make diamond either faceted one differing points view whether diamond needs culet people say absence culet ensures light stays within diamond says culet point leaves diamond susceptible breakage culet delicate part diamond diameter width diamond measured thru girdle table largest facet gemstone crown portion diamond extending girdle table girdle intersection crown pavilion defines perimeter diamond pavilion bottom portion gemstone extending girdle culet culet facet tip gemstone preferred culet visible unaided eye none small depth height gemstone culet table crown angle angle bezel facet relative table plane pavilion angle angle main facet plane respect table plane presence absence culet make diamond either faceted one differing points view whether diamond needs culet people say absence culet ensures light stays within diamond says culet point leaves diamond susceptible breakage culet delicate part diamond diameter width diamond measured thru girdle table largest facet gemstone crown portion diamond extending girdle table girdle intersection crown pavilion defines perimeter diamond pavilion bottom portion gemstone extending girdle culet',\n",
              " 'guys watch channel youtube',\n",
              " 'trick asking specifically correct question exact right way illuminating sources wiki require biographical sources person history automatically discredited liar specific enough',\n",
              " 'care hitler claimed hitler clearly need execute jews defend germany also genocide justifiable extreme savage dark view many people share going fight death radical islam better die die',\n",
              " 'went ahead',\n",
              " 'quite concur fellow editor work much appreciated lisa',\n",
              " 'summarize dealings matter far talk page alan liefting please read cat anf please observe convention category land read cat expected agrees quote see observe articles provide three actual examples major high profile featured articles amongst frequently visited carefully edited entire encyclopedia automobile physics christianity alan liefting wikipedia cat eponymouscategories largely ignored find instances guideline followed despite show many many high profile reviewed instances followed clearly largely ignored mostly ignored alan liefting also needs read hmmm interesting debating style demonstrably wrong saying contrary established guideline common practice one single person agrees argument applies many useful category removals recently undertaken shall reverting',\n",
              " 'egeetouch smart nfc padlock first introduced august japan diy homecenter show voted best new product buyers smart luggage lock first showcased international consumer electronics show ces las vegas usa named innovation award honoree tech better world category promotional rest article simply promotion company products think way articles tell advertisements sell tell company try sell products hope helps',\n",
              " 'paul viiding kristen viikmäe luule viilma viimne reliikvia',\n",
              " 'yes please help move new user know',\n",
              " 'edits reverted responded article',\n",
              " 'proposed deletion removed prod article reference clearly assert notability although article need expanded',\n",
              " 'welcome hello welcome wikipedia thank contributions hope like place decide stay good links newcomers five pillars wikipedia edit page help pages tutorial write great article manual style hope enjoy editing wikipedian way please sure sign name talk pages using four tildes produce name current date three tildes name questions post help desk ask talk page welcome',\n",
              " 'bad god first principle hate',\n",
              " 'tryptofish perhaps might want engage dawkins others increasingly prefer accurate term archaic pre scientific usage',\n",
              " 'agreed stupid say malfoy albino',\n",
              " 'nosite onog jamaka sramota fudbal',\n",
              " 'happy easter hey wanted wish happy easter whatever celebrate atheist tell truth love chocolate sorry userpage design taking long design going running problems',\n",
              " 'hope move flu pandemic united states state create double redirects',\n",
              " 'edit request add picture allen west racism section example one makes key point quite eloquently',\n",
              " 'personal attacks feature constant barrage personal attacks user constantly attacking tired would appreciate personal attacks stop patient tried basically stay away user however blue sent message talk page march edit made january essence save serious problem created neo impressionism left article day sent blue see forced specific size gallery may work well desktop definitely therefore please reconsider default setting may allow better effect screens collaborators best reply due respect last edit changed gallery computer gallery ran clear signac changed gallery added section return gallery normal think welcome tyrenius interest continuing dialogue user',\n",
              " 'tried ask nicely reply message delete page kate say besides kate deserve page stephanie retuta',\n",
              " 'new messages last change click either blue links box',\n",
              " 'preceding unsigned comment added',\n",
              " 'redirect talk city strangers',\n",
              " 'forces ganondorf become hyrule first shogun fuck',\n",
              " 'case missed decision speedy keep',\n",
              " 'people argentinalive apile crap',\n",
              " 'splitting two separate articles unnecessary main article names per section translations english meher baba one make separate article translation incorporate anything else said book book meher baba possible article moved names ahura mazda',\n",
              " 'come one first came nyt article others pages report report could read blaming sides summary caricature report content personal view like comrade view',\n",
              " 'muhammed raped little children worshipped satan sacrificed babies name muslims terrorists shot allah exist',\n",
              " 'intertropical convergence zone itcz',\n",
              " 'see also stephen hawking huh',\n",
              " 'bastard back bastard pimp mothrfucker sisterfucker',\n",
              " 'neofascism religion would mind look actions article enviroknot insist reinserting pov despite blocked credible supporting cites unique pov fact cberlet provided talk page less signifcant credible references supporting point fascism primarily right wing product thanks mirv',\n",
              " 'queue issues including lead hook crisco take care two pending issues affect queue sasata posted dyk lead hook problematic yoninah pointed queue hook orthodox rabbi going run sabbath orthodox jews use technology among things able see hook main page swapping rabbi hook queue means runs local sundown friday sabbath starts thanks little work pearsall hook since designed extension fire station closed original building',\n",
              " 'ridiculous etymology english word hummus comes turkish humus meaning hummus food dip spread turn comes arabic ḥummuṣ ridiculous actually quite desperate',\n",
              " 'solve problem would much appreciated either tell makes difference done done soon',\n",
              " 'attempt distort facts discussion little discussion never crusade placing god name attempt prove translations inferior also confusion meaning word render problem made defenseless revert properly source edit based flimsy excuse attempting detract fact bringing ridiculous points little bearing edit please stick content leave unsolicited baseless comments editor trouble understanding crusade replacing god name objections already clearly stated therefore need add interpretation please stick content material properly sourced justifiable reason removal please restore properly sourced material lets open rfc get settled consensus editors',\n",
              " 'ring mail mail plate mail hello indeed several type mail different countries ended calling different way historical mail seen oriental style japanese moghul mongolian done flat round rings say know refencing european kagomegata gusari futae gusari kame gusari indian equivalent oriental mail organises ring differently rings flat fabric linked much smaller oval rings several patterns regardless different construction european mail understanding wrong victorian used tern ring mail describe european mail opposition oriental way called chain mail fair good anything yes even flat rings mounted looks like succession rings oriental mounting look like chain take moguls mongol islamic armour oriental disposition link small plate metal plates separated attached strip mail one link japanese mail http www sengokudaimyo com katchu katchu html link french wiki http wikipedia org wiki cottedemaillesannulaire link plate mail http www quaibranly pod recherche aspx phil',\n",
              " 'support circlejerk progress',\n",
              " 'angry matter order need reply message anyone sends people know ignoring people start getting mad decide even care users reply anymore know laughing right think funny joking need take serious start replying peoples messages matter order would like recieve wikipedia newspaper add list well tis may force yes know pov npov supports jedi dark side leave alone gosh esp',\n",
              " 'ibm image definitely free unknown author image published years ago upload commons expect included per consensus list',\n",
              " 'wikipedia nazis need stop removing information know piece information true doesnt mean true',\n",
              " 'ready thinks',\n",
              " 'block thanks blocking think week appropriate given permanent ban sockmaster several months applied address involved given repeated block evasion user would better block extended blocks match',\n",
              " 'problem least offer opinion',\n",
              " 'skull crossbones say edit summaries articles skull crossbones symbol symbolize death well correct solution add image new articlesit remove articles already wikipedia kid book tabloid newspaper video game cartoony imagery absolutely business encyclopedia know pages please remove local group editors decided like feel free let know figure happening make sure clarify absolutely unacceptable images',\n",
              " 'watch back aka shivs shanks well fashion purpose unlikely come across something already perfectly broken ready use change shiv text less shard used shiv definitely knife changed also luthor picks let anyone know uses uses way models prisoners twist break maximum damage one hit also change relatively original research never stated movie using think wrapped tape around end would closer definition fashioning device could take sliver glass wrap tape around handle shiv anyway trying say knife definitely reference darkseid knife edit summary',\n",
              " 'sources provided either coconis claim previous bob peak claim',\n",
              " 'whole concept blocking banning anachronistic tribal practice predates advent rule law subject first three laws ever carved onto stone tablets years ago hammurabi mesopotamia first three laws entirety code hammurabi translated english one ensnare another putting ban upon prove ensnared shall put death one bring accusation man accused river leap river sink river accuser shall take possession house river prove accused guilty escape unhurt brought accusation shall put death leaped river shall take possession house belonged accuser one bring accusation crime elders prove charged shall capital offense charged put death second law seems bizarre modern standards appears source dismissive phrase jump lake compare yiddish expression nem zich vaneh take bath jump lake laws code hammurabi sentence two laws bracketed pukeworthy prologue hammurabi introduces narcissistic epilogue affirms authority sets forth hopes prayers code laws note wikipedia even evolved hammurabi since wikipedia even level due process required hammurabi first law given wikipedia adopted anachronistic pre hammurabic tribalistic ochlocracy even rise level code hammurabi wonder wikipedia venue recurring classic liminal social drama reprises oldest stories annals human history hammurabi notion advise everyone jump lake tainted unproven allegation reckon secular cultural practice absolution ablution inspired early morning baptisers qumran opt hammurabi remedy mikvah ritual bath baptismal sin cleansing survives day christian denominations course interlude desert bodies holy water aaron devised alternate ritual involving delightful goat named caprice rather fond caprice since story inspired portions passion christ find ironic site purports offer sum human knowledge still struggling learn oldest lessons annals human history suggest people wash hands jimbo anachronistic cult pre hammurabic tribalism cleanse grit jumping lake evolving modern enlightened governance model along lines suggested innovative pioneers moses socrates buddha jesus lao tsu maimonides thomas becket stephen langton benjamin franklin thomas jefferson henry david thoreau mohandas gandhi king thich nhat hanh john rawls father john dear barak obama kermit frog barsoom tork associates barsoom tork',\n",
              " 'confused think slur homosexuals correct anything sounds like sort thing non native speaker would say',\n",
              " 'rubbish factually true',\n",
              " 'redirect talk cuz',\n",
              " 'iep next steps annie surprised see plans continue pune even expand another campus sure still discussion speaking someone put quite hours iep cleanup already expects many would disappointed program continues anything like current form understand post mortem continuing hope revised iep plan next semester scale cause anything like current impact scale additional work caused think great many people upset clear dialogue community plans commit iep next incarnation argued community involved discussions future usep know said discussions think usep pretty good shape decide different direction one suggested think iep stakes much higher would really like see discussions take place wiki least simultaneously mailing list discussions thanks',\n",
              " 'schluchtenscheißer guys shit canyons used germany',\n",
              " 'alleged dutch name dutch karelskoning charleroi frequently used writes incorrect information karelskoning never ever used suggest karelskoning deleted like dutch french articles charleroi unless reliable sources belgian books reference works official documents prove name exist internet hits actually quotes wikipedia utc',\n",
              " 'special version one wiki try run www sarkotube com understand special version empty find explication find contribute lot special page apologise disturb question help enjoy best regards',\n",
              " 'posted sharon mooney',\n",
              " 'arthur macarthur son born february general macarthur son jean marie faircloth macarthur mentioned relative general',\n",
              " 'well fast thanks fixing bullshit guess',\n",
              " 'find chillingly interesting correct information complain something wrong willing correct',\n",
              " 'jack nobody asshole nobody likes log shut fuck get job',\n",
              " 'july utc thanks quite well hope cheers',\n",
              " 'december utc went looked different stub categories quite seem find one fits transfer act looking something along lines natural resources legislation three possible stub categories found politics poli stub government gov stub law law stub think government one would best using general stub also fine stub stub sorters find category article create new one found stub related pages useful stub sorting stub types listing article stub always required use feel article fairly short could really expanded upon see round',\n",
              " 'possible said able find something postulating theory formally',\n",
              " 'establishment reckon plane stupid looking alot prettier',\n",
              " 'one touched cris alexander page evidence anyone contacted',\n",
              " 'khoikhoi block remarkably ill considered suggest lift let admins handle discussion participating decide whether editor banned understand editor banning lied yes lied admin troubling history harassing banned editor agf pretty clear assuming good faith preclude direct confrontation lying occurs link thread jayjg lies saying history regarding holocaust denial jay knows better anyone else since one make original bogus allegation categorically false record accept legitimacy block',\n",
              " 'one thing state airs gonna suck exactly black lion rio ancient evil',\n",
              " 'seeing actual belief christian concept original sin judaism place jewish veiwpont',\n",
              " 'look edits illy page think see mostly revert vandalism stupid comments posted addresses article deserves defense even views necessarily',\n",
              " 'hate hate idiot profoundly mentally retarded severly autistic born dyslexic cant even read hahaha retarded',\n",
              " 'regarding auguste gautier documenting gautier family much would like suggest take look wikipedia policy notability people people documented encyclopedia pass criteria notability mere genealogies rarely notable wikipedia genealogical database',\n",
              " 'fall indeed season name avoided confusing southern hemisphere',\n",
              " 'court shit cause judge look like motherfucker put ass boat made nigga outro mamma rag nigga rag nigga ballistics nigga uretha nigga nigga',\n",
              " 'heritage listed buildings looking information heritage listed buildings albury regards state listings local council listings main two references could found wikipedia article border mail http www bordermail com news local news general alburys heritage buildings risk aspx article unfortunately provide full listing conflict list provided wikipedia specifically stating specific buildings post office state heritage listed wikipedia states another building waterstreets hotel know fact defiantely state heritage listed correctly states border mail article listed wikipedia list also noticed list seems two double ups well calling reliablity doubt anyone know full referenced list state heritage listed buildings albury would good get right perhaps also make list significant historical buildings albury something like',\n",
              " 'redirect talk stochastic roadmap simulation',\n",
              " 'imprisoned hague could add detail exactly crimes accused trial section article lists charges five counts crimes humanity article statute extermination murder persecutions political racial religious grounds persecutions inhumane acts forcible transfer three counts violations laws war article statute murder unlawfully inflicting terror upon civilians taking hostages one count grave breaches geneva conventions article statute willful killing unlawful transfer civilians religious national identity',\n",
              " 'investments section inline citation footnoted',\n",
              " 'article egregiously poor',\n",
              " 'well stepped baha encyclopedia project page abbas effendi used final answer http www bahai encyclopedia project org index php option comcontent view article abdul baha abbas catid administrationinstitutions itemid',\n",
              " 'problem main peeve addition stupid cruft maybe satisfy want make jimmy gay',\n",
              " 'would get political racial versus article mongols diverse people buryats khalkha etc considered mongols really core distinct mongols uyghurs merkits tatars factually mongolia got integrated genghis khan became mongolians essentially people fighting mongols kazakhs uyghurs others really different intermixed mongolic people tell mongols begin uyghurs start instance travel mongolia xinjiang cultural terms thing germanics slavs racial cultural terms lot various people mongolia right west cultural article last thing want racial topic article take easy',\n",
              " 'first paragraph first paragraph lacking description misleading information website powered google custom search developed heap media article claims code written google blackle simply provides domain name also added summary described principle website per wikipedia layout firstparagraph reverted',\n",
              " 'huh gronky made multiple efforts kicked project talking place discussion find accusation simply bizarre',\n",
              " 'called randy bully objected friend ched insidiously calling narcissist back friends matter dirty method',\n",
              " 'ariel trying sound like cock bite look like admin could wrong watching nasa announced scrub added fuck think speculated speculated nothing nasa said launch scrubbed due leak speculation fact breaking news edits done twice many edits past hour updating every little thing abusive admit first edit articles favorite topic life would meaning get bunch wienies ruins site trying cock take offense someone accuses something wrong one',\n",
              " 'mention abolitionism given subject matter opposition treason claims levied southern soldiers civil war involuntary union spooner ardent abolitionist views mentioned give article proper context say absolutely essential otherwise could easily painted pro slavery racist pro confederacy none things',\n",
              " 'accuse someone slander please specify false facts asserted please make unfounded personal attacks article seems bend backwards fair breggin precision written defamation libel slander unfounded accusation defamation defamatory try specific precise credibility',\n",
              " 'thomas objectivist removed clarence thomas objectivist category firstly influenced ayn rand make one objectivist secondly opposition abortion removes ipso facto category upholding right abortion integral part philosophy even importantly one cannot objectivist catholic thomas since integral component objectivism atheism',\n",
              " 'kidding looked archives found multiple instances referring edits made agreeing referred previously drawing conclusion reasonable person would respect edits claim nations formed soviet union considered succeeding soviet union one big flaw baltic states already formed ussr even created reader look infobox see countries came existence dissolution ussr misled baltic states already existed since fact notion baltic states came existence dissolution ussr considered russian nationalist pov know readers care technicalities matter omitting anything separating useful lay reader obvious care project unto reader encyclopaedia readers come educated informed',\n",
              " 'course irrelevent yet must addressed face tone blame directed towards copts page part conversation like natives peaceful heard resistance egyptians put arabs spite embargo set byzantines providing natives weapons coward byzantines ran away egyptians like yoannis samanoud later mina ben bokira beshmurites gave arabs hell time defended land latters resorted treachery performed organized ethnic cleansing egyptians many delta problem see repeat people say time scrutiny consideration side story',\n",
              " 'business economic topics people',\n",
              " 'sihahahahahaahahahahhahahahahah ass hole duck balls gnatures',\n",
              " 'salem witch trials task force dear wikipedians another wikipedian created salem witch trials task force interested history massachusetts colonial america witchcraft instances religiously motivated violence task force please check',\n",
              " 'lyor cohen try take sourced links tell hebe faggot benefactor paying make vanity bio squeaky clean put section controversy tvt lawsuit fbi investigation participation money laundering irv gotti rule murder inc thx bye factotum bitch',\n",
              " 'please listen moment called theories relationship irrelevant find sources stop wasting time pointless original research simplest wikipedia guidelines misunderstood many people',\n",
              " 'time corliss profiled many film celebrities including julia roberts tom cruise kevin costner woody allen subjects included michael jackson nascar racing',\n",
              " 'fat kid poops hids motherness free session learning poop tuesdays park kitten poopness',\n",
              " ...]"
            ]
          },
          "metadata": {
            "tags": []
          },
          "execution_count": 28
        }
      ]
    },
    {
      "cell_type": "code",
      "metadata": {
        "id": "OH0nq79D9wWj"
      },
      "source": [
        "from sklearn.feature_extraction.text import CountVectorizer\n",
        "\n",
        "#countvector = CountVectorizer(ngram_range=(1,2))\n",
        "countvector = CountVectorizer()\n",
        "X_train_cv = countvector.fit_transform(train_lines)\n",
        "X_test_cv = countvector.transform(test_lines)\n",
        "\n",
        "test_cv = countvector.transform(predtest_lines)"
      ],
      "execution_count": null,
      "outputs": []
    },
    {
      "cell_type": "code",
      "metadata": {
        "id": "7Zrm-yUVGyrt"
      },
      "source": [
        "#Using TfidfVectorizer\n",
        "\n",
        "from sklearn.feature_extraction.text import TfidfVectorizer, TfidfTransformer\n",
        "\n",
        "tfidfvector = TfidfTransformer()\n",
        "X_train_tf = tfidfvector.fit_transform(X_train_cv)\n",
        "X_test_tf = tfidfvector.fit_transform(X_test_cv)\n",
        "\n",
        "test_tf = tfidfvector.fit_transform(test_cv)"
      ],
      "execution_count": null,
      "outputs": []
    },
    {
      "cell_type": "markdown",
      "metadata": {
        "id": "xH9OA9sqNsIb"
      },
      "source": [
        "**Now Working with whole train data**"
      ]
    },
    {
      "cell_type": "code",
      "metadata": {
        "id": "Yu9ljaJ-HAML"
      },
      "source": [
        "X_lines = []\n",
        "for row in range(0,X.shape[0]):\n",
        "  X_lines.append(' '.join(str(x) for x in X.iloc[row,:]))"
      ],
      "execution_count": null,
      "outputs": []
    },
    {
      "cell_type": "code",
      "metadata": {
        "id": "HwaLSdW_KK9H"
      },
      "source": [
        "X_cv = countvector.transform(X_lines)\n",
        "\n",
        "X_tf = tfidfvector.fit_transform(X_cv)"
      ],
      "execution_count": null,
      "outputs": []
    },
    {
      "cell_type": "markdown",
      "metadata": {
        "id": "-AcUA6sUNcwF"
      },
      "source": [
        "# Apply LINEAR SVC model : "
      ]
    },
    {
      "cell_type": "code",
      "metadata": {
        "id": "gzVD86T_KYc8"
      },
      "source": [
        "from sklearn.svm import LinearSVC\n",
        "from sklearn.multioutput import MultiOutputClassifier\n",
        "\n",
        "model = LinearSVC(class_weight='balanced',C=0.5)\n",
        "models = MultiOutputClassifier(model)"
      ],
      "execution_count": null,
      "outputs": []
    },
    {
      "cell_type": "code",
      "metadata": {
        "colab": {
          "base_uri": "https://localhost:8080/"
        },
        "id": "lyz0Q60MN1qU",
        "outputId": "124fc89d-6011-4856-cde6-7207cbd0fa73"
      },
      "source": [
        "## train the model \n",
        "models.fit(X_tf, y)"
      ],
      "execution_count": null,
      "outputs": [
        {
          "output_type": "execute_result",
          "data": {
            "text/plain": [
              "MultiOutputClassifier(estimator=LinearSVC(C=0.5, class_weight='balanced',\n",
              "                                          dual=True, fit_intercept=True,\n",
              "                                          intercept_scaling=1,\n",
              "                                          loss='squared_hinge', max_iter=1000,\n",
              "                                          multi_class='ovr', penalty='l2',\n",
              "                                          random_state=None, tol=0.0001,\n",
              "                                          verbose=0),\n",
              "                      n_jobs=None)"
            ]
          },
          "metadata": {
            "tags": []
          },
          "execution_count": 34
        }
      ]
    },
    {
      "cell_type": "code",
      "metadata": {
        "colab": {
          "base_uri": "https://localhost:8080/"
        },
        "id": "_V5TukbHN-T2",
        "outputId": "a396a1ca-fefd-48c9-b7bd-1d291fd26268"
      },
      "source": [
        "## Pdedict the values on X_test_tf data using model\n",
        "preds = models.predict(X_test_tf)\n",
        "preds"
      ],
      "execution_count": null,
      "outputs": [
        {
          "output_type": "execute_result",
          "data": {
            "text/plain": [
              "array([[0, 0, 0, 0, 0, 0],\n",
              "       [0, 0, 0, 0, 0, 0],\n",
              "       [1, 0, 0, 0, 1, 0],\n",
              "       ...,\n",
              "       [0, 0, 0, 0, 0, 0],\n",
              "       [0, 0, 0, 0, 0, 0],\n",
              "       [0, 0, 0, 0, 0, 0]])"
            ]
          },
          "metadata": {
            "tags": []
          },
          "execution_count": 35
        }
      ]
    },
    {
      "cell_type": "code",
      "metadata": {
        "colab": {
          "base_uri": "https://localhost:8080/"
        },
        "id": "eng4dYWaONEl",
        "outputId": "68ea6509-27dc-43f3-f393-6f6b81b05c04"
      },
      "source": [
        "## now test model on given test dataset\n",
        "predssv = models.predict(test_tf)\n",
        "predssv"
      ],
      "execution_count": null,
      "outputs": [
        {
          "output_type": "execute_result",
          "data": {
            "text/plain": [
              "array([[1, 0, 1, 0, 1, 1],\n",
              "       [0, 0, 0, 0, 0, 0],\n",
              "       [0, 0, 0, 0, 0, 0],\n",
              "       ...,\n",
              "       [0, 0, 0, 0, 0, 0],\n",
              "       [0, 0, 0, 0, 0, 0],\n",
              "       [1, 0, 1, 0, 1, 0]])"
            ]
          },
          "metadata": {
            "tags": []
          },
          "execution_count": 36
        }
      ]
    },
    {
      "cell_type": "code",
      "metadata": {
        "id": "HpdW1bSZW0v5"
      },
      "source": [
        "y1 = np.array(y_train)\n",
        "y2 = np.array(y_test)"
      ],
      "execution_count": null,
      "outputs": []
    },
    {
      "cell_type": "code",
      "metadata": {
        "colab": {
          "base_uri": "https://localhost:8080/"
        },
        "id": "UPgaTT_2Oe8j",
        "outputId": "eebd385c-41fd-4820-f933-e10bb3ae5d62"
      },
      "source": [
        "## Now check the accuracy of the model \n",
        "from sklearn.metrics import accuracy_score, confusion_matrix, classification_report\n",
        "\n",
        "#print(confusion_matrix(y2,preds))\n",
        "print(classification_report(y2,preds))\n",
        "print(accuracy_score(y2,preds))"
      ],
      "execution_count": null,
      "outputs": [
        {
          "output_type": "stream",
          "text": [
            "              precision    recall  f1-score   support\n",
            "\n",
            "           0       0.78      0.99      0.87      1529\n",
            "           1       0.44      1.00      0.61       168\n",
            "           2       0.79      1.00      0.88       856\n",
            "           3       0.62      1.00      0.76        63\n",
            "           4       0.69      1.00      0.82       789\n",
            "           5       0.51      1.00      0.67       145\n",
            "\n",
            "   micro avg       0.72      0.99      0.83      3550\n",
            "   macro avg       0.64      1.00      0.77      3550\n",
            "weighted avg       0.73      0.99      0.84      3550\n",
            " samples avg       0.08      0.10      0.09      3550\n",
            "\n",
            "0.9329489911016418\n"
          ],
          "name": "stdout"
        }
      ]
    },
    {
      "cell_type": "markdown",
      "metadata": {
        "id": "N6qS89ciktf0"
      },
      "source": [
        "# LogisticRegression for Multi-class"
      ]
    },
    {
      "cell_type": "code",
      "metadata": {
        "id": "qKwqayKzRgs5"
      },
      "source": [
        "## LogisticRegression not supports multi-lable class,therefore, we wrap LogisticRegression in the OneVsRestClassifier.\n",
        "from sklearn.linear_model import LogisticRegression\n",
        "from sklearn.multiclass import OneVsRestClassifier    ## Binary Relevences\n",
        "\n",
        "lr_model = LogisticRegression(class_weight='balanced',C=3.0)\n",
        "clf = OneVsRestClassifier(lr_model)"
      ],
      "execution_count": null,
      "outputs": []
    },
    {
      "cell_type": "code",
      "metadata": {
        "colab": {
          "base_uri": "https://localhost:8080/"
        },
        "id": "yw1jc29oZCCw",
        "outputId": "bf96d8d6-47a9-4aef-be63-07439463756f"
      },
      "source": [
        "## train the model \n",
        "clf.fit(X_tf, y)"
      ],
      "execution_count": null,
      "outputs": [
        {
          "output_type": "execute_result",
          "data": {
            "text/plain": [
              "OneVsRestClassifier(estimator=LogisticRegression(C=3.0, class_weight='balanced',\n",
              "                                                 dual=False, fit_intercept=True,\n",
              "                                                 intercept_scaling=1,\n",
              "                                                 l1_ratio=None, max_iter=100,\n",
              "                                                 multi_class='auto',\n",
              "                                                 n_jobs=None, penalty='l2',\n",
              "                                                 random_state=None,\n",
              "                                                 solver='lbfgs', tol=0.0001,\n",
              "                                                 verbose=0, warm_start=False),\n",
              "                    n_jobs=None)"
            ]
          },
          "metadata": {
            "tags": []
          },
          "execution_count": 43
        }
      ]
    },
    {
      "cell_type": "code",
      "metadata": {
        "colab": {
          "base_uri": "https://localhost:8080/"
        },
        "id": "BmdLsGqjYC9M",
        "outputId": "bad48e04-5231-4f9e-88a3-b1e803f2eaf9"
      },
      "source": [
        "preds_clf = clf.predict(X_test_tf)\n",
        "preds_clf"
      ],
      "execution_count": null,
      "outputs": [
        {
          "output_type": "execute_result",
          "data": {
            "text/plain": [
              "array([[0, 0, 0, 0, 0, 0],\n",
              "       [0, 0, 0, 0, 0, 0],\n",
              "       [1, 0, 0, 0, 1, 0],\n",
              "       ...,\n",
              "       [0, 0, 0, 0, 0, 0],\n",
              "       [0, 0, 0, 0, 0, 0],\n",
              "       [0, 0, 0, 0, 0, 0]])"
            ]
          },
          "metadata": {
            "tags": []
          },
          "execution_count": 44
        }
      ]
    },
    {
      "cell_type": "code",
      "metadata": {
        "colab": {
          "base_uri": "https://localhost:8080/"
        },
        "id": "YvQF5P56ZrJR",
        "outputId": "21860db2-4fbd-498e-d788-27c4b51b2b56"
      },
      "source": [
        "## Now check the accuracy of the model \n",
        "from sklearn.metrics import accuracy_score, confusion_matrix, classification_report\n",
        "#print(confusion_matrix(y2,preds_clf))\n",
        "print(classification_report(y2,preds_clf))\n",
        "print(accuracy_score(y2,preds_clf))"
      ],
      "execution_count": null,
      "outputs": [
        {
          "output_type": "stream",
          "text": [
            "              precision    recall  f1-score   support\n",
            "\n",
            "           0       0.75      0.98      0.85      1529\n",
            "           1       0.39      1.00      0.56       168\n",
            "           2       0.77      0.99      0.87       856\n",
            "           3       0.48      1.00      0.65        63\n",
            "           4       0.65      1.00      0.79       789\n",
            "           5       0.40      1.00      0.57       145\n",
            "\n",
            "   micro avg       0.67      0.99      0.80      3550\n",
            "   macro avg       0.57      0.99      0.71      3550\n",
            "weighted avg       0.70      0.99      0.81      3550\n",
            " samples avg       0.08      0.10      0.09      3550\n",
            "\n",
            "0.9212307306680035\n"
          ],
          "name": "stdout"
        }
      ]
    },
    {
      "cell_type": "markdown",
      "metadata": {
        "id": "8jnbmswai0k3"
      },
      "source": [
        "# Naive Bayes model"
      ]
    },
    {
      "cell_type": "code",
      "metadata": {
        "id": "3GJoycG2ZwgJ"
      },
      "source": [
        "## Naive Bayes supports multi-class, but we are in a multi-label scenario, therefore, we wrap Naive Bayes in the OneVsRestClassifier.\n",
        "from sklearn.naive_bayes import MultinomialNB\n",
        "from sklearn.multiclass import OneVsRestClassifier\n",
        "\n",
        "NB = MultinomialNB(fit_prior=True, class_prior=None)\n",
        "NB_clf = OneVsRestClassifier(NB)\n"
      ],
      "execution_count": null,
      "outputs": []
    },
    {
      "cell_type": "code",
      "metadata": {
        "colab": {
          "base_uri": "https://localhost:8080/"
        },
        "id": "b2_sMsZVkGt_",
        "outputId": "a7378ed5-77d7-4fd1-e4e8-76534db2a6ca"
      },
      "source": [
        "## train the model \n",
        "NB_clf.fit(X_tf, y)"
      ],
      "execution_count": null,
      "outputs": [
        {
          "output_type": "execute_result",
          "data": {
            "text/plain": [
              "OneVsRestClassifier(estimator=MultinomialNB(alpha=1.0, class_prior=None,\n",
              "                                            fit_prior=True),\n",
              "                    n_jobs=None)"
            ]
          },
          "metadata": {
            "tags": []
          },
          "execution_count": 50
        }
      ]
    },
    {
      "cell_type": "code",
      "metadata": {
        "colab": {
          "base_uri": "https://localhost:8080/"
        },
        "id": "xHkk53UGkh8i",
        "outputId": "21d6a0a7-9f4c-44aa-820b-e6942ae6934e"
      },
      "source": [
        "preds_NB_clf = NB_clf.predict(X_test_tf)\n",
        "preds_NB_clf"
      ],
      "execution_count": null,
      "outputs": [
        {
          "output_type": "execute_result",
          "data": {
            "text/plain": [
              "array([[0, 0, 0, 0, 0, 0],\n",
              "       [0, 0, 0, 0, 0, 0],\n",
              "       [0, 0, 0, 0, 0, 0],\n",
              "       ...,\n",
              "       [0, 0, 0, 0, 0, 0],\n",
              "       [0, 0, 0, 0, 0, 0],\n",
              "       [0, 0, 0, 0, 0, 0]])"
            ]
          },
          "metadata": {
            "tags": []
          },
          "execution_count": 51
        }
      ]
    },
    {
      "cell_type": "code",
      "metadata": {
        "colab": {
          "base_uri": "https://localhost:8080/"
        },
        "id": "f7iFcj1YksvJ",
        "outputId": "16ddbb08-4ac0-4ebc-b419-23863938e3cc"
      },
      "source": [
        "## Now check the accuracy of the model \n",
        "from sklearn.metrics import accuracy_score, confusion_matrix, classification_report\n",
        "print(classification_report(y2,preds_NB_clf))\n",
        "print(accuracy_score(y2,preds_NB_clf))"
      ],
      "execution_count": null,
      "outputs": [
        {
          "output_type": "stream",
          "text": [
            "              precision    recall  f1-score   support\n",
            "\n",
            "           0       0.99      0.25      0.41      1529\n",
            "           1       0.00      0.00      0.00       168\n",
            "           2       1.00      0.19      0.31       856\n",
            "           3       0.00      0.00      0.00        63\n",
            "           4       0.99      0.10      0.17       789\n",
            "           5       0.00      0.00      0.00       145\n",
            "\n",
            "   micro avg       1.00      0.18      0.30      3550\n",
            "   macro avg       0.50      0.09      0.15      3550\n",
            "weighted avg       0.89      0.18      0.29      3550\n",
            " samples avg       0.02      0.01      0.02      3550\n",
            "\n",
            "0.9010527635041985\n"
          ],
          "name": "stdout"
        }
      ]
    },
    {
      "cell_type": "markdown",
      "metadata": {
        "id": "UsR0R94iyO45"
      },
      "source": [
        "**Obs- Here we can see that our Linear SVC classi. model gives us best accuracy for such multi-label class datasets**"
      ]
    },
    {
      "cell_type": "code",
      "metadata": {
        "id": "spjDfDn0k4TD"
      },
      "source": [
        ""
      ],
      "execution_count": null,
      "outputs": []
    }
  ]
}