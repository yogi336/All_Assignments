{
 "cells": [
  {
   "cell_type": "code",
   "execution_count": null,
   "metadata": {},
   "outputs": [],
   "source": [
    "from keras.preprocessing.image import ImageDataGenerator, array_to_img, img_to_array, load_img\n",
    "import glob, os\n",
    "import numpy as np\n",
    "import cv2\n",
    "\n",
    "datagen = ImageDataGenerator(\n",
    "        rotation_range=30,\n",
    "        brightness_range = [0.2,0.8],\n",
    "        horizontal_flip=True,\n",
    "        fill_mode='nearest')\n",
    "\n",
    "os.chdir(\"/content/drive/My Drive/CNN/fk_clothes_data/train_clothes/jeans/\")\n",
    "for file in glob.glob(\"*.jpg\"):\n",
    "    img = load_img(file)\n",
    "    x = img_to_array(img)\n",
    "    kernel = np.array([[-1,-1,-1], [-1,9,-1], [-1,-1,-1]])\n",
    "    im = cv2.filter2D(x, -1, kernel)\n",
    "    xx = im.reshape((1,) + im.shape)\n",
    "\n",
    "    i = 0\n",
    "    for batch in datagen.flow(xx, batch_size=1,save_to_dir='/content/drive/My Drive/CNN/fk_clothes_data/augu_data_train/jeans', save_prefix='new', save_format='jpg'):\n",
    "        i += 1\n",
    "        if i > 3:\n",
    "            break "
   ]
  }
 ],
 "metadata": {
  "kernelspec": {
   "display_name": "Python 3",
   "language": "python",
   "name": "python3"
  },
  "language_info": {
   "codemirror_mode": {
    "name": "ipython",
    "version": 3
   },
   "file_extension": ".py",
   "mimetype": "text/x-python",
   "name": "python",
   "nbconvert_exporter": "python",
   "pygments_lexer": "ipython3",
   "version": "3.6.5"
  }
 },
 "nbformat": 4,
 "nbformat_minor": 4
}
