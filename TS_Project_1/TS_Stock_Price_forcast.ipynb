{
  "nbformat": 4,
  "nbformat_minor": 0,
  "metadata": {
    "colab": {
      "name": "TS_Stock_Price_forcast.ipynb",
      "provenance": [],
      "collapsed_sections": []
    },
    "kernelspec": {
      "name": "python3",
      "display_name": "Python 3"
    }
  },
  "cells": [
    {
      "cell_type": "code",
      "metadata": {
        "id": "Ty-6HcDi4D0A"
      },
      "source": [
        "### TS_Stock_Price_forcast"
      ],
      "execution_count": null,
      "outputs": []
    },
    {
      "cell_type": "code",
      "metadata": {
        "id": "CG5SJiB6Pg7J",
        "outputId": "cc613bbc-0b70-443d-f7ca-efa061e55981",
        "colab": {
          "base_uri": "https://localhost:8080/",
          "height": 730
        }
      },
      "source": [
        "!pip install pmdarima"
      ],
      "execution_count": null,
      "outputs": [
        {
          "output_type": "stream",
          "text": [
            "Collecting pmdarima\n",
            "\u001b[?25l  Downloading https://files.pythonhosted.org/packages/be/62/725b3b6ae0e56c77534de5a8139322e7b863ca53fd5bd6bd3b7de87d0c20/pmdarima-1.7.1-cp36-cp36m-manylinux1_x86_64.whl (1.5MB)\n",
            "\u001b[K     |████████████████████████████████| 1.5MB 8.0MB/s \n",
            "\u001b[?25hCollecting setuptools<50.0.0\n",
            "\u001b[?25l  Downloading https://files.pythonhosted.org/packages/c3/a9/5dc32465951cf4812e9e93b4ad2d314893c2fa6d5f66ce5c057af6e76d85/setuptools-49.6.0-py3-none-any.whl (803kB)\n",
            "\u001b[K     |████████████████████████████████| 808kB 44.5MB/s \n",
            "\u001b[?25hRequirement already satisfied: joblib>=0.11 in /usr/local/lib/python3.6/dist-packages (from pmdarima) (0.17.0)\n",
            "Collecting Cython<0.29.18,>=0.29\n",
            "\u001b[?25l  Downloading https://files.pythonhosted.org/packages/e7/d7/510ddef0248f3e1e91f9cc7e31c0f35f8954d0af92c5c3fd4c853e859ebe/Cython-0.29.17-cp36-cp36m-manylinux1_x86_64.whl (2.1MB)\n",
            "\u001b[K     |████████████████████████████████| 2.1MB 46.2MB/s \n",
            "\u001b[?25hRequirement already satisfied: scikit-learn>=0.22 in /usr/local/lib/python3.6/dist-packages (from pmdarima) (0.22.2.post1)\n",
            "Collecting statsmodels<0.12,>=0.11\n",
            "\u001b[?25l  Downloading https://files.pythonhosted.org/packages/cb/83/540fd83238a18abe6c2d280fa8e489ac5fcefa1f370f0ca1acd16ae1b860/statsmodels-0.11.1-cp36-cp36m-manylinux1_x86_64.whl (8.7MB)\n",
            "\u001b[K     |████████████████████████████████| 8.7MB 48.0MB/s \n",
            "\u001b[?25hRequirement already satisfied: urllib3 in /usr/local/lib/python3.6/dist-packages (from pmdarima) (1.24.3)\n",
            "Requirement already satisfied: pandas>=0.19 in /usr/local/lib/python3.6/dist-packages (from pmdarima) (1.1.3)\n",
            "Requirement already satisfied: numpy>=1.17.3 in /usr/local/lib/python3.6/dist-packages (from pmdarima) (1.18.5)\n",
            "Requirement already satisfied: scipy>=1.3.2 in /usr/local/lib/python3.6/dist-packages (from pmdarima) (1.4.1)\n",
            "Requirement already satisfied: patsy>=0.5 in /usr/local/lib/python3.6/dist-packages (from statsmodels<0.12,>=0.11->pmdarima) (0.5.1)\n",
            "Requirement already satisfied: python-dateutil>=2.7.3 in /usr/local/lib/python3.6/dist-packages (from pandas>=0.19->pmdarima) (2.8.1)\n",
            "Requirement already satisfied: pytz>=2017.2 in /usr/local/lib/python3.6/dist-packages (from pandas>=0.19->pmdarima) (2018.9)\n",
            "Requirement already satisfied: six in /usr/local/lib/python3.6/dist-packages (from patsy>=0.5->statsmodels<0.12,>=0.11->pmdarima) (1.15.0)\n",
            "\u001b[31mERROR: datascience 0.10.6 has requirement folium==0.2.1, but you'll have folium 0.8.3 which is incompatible.\u001b[0m\n",
            "Installing collected packages: setuptools, Cython, statsmodels, pmdarima\n",
            "  Found existing installation: setuptools 50.3.0\n",
            "    Uninstalling setuptools-50.3.0:\n",
            "      Successfully uninstalled setuptools-50.3.0\n",
            "  Found existing installation: Cython 0.29.21\n",
            "    Uninstalling Cython-0.29.21:\n",
            "      Successfully uninstalled Cython-0.29.21\n",
            "  Found existing installation: statsmodels 0.10.2\n",
            "    Uninstalling statsmodels-0.10.2:\n",
            "      Successfully uninstalled statsmodels-0.10.2\n",
            "Successfully installed Cython-0.29.17 pmdarima-1.7.1 setuptools-49.6.0 statsmodels-0.11.1\n"
          ],
          "name": "stdout"
        },
        {
          "output_type": "display_data",
          "data": {
            "application/vnd.colab-display-data+json": {
              "pip_warning": {
                "packages": [
                  "pkg_resources",
                  "statsmodels"
                ]
              }
            }
          },
          "metadata": {
            "tags": []
          }
        }
      ]
    },
    {
      "cell_type": "code",
      "metadata": {
        "id": "UZ4_u1RJ4xFQ",
        "outputId": "f382fd9b-2faa-42fa-eb3a-0e5fbc16854c",
        "colab": {
          "base_uri": "https://localhost:8080/",
          "height": 1000
        }
      },
      "source": [
        "from datetime import datetime\n",
        "import matplotlib.pyplot as plt\n",
        "import pandas as pd\n",
        "import numpy as np\n",
        "from statsmodels.tsa.arima_model import ARIMA\n",
        "from pmdarima.arima import auto_arima\n",
        "from sklearn.metrics import mean_squared_error, mean_absolute_error\n",
        "import math\n",
        "#plt.style.use('fivethirtyeight')\n",
        "#from pylab import rcParams\n",
        "from statsmodels.tsa.seasonal import seasonal_decompose\n",
        "data = pd.read_csv('/content/drive/My Drive/TS_Data/Company_Stock_and_Investment.csv')\n",
        "data.head(50)"
      ],
      "execution_count": null,
      "outputs": [
        {
          "output_type": "execute_result",
          "data": {
            "text/html": [
              "<div>\n",
              "<style scoped>\n",
              "    .dataframe tbody tr th:only-of-type {\n",
              "        vertical-align: middle;\n",
              "    }\n",
              "\n",
              "    .dataframe tbody tr th {\n",
              "        vertical-align: top;\n",
              "    }\n",
              "\n",
              "    .dataframe thead th {\n",
              "        text-align: right;\n",
              "    }\n",
              "</style>\n",
              "<table border=\"1\" class=\"dataframe\">\n",
              "  <thead>\n",
              "    <tr style=\"text-align: right;\">\n",
              "      <th></th>\n",
              "      <th>Date</th>\n",
              "      <th>Oil Investments</th>\n",
              "      <th>Gold Investments</th>\n",
              "      <th>Comp Stock</th>\n",
              "      <th>Other sharesInvestments</th>\n",
              "    </tr>\n",
              "  </thead>\n",
              "  <tbody>\n",
              "    <tr>\n",
              "      <th>0</th>\n",
              "      <td>31-12-2009</td>\n",
              "      <td>0.025417</td>\n",
              "      <td>0.000150</td>\n",
              "      <td>0.017354</td>\n",
              "      <td>0.006848</td>\n",
              "    </tr>\n",
              "    <tr>\n",
              "      <th>1</th>\n",
              "      <td>04-01-2010</td>\n",
              "      <td>0.026830</td>\n",
              "      <td>0.001097</td>\n",
              "      <td>0.015565</td>\n",
              "      <td>-0.004609</td>\n",
              "    </tr>\n",
              "    <tr>\n",
              "      <th>2</th>\n",
              "      <td>05-01-2010</td>\n",
              "      <td>0.002699</td>\n",
              "      <td>0.001560</td>\n",
              "      <td>0.001729</td>\n",
              "      <td>0.005900</td>\n",
              "    </tr>\n",
              "    <tr>\n",
              "      <th>3</th>\n",
              "      <td>06-01-2010</td>\n",
              "      <td>0.021688</td>\n",
              "      <td>0.006009</td>\n",
              "      <td>-0.015906</td>\n",
              "      <td>-0.018116</td>\n",
              "    </tr>\n",
              "    <tr>\n",
              "      <th>4</th>\n",
              "      <td>07-01-2010</td>\n",
              "      <td>-0.006256</td>\n",
              "      <td>0.000221</td>\n",
              "      <td>-0.001849</td>\n",
              "      <td>-0.017013</td>\n",
              "    </tr>\n",
              "    <tr>\n",
              "      <th>5</th>\n",
              "      <td>08-01-2010</td>\n",
              "      <td>0.001269</td>\n",
              "      <td>-0.013097</td>\n",
              "      <td>0.006648</td>\n",
              "      <td>0.027077</td>\n",
              "    </tr>\n",
              "    <tr>\n",
              "      <th>6</th>\n",
              "      <td>11-01-2010</td>\n",
              "      <td>-0.002417</td>\n",
              "      <td>0.023297</td>\n",
              "      <td>-0.008822</td>\n",
              "      <td>-0.024041</td>\n",
              "    </tr>\n",
              "    <tr>\n",
              "      <th>7</th>\n",
              "      <td>12-01-2010</td>\n",
              "      <td>-0.021202</td>\n",
              "      <td>-0.001518</td>\n",
              "      <td>-0.011375</td>\n",
              "      <td>-0.022715</td>\n",
              "    </tr>\n",
              "    <tr>\n",
              "      <th>8</th>\n",
              "      <td>13-01-2010</td>\n",
              "      <td>-0.013987</td>\n",
              "      <td>-0.020847</td>\n",
              "      <td>0.014106</td>\n",
              "      <td>0.013820</td>\n",
              "    </tr>\n",
              "    <tr>\n",
              "      <th>9</th>\n",
              "      <td>14-01-2010</td>\n",
              "      <td>-0.003892</td>\n",
              "      <td>0.009758</td>\n",
              "      <td>-0.005792</td>\n",
              "      <td>-0.013632</td>\n",
              "    </tr>\n",
              "    <tr>\n",
              "      <th>10</th>\n",
              "      <td>15-01-2010</td>\n",
              "      <td>-0.017517</td>\n",
              "      <td>-0.009005</td>\n",
              "      <td>-0.016712</td>\n",
              "      <td>-0.001649</td>\n",
              "    </tr>\n",
              "    <tr>\n",
              "      <th>11</th>\n",
              "      <td>19-01-2010</td>\n",
              "      <td>0.013084</td>\n",
              "      <td>0.004433</td>\n",
              "      <td>0.044238</td>\n",
              "      <td>0.003697</td>\n",
              "    </tr>\n",
              "    <tr>\n",
              "      <th>12</th>\n",
              "      <td>20-01-2010</td>\n",
              "      <td>-0.013975</td>\n",
              "      <td>-0.011253</td>\n",
              "      <td>-0.015392</td>\n",
              "      <td>-0.014341</td>\n",
              "    </tr>\n",
              "    <tr>\n",
              "      <th>13</th>\n",
              "      <td>21-01-2010</td>\n",
              "      <td>-0.020408</td>\n",
              "      <td>-0.010712</td>\n",
              "      <td>-0.017286</td>\n",
              "      <td>0.006678</td>\n",
              "    </tr>\n",
              "    <tr>\n",
              "      <th>14</th>\n",
              "      <td>22-01-2010</td>\n",
              "      <td>-0.020965</td>\n",
              "      <td>-0.021881</td>\n",
              "      <td>-0.049599</td>\n",
              "      <td>-0.040989</td>\n",
              "    </tr>\n",
              "    <tr>\n",
              "      <th>15</th>\n",
              "      <td>25-01-2010</td>\n",
              "      <td>0.008754</td>\n",
              "      <td>0.010378</td>\n",
              "      <td>0.026903</td>\n",
              "      <td>-0.009223</td>\n",
              "    </tr>\n",
              "    <tr>\n",
              "      <th>16</th>\n",
              "      <td>26-01-2010</td>\n",
              "      <td>-0.003071</td>\n",
              "      <td>-0.001826</td>\n",
              "      <td>0.014133</td>\n",
              "      <td>-0.006899</td>\n",
              "    </tr>\n",
              "    <tr>\n",
              "      <th>17</th>\n",
              "      <td>27-01-2010</td>\n",
              "      <td>-0.013794</td>\n",
              "      <td>0.001372</td>\n",
              "      <td>0.009420</td>\n",
              "      <td>0.027369</td>\n",
              "    </tr>\n",
              "    <tr>\n",
              "      <th>18</th>\n",
              "      <td>28-01-2010</td>\n",
              "      <td>-0.000272</td>\n",
              "      <td>-0.006166</td>\n",
              "      <td>-0.041322</td>\n",
              "      <td>0.026721</td>\n",
              "    </tr>\n",
              "    <tr>\n",
              "      <th>19</th>\n",
              "      <td>29-01-2010</td>\n",
              "      <td>-0.010459</td>\n",
              "      <td>-0.008732</td>\n",
              "      <td>-0.036279</td>\n",
              "      <td>-0.004919</td>\n",
              "    </tr>\n",
              "    <tr>\n",
              "      <th>20</th>\n",
              "      <td>01-02-2010</td>\n",
              "      <td>0.021414</td>\n",
              "      <td>0.007418</td>\n",
              "      <td>0.013902</td>\n",
              "      <td>-0.052149</td>\n",
              "    </tr>\n",
              "    <tr>\n",
              "      <th>21</th>\n",
              "      <td>02-02-2010</td>\n",
              "      <td>0.037629</td>\n",
              "      <td>0.022549</td>\n",
              "      <td>0.005803</td>\n",
              "      <td>-0.006309</td>\n",
              "    </tr>\n",
              "    <tr>\n",
              "      <th>22</th>\n",
              "      <td>03-02-2010</td>\n",
              "      <td>-0.003238</td>\n",
              "      <td>0.003825</td>\n",
              "      <td>0.017206</td>\n",
              "      <td>0.008297</td>\n",
              "    </tr>\n",
              "    <tr>\n",
              "      <th>23</th>\n",
              "      <td>04-02-2010</td>\n",
              "      <td>-0.049766</td>\n",
              "      <td>-0.028693</td>\n",
              "      <td>-0.036039</td>\n",
              "      <td>-0.026532</td>\n",
              "    </tr>\n",
              "    <tr>\n",
              "      <th>24</th>\n",
              "      <td>05-02-2010</td>\n",
              "      <td>-0.027075</td>\n",
              "      <td>-0.023309</td>\n",
              "      <td>0.017756</td>\n",
              "      <td>0.012506</td>\n",
              "    </tr>\n",
              "    <tr>\n",
              "      <th>25</th>\n",
              "      <td>08-02-2010</td>\n",
              "      <td>0.010119</td>\n",
              "      <td>0.005671</td>\n",
              "      <td>-0.006856</td>\n",
              "      <td>-0.004770</td>\n",
              "    </tr>\n",
              "    <tr>\n",
              "      <th>26</th>\n",
              "      <td>09-02-2010</td>\n",
              "      <td>0.025602</td>\n",
              "      <td>0.006814</td>\n",
              "      <td>0.010664</td>\n",
              "      <td>0.010271</td>\n",
              "    </tr>\n",
              "    <tr>\n",
              "      <th>27</th>\n",
              "      <td>10-02-2010</td>\n",
              "      <td>0.010446</td>\n",
              "      <td>-0.001634</td>\n",
              "      <td>-0.005454</td>\n",
              "      <td>-0.005677</td>\n",
              "    </tr>\n",
              "    <tr>\n",
              "      <th>28</th>\n",
              "      <td>11-02-2010</td>\n",
              "      <td>0.010070</td>\n",
              "      <td>0.006311</td>\n",
              "      <td>0.018194</td>\n",
              "      <td>0.023262</td>\n",
              "    </tr>\n",
              "    <tr>\n",
              "      <th>29</th>\n",
              "      <td>12-02-2010</td>\n",
              "      <td>-0.014888</td>\n",
              "      <td>0.005343</td>\n",
              "      <td>0.008607</td>\n",
              "      <td>-0.003581</td>\n",
              "    </tr>\n",
              "    <tr>\n",
              "      <th>30</th>\n",
              "      <td>16-02-2010</td>\n",
              "      <td>0.038726</td>\n",
              "      <td>0.030730</td>\n",
              "      <td>0.015071</td>\n",
              "      <td>-0.017800</td>\n",
              "    </tr>\n",
              "    <tr>\n",
              "      <th>31</th>\n",
              "      <td>17-02-2010</td>\n",
              "      <td>0.003767</td>\n",
              "      <td>0.003362</td>\n",
              "      <td>-0.004179</td>\n",
              "      <td>-0.010380</td>\n",
              "    </tr>\n",
              "    <tr>\n",
              "      <th>32</th>\n",
              "      <td>18-02-2010</td>\n",
              "      <td>0.022001</td>\n",
              "      <td>-0.000894</td>\n",
              "      <td>0.001876</td>\n",
              "      <td>0.015218</td>\n",
              "    </tr>\n",
              "    <tr>\n",
              "      <th>33</th>\n",
              "      <td>19-02-2010</td>\n",
              "      <td>0.010130</td>\n",
              "      <td>-0.004696</td>\n",
              "      <td>-0.006209</td>\n",
              "      <td>-0.004743</td>\n",
              "    </tr>\n",
              "    <tr>\n",
              "      <th>34</th>\n",
              "      <td>22-02-2010</td>\n",
              "      <td>0.003385</td>\n",
              "      <td>0.002247</td>\n",
              "      <td>-0.006198</td>\n",
              "      <td>0.004170</td>\n",
              "    </tr>\n",
              "    <tr>\n",
              "      <th>35</th>\n",
              "      <td>23-02-2010</td>\n",
              "      <td>-0.017866</td>\n",
              "      <td>-0.007397</td>\n",
              "      <td>-0.016765</td>\n",
              "      <td>-0.006525</td>\n",
              "    </tr>\n",
              "    <tr>\n",
              "      <th>36</th>\n",
              "      <td>24-02-2010</td>\n",
              "      <td>0.014502</td>\n",
              "      <td>-0.003613</td>\n",
              "      <td>0.018269</td>\n",
              "      <td>0.021153</td>\n",
              "    </tr>\n",
              "    <tr>\n",
              "      <th>37</th>\n",
              "      <td>25-02-2010</td>\n",
              "      <td>-0.022069</td>\n",
              "      <td>-0.007706</td>\n",
              "      <td>0.006678</td>\n",
              "      <td>-0.012696</td>\n",
              "    </tr>\n",
              "    <tr>\n",
              "      <th>38</th>\n",
              "      <td>26-02-2010</td>\n",
              "      <td>0.022182</td>\n",
              "      <td>0.012563</td>\n",
              "      <td>0.012970</td>\n",
              "      <td>0.001692</td>\n",
              "    </tr>\n",
              "    <tr>\n",
              "      <th>39</th>\n",
              "      <td>01-03-2010</td>\n",
              "      <td>-0.012669</td>\n",
              "      <td>0.005188</td>\n",
              "      <td>0.021357</td>\n",
              "      <td>0.051858</td>\n",
              "    </tr>\n",
              "    <tr>\n",
              "      <th>40</th>\n",
              "      <td>02-03-2010</td>\n",
              "      <td>0.011561</td>\n",
              "      <td>0.011221</td>\n",
              "      <td>-0.000670</td>\n",
              "      <td>0.007949</td>\n",
              "    </tr>\n",
              "    <tr>\n",
              "      <th>41</th>\n",
              "      <td>03-03-2010</td>\n",
              "      <td>0.016202</td>\n",
              "      <td>0.008877</td>\n",
              "      <td>0.002298</td>\n",
              "      <td>0.002868</td>\n",
              "    </tr>\n",
              "    <tr>\n",
              "      <th>42</th>\n",
              "      <td>04-03-2010</td>\n",
              "      <td>-0.008652</td>\n",
              "      <td>-0.001760</td>\n",
              "      <td>0.006592</td>\n",
              "      <td>0.020971</td>\n",
              "    </tr>\n",
              "    <tr>\n",
              "      <th>43</th>\n",
              "      <td>05-03-2010</td>\n",
              "      <td>0.016083</td>\n",
              "      <td>0.000441</td>\n",
              "      <td>0.039106</td>\n",
              "      <td>0.002957</td>\n",
              "    </tr>\n",
              "    <tr>\n",
              "      <th>44</th>\n",
              "      <td>08-03-2010</td>\n",
              "      <td>0.004294</td>\n",
              "      <td>-0.008150</td>\n",
              "      <td>0.000594</td>\n",
              "      <td>0.009309</td>\n",
              "    </tr>\n",
              "    <tr>\n",
              "      <th>45</th>\n",
              "      <td>09-03-2010</td>\n",
              "      <td>-0.004276</td>\n",
              "      <td>-0.008883</td>\n",
              "      <td>0.017984</td>\n",
              "      <td>-0.009915</td>\n",
              "    </tr>\n",
              "    <tr>\n",
              "      <th>46</th>\n",
              "      <td>10-03-2010</td>\n",
              "      <td>0.006994</td>\n",
              "      <td>0.004257</td>\n",
              "      <td>0.008161</td>\n",
              "      <td>0.013119</td>\n",
              "    </tr>\n",
              "    <tr>\n",
              "      <th>47</th>\n",
              "      <td>11-03-2010</td>\n",
              "      <td>0.000366</td>\n",
              "      <td>-0.014726</td>\n",
              "      <td>0.002935</td>\n",
              "      <td>0.023523</td>\n",
              "    </tr>\n",
              "    <tr>\n",
              "      <th>48</th>\n",
              "      <td>12-03-2010</td>\n",
              "      <td>-0.010231</td>\n",
              "      <td>0.002038</td>\n",
              "      <td>0.004878</td>\n",
              "      <td>-0.013176</td>\n",
              "    </tr>\n",
              "    <tr>\n",
              "      <th>49</th>\n",
              "      <td>15-03-2010</td>\n",
              "      <td>-0.018090</td>\n",
              "      <td>-0.001808</td>\n",
              "      <td>-0.012180</td>\n",
              "      <td>-0.005234</td>\n",
              "    </tr>\n",
              "  </tbody>\n",
              "</table>\n",
              "</div>"
            ],
            "text/plain": [
              "          Date  Oil Investments  ...  Comp Stock  Other sharesInvestments\n",
              "0   31-12-2009         0.025417  ...    0.017354                 0.006848\n",
              "1   04-01-2010         0.026830  ...    0.015565                -0.004609\n",
              "2   05-01-2010         0.002699  ...    0.001729                 0.005900\n",
              "3   06-01-2010         0.021688  ...   -0.015906                -0.018116\n",
              "4   07-01-2010        -0.006256  ...   -0.001849                -0.017013\n",
              "5   08-01-2010         0.001269  ...    0.006648                 0.027077\n",
              "6   11-01-2010        -0.002417  ...   -0.008822                -0.024041\n",
              "7   12-01-2010        -0.021202  ...   -0.011375                -0.022715\n",
              "8   13-01-2010        -0.013987  ...    0.014106                 0.013820\n",
              "9   14-01-2010        -0.003892  ...   -0.005792                -0.013632\n",
              "10  15-01-2010        -0.017517  ...   -0.016712                -0.001649\n",
              "11  19-01-2010         0.013084  ...    0.044238                 0.003697\n",
              "12  20-01-2010        -0.013975  ...   -0.015392                -0.014341\n",
              "13  21-01-2010        -0.020408  ...   -0.017286                 0.006678\n",
              "14  22-01-2010        -0.020965  ...   -0.049599                -0.040989\n",
              "15  25-01-2010         0.008754  ...    0.026903                -0.009223\n",
              "16  26-01-2010        -0.003071  ...    0.014133                -0.006899\n",
              "17  27-01-2010        -0.013794  ...    0.009420                 0.027369\n",
              "18  28-01-2010        -0.000272  ...   -0.041322                 0.026721\n",
              "19  29-01-2010        -0.010459  ...   -0.036279                -0.004919\n",
              "20  01-02-2010         0.021414  ...    0.013902                -0.052149\n",
              "21  02-02-2010         0.037629  ...    0.005803                -0.006309\n",
              "22  03-02-2010        -0.003238  ...    0.017206                 0.008297\n",
              "23  04-02-2010        -0.049766  ...   -0.036039                -0.026532\n",
              "24  05-02-2010        -0.027075  ...    0.017756                 0.012506\n",
              "25  08-02-2010         0.010119  ...   -0.006856                -0.004770\n",
              "26  09-02-2010         0.025602  ...    0.010664                 0.010271\n",
              "27  10-02-2010         0.010446  ...   -0.005454                -0.005677\n",
              "28  11-02-2010         0.010070  ...    0.018194                 0.023262\n",
              "29  12-02-2010        -0.014888  ...    0.008607                -0.003581\n",
              "30  16-02-2010         0.038726  ...    0.015071                -0.017800\n",
              "31  17-02-2010         0.003767  ...   -0.004179                -0.010380\n",
              "32  18-02-2010         0.022001  ...    0.001876                 0.015218\n",
              "33  19-02-2010         0.010130  ...   -0.006209                -0.004743\n",
              "34  22-02-2010         0.003385  ...   -0.006198                 0.004170\n",
              "35  23-02-2010        -0.017866  ...   -0.016765                -0.006525\n",
              "36  24-02-2010         0.014502  ...    0.018269                 0.021153\n",
              "37  25-02-2010        -0.022069  ...    0.006678                -0.012696\n",
              "38  26-02-2010         0.022182  ...    0.012970                 0.001692\n",
              "39  01-03-2010        -0.012669  ...    0.021357                 0.051858\n",
              "40  02-03-2010         0.011561  ...   -0.000670                 0.007949\n",
              "41  03-03-2010         0.016202  ...    0.002298                 0.002868\n",
              "42  04-03-2010        -0.008652  ...    0.006592                 0.020971\n",
              "43  05-03-2010         0.016083  ...    0.039106                 0.002957\n",
              "44  08-03-2010         0.004294  ...    0.000594                 0.009309\n",
              "45  09-03-2010        -0.004276  ...    0.017984                -0.009915\n",
              "46  10-03-2010         0.006994  ...    0.008161                 0.013119\n",
              "47  11-03-2010         0.000366  ...    0.002935                 0.023523\n",
              "48  12-03-2010        -0.010231  ...    0.004878                -0.013176\n",
              "49  15-03-2010        -0.018090  ...   -0.012180                -0.005234\n",
              "\n",
              "[50 rows x 5 columns]"
            ]
          },
          "metadata": {
            "tags": []
          },
          "execution_count": 1
        }
      ]
    },
    {
      "cell_type": "code",
      "metadata": {
        "id": "Re35bZLjoqw2"
      },
      "source": [
        "# data_com_stock = data.copy()\n",
        "# data_com_stock=data_com_stock[['Date','Comp Stock']]\n",
        "# data_com_stock"
      ],
      "execution_count": null,
      "outputs": []
    },
    {
      "cell_type": "code",
      "metadata": {
        "id": "FmN3tbLd4_CZ",
        "outputId": "bc1025d6-a47e-49a2-f1ce-86074af69f66",
        "colab": {
          "base_uri": "https://localhost:8080/",
          "height": 124
        }
      },
      "source": [
        "data.dtypes"
      ],
      "execution_count": null,
      "outputs": [
        {
          "output_type": "execute_result",
          "data": {
            "text/plain": [
              "Date                        object\n",
              "Oil Investments            float64\n",
              "Gold Investments           float64\n",
              "Comp Stock                 float64\n",
              "Other sharesInvestments    float64\n",
              "dtype: object"
            ]
          },
          "metadata": {
            "tags": []
          },
          "execution_count": 317
        }
      ]
    },
    {
      "cell_type": "code",
      "metadata": {
        "id": "G0Wr4oRuKfbX",
        "outputId": "9ce1c88c-439f-4068-93f7-f567847c9006",
        "colab": {
          "base_uri": "https://localhost:8080/",
          "height": 124
        }
      },
      "source": [
        "data.isna().sum()"
      ],
      "execution_count": null,
      "outputs": [
        {
          "output_type": "execute_result",
          "data": {
            "text/plain": [
              "Date                       0\n",
              "Oil Investments            0\n",
              "Gold Investments           0\n",
              "Comp Stock                 0\n",
              "Other sharesInvestments    0\n",
              "dtype: int64"
            ]
          },
          "metadata": {
            "tags": []
          },
          "execution_count": 318
        }
      ]
    },
    {
      "cell_type": "code",
      "metadata": {
        "id": "yGOZc9cYXQCs",
        "outputId": "726e59b6-b448-4002-8dd3-b9a9f01d984c",
        "colab": {
          "base_uri": "https://localhost:8080/",
          "height": 73
        }
      },
      "source": [
        "date_parser = lambda dates: pd.datetime.strptime(dates,'%d-%m-%Y')\n",
        "time_data = pd.read_csv('/content/drive/My Drive/TS_Data/Company_Stock_and_Investment.csv',parse_dates=['Date'],index_col=['Date'],date_parser=date_parser)"
      ],
      "execution_count": null,
      "outputs": [
        {
          "output_type": "stream",
          "text": [
            "/usr/local/lib/python3.6/dist-packages/ipykernel_launcher.py:1: FutureWarning: The pandas.datetime class is deprecated and will be removed from pandas in a future version. Import from datetime instead.\n",
            "  \"\"\"Entry point for launching an IPython kernel.\n"
          ],
          "name": "stderr"
        }
      ]
    },
    {
      "cell_type": "code",
      "metadata": {
        "id": "vKWaCBwrYUOy",
        "outputId": "a1189201-321b-4352-d7ef-2eb4db7e2282",
        "colab": {
          "base_uri": "https://localhost:8080/",
          "height": 179
        }
      },
      "source": [
        "time_data2 = pd.read_csv('/content/drive/My Drive/TS_Data/Company_Stock_and_Investment.csv',parse_dates=['Date'],date_parser=date_parser)\n",
        "time_data2.dtypes"
      ],
      "execution_count": null,
      "outputs": [
        {
          "output_type": "stream",
          "text": [
            "/usr/local/lib/python3.6/dist-packages/ipykernel_launcher.py:1: FutureWarning: The pandas.datetime class is deprecated and will be removed from pandas in a future version. Import from datetime instead.\n",
            "  \"\"\"Entry point for launching an IPython kernel.\n"
          ],
          "name": "stderr"
        },
        {
          "output_type": "execute_result",
          "data": {
            "text/plain": [
              "Date                       datetime64[ns]\n",
              "Oil Investments                   float64\n",
              "Gold Investments                  float64\n",
              "Comp Stock                        float64\n",
              "Other sharesInvestments           float64\n",
              "dtype: object"
            ]
          },
          "metadata": {
            "tags": []
          },
          "execution_count": 320
        }
      ]
    },
    {
      "cell_type": "code",
      "metadata": {
        "id": "oMCAtOiDXt50",
        "outputId": "be53cd7c-1daf-49d1-89bf-3f600bf1f188",
        "colab": {
          "base_uri": "https://localhost:8080/",
          "height": 235
        }
      },
      "source": [
        "time_data.head()"
      ],
      "execution_count": null,
      "outputs": [
        {
          "output_type": "execute_result",
          "data": {
            "text/html": [
              "<div>\n",
              "<style scoped>\n",
              "    .dataframe tbody tr th:only-of-type {\n",
              "        vertical-align: middle;\n",
              "    }\n",
              "\n",
              "    .dataframe tbody tr th {\n",
              "        vertical-align: top;\n",
              "    }\n",
              "\n",
              "    .dataframe thead th {\n",
              "        text-align: right;\n",
              "    }\n",
              "</style>\n",
              "<table border=\"1\" class=\"dataframe\">\n",
              "  <thead>\n",
              "    <tr style=\"text-align: right;\">\n",
              "      <th></th>\n",
              "      <th>Oil Investments</th>\n",
              "      <th>Gold Investments</th>\n",
              "      <th>Comp Stock</th>\n",
              "      <th>Other sharesInvestments</th>\n",
              "    </tr>\n",
              "    <tr>\n",
              "      <th>Date</th>\n",
              "      <th></th>\n",
              "      <th></th>\n",
              "      <th></th>\n",
              "      <th></th>\n",
              "    </tr>\n",
              "  </thead>\n",
              "  <tbody>\n",
              "    <tr>\n",
              "      <th>2009-12-31</th>\n",
              "      <td>0.025417</td>\n",
              "      <td>0.000150</td>\n",
              "      <td>0.017354</td>\n",
              "      <td>0.006848</td>\n",
              "    </tr>\n",
              "    <tr>\n",
              "      <th>2010-01-04</th>\n",
              "      <td>0.026830</td>\n",
              "      <td>0.001097</td>\n",
              "      <td>0.015565</td>\n",
              "      <td>-0.004609</td>\n",
              "    </tr>\n",
              "    <tr>\n",
              "      <th>2010-01-05</th>\n",
              "      <td>0.002699</td>\n",
              "      <td>0.001560</td>\n",
              "      <td>0.001729</td>\n",
              "      <td>0.005900</td>\n",
              "    </tr>\n",
              "    <tr>\n",
              "      <th>2010-01-06</th>\n",
              "      <td>0.021688</td>\n",
              "      <td>0.006009</td>\n",
              "      <td>-0.015906</td>\n",
              "      <td>-0.018116</td>\n",
              "    </tr>\n",
              "    <tr>\n",
              "      <th>2010-01-07</th>\n",
              "      <td>-0.006256</td>\n",
              "      <td>0.000221</td>\n",
              "      <td>-0.001849</td>\n",
              "      <td>-0.017013</td>\n",
              "    </tr>\n",
              "  </tbody>\n",
              "</table>\n",
              "</div>"
            ],
            "text/plain": [
              "            Oil Investments  ...  Other sharesInvestments\n",
              "Date                         ...                         \n",
              "2009-12-31         0.025417  ...                 0.006848\n",
              "2010-01-04         0.026830  ...                -0.004609\n",
              "2010-01-05         0.002699  ...                 0.005900\n",
              "2010-01-06         0.021688  ...                -0.018116\n",
              "2010-01-07        -0.006256  ...                -0.017013\n",
              "\n",
              "[5 rows x 4 columns]"
            ]
          },
          "metadata": {
            "tags": []
          },
          "execution_count": 321
        }
      ]
    },
    {
      "cell_type": "code",
      "metadata": {
        "id": "CP6iuGUhYuqo"
      },
      "source": [
        "time_data1 = time_data[['Comp Stock']]"
      ],
      "execution_count": null,
      "outputs": []
    },
    {
      "cell_type": "code",
      "metadata": {
        "id": "YI8wKImWZHrV",
        "outputId": "2b9e38b4-0146-4395-eab9-be45fb20e8fc",
        "colab": {
          "base_uri": "https://localhost:8080/",
          "height": 235
        }
      },
      "source": [
        "time_data1.head()"
      ],
      "execution_count": null,
      "outputs": [
        {
          "output_type": "execute_result",
          "data": {
            "text/html": [
              "<div>\n",
              "<style scoped>\n",
              "    .dataframe tbody tr th:only-of-type {\n",
              "        vertical-align: middle;\n",
              "    }\n",
              "\n",
              "    .dataframe tbody tr th {\n",
              "        vertical-align: top;\n",
              "    }\n",
              "\n",
              "    .dataframe thead th {\n",
              "        text-align: right;\n",
              "    }\n",
              "</style>\n",
              "<table border=\"1\" class=\"dataframe\">\n",
              "  <thead>\n",
              "    <tr style=\"text-align: right;\">\n",
              "      <th></th>\n",
              "      <th>Comp Stock</th>\n",
              "    </tr>\n",
              "    <tr>\n",
              "      <th>Date</th>\n",
              "      <th></th>\n",
              "    </tr>\n",
              "  </thead>\n",
              "  <tbody>\n",
              "    <tr>\n",
              "      <th>2009-12-31</th>\n",
              "      <td>0.017354</td>\n",
              "    </tr>\n",
              "    <tr>\n",
              "      <th>2010-01-04</th>\n",
              "      <td>0.015565</td>\n",
              "    </tr>\n",
              "    <tr>\n",
              "      <th>2010-01-05</th>\n",
              "      <td>0.001729</td>\n",
              "    </tr>\n",
              "    <tr>\n",
              "      <th>2010-01-06</th>\n",
              "      <td>-0.015906</td>\n",
              "    </tr>\n",
              "    <tr>\n",
              "      <th>2010-01-07</th>\n",
              "      <td>-0.001849</td>\n",
              "    </tr>\n",
              "  </tbody>\n",
              "</table>\n",
              "</div>"
            ],
            "text/plain": [
              "            Comp Stock\n",
              "Date                  \n",
              "2009-12-31    0.017354\n",
              "2010-01-04    0.015565\n",
              "2010-01-05    0.001729\n",
              "2010-01-06   -0.015906\n",
              "2010-01-07   -0.001849"
            ]
          },
          "metadata": {
            "tags": []
          },
          "execution_count": 323
        }
      ]
    },
    {
      "cell_type": "code",
      "metadata": {
        "id": "0rYcCPmmLJkS"
      },
      "source": [
        "from statsmodels.tsa.stattools import adfuller\n",
        "\n",
        "test_result=adfuller(time_data1)"
      ],
      "execution_count": null,
      "outputs": []
    },
    {
      "cell_type": "code",
      "metadata": {
        "id": "B6GN8ncMLJ4s"
      },
      "source": [
        "#Ho: It is non stationary\n",
        "#H1: It is stationary\n",
        "\n",
        "def adfuller_test(sales):\n",
        "    result=adfuller(sales) # same as above ,variable name changed\n",
        "    labels = ['ADF Test Statistic','p-value','#Lags Used','Number of Observations Used']\n",
        "    for value,label in zip(result,labels):\n",
        "        print(label+' : '+str(value) )\n",
        "    if result[1] <= 0.05:\n",
        "        print(\"strong evidence against the null hypothesis(Ho), reject the null hypothesis. Data  is stationary\")\n",
        "    else:\n",
        "        print(\"weak evidence against null hypothesis, time series is non-stationary \")"
      ],
      "execution_count": null,
      "outputs": []
    },
    {
      "cell_type": "code",
      "metadata": {
        "id": "oRD6LaL0LKJ8",
        "outputId": "983c8259-7935-4ba0-b335-973907f409de",
        "colab": {
          "base_uri": "https://localhost:8080/",
          "height": 106
        }
      },
      "source": [
        "adfuller_test(time_data1)"
      ],
      "execution_count": null,
      "outputs": [
        {
          "output_type": "stream",
          "text": [
            "ADF Test Statistic : -12.473386265908271\n",
            "p-value : 3.2077742930895363e-23\n",
            "#Lags Used : 12\n",
            "Number of Observations Used : 1971\n",
            "strong evidence against the null hypothesis(Ho), reject the null hypothesis. Data  is stationary\n"
          ],
          "name": "stdout"
        }
      ]
    },
    {
      "cell_type": "code",
      "metadata": {
        "id": "WRtDLMWYLJrX",
        "outputId": "f847477a-8ad3-48e8-d86e-5ae372dc4d7f",
        "colab": {
          "base_uri": "https://localhost:8080/",
          "height": 124
        }
      },
      "source": [
        "time_data1['Sales First Difference'] = time_data1 - time_data1.shift(1)"
      ],
      "execution_count": null,
      "outputs": [
        {
          "output_type": "stream",
          "text": [
            "/usr/local/lib/python3.6/dist-packages/ipykernel_launcher.py:1: SettingWithCopyWarning: \n",
            "A value is trying to be set on a copy of a slice from a DataFrame.\n",
            "Try using .loc[row_indexer,col_indexer] = value instead\n",
            "\n",
            "See the caveats in the documentation: https://pandas.pydata.org/pandas-docs/stable/user_guide/indexing.html#returning-a-view-versus-a-copy\n",
            "  \"\"\"Entry point for launching an IPython kernel.\n"
          ],
          "name": "stderr"
        }
      ]
    },
    {
      "cell_type": "code",
      "metadata": {
        "id": "xOvVf5LgLJoI",
        "outputId": "09ad34dc-dcfc-462b-b7cb-407f6a5078f4",
        "colab": {
          "base_uri": "https://localhost:8080/",
          "height": 235
        }
      },
      "source": [
        "time_data1.shift(1).head() # its shift one down"
      ],
      "execution_count": null,
      "outputs": [
        {
          "output_type": "execute_result",
          "data": {
            "text/html": [
              "<div>\n",
              "<style scoped>\n",
              "    .dataframe tbody tr th:only-of-type {\n",
              "        vertical-align: middle;\n",
              "    }\n",
              "\n",
              "    .dataframe tbody tr th {\n",
              "        vertical-align: top;\n",
              "    }\n",
              "\n",
              "    .dataframe thead th {\n",
              "        text-align: right;\n",
              "    }\n",
              "</style>\n",
              "<table border=\"1\" class=\"dataframe\">\n",
              "  <thead>\n",
              "    <tr style=\"text-align: right;\">\n",
              "      <th></th>\n",
              "      <th>Comp Stock</th>\n",
              "      <th>Sales First Difference</th>\n",
              "    </tr>\n",
              "    <tr>\n",
              "      <th>Date</th>\n",
              "      <th></th>\n",
              "      <th></th>\n",
              "    </tr>\n",
              "  </thead>\n",
              "  <tbody>\n",
              "    <tr>\n",
              "      <th>2009-12-31</th>\n",
              "      <td>NaN</td>\n",
              "      <td>NaN</td>\n",
              "    </tr>\n",
              "    <tr>\n",
              "      <th>2010-01-04</th>\n",
              "      <td>0.017354</td>\n",
              "      <td>NaN</td>\n",
              "    </tr>\n",
              "    <tr>\n",
              "      <th>2010-01-05</th>\n",
              "      <td>0.015565</td>\n",
              "      <td>-0.001789</td>\n",
              "    </tr>\n",
              "    <tr>\n",
              "      <th>2010-01-06</th>\n",
              "      <td>0.001729</td>\n",
              "      <td>-0.013836</td>\n",
              "    </tr>\n",
              "    <tr>\n",
              "      <th>2010-01-07</th>\n",
              "      <td>-0.015906</td>\n",
              "      <td>-0.017635</td>\n",
              "    </tr>\n",
              "  </tbody>\n",
              "</table>\n",
              "</div>"
            ],
            "text/plain": [
              "            Comp Stock  Sales First Difference\n",
              "Date                                          \n",
              "2009-12-31         NaN                     NaN\n",
              "2010-01-04    0.017354                     NaN\n",
              "2010-01-05    0.015565               -0.001789\n",
              "2010-01-06    0.001729               -0.013836\n",
              "2010-01-07   -0.015906               -0.017635"
            ]
          },
          "metadata": {
            "tags": []
          },
          "execution_count": 328
        }
      ]
    },
    {
      "cell_type": "code",
      "metadata": {
        "id": "-Sm4QDZ7MpJE",
        "outputId": "1bf77bcf-9617-4d63-b745-ef0dad033b81",
        "colab": {
          "base_uri": "https://localhost:8080/",
          "height": 124
        }
      },
      "source": [
        "time_data1['Seasonal First Difference']=time_data1['Comp Stock']-time_data1['Comp Stock'].shift(12) \n",
        "#as seasonal its a 12 month data"
      ],
      "execution_count": null,
      "outputs": [
        {
          "output_type": "stream",
          "text": [
            "/usr/local/lib/python3.6/dist-packages/ipykernel_launcher.py:1: SettingWithCopyWarning: \n",
            "A value is trying to be set on a copy of a slice from a DataFrame.\n",
            "Try using .loc[row_indexer,col_indexer] = value instead\n",
            "\n",
            "See the caveats in the documentation: https://pandas.pydata.org/pandas-docs/stable/user_guide/indexing.html#returning-a-view-versus-a-copy\n",
            "  \"\"\"Entry point for launching an IPython kernel.\n"
          ],
          "name": "stderr"
        }
      ]
    },
    {
      "cell_type": "code",
      "metadata": {
        "id": "TBy_jfbfMpgS",
        "outputId": "e28cefc2-9937-4a7c-f49b-eb478b51b947",
        "colab": {
          "base_uri": "https://localhost:8080/",
          "height": 515
        }
      },
      "source": [
        "time_data1.head(14) #when subtracted with nan we get a nan"
      ],
      "execution_count": null,
      "outputs": [
        {
          "output_type": "execute_result",
          "data": {
            "text/html": [
              "<div>\n",
              "<style scoped>\n",
              "    .dataframe tbody tr th:only-of-type {\n",
              "        vertical-align: middle;\n",
              "    }\n",
              "\n",
              "    .dataframe tbody tr th {\n",
              "        vertical-align: top;\n",
              "    }\n",
              "\n",
              "    .dataframe thead th {\n",
              "        text-align: right;\n",
              "    }\n",
              "</style>\n",
              "<table border=\"1\" class=\"dataframe\">\n",
              "  <thead>\n",
              "    <tr style=\"text-align: right;\">\n",
              "      <th></th>\n",
              "      <th>Comp Stock</th>\n",
              "      <th>Sales First Difference</th>\n",
              "      <th>Seasonal First Difference</th>\n",
              "    </tr>\n",
              "    <tr>\n",
              "      <th>Date</th>\n",
              "      <th></th>\n",
              "      <th></th>\n",
              "      <th></th>\n",
              "    </tr>\n",
              "  </thead>\n",
              "  <tbody>\n",
              "    <tr>\n",
              "      <th>2009-12-31</th>\n",
              "      <td>0.017354</td>\n",
              "      <td>NaN</td>\n",
              "      <td>NaN</td>\n",
              "    </tr>\n",
              "    <tr>\n",
              "      <th>2010-01-04</th>\n",
              "      <td>0.015565</td>\n",
              "      <td>-0.001789</td>\n",
              "      <td>NaN</td>\n",
              "    </tr>\n",
              "    <tr>\n",
              "      <th>2010-01-05</th>\n",
              "      <td>0.001729</td>\n",
              "      <td>-0.013836</td>\n",
              "      <td>NaN</td>\n",
              "    </tr>\n",
              "    <tr>\n",
              "      <th>2010-01-06</th>\n",
              "      <td>-0.015906</td>\n",
              "      <td>-0.017635</td>\n",
              "      <td>NaN</td>\n",
              "    </tr>\n",
              "    <tr>\n",
              "      <th>2010-01-07</th>\n",
              "      <td>-0.001849</td>\n",
              "      <td>0.014058</td>\n",
              "      <td>NaN</td>\n",
              "    </tr>\n",
              "    <tr>\n",
              "      <th>2010-01-08</th>\n",
              "      <td>0.006648</td>\n",
              "      <td>0.008497</td>\n",
              "      <td>NaN</td>\n",
              "    </tr>\n",
              "    <tr>\n",
              "      <th>2010-01-11</th>\n",
              "      <td>-0.008822</td>\n",
              "      <td>-0.015470</td>\n",
              "      <td>NaN</td>\n",
              "    </tr>\n",
              "    <tr>\n",
              "      <th>2010-01-12</th>\n",
              "      <td>-0.011375</td>\n",
              "      <td>-0.002553</td>\n",
              "      <td>NaN</td>\n",
              "    </tr>\n",
              "    <tr>\n",
              "      <th>2010-01-13</th>\n",
              "      <td>0.014106</td>\n",
              "      <td>0.025481</td>\n",
              "      <td>NaN</td>\n",
              "    </tr>\n",
              "    <tr>\n",
              "      <th>2010-01-14</th>\n",
              "      <td>-0.005792</td>\n",
              "      <td>-0.019897</td>\n",
              "      <td>NaN</td>\n",
              "    </tr>\n",
              "    <tr>\n",
              "      <th>2010-01-15</th>\n",
              "      <td>-0.016712</td>\n",
              "      <td>-0.010920</td>\n",
              "      <td>NaN</td>\n",
              "    </tr>\n",
              "    <tr>\n",
              "      <th>2010-01-19</th>\n",
              "      <td>0.044238</td>\n",
              "      <td>0.060950</td>\n",
              "      <td>NaN</td>\n",
              "    </tr>\n",
              "    <tr>\n",
              "      <th>2010-01-20</th>\n",
              "      <td>-0.015392</td>\n",
              "      <td>-0.059631</td>\n",
              "      <td>-0.032746</td>\n",
              "    </tr>\n",
              "    <tr>\n",
              "      <th>2010-01-21</th>\n",
              "      <td>-0.017286</td>\n",
              "      <td>-0.001894</td>\n",
              "      <td>-0.032851</td>\n",
              "    </tr>\n",
              "  </tbody>\n",
              "</table>\n",
              "</div>"
            ],
            "text/plain": [
              "            Comp Stock  Sales First Difference  Seasonal First Difference\n",
              "Date                                                                     \n",
              "2009-12-31    0.017354                     NaN                        NaN\n",
              "2010-01-04    0.015565               -0.001789                        NaN\n",
              "2010-01-05    0.001729               -0.013836                        NaN\n",
              "2010-01-06   -0.015906               -0.017635                        NaN\n",
              "2010-01-07   -0.001849                0.014058                        NaN\n",
              "2010-01-08    0.006648                0.008497                        NaN\n",
              "2010-01-11   -0.008822               -0.015470                        NaN\n",
              "2010-01-12   -0.011375               -0.002553                        NaN\n",
              "2010-01-13    0.014106                0.025481                        NaN\n",
              "2010-01-14   -0.005792               -0.019897                        NaN\n",
              "2010-01-15   -0.016712               -0.010920                        NaN\n",
              "2010-01-19    0.044238                0.060950                        NaN\n",
              "2010-01-20   -0.015392               -0.059631                  -0.032746\n",
              "2010-01-21   -0.017286               -0.001894                  -0.032851"
            ]
          },
          "metadata": {
            "tags": []
          },
          "execution_count": 330
        }
      ]
    },
    {
      "cell_type": "code",
      "metadata": {
        "id": "-b3Sy0FUMp33",
        "outputId": "42afc873-5183-4062-ec90-bd0b858c4870",
        "colab": {
          "base_uri": "https://localhost:8080/",
          "height": 106
        }
      },
      "source": [
        "## Again test dickey fuller test\n",
        "adfuller_test(time_data1['Seasonal First Difference'].dropna())"
      ],
      "execution_count": null,
      "outputs": [
        {
          "output_type": "stream",
          "text": [
            "ADF Test Statistic : -13.237747334397202\n",
            "p-value : 9.304187972233725e-25\n",
            "#Lags Used : 26\n",
            "Number of Observations Used : 1945\n",
            "strong evidence against the null hypothesis(Ho), reject the null hypothesis. Data  is stationary\n"
          ],
          "name": "stdout"
        }
      ]
    },
    {
      "cell_type": "code",
      "metadata": {
        "id": "KX8I-DWCMqC3",
        "outputId": "7310b665-f3e3-408a-fc9e-39a9062112bc",
        "colab": {
          "base_uri": "https://localhost:8080/",
          "height": 397
        }
      },
      "source": [
        "time_data1['Seasonal First Difference'].plot()"
      ],
      "execution_count": null,
      "outputs": [
        {
          "output_type": "execute_result",
          "data": {
            "text/plain": [
              "<matplotlib.axes._subplots.AxesSubplot at 0x7ff7623aa048>"
            ]
          },
          "metadata": {
            "tags": []
          },
          "execution_count": 332
        },
        {
          "output_type": "display_data",
          "data": {
            "image/png": "[encoded data removed]",
            "text/plain": [
              "<Figure size 720x432 with 1 Axes>"
            ]
          },
          "metadata": {
            "tags": []
          }
        }
      ]
    },
    {
      "cell_type": "markdown",
      "metadata": {
        "id": "wYtxcOmaNVdD"
      },
      "source": [
        "# Auto Regressive Model"
      ]
    },
    {
      "cell_type": "code",
      "metadata": {
        "id": "jAj81QpWMqMq",
        "outputId": "d2e7b0ad-16a4-4e51-c1f1-668fe320b081",
        "colab": {
          "base_uri": "https://localhost:8080/",
          "height": 426
        }
      },
      "source": [
        "from pandas.plotting import autocorrelation_plot\n",
        "autocorrelation_plot(time_data1['Comp Stock'])\n",
        "plt.show()"
      ],
      "execution_count": null,
      "outputs": [
        {
          "output_type": "display_data",
          "data": {
            "image/png": "[encoded data removed]",
            "text/plain": [
              "<Figure size 720x432 with 1 Axes>"
            ]
          },
          "metadata": {
            "tags": []
          }
        }
      ]
    },
    {
      "cell_type": "code",
      "metadata": {
        "id": "Lz-4yUVKMqVm"
      },
      "source": [
        "from statsmodels.graphics.tsaplots import plot_acf,plot_pacf\n",
        "import statsmodels.api as sm "
      ],
      "execution_count": null,
      "outputs": []
    },
    {
      "cell_type": "code",
      "metadata": {
        "id": "uNzecZnTMqRG",
        "outputId": "692d5de8-14b8-4898-a9f1-68898dc20ed6",
        "colab": {
          "base_uri": "https://localhost:8080/",
          "height": 536
        }
      },
      "source": [
        "fig = plt.figure(figsize=(12,8))\n",
        "ax1 = fig.add_subplot(211)\n",
        "# First 12 values are null so we will start from 13\n",
        "fig = sm.graphics.tsa.plot_acf(time_data1['Seasonal First Difference'].iloc[13:],lags=40,ax=ax1)\n",
        "ax2 = fig.add_subplot(212)\n",
        "fig = sm.graphics.tsa.plot_pacf(time_data1['Seasonal First Difference'].iloc[13:],lags=40,ax=ax2)"
      ],
      "execution_count": null,
      "outputs": [
        {
          "output_type": "display_data",
          "data": {
            "image/png": "[encoded data removed]",
            "text/plain": [
              "<Figure size 864x576 with 2 Axes>"
            ]
          },
          "metadata": {
            "tags": []
          }
        }
      ]
    },
    {
      "cell_type": "code",
      "metadata": {
        "id": "jyVekrHxMqHf"
      },
      "source": [
        "# For non-seasonal data\n",
        "#p=1, d=1, q=0 or 1\n",
        "# Usually in seasonal data we avoid arima ,just showing u how to impliment\n",
        "from statsmodels.tsa.arima_model import ARIMA"
      ],
      "execution_count": null,
      "outputs": []
    },
    {
      "cell_type": "code",
      "metadata": {
        "id": "1sFCJJ7zMp8I",
        "outputId": "22faa464-2cf0-4f2e-baa9-7296255c6c5c",
        "colab": {
          "base_uri": "https://localhost:8080/",
          "height": 108
        }
      },
      "source": [
        "model=ARIMA(time_data1['Comp Stock'],order=(1,1,1)) # this order is p d q(0 or 1) \n",
        "model_fit=model.fit()"
      ],
      "execution_count": null,
      "outputs": [
        {
          "output_type": "stream",
          "text": [
            "/usr/local/lib/python3.6/dist-packages/statsmodels/tsa/base/tsa_model.py:218: ValueWarning: A date index has been provided, but it has no associated frequency information and so will be ignored when e.g. forecasting.\n",
            "  ' ignored when e.g. forecasting.', ValueWarning)\n",
            "/usr/local/lib/python3.6/dist-packages/statsmodels/tsa/base/tsa_model.py:218: ValueWarning: A date index has been provided, but it has no associated frequency information and so will be ignored when e.g. forecasting.\n",
            "  ' ignored when e.g. forecasting.', ValueWarning)\n"
          ],
          "name": "stderr"
        }
      ]
    },
    {
      "cell_type": "code",
      "metadata": {
        "id": "UsDbu-MVMprA",
        "outputId": "233851e0-ace1-4766-fb84-4d26b280f06a",
        "colab": {
          "base_uri": "https://localhost:8080/",
          "height": 325
        }
      },
      "source": [
        "model_fit.summary()"
      ],
      "execution_count": null,
      "outputs": [
        {
          "output_type": "execute_result",
          "data": {
            "text/html": [
              "<table class=\"simpletable\">\n",
              "<caption>ARIMA Model Results</caption>\n",
              "<tr>\n",
              "  <th>Dep. Variable:</th>   <td>D.Comp Stock</td>   <th>  No. Observations:  </th>    <td>1983</td>   \n",
              "</tr>\n",
              "<tr>\n",
              "  <th>Model:</th>          <td>ARIMA(1, 1, 1)</td>  <th>  Log Likelihood     </th>  <td>5373.983</td> \n",
              "</tr>\n",
              "<tr>\n",
              "  <th>Method:</th>             <td>css-mle</td>     <th>  S.D. of innovations</th>    <td>0.016</td>  \n",
              "</tr>\n",
              "<tr>\n",
              "  <th>Date:</th>          <td>Thu, 22 Oct 2020</td> <th>  AIC                </th> <td>-10739.966</td>\n",
              "</tr>\n",
              "<tr>\n",
              "  <th>Time:</th>              <td>20:34:06</td>     <th>  BIC                </th> <td>-10717.597</td>\n",
              "</tr>\n",
              "<tr>\n",
              "  <th>Sample:</th>                <td>1</td>        <th>  HQIC               </th> <td>-10731.749</td>\n",
              "</tr>\n",
              "<tr>\n",
              "  <th></th>                       <td> </td>        <th>                     </th>      <td> </td>    \n",
              "</tr>\n",
              "</table>\n",
              "<table class=\"simpletable\">\n",
              "<tr>\n",
              "           <td></td>             <th>coef</th>     <th>std err</th>      <th>z</th>      <th>P>|z|</th>  <th>[0.025</th>    <th>0.975]</th>  \n",
              "</tr>\n",
              "<tr>\n",
              "  <th>const</th>              <td>-9.078e-08</td> <td>  6.5e-06</td> <td>   -0.014</td> <td> 0.989</td> <td>-1.28e-05</td> <td> 1.26e-05</td>\n",
              "</tr>\n",
              "<tr>\n",
              "  <th>ar.L1.D.Comp Stock</th> <td>    0.0284</td> <td>    0.023</td> <td>    1.217</td> <td> 0.224</td> <td>   -0.017</td> <td>    0.074</td>\n",
              "</tr>\n",
              "<tr>\n",
              "  <th>ma.L1.D.Comp Stock</th> <td>   -0.9831</td> <td>    0.013</td> <td>  -73.360</td> <td> 0.000</td> <td>   -1.009</td> <td>   -0.957</td>\n",
              "</tr>\n",
              "</table>\n",
              "<table class=\"simpletable\">\n",
              "<caption>Roots</caption>\n",
              "<tr>\n",
              "    <td></td>   <th>            Real</th>  <th>         Imaginary</th> <th>         Modulus</th>  <th>        Frequency</th>\n",
              "</tr>\n",
              "<tr>\n",
              "  <th>AR.1</th> <td>          35.2592</td> <td>          +0.0000j</td> <td>          35.2592</td> <td>           0.0000</td>\n",
              "</tr>\n",
              "<tr>\n",
              "  <th>MA.1</th> <td>           1.0172</td> <td>          +0.0000j</td> <td>           1.0172</td> <td>           0.0000</td>\n",
              "</tr>\n",
              "</table>"
            ],
            "text/plain": [
              "<class 'statsmodels.iolib.summary.Summary'>\n",
              "\"\"\"\n",
              "                             ARIMA Model Results                              \n",
              "==============================================================================\n",
              "Dep. Variable:           D.Comp Stock   No. Observations:                 1983\n",
              "Model:                 ARIMA(1, 1, 1)   Log Likelihood                5373.983\n",
              "Method:                       css-mle   S.D. of innovations              0.016\n",
              "Date:                Thu, 22 Oct 2020   AIC                         -10739.966\n",
              "Time:                        20:34:06   BIC                         -10717.597\n",
              "Sample:                             1   HQIC                        -10731.749\n",
              "                                                                              \n",
              "======================================================================================\n",
              "                         coef    std err          z      P>|z|      [0.025      0.975]\n",
              "--------------------------------------------------------------------------------------\n",
              "const              -9.078e-08    6.5e-06     -0.014      0.989   -1.28e-05    1.26e-05\n",
              "ar.L1.D.Comp Stock     0.0284      0.023      1.217      0.224      -0.017       0.074\n",
              "ma.L1.D.Comp Stock    -0.9831      0.013    -73.360      0.000      -1.009      -0.957\n",
              "                                    Roots                                    \n",
              "=============================================================================\n",
              "                  Real          Imaginary           Modulus         Frequency\n",
              "-----------------------------------------------------------------------------\n",
              "AR.1           35.2592           +0.0000j           35.2592            0.0000\n",
              "MA.1            1.0172           +0.0000j            1.0172            0.0000\n",
              "-----------------------------------------------------------------------------\n",
              "\"\"\""
            ]
          },
          "metadata": {
            "tags": []
          },
          "execution_count": 338
        }
      ]
    },
    {
      "cell_type": "code",
      "metadata": {
        "id": "5l6hbdTXMpWE",
        "outputId": "6269f570-a224-4745-e55e-b8db1d0e9b65",
        "colab": {
          "base_uri": "https://localhost:8080/",
          "height": 496
        }
      },
      "source": [
        "time_data1['forecast']=model_fit.predict(start=90,end=103,dynamic=True)\n",
        "time_data1[['Comp Stock','forecast']].plot(figsize=(12,8))"
      ],
      "execution_count": null,
      "outputs": [
        {
          "output_type": "execute_result",
          "data": {
            "text/plain": [
              "<matplotlib.axes._subplots.AxesSubplot at 0x7ff75fb05f28>"
            ]
          },
          "metadata": {
            "tags": []
          },
          "execution_count": 339
        },
        {
          "output_type": "display_data",
          "data": {
            "image/png": "[encoded data removed]",
            "text/plain": [
              "<Figure size 864x576 with 1 Axes>"
            ]
          },
          "metadata": {
            "tags": []
          }
        }
      ]
    },
    {
      "cell_type": "code",
      "metadata": {
        "id": "iwVX5LpXMo_1"
      },
      "source": [
        "import statsmodels.api as sm  # SARIMAX - seasonal arimax"
      ],
      "execution_count": null,
      "outputs": []
    },
    {
      "cell_type": "code",
      "metadata": {
        "id": "rTbP5WuRR5vX",
        "outputId": "87974d64-0eaa-4342-e6e3-53a04cca6514",
        "colab": {
          "base_uri": "https://localhost:8080/",
          "height": 144
        }
      },
      "source": [
        "model=sm.tsa.statespace.SARIMAX(time_data1['Comp Stock'],order=(1, 1, 1),seasonal_order=(1,1,1,12)) #(p,d,q,Shift)\n",
        "results=model.fit()"
      ],
      "execution_count": null,
      "outputs": [
        {
          "output_type": "stream",
          "text": [
            "/usr/local/lib/python3.6/dist-packages/statsmodels/tsa/base/tsa_model.py:218: ValueWarning: A date index has been provided, but it has no associated frequency information and so will be ignored when e.g. forecasting.\n",
            "  ' ignored when e.g. forecasting.', ValueWarning)\n",
            "/usr/local/lib/python3.6/dist-packages/statsmodels/tsa/base/tsa_model.py:218: ValueWarning: A date index has been provided, but it has no associated frequency information and so will be ignored when e.g. forecasting.\n",
            "  ' ignored when e.g. forecasting.', ValueWarning)\n",
            "/usr/local/lib/python3.6/dist-packages/statsmodels/base/model.py:568: ConvergenceWarning: Maximum Likelihood optimization failed to converge. Check mle_retvals\n",
            "  \"Check mle_retvals\", ConvergenceWarning)\n"
          ],
          "name": "stderr"
        }
      ]
    },
    {
      "cell_type": "code",
      "metadata": {
        "id": "vvBushDOR55K",
        "outputId": "65d8771e-aba8-49bf-c19b-462cbb6d6e37",
        "colab": {
          "base_uri": "https://localhost:8080/",
          "height": 496
        }
      },
      "source": [
        "time_data1['forecast']=results.predict(start=90,end=103,dynamic=True)\n",
        "time_data1[['Comp Stock','forecast']].plot(figsize=(12,8))"
      ],
      "execution_count": null,
      "outputs": [
        {
          "output_type": "execute_result",
          "data": {
            "text/plain": [
              "<matplotlib.axes._subplots.AxesSubplot at 0x7ff755de8e10>"
            ]
          },
          "metadata": {
            "tags": []
          },
          "execution_count": 342
        },
        {
          "output_type": "display_data",
          "data": {
            "image/png": "[encoded data removed]",
            "text/plain": [
              "<Figure size 864x576 with 1 Axes>"
            ]
          },
          "metadata": {
            "tags": []
          }
        }
      ]
    },
    {
      "cell_type": "code",
      "metadata": {
        "id": "tCEQnCu7xepE"
      },
      "source": [
        "time_data1_df = time_data1.copy()"
      ],
      "execution_count": null,
      "outputs": []
    },
    {
      "cell_type": "code",
      "metadata": {
        "id": "1ctFyF_yxYuJ"
      },
      "source": [
        "time_data1_df.reset_index(inplace=True)"
      ],
      "execution_count": null,
      "outputs": []
    },
    {
      "cell_type": "code",
      "metadata": {
        "id": "XxfkdVlK0Hmr",
        "outputId": "069eabbd-51e2-4ae5-cfa0-06b9b7ba972a",
        "colab": {
          "base_uri": "https://localhost:8080/",
          "height": 124
        }
      },
      "source": [
        "time_data1_df.dtypes"
      ],
      "execution_count": null,
      "outputs": [
        {
          "output_type": "execute_result",
          "data": {
            "text/plain": [
              "Date                         datetime64[ns]\n",
              "Comp Stock                          float64\n",
              "Sales First Difference              float64\n",
              "Seasonal First Difference           float64\n",
              "forecast                            float64\n",
              "dtype: object"
            ]
          },
          "metadata": {
            "tags": []
          },
          "execution_count": 345
        }
      ]
    },
    {
      "cell_type": "markdown",
      "metadata": {
        "id": "_BGC9BOLSieV"
      },
      "source": [
        "# create data for forecast"
      ]
    },
    {
      "cell_type": "code",
      "metadata": {
        "id": "YJuqujypR6CE"
      },
      "source": [
        "#creating some data to predict future of this.\n",
        "from datetime import timedelta\n",
        "from pandas.tseries.offsets import DateOffset\n",
        "\n",
        "#future_dates=[data.index[-1]+ DateOffset(months=x)for x in range(0,24)]\n",
        "\n",
        "time_data1_df = time_data1_df.append(pd.DataFrame({'Date': pd.date_range(start=time_data1_df.Date.iloc[-1],end='2021-12-31')}))\n",
        "\n",
        "# ftr =  (df['date'] + pd.Timedelta(4, unit='days')).to_frame()\n",
        "# ftr['Monthly Value'] = None\n"
      ],
      "execution_count": null,
      "outputs": []
    },
    {
      "cell_type": "code",
      "metadata": {
        "id": "sNVUEMBER6H_",
        "outputId": "4aaf06c6-9949-4ec8-e083-15ccb674c771",
        "colab": {
          "base_uri": "https://localhost:8080/",
          "height": 420
        }
      },
      "source": [
        "time_data1_df"
      ],
      "execution_count": null,
      "outputs": [
        {
          "output_type": "execute_result",
          "data": {
            "text/html": [
              "<div>\n",
              "<style scoped>\n",
              "    .dataframe tbody tr th:only-of-type {\n",
              "        vertical-align: middle;\n",
              "    }\n",
              "\n",
              "    .dataframe tbody tr th {\n",
              "        vertical-align: top;\n",
              "    }\n",
              "\n",
              "    .dataframe thead th {\n",
              "        text-align: right;\n",
              "    }\n",
              "</style>\n",
              "<table border=\"1\" class=\"dataframe\">\n",
              "  <thead>\n",
              "    <tr style=\"text-align: right;\">\n",
              "      <th></th>\n",
              "      <th>Date</th>\n",
              "      <th>Comp Stock</th>\n",
              "      <th>Sales First Difference</th>\n",
              "      <th>Seasonal First Difference</th>\n",
              "      <th>forecast</th>\n",
              "    </tr>\n",
              "  </thead>\n",
              "  <tbody>\n",
              "    <tr>\n",
              "      <th>0</th>\n",
              "      <td>2009-12-31</td>\n",
              "      <td>0.017354</td>\n",
              "      <td>NaN</td>\n",
              "      <td>NaN</td>\n",
              "      <td>NaN</td>\n",
              "    </tr>\n",
              "    <tr>\n",
              "      <th>1</th>\n",
              "      <td>2010-01-04</td>\n",
              "      <td>0.015565</td>\n",
              "      <td>-0.001789</td>\n",
              "      <td>NaN</td>\n",
              "      <td>NaN</td>\n",
              "    </tr>\n",
              "    <tr>\n",
              "      <th>2</th>\n",
              "      <td>2010-01-05</td>\n",
              "      <td>0.001729</td>\n",
              "      <td>-0.013836</td>\n",
              "      <td>NaN</td>\n",
              "      <td>NaN</td>\n",
              "    </tr>\n",
              "    <tr>\n",
              "      <th>3</th>\n",
              "      <td>2010-01-06</td>\n",
              "      <td>-0.015906</td>\n",
              "      <td>-0.017635</td>\n",
              "      <td>NaN</td>\n",
              "      <td>NaN</td>\n",
              "    </tr>\n",
              "    <tr>\n",
              "      <th>4</th>\n",
              "      <td>2010-01-07</td>\n",
              "      <td>-0.001849</td>\n",
              "      <td>0.014058</td>\n",
              "      <td>NaN</td>\n",
              "      <td>NaN</td>\n",
              "    </tr>\n",
              "    <tr>\n",
              "      <th>...</th>\n",
              "      <td>...</td>\n",
              "      <td>...</td>\n",
              "      <td>...</td>\n",
              "      <td>...</td>\n",
              "      <td>...</td>\n",
              "    </tr>\n",
              "    <tr>\n",
              "      <th>1503</th>\n",
              "      <td>2021-12-27</td>\n",
              "      <td>NaN</td>\n",
              "      <td>NaN</td>\n",
              "      <td>NaN</td>\n",
              "      <td>NaN</td>\n",
              "    </tr>\n",
              "    <tr>\n",
              "      <th>1504</th>\n",
              "      <td>2021-12-28</td>\n",
              "      <td>NaN</td>\n",
              "      <td>NaN</td>\n",
              "      <td>NaN</td>\n",
              "      <td>NaN</td>\n",
              "    </tr>\n",
              "    <tr>\n",
              "      <th>1505</th>\n",
              "      <td>2021-12-29</td>\n",
              "      <td>NaN</td>\n",
              "      <td>NaN</td>\n",
              "      <td>NaN</td>\n",
              "      <td>NaN</td>\n",
              "    </tr>\n",
              "    <tr>\n",
              "      <th>1506</th>\n",
              "      <td>2021-12-30</td>\n",
              "      <td>NaN</td>\n",
              "      <td>NaN</td>\n",
              "      <td>NaN</td>\n",
              "      <td>NaN</td>\n",
              "    </tr>\n",
              "    <tr>\n",
              "      <th>1507</th>\n",
              "      <td>2021-12-31</td>\n",
              "      <td>NaN</td>\n",
              "      <td>NaN</td>\n",
              "      <td>NaN</td>\n",
              "      <td>NaN</td>\n",
              "    </tr>\n",
              "  </tbody>\n",
              "</table>\n",
              "<p>3492 rows × 5 columns</p>\n",
              "</div>"
            ],
            "text/plain": [
              "           Date  Comp Stock  ...  Seasonal First Difference  forecast\n",
              "0    2009-12-31    0.017354  ...                        NaN       NaN\n",
              "1    2010-01-04    0.015565  ...                        NaN       NaN\n",
              "2    2010-01-05    0.001729  ...                        NaN       NaN\n",
              "3    2010-01-06   -0.015906  ...                        NaN       NaN\n",
              "4    2010-01-07   -0.001849  ...                        NaN       NaN\n",
              "...         ...         ...  ...                        ...       ...\n",
              "1503 2021-12-27         NaN  ...                        NaN       NaN\n",
              "1504 2021-12-28         NaN  ...                        NaN       NaN\n",
              "1505 2021-12-29         NaN  ...                        NaN       NaN\n",
              "1506 2021-12-30         NaN  ...                        NaN       NaN\n",
              "1507 2021-12-31         NaN  ...                        NaN       NaN\n",
              "\n",
              "[3492 rows x 5 columns]"
            ]
          },
          "metadata": {
            "tags": []
          },
          "execution_count": 347
        }
      ]
    },
    {
      "cell_type": "code",
      "metadata": {
        "id": "xLrFurmlR5-0"
      },
      "source": [
        "time_data1_df.set_index('Date',inplace=True)"
      ],
      "execution_count": null,
      "outputs": []
    },
    {
      "cell_type": "code",
      "metadata": {
        "id": "S2gCEnBiR51Y",
        "outputId": "52416d83-223a-4b9e-8162-7ab7d57276aa",
        "colab": {
          "base_uri": "https://localhost:8080/",
          "height": 235
        }
      },
      "source": [
        "time_data1_df.tail()"
      ],
      "execution_count": null,
      "outputs": [
        {
          "output_type": "execute_result",
          "data": {
            "text/html": [
              "<div>\n",
              "<style scoped>\n",
              "    .dataframe tbody tr th:only-of-type {\n",
              "        vertical-align: middle;\n",
              "    }\n",
              "\n",
              "    .dataframe tbody tr th {\n",
              "        vertical-align: top;\n",
              "    }\n",
              "\n",
              "    .dataframe thead th {\n",
              "        text-align: right;\n",
              "    }\n",
              "</style>\n",
              "<table border=\"1\" class=\"dataframe\">\n",
              "  <thead>\n",
              "    <tr style=\"text-align: right;\">\n",
              "      <th></th>\n",
              "      <th>Comp Stock</th>\n",
              "      <th>Sales First Difference</th>\n",
              "      <th>Seasonal First Difference</th>\n",
              "      <th>forecast</th>\n",
              "    </tr>\n",
              "    <tr>\n",
              "      <th>Date</th>\n",
              "      <th></th>\n",
              "      <th></th>\n",
              "      <th></th>\n",
              "      <th></th>\n",
              "    </tr>\n",
              "  </thead>\n",
              "  <tbody>\n",
              "    <tr>\n",
              "      <th>2021-12-27</th>\n",
              "      <td>NaN</td>\n",
              "      <td>NaN</td>\n",
              "      <td>NaN</td>\n",
              "      <td>NaN</td>\n",
              "    </tr>\n",
              "    <tr>\n",
              "      <th>2021-12-28</th>\n",
              "      <td>NaN</td>\n",
              "      <td>NaN</td>\n",
              "      <td>NaN</td>\n",
              "      <td>NaN</td>\n",
              "    </tr>\n",
              "    <tr>\n",
              "      <th>2021-12-29</th>\n",
              "      <td>NaN</td>\n",
              "      <td>NaN</td>\n",
              "      <td>NaN</td>\n",
              "      <td>NaN</td>\n",
              "    </tr>\n",
              "    <tr>\n",
              "      <th>2021-12-30</th>\n",
              "      <td>NaN</td>\n",
              "      <td>NaN</td>\n",
              "      <td>NaN</td>\n",
              "      <td>NaN</td>\n",
              "    </tr>\n",
              "    <tr>\n",
              "      <th>2021-12-31</th>\n",
              "      <td>NaN</td>\n",
              "      <td>NaN</td>\n",
              "      <td>NaN</td>\n",
              "      <td>NaN</td>\n",
              "    </tr>\n",
              "  </tbody>\n",
              "</table>\n",
              "</div>"
            ],
            "text/plain": [
              "            Comp Stock  ...  forecast\n",
              "Date                    ...          \n",
              "2021-12-27         NaN  ...       NaN\n",
              "2021-12-28         NaN  ...       NaN\n",
              "2021-12-29         NaN  ...       NaN\n",
              "2021-12-30         NaN  ...       NaN\n",
              "2021-12-31         NaN  ...       NaN\n",
              "\n",
              "[5 rows x 4 columns]"
            ]
          },
          "metadata": {
            "tags": []
          },
          "execution_count": 349
        }
      ]
    },
    {
      "cell_type": "code",
      "metadata": {
        "id": "7DFf9ukbR5rh",
        "outputId": "21b52dde-1a62-4fe0-d5e8-a2b390a0cfa8",
        "colab": {
          "base_uri": "https://localhost:8080/",
          "height": 551
        }
      },
      "source": [
        "time_data1_df['forecast'] = results.predict(start = 1500, end =3491 , dynamic= True)  \n",
        "time_data1_df[['Comp Stock', 'forecast']].plot(figsize=(12, 8)) "
      ],
      "execution_count": null,
      "outputs": [
        {
          "output_type": "stream",
          "text": [
            "/usr/local/lib/python3.6/dist-packages/statsmodels/tsa/base/tsa_model.py:583: ValueWarning: No supported index is available. Prediction results will be given with an integer index beginning at `start`.\n",
            "  ValueWarning)\n"
          ],
          "name": "stderr"
        },
        {
          "output_type": "execute_result",
          "data": {
            "text/plain": [
              "<matplotlib.axes._subplots.AxesSubplot at 0x7ff755bd9898>"
            ]
          },
          "metadata": {
            "tags": []
          },
          "execution_count": 356
        },
        {
          "output_type": "display_data",
          "data": {
            "image/png": "[encoded data removed]",
            "text/plain": [
              "<Figure size 864x576 with 1 Axes>"
            ]
          },
          "metadata": {
            "tags": []
          }
        }
      ]
    },
    {
      "cell_type": "code",
      "metadata": {
        "id": "ILajwz-M1z5e"
      },
      "source": [
        ""
      ],
      "execution_count": null,
      "outputs": []
    },
    {
      "cell_type": "code",
      "metadata": {
        "id": "Akt4u4H910BQ"
      },
      "source": [
        ""
      ],
      "execution_count": null,
      "outputs": []
    },
    {
      "cell_type": "code",
      "metadata": {
        "id": "UcwIRutN1z-m"
      },
      "source": [
        ""
      ],
      "execution_count": null,
      "outputs": []
    },
    {
      "cell_type": "code",
      "metadata": {
        "id": "PuM0ScEN1z1S"
      },
      "source": [
        ""
      ],
      "execution_count": null,
      "outputs": []
    },
    {
      "cell_type": "code",
      "metadata": {
        "id": "1Pqz2GUjEfhD"
      },
      "source": [
        "pd.date_range(start='2017-11-15', end='2021-12-31')"
      ],
      "execution_count": null,
      "outputs": []
    },
    {
      "cell_type": "code",
      "metadata": {
        "id": "gqscUpO66S67"
      },
      "source": [
        ""
      ],
      "execution_count": null,
      "outputs": []
    }
  ]
}