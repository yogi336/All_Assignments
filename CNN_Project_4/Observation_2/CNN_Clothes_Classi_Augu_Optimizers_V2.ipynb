{
  "nbformat": 4,
  "nbformat_minor": 0,
  "metadata": {
    "colab": {
      "name": "CNN_Clothes_Classi_Augu_Optimizers_V2.ipynb",
      "provenance": [],
      "collapsed_sections": []
    },
    "kernelspec": {
      "name": "python3",
      "display_name": "Python 3"
    },
    "accelerator": "GPU"
  },
  "cells": [
    {
      "cell_type": "code",
      "metadata": {
        "id": "Z80dgyROjW3L",
        "colab_type": "code",
        "colab": {}
      },
      "source": [
        "## CNN_Clothes_Classi_Augu_Optimizers_V2.ipynb"
      ],
      "execution_count": null,
      "outputs": []
    },
    {
      "cell_type": "markdown",
      "metadata": {
        "id": "xtw90CR6BnnY",
        "colab_type": "text"
      },
      "source": [
        "# Yogendra Verma\n",
        "Assignment-4(V2)\n",
        "\n",
        "Batch-1814"
      ]
    },
    {
      "cell_type": "markdown",
      "metadata": {
        "id": "aRispTxpRPbc",
        "colab_type": "text"
      },
      "source": [
        "Here i have use all kind of callbacks together like: \n",
        "\n",
        "1) EarlyStopping \n",
        "\n",
        "2) ReduceLROnPlateau \n",
        "\n",
        "3) Checkpints"
      ]
    },
    {
      "cell_type": "code",
      "metadata": {
        "id": "YF5VL2DiNDAO",
        "colab_type": "code",
        "colab": {}
      },
      "source": [
        "import keras\n",
        "import sys\n",
        "from matplotlib import pyplot\n",
        "from keras.utils import to_categorical\n",
        "from keras.models import Sequential\n",
        "from keras.layers import Conv2D\n",
        "from keras.layers import MaxPooling2D\n",
        "from keras.layers import Dense\n",
        "from keras.layers import Flatten\n",
        "from keras.optimizers import SGD\n",
        "from keras.preprocessing.image import ImageDataGenerator\n",
        "from keras.layers import Dropout\n",
        "from keras.callbacks import EarlyStopping ,ModelCheckpoint\n",
        "#import datetime\n",
        "from datetime import datetime"
      ],
      "execution_count": null,
      "outputs": []
    },
    {
      "cell_type": "markdown",
      "metadata": {
        "id": "pGNRbm9agq65",
        "colab_type": "text"
      },
      "source": [
        "**Define CNN Model**"
      ]
    },
    {
      "cell_type": "code",
      "metadata": {
        "id": "uSeCg3Vxxn5C",
        "colab_type": "code",
        "colab": {}
      },
      "source": [
        "img_rows = 64\n",
        "img_cols = 64\n",
        "batch_size = 70\n",
        "epochs=20"
      ],
      "execution_count": null,
      "outputs": []
    },
    {
      "cell_type": "code",
      "metadata": {
        "id": "zoF3yjJkV-Hk",
        "colab_type": "code",
        "colab": {}
      },
      "source": [
        "def define_model():\n",
        "  model = Sequential()\n",
        "  model.add(Conv2D(32, (3, 3), activation='relu', kernel_initializer='he_uniform', padding='same', input_shape=(img_rows, img_cols, 3)))\n",
        "  model.add(MaxPooling2D((2, 2)))\n",
        "  #model.add(Dropout(0.2))\n",
        "  model.add(Conv2D(64, (3, 3), activation='relu', kernel_initializer='he_uniform', padding='same'))\n",
        "  model.add(MaxPooling2D((2, 2)))\n",
        "  #model.add(Dropout(0.2))\n",
        "  model.add(Flatten())\n",
        "  model.add(Dense(128, activation='relu', kernel_initializer='he_uniform'))\n",
        "  #model.add(Dropout(0.4))\n",
        "  model.add(Dense(1, activation='sigmoid'))\n",
        "\n",
        "\t# compile model\n",
        "  #opt = SGD(lr=0.001, momentum=0.9)\n",
        "  #opt = keras.optimizers.Adadelta()\n",
        "  #opt = keras.optimizers.RMSprop(lr=0.001)\n",
        "  #opt = keras.optimizers.Nadam(lr=0.001)\n",
        "  opt = keras.optimizers.Adam(learning_rate=0.001)\n",
        "  #opt = keras.optimizers.SGD(momentum=0.01, nesterov=True)\n",
        "  model.compile(optimizer=opt, loss='binary_crossentropy', metrics=['accuracy'])\n",
        "  return model\n"
      ],
      "execution_count": null,
      "outputs": []
    },
    {
      "cell_type": "code",
      "metadata": {
        "id": "yEY4IgES0MpL",
        "colab_type": "code",
        "colab": {}
      },
      "source": [
        "# plot diagnostic learning curves\n",
        "def summarize_diagnostics(history):\n",
        "\t# plot loss\n",
        "\tpyplot.subplot(211)\n",
        "\tpyplot.title('Cross Entropy Loss')\n",
        "\tpyplot.plot(history.history['loss'], color='blue', label='train')\n",
        "\tpyplot.plot(history.history['val_loss'], color='orange', label='test')\n",
        "\t# plot accuracy\n",
        "\tpyplot.subplot(212)\n",
        "\tpyplot.title('Classification Accuracy')\n",
        "\tpyplot.plot(history.history['accuracy'], color='blue', label='train')\n",
        "\tpyplot.plot(history.history['val_accuracy'], color='orange', label='test')\n",
        "\t# save plot to file\n",
        "\tfilename = sys.argv[0].split('/')[-1]\n",
        "\tpyplot.savefig(filename + '_plot.png')\n",
        "\tpyplot.close()"
      ],
      "execution_count": null,
      "outputs": []
    },
    {
      "cell_type": "code",
      "metadata": {
        "id": "8POh05io0ig9",
        "colab_type": "code",
        "colab": {
          "base_uri": "https://localhost:8080/",
          "height": 411
        },
        "outputId": "38433895-2356-484a-ab7e-ed5b29fb1f6a"
      },
      "source": [
        "\n",
        "model = define_model()\n",
        "print(model.summary())"
      ],
      "execution_count": null,
      "outputs": [
        {
          "output_type": "stream",
          "text": [
            "Model: \"sequential_3\"\n",
            "_________________________________________________________________\n",
            "Layer (type)                 Output Shape              Param #   \n",
            "=================================================================\n",
            "conv2d_5 (Conv2D)            (None, 64, 64, 32)        896       \n",
            "_________________________________________________________________\n",
            "max_pooling2d_5 (MaxPooling2 (None, 32, 32, 32)        0         \n",
            "_________________________________________________________________\n",
            "conv2d_6 (Conv2D)            (None, 32, 32, 64)        18496     \n",
            "_________________________________________________________________\n",
            "max_pooling2d_6 (MaxPooling2 (None, 16, 16, 64)        0         \n",
            "_________________________________________________________________\n",
            "flatten_3 (Flatten)          (None, 16384)             0         \n",
            "_________________________________________________________________\n",
            "dense_5 (Dense)              (None, 128)               2097280   \n",
            "_________________________________________________________________\n",
            "dense_6 (Dense)              (None, 1)                 129       \n",
            "=================================================================\n",
            "Total params: 2,116,801\n",
            "Trainable params: 2,116,801\n",
            "Non-trainable params: 0\n",
            "_________________________________________________________________\n",
            "None\n"
          ],
          "name": "stdout"
        }
      ]
    },
    {
      "cell_type": "code",
      "metadata": {
        "id": "U6MV33Y5mlRU",
        "colab_type": "code",
        "colab": {
          "base_uri": "https://localhost:8080/",
          "height": 865
        },
        "outputId": "2f9abb72-95e4-484f-c454-6012f8c0e3b9"
      },
      "source": [
        "from keras.utils.vis_utils import plot_model\n",
        "plot_model(model,show_shapes=True,show_layer_names=True)"
      ],
      "execution_count": null,
      "outputs": [
        {
          "output_type": "execute_result",
          "data": {
            "image/png": "[encoded data removed]",
            "text/plain": [
              "<IPython.core.display.Image object>"
            ]
          },
          "metadata": {
            "tags": []
          },
          "execution_count": 18
        }
      ]
    },
    {
      "cell_type": "markdown",
      "metadata": {
        "id": "asan_1Wwghfc",
        "colab_type": "text"
      },
      "source": [
        "**Prepare Clothes Image Dataset with Data Augumentation Technique**"
      ]
    },
    {
      "cell_type": "code",
      "metadata": {
        "id": "anZTsaW8WaR7",
        "colab_type": "code",
        "colab": {
          "base_uri": "https://localhost:8080/",
          "height": 51
        },
        "outputId": "8b7b6005-2470-4022-a3b3-a3343a541eed"
      },
      "source": [
        "# call define model function\n",
        "model = define_model()\n",
        "datagen = ImageDataGenerator(rescale=1.0/255.0)\n",
        "\n",
        "# prepare iterators\n",
        "train_it = datagen.flow_from_directory('/content/drive/My Drive/CNN/fk_clothes_data/augu_data_train',\n",
        "class_mode='binary', batch_size=batch_size, target_size=(img_rows, img_cols),shuffle=True)\n",
        "\n",
        "test_it = datagen.flow_from_directory('/content/drive/My Drive/CNN/fk_clothes_data/test_clothes',\n",
        "class_mode='binary', batch_size=batch_size, target_size=(img_rows, img_cols),shuffle=False)\n"
      ],
      "execution_count": null,
      "outputs": [
        {
          "output_type": "stream",
          "text": [
            "Found 1262 images belonging to 2 classes.\n",
            "Found 40 images belonging to 2 classes.\n"
          ],
          "name": "stdout"
        }
      ]
    },
    {
      "cell_type": "markdown",
      "metadata": {
        "id": "_L4T3zyqDnjc",
        "colab_type": "text"
      },
      "source": [
        "**Implement EarlyStopping & Checkpoint**"
      ]
    },
    {
      "cell_type": "code",
      "metadata": {
        "id": "fsuCBhXmEOWJ",
        "colab_type": "code",
        "colab": {}
      },
      "source": [
        "checkpoint = ModelCheckpoint('/content/drive/My Drive/CNN/fk_clothes_data/model_checkpoint_Adam.h5',\n",
        "                             monitor='val_loss', \n",
        "                             verbose=1, \n",
        "                             save_best_only=True, \n",
        "                             mode='min')\n",
        "#callbacks =[checkpoint] "
      ],
      "execution_count": null,
      "outputs": []
    },
    {
      "cell_type": "code",
      "metadata": {
        "id": "J1BI1ti6eUD1",
        "colab_type": "code",
        "colab": {}
      },
      "source": [
        "from keras.callbacks import EarlyStopping, ReduceLROnPlateau\n",
        "earlystop = EarlyStopping(monitor='val_loss', \n",
        "                          min_delta=0, \n",
        "                          patience=3, \n",
        "                          verbose=1, \n",
        "                          restore_best_weights=True)\n",
        "\n",
        "#callbacks = [earlystop,checkpoint]"
      ],
      "execution_count": null,
      "outputs": []
    },
    {
      "cell_type": "code",
      "metadata": {
        "id": "Zi4sUfQVQNkt",
        "colab_type": "code",
        "colab": {}
      },
      "source": [
        "learning_rate_reduction = ReduceLROnPlateau(monitor='val_loss', \n",
        "                                            patience=3, \n",
        "                                            verbose=1, \n",
        "                                            factor=0.2, \n",
        "                                            min_delta=0)\n",
        "callbacks = [earlystop,checkpoint,learning_rate_reduction]"
      ],
      "execution_count": null,
      "outputs": []
    },
    {
      "cell_type": "markdown",
      "metadata": {
        "id": "4BBOItjWsPdM",
        "colab_type": "text"
      },
      "source": [
        "**Train the Model**"
      ]
    },
    {
      "cell_type": "code",
      "metadata": {
        "id": "4eSGRJlrsJZy",
        "colab_type": "code",
        "colab": {
          "base_uri": "https://localhost:8080/",
          "height": 1000
        },
        "outputId": "8109bf0a-7a35-4f4d-fc71-0f9950854fff"
      },
      "source": [
        "# fit model\n",
        "start_time = datetime.now()\n",
        "\n",
        "history = model.fit_generator(train_it, \n",
        "                              steps_per_epoch=len(train_it),\n",
        "                              validation_data=test_it, \n",
        "                              validation_steps=len(test_it), \n",
        "                              epochs=epochs, \n",
        "                              verbose=1,\n",
        "                              callbacks=callbacks)\n",
        "\n",
        "end_time = datetime.now()\n",
        "print(\"execution time = \"+ str(end_time-start_time))"
      ],
      "execution_count": null,
      "outputs": [
        {
          "output_type": "stream",
          "text": [
            "Epoch 1/20\n"
          ],
          "name": "stdout"
        },
        {
          "output_type": "stream",
          "text": [
            "/usr/local/lib/python3.6/dist-packages/keras/utils/data_utils.py:616: UserWarning: The input 9 could not be retrieved. It could be because a worker has died.\n",
            "  UserWarning)\n"
          ],
          "name": "stderr"
        },
        {
          "output_type": "stream",
          "text": [
            "\r 1/19 [>.............................] - ETA: 11:03 - loss: 0.9556 - accuracy: 0.4286"
          ],
          "name": "stdout"
        },
        {
          "output_type": "stream",
          "text": [
            "/usr/local/lib/python3.6/dist-packages/keras/utils/data_utils.py:616: UserWarning: The input 6 could not be retrieved. It could be because a worker has died.\n",
            "  UserWarning)\n"
          ],
          "name": "stderr"
        },
        {
          "output_type": "stream",
          "text": [
            "\b\b\b\b\b\b\b\b\b\b\b\b\b\b\b\b\b\b\b\b\b\b\b\b\b\b\b\b\b\b\b\b\b\b\b\b\b\b\b\b\b\b\b\b\b\b\b\b\b\b\b\b\b\b\b\b\b\b\b\b\b\b\b\b\b\b\b\b\b\b\b\b\b\b\b\b\b\b\b\b\b\b\b\b\b\r 2/19 [==>...........................] - ETA: 9:35 - loss: 11.1522 - accuracy: 0.4571"
          ],
          "name": "stdout"
        },
        {
          "output_type": "stream",
          "text": [
            "/usr/local/lib/python3.6/dist-packages/keras/utils/data_utils.py:616: UserWarning: The input 17 could not be retrieved. It could be because a worker has died.\n",
            "  UserWarning)\n"
          ],
          "name": "stderr"
        },
        {
          "output_type": "stream",
          "text": [
            "\b\b\b\b\b\b\b\b\b\b\b\b\b\b\b\b\b\b\b\b\b\b\b\b\b\b\b\b\b\b\b\b\b\b\b\b\b\b\b\b\b\b\b\b\b\b\b\b\b\b\b\b\b\b\b\b\b\b\b\b\b\b\b\b\b\b\b\b\b\b\b\b\b\b\b\b\b\b\b\b\b\b\b\b\b\r 3/19 [===>..........................] - ETA: 9:10 - loss: 10.3163 - accuracy: 0.4810"
          ],
          "name": "stdout"
        },
        {
          "output_type": "stream",
          "text": [
            "/usr/local/lib/python3.6/dist-packages/keras/utils/data_utils.py:616: UserWarning: The input 10 could not be retrieved. It could be because a worker has died.\n",
            "  UserWarning)\n"
          ],
          "name": "stderr"
        },
        {
          "output_type": "stream",
          "text": [
            "\b\b\b\b\b\b\b\b\b\b\b\b\b\b\b\b\b\b\b\b\b\b\b\b\b\b\b\b\b\b\b\b\b\b\b\b\b\b\b\b\b\b\b\b\b\b\b\b\b\b\b\b\b\b\b\b\b\b\b\b\b\b\b\b\b\b\b\b\b\b\b\b\b\b\b\b\b\b\b\b\b\b\b\b\b\r 4/19 [=====>........................] - ETA: 8:39 - loss: 8.2680 - accuracy: 0.4893 "
          ],
          "name": "stdout"
        },
        {
          "output_type": "stream",
          "text": [
            "/usr/local/lib/python3.6/dist-packages/keras/utils/data_utils.py:616: UserWarning: The input 3 could not be retrieved. It could be because a worker has died.\n",
            "  UserWarning)\n"
          ],
          "name": "stderr"
        },
        {
          "output_type": "stream",
          "text": [
            "\b\b\b\b\b\b\b\b\b\b\b\b\b\b\b\b\b\b\b\b\b\b\b\b\b\b\b\b\b\b\b\b\b\b\b\b\b\b\b\b\b\b\b\b\b\b\b\b\b\b\b\b\b\b\b\b\b\b\b\b\b\b\b\b\b\b\b\b\b\b\b\b\b\b\b\b\b\b\b\b\b\b\b\b\r 5/19 [======>.......................] - ETA: 7:55 - loss: 7.4381 - accuracy: 0.4800"
          ],
          "name": "stdout"
        },
        {
          "output_type": "stream",
          "text": [
            "/usr/local/lib/python3.6/dist-packages/keras/utils/data_utils.py:616: UserWarning: The input 0 could not be retrieved. It could be because a worker has died.\n",
            "  UserWarning)\n"
          ],
          "name": "stderr"
        },
        {
          "output_type": "stream",
          "text": [
            " 7/19 [==========>...................] - ETA: 5:46 - loss: 6.1027 - accuracy: 0.4858"
          ],
          "name": "stdout"
        },
        {
          "output_type": "stream",
          "text": [
            "/usr/local/lib/python3.6/dist-packages/keras/utils/data_utils.py:616: UserWarning: The input 4 could not be retrieved. It could be because a worker has died.\n",
            "  UserWarning)\n"
          ],
          "name": "stderr"
        },
        {
          "output_type": "stream",
          "text": [
            "\b\b\b\b\b\b\b\b\b\b\b\b\b\b\b\b\b\b\b\b\b\b\b\b\b\b\b\b\b\b\b\b\b\b\b\b\b\b\b\b\b\b\b\b\b\b\b\b\b\b\b\b\b\b\b\b\b\b\b\b\b\b\b\b\b\b\b\b\b\b\b\b\b\b\b\b\b\b\b\b\b\b\b\b\r 8/19 [===========>..................] - ETA: 5:23 - loss: 5.4644 - accuracy: 0.4878"
          ],
          "name": "stdout"
        },
        {
          "output_type": "stream",
          "text": [
            "/usr/local/lib/python3.6/dist-packages/keras/utils/data_utils.py:616: UserWarning: The input 2 could not be retrieved. It could be because a worker has died.\n",
            "  UserWarning)\n"
          ],
          "name": "stderr"
        },
        {
          "output_type": "stream",
          "text": [
            "\b\b\b\b\b\b\b\b\b\b\b\b\b\b\b\b\b\b\b\b\b\b\b\b\b\b\b\b\b\b\b\b\b\b\b\b\b\b\b\b\b\b\b\b\b\b\b\b\b\b\b\b\b\b\b\b\b\b\b\b\b\b\b\b\b\b\b\b\b\b\b\b\b\b\b\b\b\b\b\b\b\b\b\b\r 9/19 [=============>................] - ETA: 5:01 - loss: 4.9417 - accuracy: 0.4911"
          ],
          "name": "stdout"
        },
        {
          "output_type": "stream",
          "text": [
            "/usr/local/lib/python3.6/dist-packages/keras/utils/data_utils.py:616: UserWarning: The input 12 could not be retrieved. It could be because a worker has died.\n",
            "  UserWarning)\n"
          ],
          "name": "stderr"
        },
        {
          "output_type": "stream",
          "text": [
            "\b\b\b\b\b\b\b\b\b\b\b\b\b\b\b\b\b\b\b\b\b\b\b\b\b\b\b\b\b\b\b\b\b\b\b\b\b\b\b\b\b\b\b\b\b\b\b\b\b\b\b\b\b\b\b\b\b\b\b\b\b\b\b\b\b\b\b\b\b\b\b\b\b\b\b\b\b\b\b\b\b\b\b\b\r10/19 [==============>...............] - ETA: 4:36 - loss: 4.5795 - accuracy: 0.4858"
          ],
          "name": "stdout"
        },
        {
          "output_type": "stream",
          "text": [
            "/usr/local/lib/python3.6/dist-packages/keras/utils/data_utils.py:616: UserWarning: The input 7 could not be retrieved. It could be because a worker has died.\n",
            "  UserWarning)\n"
          ],
          "name": "stderr"
        },
        {
          "output_type": "stream",
          "text": [
            "\b\b\b\b\b\b\b\b\b\b\b\b\b\b\b\b\b\b\b\b\b\b\b\b\b\b\b\b\b\b\b\b\b\b\b\b\b\b\b\b\b\b\b\b\b\b\b\b\b\b\b\b\b\b\b\b\b\b\b\b\b\b\b\b\b\b\b\b\b\b\b\b\b\b\b\b\b\b\b\b\b\b\b\b\r11/19 [================>.............] - ETA: 4:05 - loss: 4.2698 - accuracy: 0.4843"
          ],
          "name": "stdout"
        },
        {
          "output_type": "stream",
          "text": [
            "/usr/local/lib/python3.6/dist-packages/keras/utils/data_utils.py:616: UserWarning: The input 15 could not be retrieved. It could be because a worker has died.\n",
            "  UserWarning)\n"
          ],
          "name": "stderr"
        },
        {
          "output_type": "stream",
          "text": [
            "\b\b\b\b\b\b\b\b\b\b\b\b\b\b\b\b\b\b\b\b\b\b\b\b\b\b\b\b\b\b\b\b\b\b\b\b\b\b\b\b\b\b\b\b\b\b\b\b\b\b\b\b\b\b\b\b\b\b\b\b\b\b\b\b\b\b\b\b\b\b\b\b\b\b\b\b\b\b\b\b\b\b\b\b\r12/19 [=================>............] - ETA: 3:35 - loss: 3.9740 - accuracy: 0.4909"
          ],
          "name": "stdout"
        },
        {
          "output_type": "stream",
          "text": [
            "/usr/local/lib/python3.6/dist-packages/keras/utils/data_utils.py:616: UserWarning: The input 14 could not be retrieved. It could be because a worker has died.\n",
            "  UserWarning)\n"
          ],
          "name": "stderr"
        },
        {
          "output_type": "stream",
          "text": [
            "\b\b\b\b\b\b\b\b\b\b\b\b\b\b\b\b\b\b\b\b\b\b\b\b\b\b\b\b\b\b\b\b\b\b\b\b\b\b\b\b\b\b\b\b\b\b\b\b\b\b\b\b\b\b\b\b\b\b\b\b\b\b\b\b\b\b\b\b\b\b\b\b\b\b\b\b\b\b\b\b\b\b\b\b\r13/19 [===================>..........] - ETA: 3:06 - loss: 3.7134 - accuracy: 0.5083"
          ],
          "name": "stdout"
        },
        {
          "output_type": "stream",
          "text": [
            "/usr/local/lib/python3.6/dist-packages/keras/utils/data_utils.py:616: UserWarning: The input 16 could not be retrieved. It could be because a worker has died.\n",
            "  UserWarning)\n"
          ],
          "name": "stderr"
        },
        {
          "output_type": "stream",
          "text": [
            "\b\b\b\b\b\b\b\b\b\b\b\b\b\b\b\b\b\b\b\b\b\b\b\b\b\b\b\b\b\b\b\b\b\b\b\b\b\b\b\b\b\b\b\b\b\b\b\b\b\b\b\b\b\b\b\b\b\b\b\b\b\b\b\b\b\b\b\b\b\b\b\b\b\b\b\b\b\b\b\b\b\b\b\b\r14/19 [=====================>........] - ETA: 2:36 - loss: 3.5125 - accuracy: 0.5044"
          ],
          "name": "stdout"
        },
        {
          "output_type": "stream",
          "text": [
            "/usr/local/lib/python3.6/dist-packages/keras/utils/data_utils.py:616: UserWarning: The input 1 could not be retrieved. It could be because a worker has died.\n",
            "  UserWarning)\n"
          ],
          "name": "stderr"
        },
        {
          "output_type": "stream",
          "text": [
            "\b\b\b\b\b\b\b\b\b\b\b\b\b\b\b\b\b\b\b\b\b\b\b\b\b\b\b\b\b\b\b\b\b\b\b\b\b\b\b\b\b\b\b\b\b\b\b\b\b\b\b\b\b\b\b\b\b\b\b\b\b\b\b\b\b\b\b\b\b\b\b\b\b\b\b\b\b\b\b\b\b\b\b\b\r15/19 [======================>.......] - ETA: 2:04 - loss: 3.3446 - accuracy: 0.5000"
          ],
          "name": "stdout"
        },
        {
          "output_type": "stream",
          "text": [
            "/usr/local/lib/python3.6/dist-packages/keras/utils/data_utils.py:616: UserWarning: The input 11 could not be retrieved. It could be because a worker has died.\n",
            "  UserWarning)\n"
          ],
          "name": "stderr"
        },
        {
          "output_type": "stream",
          "text": [
            "17/19 [=========================>....] - ETA: 1:02 - loss: 3.0397 - accuracy: 0.5009"
          ],
          "name": "stdout"
        },
        {
          "output_type": "stream",
          "text": [
            "/usr/local/lib/python3.6/dist-packages/keras/utils/data_utils.py:616: UserWarning: The input 13 could not be retrieved. It could be because a worker has died.\n",
            "  UserWarning)\n"
          ],
          "name": "stderr"
        },
        {
          "output_type": "stream",
          "text": [
            "\b\b\b\b\b\b\b\b\b\b\b\b\b\b\b\b\b\b\b\b\b\b\b\b\b\b\b\b\b\b\b\b\b\b\b\b\b\b\b\b\b\b\b\b\b\b\b\b\b\b\b\b\b\b\b\b\b\b\b\b\b\b\b\b\b\b\b\b\b\b\b\b\b\b\b\b\b\b\b\b\b\b\b\b\r18/19 [===========================>..] - ETA: 31s - loss: 2.9060 - accuracy: 0.5126 "
          ],
          "name": "stdout"
        },
        {
          "output_type": "stream",
          "text": [
            "/usr/local/lib/python3.6/dist-packages/keras/utils/data_utils.py:616: UserWarning: The input 8 could not be retrieved. It could be because a worker has died.\n",
            "  UserWarning)\n"
          ],
          "name": "stderr"
        },
        {
          "output_type": "stream",
          "text": [
            "\b\b\b\b\b\b\b\b\b\b\b\b\b\b\b\b\b\b\b\b\b\b\b\b\b\b\b\b\b\b\b\b\b\b\b\b\b\b\b\b\b\b\b\b\b\b\b\b\b\b\b\b\b\b\b\b\b\b\b\b\b\b\b\b\b\b\b\b\b\b\b\b\b\b\b\b\b\b\b\b\b\b\b\r19/19 [==============================] - 603s 32s/step - loss: 2.7847 - accuracy: 0.5151 - val_loss: 0.7586 - val_accuracy: 0.5250\n",
            "\n",
            "Epoch 00001: val_loss improved from inf to 0.75860, saving model to /content/drive/My Drive/CNN/fk_clothes_data/model_checkpoint_Adam.h5\n",
            "Epoch 2/20\n",
            "19/19 [==============================] - 4s 230ms/step - loss: 0.6268 - accuracy: 0.6276 - val_loss: 0.5042 - val_accuracy: 0.8500\n",
            "\n",
            "Epoch 00002: val_loss improved from 0.75860 to 0.50423, saving model to /content/drive/My Drive/CNN/fk_clothes_data/model_checkpoint_Adam.h5\n",
            "Epoch 3/20\n",
            "19/19 [==============================] - 5s 239ms/step - loss: 0.4995 - accuracy: 0.7591 - val_loss: 0.4235 - val_accuracy: 0.7500\n",
            "\n",
            "Epoch 00003: val_loss improved from 0.50423 to 0.42348, saving model to /content/drive/My Drive/CNN/fk_clothes_data/model_checkpoint_Adam.h5\n",
            "Epoch 4/20\n",
            "19/19 [==============================] - 5s 239ms/step - loss: 0.3915 - accuracy: 0.8605 - val_loss: 0.3297 - val_accuracy: 0.8750\n",
            "\n",
            "Epoch 00004: val_loss improved from 0.42348 to 0.32970, saving model to /content/drive/My Drive/CNN/fk_clothes_data/model_checkpoint_Adam.h5\n",
            "Epoch 5/20\n",
            "19/19 [==============================] - 5s 237ms/step - loss: 0.2279 - accuracy: 0.9216 - val_loss: 0.2434 - val_accuracy: 0.9500\n",
            "\n",
            "Epoch 00005: val_loss improved from 0.32970 to 0.24340, saving model to /content/drive/My Drive/CNN/fk_clothes_data/model_checkpoint_Adam.h5\n",
            "Epoch 6/20\n",
            "19/19 [==============================] - 5s 238ms/step - loss: 0.1782 - accuracy: 0.9350 - val_loss: 0.2942 - val_accuracy: 0.9000\n",
            "\n",
            "Epoch 00006: val_loss did not improve from 0.24340\n",
            "Epoch 7/20\n",
            "19/19 [==============================] - 5s 243ms/step - loss: 0.1188 - accuracy: 0.9635 - val_loss: 0.2555 - val_accuracy: 0.9500\n",
            "\n",
            "Epoch 00007: val_loss did not improve from 0.24340\n",
            "Epoch 8/20\n",
            "19/19 [==============================] - 5s 237ms/step - loss: 0.0917 - accuracy: 0.9723 - val_loss: 0.2148 - val_accuracy: 0.9500\n",
            "\n",
            "Epoch 00008: val_loss improved from 0.24340 to 0.21480, saving model to /content/drive/My Drive/CNN/fk_clothes_data/model_checkpoint_Adam.h5\n",
            "Epoch 9/20\n",
            "19/19 [==============================] - 5s 237ms/step - loss: 0.1119 - accuracy: 0.9667 - val_loss: 0.1995 - val_accuracy: 0.9000\n",
            "\n",
            "Epoch 00009: val_loss improved from 0.21480 to 0.19954, saving model to /content/drive/My Drive/CNN/fk_clothes_data/model_checkpoint_Adam.h5\n",
            "Epoch 10/20\n",
            "19/19 [==============================] - 4s 235ms/step - loss: 0.0642 - accuracy: 0.9865 - val_loss: 0.2585 - val_accuracy: 0.9250\n",
            "\n",
            "Epoch 00010: val_loss did not improve from 0.19954\n",
            "Epoch 11/20\n",
            "19/19 [==============================] - 5s 245ms/step - loss: 0.0441 - accuracy: 0.9929 - val_loss: 0.2724 - val_accuracy: 0.8750\n",
            "\n",
            "Epoch 00011: val_loss did not improve from 0.19954\n",
            "Epoch 12/20\n",
            "19/19 [==============================] - 5s 240ms/step - loss: 0.0321 - accuracy: 0.9945 - val_loss: 0.1939 - val_accuracy: 0.9500\n",
            "\n",
            "Epoch 00012: val_loss improved from 0.19954 to 0.19393, saving model to /content/drive/My Drive/CNN/fk_clothes_data/model_checkpoint_Adam.h5\n",
            "Epoch 13/20\n",
            "19/19 [==============================] - 4s 233ms/step - loss: 0.0208 - accuracy: 0.9976 - val_loss: 0.2364 - val_accuracy: 0.9250\n",
            "\n",
            "Epoch 00013: val_loss did not improve from 0.19393\n",
            "Epoch 14/20\n",
            "19/19 [==============================] - 5s 238ms/step - loss: 0.0181 - accuracy: 1.0000 - val_loss: 0.2359 - val_accuracy: 0.9500\n",
            "\n",
            "Epoch 00014: val_loss did not improve from 0.19393\n",
            "Epoch 15/20\n",
            "19/19 [==============================] - 5s 240ms/step - loss: 0.0147 - accuracy: 0.9992 - val_loss: 0.2963 - val_accuracy: 0.9000\n",
            "Restoring model weights from the end of the best epoch\n",
            "\n",
            "Epoch 00015: val_loss did not improve from 0.19393\n",
            "\n",
            "Epoch 00015: ReduceLROnPlateau reducing learning rate to 0.00020000000949949026.\n",
            "Epoch 00015: early stopping\n",
            "execution time = 0:11:16.405010\n"
          ],
          "name": "stdout"
        }
      ]
    },
    {
      "cell_type": "code",
      "metadata": {
        "id": "6E2-ORWVQsh6",
        "colab_type": "code",
        "colab": {}
      },
      "source": [
        "#model.save_weights('/content/drive/My Drive/CNN/fk_clothes_data/model_ReduceLROnPlateau_SGD.h5')"
      ],
      "execution_count": null,
      "outputs": []
    },
    {
      "cell_type": "code",
      "metadata": {
        "id": "6J0XErWCWpp9",
        "colab_type": "code",
        "colab": {
          "base_uri": "https://localhost:8080/",
          "height": 34
        },
        "outputId": "76d6fb16-e1d1-470c-f200-b8818b9a9627"
      },
      "source": [
        "# evaluate model\n",
        "_, acc = model.evaluate_generator(test_it, steps=len(test_it), verbose=0)\n",
        "print('> %.3f' % (acc * 100.0))\n",
        "# learning curves\n",
        "summarize_diagnostics(history)"
      ],
      "execution_count": null,
      "outputs": [
        {
          "output_type": "stream",
          "text": [
            "> 95.000\n"
          ],
          "name": "stdout"
        }
      ]
    },
    {
      "cell_type": "code",
      "metadata": {
        "id": "RH_t-HEwAa4l",
        "colab_type": "code",
        "colab": {
          "base_uri": "https://localhost:8080/",
          "height": 562
        },
        "outputId": "aa71a83f-5e71-4a8b-967f-7f0e96d274bb"
      },
      "source": [
        "## Our training accuracy (in blue) & validation accuracy (in yellow)\n",
        "%matplotlib inline\n",
        "import matplotlib.pyplot as plt\n",
        "# Retrieve a list of accuracy results on training and validation data\n",
        "# sets for each training epoch\n",
        "acc = history.history['accuracy']\n",
        "val_acc = history.history['val_accuracy']\n",
        "\n",
        "# Retrieve a list of list results on training and validation data\n",
        "# sets for each training epoch\n",
        "loss = history.history['loss']\n",
        "val_loss = history.history['val_loss']\n",
        "\n",
        "# Get number of epochs\n",
        "epochs = range(len(acc))\n",
        "\n",
        "# Plot training and validation accuracy per epoch\n",
        "plt.plot(epochs, acc)\n",
        "plt.plot(epochs, val_acc)\n",
        "plt.title('Training and validation accuracy')\n",
        "\n",
        "plt.figure()\n",
        "\n",
        "# Plot training and validation loss per epoch\n",
        "plt.plot(epochs, loss)\n",
        "plt.plot(epochs, val_loss)\n",
        "plt.title('Training and validation loss')"
      ],
      "execution_count": null,
      "outputs": [
        {
          "output_type": "execute_result",
          "data": {
            "text/plain": [
              "Text(0.5, 1.0, 'Training and validation loss')"
            ]
          },
          "metadata": {
            "tags": []
          },
          "execution_count": 33
        },
        {
          "output_type": "display_data",
          "data": {
            "image/png": "[encoded data removed]",
            "text/plain": [
              "<Figure size 432x288 with 1 Axes>"
            ]
          },
          "metadata": {
            "tags": [],
            "needs_background": "light"
          }
        },
        {
          "output_type": "display_data",
          "data": {
            "image/png": "[encoded data removed]",
            "text/plain": [
              "<Figure size 432x288 with 1 Axes>"
            ]
          },
          "metadata": {
            "tags": [],
            "needs_background": "light"
          }
        }
      ]
    },
    {
      "cell_type": "markdown",
      "metadata": {
        "id": "7ON1VfKxgGiK",
        "colab_type": "text"
      },
      "source": [
        "**Load Image for Validation**"
      ]
    },
    {
      "cell_type": "code",
      "metadata": {
        "id": "XrtWC4l2W0GJ",
        "colab_type": "code",
        "colab": {}
      },
      "source": [
        "import keras\n",
        "from keras.models import load_model\n",
        "from keras.preprocessing import image\n",
        "import numpy as np\n",
        "image = image.load_img('/content/drive/My Drive/CNN/fk_clothes_data/validate_clothes/tr4.jpeg', target_size=(img_rows, img_cols))\n",
        "input_arr = keras.preprocessing.image.img_to_array(image)\n",
        "#x = np.expand_dims(input_arr, axis=0)   ## Convert single image to a batch.\n",
        "input_arr = np.array([input_arr])        ## Convert single image to a batch.\n",
        "#predictions = model.predict(input_arr)"
      ],
      "execution_count": null,
      "outputs": []
    },
    {
      "cell_type": "markdown",
      "metadata": {
        "id": "-olTT5k-gW9K",
        "colab_type": "text"
      },
      "source": [
        "**Prediction**"
      ]
    },
    {
      "cell_type": "code",
      "metadata": {
        "id": "ru-KQUWQX_rA",
        "colab_type": "code",
        "colab": {}
      },
      "source": [
        "from keras.preprocessing.image import load_img\n",
        "from keras.preprocessing.image import img_to_array\n",
        "# load model\n",
        "#model = load_model('my_flower_classi_model')\n",
        "#predictions_classes = model.predict_classes(input_arr)\n",
        "\n",
        "predictions_classes = model.predict_classes(input_arr)\n",
        "\n",
        "def predict_img():\n",
        "  if predictions_classes ==0:\n",
        "    print(\"Class {} means it is a 'Jeans Image'\".format(predictions_classes))\n",
        "  if predictions_classes ==1:\n",
        "    print(\"Class {} means it is a 'Trouser Image'\".format(predictions_classes))"
      ],
      "execution_count": null,
      "outputs": []
    },
    {
      "cell_type": "code",
      "metadata": {
        "id": "mysYGPRYYNW2",
        "colab_type": "code",
        "colab": {
          "base_uri": "https://localhost:8080/",
          "height": 81
        },
        "outputId": "04bb9b62-9d29-4faa-ca6c-c8eb0b56abb5"
      },
      "source": [
        "image"
      ],
      "execution_count": null,
      "outputs": [
        {
          "output_type": "execute_result",
          "data": {
            "image/png": "[encoded data removed]",
            "text/plain": [
              "<PIL.Image.Image image mode=RGB size=64x64 at 0x7F54B28CBE48>"
            ]
          },
          "metadata": {
            "tags": []
          },
          "execution_count": 29
        }
      ]
    },
    {
      "cell_type": "code",
      "metadata": {
        "id": "gsGI9J0tYQcn",
        "colab_type": "code",
        "colab": {
          "base_uri": "https://localhost:8080/",
          "height": 34
        },
        "outputId": "d5d1a78a-b503-4b98-a235-35c619c52720"
      },
      "source": [
        "predict_img()"
      ],
      "execution_count": null,
      "outputs": [
        {
          "output_type": "stream",
          "text": [
            "Class [[1]] means it is a 'Trouser Image'\n"
          ],
          "name": "stdout"
        }
      ]
    }
  ]
}