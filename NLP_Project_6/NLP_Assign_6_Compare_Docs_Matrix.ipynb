{
  "nbformat": 4,
  "nbformat_minor": 0,
  "metadata": {
    "colab": {
      "name": "NLP_Assign_6_Compare_Docs_Matrix.ipynb",
      "provenance": [],
      "collapsed_sections": []
    },
    "kernelspec": {
      "name": "python3",
      "display_name": "Python 3"
    }
  },
  "cells": [
    {
      "cell_type": "code",
      "metadata": {
        "id": "M4nPCZ4CHTBk",
        "colab_type": "code",
        "colab": {}
      },
      "source": [
        "### NLP_Assign_6_Compare_Docs_Matrix.ipynb"
      ],
      "execution_count": 61,
      "outputs": []
    },
    {
      "cell_type": "code",
      "metadata": {
        "id": "xiXP5Cn-DcxL",
        "colab_type": "code",
        "colab": {
          "base_uri": "https://localhost:8080/",
          "height": 171
        },
        "outputId": "2d395e24-daa6-4b7a-9639-0ef29206722f"
      },
      "source": [
        "import nltk\n",
        "nltk.download('punkt')\n",
        "nltk.download('stopwords')\n",
        "nltk.download('wordnet')\n",
        "nltk.download('vader_lexicon')"
      ],
      "execution_count": 62,
      "outputs": [
        {
          "output_type": "stream",
          "text": [
            "[nltk_data] Downloading package punkt to /root/nltk_data...\n",
            "[nltk_data]   Package punkt is already up-to-date!\n",
            "[nltk_data] Downloading package stopwords to /root/nltk_data...\n",
            "[nltk_data]   Package stopwords is already up-to-date!\n",
            "[nltk_data] Downloading package wordnet to /root/nltk_data...\n",
            "[nltk_data]   Package wordnet is already up-to-date!\n",
            "[nltk_data] Downloading package vader_lexicon to /root/nltk_data...\n",
            "[nltk_data]   Package vader_lexicon is already up-to-date!\n"
          ],
          "name": "stdout"
        },
        {
          "output_type": "execute_result",
          "data": {
            "text/plain": [
              "True"
            ]
          },
          "metadata": {
            "tags": []
          },
          "execution_count": 62
        }
      ]
    },
    {
      "cell_type": "code",
      "metadata": {
        "id": "3zXDM7KgDx1r",
        "colab_type": "code",
        "colab": {}
      },
      "source": [
        "import string\n",
        "from collections import Counter\n",
        "import matplotlib.pyplot as plt\n",
        "from nltk.corpus import stopwords\n",
        "from nltk.sentiment.vader import SentimentIntensityAnalyzer\n",
        "from nltk.stem import WordNetLemmatizer\n",
        "from nltk.tokenize import word_tokenize\n",
        "import re\n",
        "from nltk.corpus import stopwords\n",
        "from nltk.stem.porter import PorterStemmer\n",
        "from nltk.stem import WordNetLemmatizer\n",
        "import warnings\n",
        "warnings.filterwarnings('ignore')"
      ],
      "execution_count": 63,
      "outputs": []
    },
    {
      "cell_type": "code",
      "metadata": {
        "id": "K0yqy1__D0fY",
        "colab_type": "code",
        "colab": {}
      },
      "source": [
        "text = open(r'/content/drive/My Drive/NLP/edu_policy3_2020.txt', encoding=\"utf-8\").read()\n",
        "text2 = open(r'/content/drive/My Drive/NLP/edu_policy2_2020.txt', encoding=\"utf-8\").read()"
      ],
      "execution_count": 64,
      "outputs": []
    },
    {
      "cell_type": "code",
      "metadata": {
        "id": "GUc3IpNRD8Fu",
        "colab_type": "code",
        "colab": {
          "base_uri": "https://localhost:8080/",
          "height": 155
        },
        "outputId": "ed9d8c31-4bcd-410a-93a6-67b9bf8e6cf0"
      },
      "source": [
        "lower_case = text.lower()\n",
        "lower_case"
      ],
      "execution_count": 65,
      "outputs": [
        {
          "output_type": "execute_result",
          "data": {
            "application/vnd.google.colaboratory.intrinsic+json": {
              "type": "string"
            },
            "text/plain": [
              "'the new education policy has a commendable vision, but its potency will depend on whether it is able to effectively integrate with the government’s other policy initiatives.\\nindia introduced its new national education policy (nep) 2020 last week, laying out the narendra modi government’s vision and broad direction conceived for educational reform. it was considerably overdue — the nep is only india’s third education policy document; the previous one was revised in 1992. the policy introduces a whole gamut of changes and reads as a very progressive document overall, with a firm grasp on the current socio-economic landscape and the prospect of future uncertainty. education for a new generation of learners has to necessarily engage with the increasing dematerialisation and digitalisation of our economies, requiring a completely new set of capabilities in order to be able to keep up. this seems to be an even more urgent prerogative now, with the trend towards digitalisation and disruptive automation being accelerated by the pandemic. the nep seems to acknowledge this, but how far do the document’s prescriptions go in paving the way for india’s future workforce to be prepared for a new economy?\\neducation for a new generation of learners has to necessarily engage with the increasing dematerialisation and digitalisation of our economies, requiring a completely new set of capabilities in order to be able to keep up.\\nthe future of work promises to be much more nebulous and fast-changing than the world we inhabit today, with a much larger gig economy. it shall, therefore, need an agile workforce, which can quickly adapt to changing labour force requirements. the nep has done well to recognise this shift and provide for it, by putting flexibility at the core of its vision for education. the policy’s focus on conceptual rather than rote learning, and the concurrent emphasis on soft skills like communication, leadership and teamwork is heartening. emerging challenges such as building resilience to climate change, pandemics and disruptive emerging technologies shall require a workforce able to draw on cross-cutting competencies. the nep has, therefore, shown commendable foresight in seeking to break down silos and encourage interdisciplinarity, which shall lead to a workforce with a much more holistic sense of the world.\\n\\nthe requisites of digital engagement \\nthe policy recognises the crucial feedback loop with regard to technology and education: the fact that technology enables superior learning, but wielding it effectively requires digital skills and education as well. but even while acknowledging this, the nep leans much more towards the enabling aspect of technology, without fully dwelling on the need for building the capabilities required for engaging meaningfully with it. the nep is big on edtech, and contains some potentially great ideas such as the use of adaptive software to provide tailored and flexible lessons [1], blended learning and the use of ai software to track student progress. these are interesting examples of technology deployed right, without distracting from the fundamentals of learning and sapping its communal aspects. the conceptualisation of the netf (national educational technology forum), for instance, to brainstorm on the deployment of technology to improve the systemic performance of the entire educational system is also promising.\\n\\nthe nep leans much more towards the enabling aspect of technology, without fully dwelling on the need for building the capabilities required for engaging meaningfully with it.\\n\\nhowever, the policy does not go nearly far enough in working to foster technological capabilities — arguably the much more crucial aspect of the two. in this regard, the nep’s focus on promoting socio-emotional intelligence and foundational literacy and numeracy is an excellent move. however, as per the world standard, these foundational skills must also include digital literacy. children today begin engaging with technology at a precociously young age and, hence, need to be taught how to engage with technology in a healthy and productive way, right as they enter school. countries across the world now include a technological element in their curriculum at the foundational level itself: the uk and sweden, for example, teach the principles of computer programming to children from the age of five. president obama’s ‘computer science for all’ initiative focused on providing coding and programming skills to children from kindergarten onwards, whereas the nep prescribes the introduction of coding only at the middle stage i.e. class 6-8.\\n\\nthe future of work requires going beyond just learning how to use technology, children now need to go a step further and also learn how technologies are created and designed, at a very intuitive level. the nep has cited the need for computational thinking at the foundational level, but does not conceptualise the integration of digital skills into the core curriculum. computer literacy and programming is something that can be integrated into curricula early on. to make it fun and engaging, it can even be used for story-telling and games. the advantages of an early beginning cannot be under-estimated: the programme for international student assessment (pisa) found that economies like south korea and singapore were far better at analysing digital texts than other developed countries, simply because their students had greater experience in navigating technology and were, therefore, notably better at task-based browsing. these subtle differences eventually add up to a significant competitive edge.\\nthe nep has cited the need for computational thinking at the foundational level, but does not conceptualise the integration of digital skills into the core curriculum.\\n\\nwhat about language?\\nmuch of the debate around the nep has predictably centred around one aspect of the policy — its focus on local languages. the policy promotes regional languages as the medium of instruction — where possible — till secondary school. without delving too far into the debate, if the question is considered solely from the perspective of the demands of the digital economy, the policy could well be an inspired move. indian languages feature nowhere among the top languages in use on the internet, and most have not ventured into cyberspace at all. this has affected access to the internet for millions of indian users. ficci estimates that the availability of online content in regional languages would enable the digital enfranchisement of about 200 million indians. the narrow linguistic scope available online has also limited representation, by restricting the access of different voices expressing their lived realities, creating vacuums in the production of information on certain geographies and cultures.\\n\\nindian languages feature nowhere among the top languages in use on the internet, and most have not ventured into cyberspace at all.\\n\\nresearch suggested that multilingual people contribute significantly to the diversification of digital content. the nep’s focus on promoting multilingualism and reviving proficiency in local languages could help create a workforce to do just that. however, considerable effort shall also need to be expended to create markets and demand for regional languages, in order to make their promotion a success. additionally, the emphasis on regional languages must not be to the detriment of learning foreign languages, especially english. proficiency in the english language is needed to tap into global networks — and english is still very much the language of the internet. it determines access: a google search in english brings up about 5 times more results than one in arabic. it is also the language of code, at least as of now, and therefore comprehending technological creations and traditions requires english.therefore, bilingualism on the part of teachers (as encouraged by nep) will be imperative to encourage fluency and greater use of english, especially for the majority of children hailing from non-english speaking backgrounds.\\n\\nthe absence of digital skills has the potential to greatly exacerbate increasing inequalities. the nep recognises the need for inclusivity and makes provisions for policy design to address existing disparities. however, it will need explicit sustained effort to ensure that india’s digital transformation does not leave some of us behind. women will need a push from the education system to pursue stem. research suggests that they often display greater anxiety with respect to entering the field. also, since discrimination tends to find its way into the technology we design, education systems shall need to incorporate gender and race sensitisation as well as ethics (which nep already recommends), as a part of syllabi. equitable access also demands that the policy’s goals of employing technology be complemented by efforts to increase digital penetration and create foundational digital infrastructure. india’s internet penetration currently stands at 40.6%. a large percentage of children without access to computers at home shall depend on school labs, which must therefore be well-provisioned, else the digital divide will exacerbate inequalities further.\\n\\nthe emphasis on regional languages must not be to the detriment of learning foreign languages, especially english.\\n\\nthe new education policy has a commendable vision, but its potency will depend on whether it is able to effectively integrate with the government’s other policy initiatives — digital india, skill india and the new industrial policy to name a few — in order to effect a coherent structural transfiguration. for instance, policy linkages can ensure that education policy speaks to and learns from skill india’s experience in engaging more dynamically with the private sector to shape vocational education curricula in order to make it a success. there is also a need for more evidence-based decision-making, to adapt to rapidly evolving shifts and disruption. nep has encouragingly provisioned for real-time evaluation systems and a consultative monitoring framework. this shall enable the education system to constantly reform itself, instead of waiting for a new education policy every decade for a shift in curriculum. this, in itself, will be a remarkable achievement.\\n\\nindia’s introduction of the mindspark adaptive learning software in some public schools was a great success, helping to improve math scores by 38% in just a few months, scalable at the rate of just about rs 200 per student per year.\\n\\n'"
            ]
          },
          "metadata": {
            "tags": []
          },
          "execution_count": 65
        }
      ]
    },
    {
      "cell_type": "code",
      "metadata": {
        "id": "zYM__NWNrNmi",
        "colab_type": "code",
        "colab": {
          "base_uri": "https://localhost:8080/",
          "height": 155
        },
        "outputId": "e4a2313b-0766-4a64-b6a5-f4bd7d011914"
      },
      "source": [
        "lower_case2 = text2.lower()\n",
        "lower_case2"
      ],
      "execution_count": 66,
      "outputs": [
        {
          "output_type": "execute_result",
          "data": {
            "application/vnd.google.colaboratory.intrinsic+json": {
              "type": "string"
            },
            "text/plain": [
              "'29 july, 2020 is going to be an important day for indian education system, as the government decided to bring in national education policy (nep) with a long term vision of making india a global knowledge superpower with a focus on inclusiveness, participation and holistic approach. nep 2020 is third in series since independence; the first two were introduced in 1968 and 1986 respectively. it is based on the pillars of access, equity, quality, affordability, and accountability. this article will focus more on the vision plan made for higher education and potentials risks ahead. risks can be managed well, only if identified correctly and at the right time. \\n\\nthe new policy is expected to bring positive and long-lasting changes in the indian higher education system. several innovative ideas have been considered while formulating this policy to improve effectiveness and finally achieve its long term goal. there are some really great steps planned within the policy ambit for taking the indian education system to a new level of excellence. let’s see!!!\\n\\nenrolment ratio to be increased to 50% in the next 15 years, which is almost double the current percentage. the missing link here seems to be non-availability or shortage of basic infrastructure, trained faculty, research facility, gap between demand and supply, etc. the government needs to ensure that current facilities should be strengthened with some added resources to deliver effective education. another step of multiple entry and exit option in undergraduate course with appropriate certification seems good initiative, but practically there are some operational glitches including acceptance of these partial certifications, degree or diploma in industry. another detailed plan is required for those students who want to change subjects during their degree courses, larger questions finally relate to losing an academic year or dilution of degree value in the long run. \\n\\na step is taken for making all the courses interdisciplinary, this can be a game-changer for making an overall education system more holistic and inclusive. this step in the long term requires trained multidisciplinary faculties too, for which the nep remained silent. the policy provides a broad framework and is not mandatory to be followed. education being a contemporaneous subject, gives flexibility to the state and centre to suggest and make policies. the set target and final outcomes are expected to be achieved by 2040, where clarity on fund arrangement and allocation is not talked about; making it risky for future. \\n\\nthe policy mentioned about allowing foreign campuses to be opened in india. this is a commendable step, but the potential remains week due to high cost, insufficient resource allocation and relevance of various courses on offer. some reports in 2013 stated that none out of top 20 universities have shown interest in opening up of campuses in india. in fact, most of the foreign universities want to work in india through local collaboration, currently, there are many undergraduates and postgraduate programs running in india with dual degree arrangement. this strategy helps in getting a better valued degree at much lesser price, but many remain sceptical about quality of academia offered.\\n\\ndiscontinuing m. phil and focusing more on research can also reap larger long term benefits if the system is able to manage the current status of research students when the country is able to produce only half the requirement i.e. 50,000. many research seats in tier 2 & 3 institutions remain vacant, due to various internal and external issues. m. phil is a well-accepted course among employers and is seen as less rigorous than doctorate, but far better than many pg courses; before discontinuation, the ecosystem needs some substitute, well accepted among employers and students. \\n\\nestablishing academic bank of credit (abc) is a good idea and will definitely bring ease for students and academic institutes. nep also mentioned about phasing out of affiliation of colleges in the next 15 years, this is expected to empower college and transform themselves into autonomous degree-granting college or constituent college of any university. centralization of regulations, governance, grants, quality, and accreditation along with dedicated funds (6 to 7% of gdp, innovative technology-enabled, more flexible options to choose and the multidisciplinary idea is expected to bring sustainable changes in the long term. \\n\\nevery idea and policy is expected to bring positive systematic change in the system, this is not an exception, but we need to remember that most of these plans and policy fail due to operational and implementation issues.  '"
            ]
          },
          "metadata": {
            "tags": []
          },
          "execution_count": 66
        }
      ]
    },
    {
      "cell_type": "code",
      "metadata": {
        "id": "YqFHjkORQFF7",
        "colab_type": "code",
        "colab": {}
      },
      "source": [
        "# make a dictionary of Contractions\n",
        "\n",
        "contraction_mapping={\n",
        "\"ain't\": \"is not\",\n",
        "\"aren't\": \"are not\",\n",
        "\"can't\": \"cannot\",\n",
        "\"can't've\": \"cannot have\",\n",
        "\"'cause\": \"because\",\n",
        "\"could've\": \"could have\",\n",
        "\"couldn't\": \"could not\",\n",
        "\"couldn't've\": \"could not have\",\n",
        "\"didn't\": \"did not\",\n",
        "\"doesn't\": \"does not\",\n",
        "\"don't\": \"do not\",\n",
        "\"hadn't\": \"had not\",\n",
        "\"hadn't've\": \"had not have\",\n",
        "\"hasn't\": \"has not\",\n",
        "\"haven't\": \"have not\",\n",
        "\"he'd\": \"he would\",\n",
        "\"he'd've\": \"he would have\",\n",
        "\"he'll\": \"he will\",\n",
        "\"he'll've\": \"he he will have\",\n",
        "\"he's\": \"he is\",\n",
        "\"how'd\": \"how did\",\n",
        "\"how'd'y\": \"how do you\",\n",
        "\"how'll\": \"how will\",\n",
        "\"how's\": \"how is\",\n",
        "\"I'd\": \"I would\",\n",
        "\"I'd've\": \"I would have\",\n",
        "\"I'll\": \"I will\",\n",
        "\"I'll've\": \"I will have\",\n",
        "\"I'm\": \"I am\",\n",
        "\"I've\": \"I have\",\n",
        "\"i'd\": \"i would\",\n",
        "\"i'd've\": \"i would have\",\n",
        "\"i'll\": \"i will\",\n",
        "\"i'll've\": \"i will have\",\n",
        "\"i'm\": \"i am\",\n",
        "\"i've\": \"i have\",\n",
        "\"isn't\": \"is not\",\n",
        "\"it'd\": \"it would\",\n",
        "\"it'd've\": \"it would have\",\n",
        "\"it'll\": \"it will\",\n",
        "\"it'll've\": \"it will have\",\n",
        "\"it's\": \"it is\",\n",
        "\"let's\": \"let us\",\n",
        "\"ma'am\": \"madam\",\n",
        "\"mayn't\": \"may not\",\n",
        "\"might've\": \"might have\",\n",
        "\"mightn't\": \"might not\",\n",
        "\"mightn't've\": \"might not have\",\n",
        "\"must've\": \"must have\",\n",
        "\"mustn't\": \"must not\",\n",
        "\"mustn't've\": \"must not have\",\n",
        "\"needn't\": \"need not\",\n",
        "\"needn't've\": \"need not have\",\n",
        "\"o'clock\": \"of the clock\",\n",
        "\"oughtn't\": \"ought not\",\n",
        "\"oughtn't've\": \"ought not have\",\n",
        "\"shan't\": \"shall not\",\n",
        "\"sha'n't\": \"shall not\",\n",
        "\"shan't've\": \"shall not have\",\n",
        "\"she'd\": \"she would\",\n",
        "\"she'd've\": \"she would have\",\n",
        "\"she'll\": \"she will\",\n",
        "\"she'll've\": \"she will have\",\n",
        "\"she's\": \"she is\",\n",
        "\"should've\": \"should have\",\n",
        "\"shouldn't\": \"should not\",\n",
        "\"shouldn't've\": \"should not have\",\n",
        "\"so've\": \"so have\",\n",
        "\"so's\": \"so as\",\n",
        "\"that'd\": \"that would\",\n",
        "\"that'd've\": \"that would have\",\n",
        "\"that's\": \"that is\",\n",
        "\"there'd\": \"there would\",\n",
        "\"there'd've\": \"there would have\",\n",
        "\"there's\": \"there is\",\n",
        "\"they'd\": \"they would\",\n",
        "\"they'd've\": \"they would have\",\n",
        "\"they'll\": \"they will\",\n",
        "\"they'll've\": \"they will have\",\n",
        "\"they're\": \"they are\",\n",
        "\"they've\": \"they have\",\n",
        "\"to've\": \"to have\",\n",
        "\"wasn't\": \"was not\",\n",
        "\"we'd\": \"we would\",\n",
        "\"we'd've\": \"we would have\",\n",
        "\"we'll\": \"we will\",\n",
        "\"we'll've\": \"we will have\",\n",
        "\"we're\": \"we are\",\n",
        "\"we've\": \"we have\",\n",
        "\"weren't\": \"were not\",\n",
        "\"what'll\": \"what will\",\n",
        "\"what'll've\": \"what will have\",\n",
        "\"what're\": \"what are\",\n",
        "\"what's\": \"what is\",\n",
        "\"what've\": \"what have\",\n",
        "\"when's\": \"when is\",\n",
        "\"when've\": \"when have\",\n",
        "\"where'd\": \"where did\",\n",
        "\"where's\": \"where is\",\n",
        "\"where've\": \"where have\",\n",
        "\"who'll\": \"who will\",\n",
        "\"who'll've\": \"who will have\",\n",
        "\"who's\": \"who is\",\n",
        "\"who've\": \"who have\",\n",
        "\"why's\": \"why is\",\n",
        "\"why've\": \"why have\",\n",
        "\"will've\": \"will have\",\n",
        "\"won't\": \"will not\",\n",
        "\"won't've\": \"will not have\",\n",
        "\"would've\": \"would have\",\n",
        "\"wouldn't\": \"would not\",\n",
        "\"wouldn't've\": \"would not have\",\n",
        "\"y'all\": \"you all\",\n",
        "\"y'all'd\": \"you all would\",\n",
        "\"y'all'd've\": \"you all would have\",\n",
        "\"y'all're\": \"you all are\",\n",
        "\"y'all've\": \"you all have\",\n",
        "\"you'd\": \"you would\",\n",
        "\"you'd've\": \"you would have\",\n",
        "\"you'll\": \"you will\",\n",
        "\"you'll've\": \"you will have\",\n",
        "\"you're\": \"you are\",\n",
        "\"you've\": \"you have\"\n",
        "}"
      ],
      "execution_count": 67,
      "outputs": []
    },
    {
      "cell_type": "code",
      "metadata": {
        "id": "Y6JNSA6vQGRd",
        "colab_type": "code",
        "colab": {}
      },
      "source": [
        "# function to pre-process the text\n",
        "def cleaner(text):\n",
        "    newString=re.sub(r\"@[a-zA-Z0-9]+\",\"\",text)         # removing user mentions\n",
        "    newString=re.sub(\"#\",\"\",newString) \n",
        "    newString=' '.join([contraction_mapping[t] if t in contraction_mapping else t for t in newString.split(\" \")])\n",
        "    x=re.sub(r'http\\S+','',newString)                  # remove URL's\n",
        "    newString=re.sub(r\"'s\\b\",\" is\",newString)         # removing 's\n",
        "    x=re.sub(r'[%#@$&!+|ð¦±]','',newString)          # Remove spacial char\n",
        "    x=re.sub(r'[.,:;]','',newString)                   # remove punctuations mark\n",
        "    newString=re.sub(\"[^a-zA-Z]\",\" \",newString)         # fetching out only char\n",
        "    #lower_case=letters_only.lower()                     # converting everything in lowercase\n",
        "    words=newString.split()                            # split based on space to remove multiple spaces\n",
        "    return (\" \".join(words)).strip()"
      ],
      "execution_count": 68,
      "outputs": []
    },
    {
      "cell_type": "code",
      "metadata": {
        "id": "YK20N_cUQL-u",
        "colab_type": "code",
        "colab": {
          "base_uri": "https://localhost:8080/",
          "height": 155
        },
        "outputId": "4778e0de-5ea6-49d1-c86c-7fcc19e50a4f"
      },
      "source": [
        "cleaned_text = cleaner(lower_case)\n",
        "cleaned_text"
      ],
      "execution_count": 69,
      "outputs": [
        {
          "output_type": "execute_result",
          "data": {
            "application/vnd.google.colaboratory.intrinsic+json": {
              "type": "string"
            },
            "text/plain": [
              "'the new education policy has a commendable vision but its potency will depend on whether it is able to effectively integrate with the government s other policy initiatives india introduced its new national education policy nep last week laying out the narendra modi government s vision and broad direction conceived for educational reform it was considerably overdue the nep is only india s third education policy document the previous one was revised in the policy introduces a whole gamut of changes and reads as a very progressive document overall with a firm grasp on the current socio economic landscape and the prospect of future uncertainty education for a new generation of learners has to necessarily engage with the increasing dematerialisation and digitalisation of our economies requiring a completely new set of capabilities in order to be able to keep up this seems to be an even more urgent prerogative now with the trend towards digitalisation and disruptive automation being accelerated by the pandemic the nep seems to acknowledge this but how far do the document s prescriptions go in paving the way for india s future workforce to be prepared for a new economy education for a new generation of learners has to necessarily engage with the increasing dematerialisation and digitalisation of our economies requiring a completely new set of capabilities in order to be able to keep up the future of work promises to be much more nebulous and fast changing than the world we inhabit today with a much larger gig economy it shall therefore need an agile workforce which can quickly adapt to changing labour force requirements the nep has done well to recognise this shift and provide for it by putting flexibility at the core of its vision for education the policy s focus on conceptual rather than rote learning and the concurrent emphasis on soft skills like communication leadership and teamwork is heartening emerging challenges such as building resilience to climate change pandemics and disruptive emerging technologies shall require a workforce able to draw on cross cutting competencies the nep has therefore shown commendable foresight in seeking to break down silos and encourage interdisciplinarity which shall lead to a workforce with a much more holistic sense of the world the requisites of digital engagement the policy recognises the crucial feedback loop with regard to technology and education the fact that technology enables superior learning but wielding it effectively requires digital skills and education as well but even while acknowledging this the nep leans much more towards the enabling aspect of technology without fully dwelling on the need for building the capabilities required for engaging meaningfully with it the nep is big on edtech and contains some potentially great ideas such as the use of adaptive software to provide tailored and flexible lessons blended learning and the use of ai software to track student progress these are interesting examples of technology deployed right without distracting from the fundamentals of learning and sapping its communal aspects the conceptualisation of the netf national educational technology forum for instance to brainstorm on the deployment of technology to improve the systemic performance of the entire educational system is also promising the nep leans much more towards the enabling aspect of technology without fully dwelling on the need for building the capabilities required for engaging meaningfully with it however the policy does not go nearly far enough in working to foster technological capabilities arguably the much more crucial aspect of the two in this regard the nep s focus on promoting socio emotional intelligence and foundational literacy and numeracy is an excellent move however as per the world standard these foundational skills must also include digital literacy children today begin engaging with technology at a precociously young age and hence need to be taught how to engage with technology in a healthy and productive way right as they enter school countries across the world now include a technological element in their curriculum at the foundational level itself the uk and sweden for example teach the principles of computer programming to children from the age of five president obama s computer science for all initiative focused on providing coding and programming skills to children from kindergarten onwards whereas the nep prescribes the introduction of coding only at the middle stage i e class the future of work requires going beyond just learning how to use technology children now need to go a step further and also learn how technologies are created and designed at a very intuitive level the nep has cited the need for computational thinking at the foundational level but does not conceptualise the integration of digital skills into the core curriculum computer literacy and programming is something that can be integrated into curricula early on to make it fun and engaging it can even be used for story telling and games the advantages of an early beginning cannot be under estimated the programme for international student assessment pisa found that economies like south korea and singapore were far better at analysing digital texts than other developed countries simply because their students had greater experience in navigating technology and were therefore notably better at task based browsing these subtle differences eventually add up to a significant competitive edge the nep has cited the need for computational thinking at the foundational level but does not conceptualise the integration of digital skills into the core curriculum what about language much of the debate around the nep has predictably centred around one aspect of the policy its focus on local languages the policy promotes regional languages as the medium of instruction where possible till secondary school without delving too far into the debate if the question is considered solely from the perspective of the demands of the digital economy the policy could well be an inspired move indian languages feature nowhere among the top languages in use on the internet and most have not ventured into cyberspace at all this has affected access to the internet for millions of indian users ficci estimates that the availability of online content in regional languages would enable the digital enfranchisement of about million indians the narrow linguistic scope available online has also limited representation by restricting the access of different voices expressing their lived realities creating vacuums in the production of information on certain geographies and cultures indian languages feature nowhere among the top languages in use on the internet and most have not ventured into cyberspace at all research suggested that multilingual people contribute significantly to the diversification of digital content the nep s focus on promoting multilingualism and reviving proficiency in local languages could help create a workforce to do just that however considerable effort shall also need to be expended to create markets and demand for regional languages in order to make their promotion a success additionally the emphasis on regional languages must not be to the detriment of learning foreign languages especially english proficiency in the english language is needed to tap into global networks and english is still very much the language of the internet it determines access a google search in english brings up about times more results than one in arabic it is also the language of code at least as of now and therefore comprehending technological creations and traditions requires english therefore bilingualism on the part of teachers as encouraged by nep will be imperative to encourage fluency and greater use of english especially for the majority of children hailing from non english speaking backgrounds the absence of digital skills has the potential to greatly exacerbate increasing inequalities the nep recognises the need for inclusivity and makes provisions for policy design to address existing disparities however it will need explicit sustained effort to ensure that india s digital transformation does not leave some of us behind women will need a push from the education system to pursue stem research suggests that they often display greater anxiety with respect to entering the field also since discrimination tends to find its way into the technology we design education systems shall need to incorporate gender and race sensitisation as well as ethics which nep already recommends as a part of syllabi equitable access also demands that the policy s goals of employing technology be complemented by efforts to increase digital penetration and create foundational digital infrastructure india s internet penetration currently stands at a large percentage of children without access to computers at home shall depend on school labs which must therefore be well provisioned else the digital divide will exacerbate inequalities further the emphasis on regional languages must not be to the detriment of learning foreign languages especially english the new education policy has a commendable vision but its potency will depend on whether it is able to effectively integrate with the government s other policy initiatives digital india skill india and the new industrial policy to name a few in order to effect a coherent structural transfiguration for instance policy linkages can ensure that education policy speaks to and learns from skill india s experience in engaging more dynamically with the private sector to shape vocational education curricula in order to make it a success there is also a need for more evidence based decision making to adapt to rapidly evolving shifts and disruption nep has encouragingly provisioned for real time evaluation systems and a consultative monitoring framework this shall enable the education system to constantly reform itself instead of waiting for a new education policy every decade for a shift in curriculum this in itself will be a remarkable achievement india s introduction of the mindspark adaptive learning software in some public schools was a great success helping to improve math scores by in just a few months scalable at the rate of just about rs per student per year'"
            ]
          },
          "metadata": {
            "tags": []
          },
          "execution_count": 69
        }
      ]
    },
    {
      "cell_type": "code",
      "metadata": {
        "id": "F0chDRSMQMj-",
        "colab_type": "code",
        "colab": {
          "base_uri": "https://localhost:8080/",
          "height": 155
        },
        "outputId": "39364572-e8c0-4c51-aff9-2946ad54e5a1"
      },
      "source": [
        "cleaned_text2 = cleaner(lower_case2)\n",
        "cleaned_text2"
      ],
      "execution_count": 70,
      "outputs": [
        {
          "output_type": "execute_result",
          "data": {
            "application/vnd.google.colaboratory.intrinsic+json": {
              "type": "string"
            },
            "text/plain": [
              "'july is going to be an important day for indian education system as the government decided to bring in national education policy nep with a long term vision of making india a global knowledge superpower with a focus on inclusiveness participation and holistic approach nep is third in series since independence the first two were introduced in and respectively it is based on the pillars of access equity quality affordability and accountability this article will focus more on the vision plan made for higher education and potentials risks ahead risks can be managed well only if identified correctly and at the right time the new policy is expected to bring positive and long lasting changes in the indian higher education system several innovative ideas have been considered while formulating this policy to improve effectiveness and finally achieve its long term goal there are some really great steps planned within the policy ambit for taking the indian education system to a new level of excellence let s see enrolment ratio to be increased to in the next years which is almost double the current percentage the missing link here seems to be non availability or shortage of basic infrastructure trained faculty research facility gap between demand and supply etc the government needs to ensure that current facilities should be strengthened with some added resources to deliver effective education another step of multiple entry and exit option in undergraduate course with appropriate certification seems good initiative but practically there are some operational glitches including acceptance of these partial certifications degree or diploma in industry another detailed plan is required for those students who want to change subjects during their degree courses larger questions finally relate to losing an academic year or dilution of degree value in the long run a step is taken for making all the courses interdisciplinary this can be a game changer for making an overall education system more holistic and inclusive this step in the long term requires trained multidisciplinary faculties too for which the nep remained silent the policy provides a broad framework and is not mandatory to be followed education being a contemporaneous subject gives flexibility to the state and centre to suggest and make policies the set target and final outcomes are expected to be achieved by where clarity on fund arrangement and allocation is not talked about making it risky for future the policy mentioned about allowing foreign campuses to be opened in india this is a commendable step but the potential remains week due to high cost insufficient resource allocation and relevance of various courses on offer some reports in stated that none out of top universities have shown interest in opening up of campuses in india in fact most of the foreign universities want to work in india through local collaboration currently there are many undergraduates and postgraduate programs running in india with dual degree arrangement this strategy helps in getting a better valued degree at much lesser price but many remain sceptical about quality of academia offered discontinuing m phil and focusing more on research can also reap larger long term benefits if the system is able to manage the current status of research students when the country is able to produce only half the requirement i e many research seats in tier institutions remain vacant due to various internal and external issues m phil is a well accepted course among employers and is seen as less rigorous than doctorate but far better than many pg courses before discontinuation the ecosystem needs some substitute well accepted among employers and students establishing academic bank of credit abc is a good idea and will definitely bring ease for students and academic institutes nep also mentioned about phasing out of affiliation of colleges in the next years this is expected to empower college and transform themselves into autonomous degree granting college or constituent college of any university centralization of regulations governance grants quality and accreditation along with dedicated funds to of gdp innovative technology enabled more flexible options to choose and the multidisciplinary idea is expected to bring sustainable changes in the long term every idea and policy is expected to bring positive systematic change in the system this is not an exception but we need to remember that most of these plans and policy fail due to operational and implementation issues'"
            ]
          },
          "metadata": {
            "tags": []
          },
          "execution_count": 70
        }
      ]
    },
    {
      "cell_type": "code",
      "metadata": {
        "id": "1n9l4GrQGXKF",
        "colab_type": "code",
        "colab": {}
      },
      "source": [
        "tokenized_text =nltk.word_tokenize(cleaned_text)\n",
        "tokenized_text2 =nltk.word_tokenize(cleaned_text2)"
      ],
      "execution_count": 71,
      "outputs": []
    },
    {
      "cell_type": "code",
      "metadata": {
        "id": "Qg7pKmJeF446",
        "colab_type": "code",
        "colab": {}
      },
      "source": [
        "stop_words = [\"i\", \"me\", \"my\", \"myself\", \"we\", \"our\", \"ours\", \"ourselves\", \"you\", \"your\", \"yours\", \"yourself\",\n",
        "              \"yourselves\", \"he\", \"him\", \"his\", \"himself\", \"she\", \"her\", \"hers\", \"herself\", \"it\", \"its\", \"itself\",\n",
        "              \"they\", \"them\", \"their\", \"theirs\", \"themselves\", \"what\", \"which\", \"who\", \"whom\", \"this\", \"that\", \"these\",\n",
        "              \"those\", \"am\", \"is\", \"are\", \"was\", \"were\", \"be\", \"been\", \"being\", \"have\", \"has\", \"had\", \"having\", \"do\",\n",
        "              \"does\", \"did\", \"doing\", \"a\", \"an\", \"the\", \"and\", \"but\", \"if\", \"or\", \"because\", \"as\", \"until\", \"while\",\n",
        "              \"of\", \"at\", \"by\", \"for\", \"with\", \"about\", \"against\", \"between\", \"into\", \"through\", \"during\", \"before\",\n",
        "              \"after\", \"above\", \"below\", \"to\", \"from\", \"up\", \"down\", \"in\", \"out\", \"on\", \"off\", \"over\", \"under\", \"again\",\n",
        "              \"further\", \"then\", \"once\", \"here\", \"there\", \"when\", \"where\", \"why\", \"how\", \"all\", \"any\", \"both\", \"each\",\n",
        "              \"few\", \"more\", \"most\", \"other\", \"some\", \"such\", \"no\", \"nor\", \"not\", \"only\", \"own\", \"same\", \"so\", \"than\",\n",
        "              \"too\", \"very\", \"s\", \"t\", \"can\", \"will\", \"just\", \"don\", \"should\", \"now\",\"new\",\"nep\",\"rs\",\"shall\"]\n",
        "\n",
        "# Removing stop words from the tokenized words list\n",
        "final_words = [word for word in tokenized_text if word not in stop_words]\n",
        "final_words2 = [word for word in tokenized_text2 if word not in stop_words]"
      ],
      "execution_count": 72,
      "outputs": []
    },
    {
      "cell_type": "code",
      "metadata": {
        "id": "U2mNkmOQG2B-",
        "colab_type": "code",
        "colab": {
          "base_uri": "https://localhost:8080/",
          "height": 51
        },
        "outputId": "a70059e7-c77e-47fd-f2e1-7b1a98591afa"
      },
      "source": [
        "print(len(final_words))\n",
        "print(len(final_words2))"
      ],
      "execution_count": 73,
      "outputs": [
        {
          "output_type": "stream",
          "text": [
            "917\n",
            "430\n"
          ],
          "name": "stdout"
        }
      ]
    },
    {
      "cell_type": "markdown",
      "metadata": {
        "id": "AlcUrXqhgTzS",
        "colab_type": "text"
      },
      "source": [
        "**Stemming**"
      ]
    },
    {
      "cell_type": "code",
      "metadata": {
        "id": "QPRmXXHt1Cpv",
        "colab_type": "code",
        "colab": {
          "base_uri": "https://localhost:8080/",
          "height": 88
        },
        "outputId": "50d0ec74-eaaf-4b5d-b3aa-cfa6d6edd8b0"
      },
      "source": [
        "from nltk.stem.porter import PorterStemmer\n",
        "stemmer = PorterStemmer()\n",
        "#stem_text = ' '.join([stemmer.stem(w) for w in final_words])\n",
        "stem_text =[stemmer.stem(w) for w in final_words]\n",
        "print(len(stem_text))  \n",
        "print(stem_text)\n",
        "print(type(stem_text)) "
      ],
      "execution_count": 74,
      "outputs": [
        {
          "output_type": "stream",
          "text": [
            "917\n",
            "['educ', 'polici', 'commend', 'vision', 'potenc', 'depend', 'whether', 'abl', 'effect', 'integr', 'govern', 'polici', 'initi', 'india', 'introduc', 'nation', 'educ', 'polici', 'last', 'week', 'lay', 'narendra', 'modi', 'govern', 'vision', 'broad', 'direct', 'conceiv', 'educ', 'reform', 'consider', 'overdu', 'india', 'third', 'educ', 'polici', 'document', 'previou', 'one', 'revis', 'polici', 'introduc', 'whole', 'gamut', 'chang', 'read', 'progress', 'document', 'overal', 'firm', 'grasp', 'current', 'socio', 'econom', 'landscap', 'prospect', 'futur', 'uncertainti', 'educ', 'gener', 'learner', 'necessarili', 'engag', 'increas', 'dematerialis', 'digitalis', 'economi', 'requir', 'complet', 'set', 'capabl', 'order', 'abl', 'keep', 'seem', 'even', 'urgent', 'prerog', 'trend', 'toward', 'digitalis', 'disrupt', 'autom', 'acceler', 'pandem', 'seem', 'acknowledg', 'far', 'document', 'prescript', 'go', 'pave', 'way', 'india', 'futur', 'workforc', 'prepar', 'economi', 'educ', 'gener', 'learner', 'necessarili', 'engag', 'increas', 'dematerialis', 'digitalis', 'economi', 'requir', 'complet', 'set', 'capabl', 'order', 'abl', 'keep', 'futur', 'work', 'promis', 'much', 'nebul', 'fast', 'chang', 'world', 'inhabit', 'today', 'much', 'larger', 'gig', 'economi', 'therefor', 'need', 'agil', 'workforc', 'quickli', 'adapt', 'chang', 'labour', 'forc', 'requir', 'done', 'well', 'recognis', 'shift', 'provid', 'put', 'flexibl', 'core', 'vision', 'educ', 'polici', 'focu', 'conceptu', 'rather', 'rote', 'learn', 'concurr', 'emphasi', 'soft', 'skill', 'like', 'commun', 'leadership', 'teamwork', 'hearten', 'emerg', 'challeng', 'build', 'resili', 'climat', 'chang', 'pandem', 'disrupt', 'emerg', 'technolog', 'requir', 'workforc', 'abl', 'draw', 'cross', 'cut', 'compet', 'therefor', 'shown', 'commend', 'foresight', 'seek', 'break', 'silo', 'encourag', 'interdisciplinar', 'lead', 'workforc', 'much', 'holist', 'sens', 'world', 'requisit', 'digit', 'engag', 'polici', 'recognis', 'crucial', 'feedback', 'loop', 'regard', 'technolog', 'educ', 'fact', 'technolog', 'enabl', 'superior', 'learn', 'wield', 'effect', 'requir', 'digit', 'skill', 'educ', 'well', 'even', 'acknowledg', 'lean', 'much', 'toward', 'enabl', 'aspect', 'technolog', 'without', 'fulli', 'dwell', 'need', 'build', 'capabl', 'requir', 'engag', 'meaning', 'big', 'edtech', 'contain', 'potenti', 'great', 'idea', 'use', 'adapt', 'softwar', 'provid', 'tailor', 'flexibl', 'lesson', 'blend', 'learn', 'use', 'ai', 'softwar', 'track', 'student', 'progress', 'interest', 'exampl', 'technolog', 'deploy', 'right', 'without', 'distract', 'fundament', 'learn', 'sap', 'commun', 'aspect', 'conceptualis', 'netf', 'nation', 'educ', 'technolog', 'forum', 'instanc', 'brainstorm', 'deploy', 'technolog', 'improv', 'system', 'perform', 'entir', 'educ', 'system', 'also', 'promis', 'lean', 'much', 'toward', 'enabl', 'aspect', 'technolog', 'without', 'fulli', 'dwell', 'need', 'build', 'capabl', 'requir', 'engag', 'meaning', 'howev', 'polici', 'go', 'nearli', 'far', 'enough', 'work', 'foster', 'technolog', 'capabl', 'arguabl', 'much', 'crucial', 'aspect', 'two', 'regard', 'focu', 'promot', 'socio', 'emot', 'intellig', 'foundat', 'literaci', 'numeraci', 'excel', 'move', 'howev', 'per', 'world', 'standard', 'foundat', 'skill', 'must', 'also', 'includ', 'digit', 'literaci', 'children', 'today', 'begin', 'engag', 'technolog', 'precoci', 'young', 'age', 'henc', 'need', 'taught', 'engag', 'technolog', 'healthi', 'product', 'way', 'right', 'enter', 'school', 'countri', 'across', 'world', 'includ', 'technolog', 'element', 'curriculum', 'foundat', 'level', 'uk', 'sweden', 'exampl', 'teach', 'principl', 'comput', 'program', 'children', 'age', 'five', 'presid', 'obama', 'comput', 'scienc', 'initi', 'focus', 'provid', 'code', 'program', 'skill', 'children', 'kindergarten', 'onward', 'wherea', 'prescrib', 'introduct', 'code', 'middl', 'stage', 'e', 'class', 'futur', 'work', 'requir', 'go', 'beyond', 'learn', 'use', 'technolog', 'children', 'need', 'go', 'step', 'also', 'learn', 'technolog', 'creat', 'design', 'intuit', 'level', 'cite', 'need', 'comput', 'think', 'foundat', 'level', 'conceptualis', 'integr', 'digit', 'skill', 'core', 'curriculum', 'comput', 'literaci', 'program', 'someth', 'integr', 'curricula', 'earli', 'make', 'fun', 'engag', 'even', 'use', 'stori', 'tell', 'game', 'advantag', 'earli', 'begin', 'estim', 'programm', 'intern', 'student', 'assess', 'pisa', 'found', 'economi', 'like', 'south', 'korea', 'singapor', 'far', 'better', 'analys', 'digit', 'text', 'develop', 'countri', 'simpli', 'student', 'greater', 'experi', 'navig', 'technolog', 'therefor', 'notabl', 'better', 'task', 'base', 'brows', 'subtl', 'differ', 'eventu', 'add', 'signific', 'competit', 'edg', 'cite', 'need', 'comput', 'think', 'foundat', 'level', 'conceptualis', 'integr', 'digit', 'skill', 'core', 'curriculum', 'languag', 'much', 'debat', 'around', 'predict', 'centr', 'around', 'one', 'aspect', 'polici', 'focu', 'local', 'languag', 'polici', 'promot', 'region', 'languag', 'medium', 'instruct', 'possibl', 'till', 'secondari', 'school', 'without', 'delv', 'far', 'debat', 'question', 'consid', 'sole', 'perspect', 'demand', 'digit', 'economi', 'polici', 'could', 'well', 'inspir', 'move', 'indian', 'languag', 'featur', 'nowher', 'among', 'top', 'languag', 'use', 'internet', 'ventur', 'cyberspac', 'affect', 'access', 'internet', 'million', 'indian', 'user', 'ficci', 'estim', 'avail', 'onlin', 'content', 'region', 'languag', 'would', 'enabl', 'digit', 'enfranchis', 'million', 'indian', 'narrow', 'linguist', 'scope', 'avail', 'onlin', 'also', 'limit', 'represent', 'restrict', 'access', 'differ', 'voic', 'express', 'live', 'realiti', 'creat', 'vacuum', 'product', 'inform', 'certain', 'geographi', 'cultur', 'indian', 'languag', 'featur', 'nowher', 'among', 'top', 'languag', 'use', 'internet', 'ventur', 'cyberspac', 'research', 'suggest', 'multilingu', 'peopl', 'contribut', 'significantli', 'diversif', 'digit', 'content', 'focu', 'promot', 'multilingu', 'reviv', 'profici', 'local', 'languag', 'could', 'help', 'creat', 'workforc', 'howev', 'consider', 'effort', 'also', 'need', 'expend', 'creat', 'market', 'demand', 'region', 'languag', 'order', 'make', 'promot', 'success', 'addit', 'emphasi', 'region', 'languag', 'must', 'detriment', 'learn', 'foreign', 'languag', 'especi', 'english', 'profici', 'english', 'languag', 'need', 'tap', 'global', 'network', 'english', 'still', 'much', 'languag', 'internet', 'determin', 'access', 'googl', 'search', 'english', 'bring', 'time', 'result', 'one', 'arab', 'also', 'languag', 'code', 'least', 'therefor', 'comprehend', 'technolog', 'creation', 'tradit', 'requir', 'english', 'therefor', 'bilingu', 'part', 'teacher', 'encourag', 'imper', 'encourag', 'fluenci', 'greater', 'use', 'english', 'especi', 'major', 'children', 'hail', 'non', 'english', 'speak', 'background', 'absenc', 'digit', 'skill', 'potenti', 'greatli', 'exacerb', 'increas', 'inequ', 'recognis', 'need', 'inclus', 'make', 'provis', 'polici', 'design', 'address', 'exist', 'dispar', 'howev', 'need', 'explicit', 'sustain', 'effort', 'ensur', 'india', 'digit', 'transform', 'leav', 'us', 'behind', 'women', 'need', 'push', 'educ', 'system', 'pursu', 'stem', 'research', 'suggest', 'often', 'display', 'greater', 'anxieti', 'respect', 'enter', 'field', 'also', 'sinc', 'discrimin', 'tend', 'find', 'way', 'technolog', 'design', 'educ', 'system', 'need', 'incorpor', 'gender', 'race', 'sensitis', 'well', 'ethic', 'alreadi', 'recommend', 'part', 'syllabi', 'equit', 'access', 'also', 'demand', 'polici', 'goal', 'employ', 'technolog', 'complement', 'effort', 'increas', 'digit', 'penetr', 'creat', 'foundat', 'digit', 'infrastructur', 'india', 'internet', 'penetr', 'current', 'stand', 'larg', 'percentag', 'children', 'without', 'access', 'comput', 'home', 'depend', 'school', 'lab', 'must', 'therefor', 'well', 'provis', 'els', 'digit', 'divid', 'exacerb', 'inequ', 'emphasi', 'region', 'languag', 'must', 'detriment', 'learn', 'foreign', 'languag', 'especi', 'english', 'educ', 'polici', 'commend', 'vision', 'potenc', 'depend', 'whether', 'abl', 'effect', 'integr', 'govern', 'polici', 'initi', 'digit', 'india', 'skill', 'india', 'industri', 'polici', 'name', 'order', 'effect', 'coher', 'structur', 'transfigur', 'instanc', 'polici', 'linkag', 'ensur', 'educ', 'polici', 'speak', 'learn', 'skill', 'india', 'experi', 'engag', 'dynam', 'privat', 'sector', 'shape', 'vocat', 'educ', 'curricula', 'order', 'make', 'success', 'also', 'need', 'evid', 'base', 'decis', 'make', 'adapt', 'rapidli', 'evolv', 'shift', 'disrupt', 'encouragingli', 'provis', 'real', 'time', 'evalu', 'system', 'consult', 'monitor', 'framework', 'enabl', 'educ', 'system', 'constantli', 'reform', 'instead', 'wait', 'educ', 'polici', 'everi', 'decad', 'shift', 'curriculum', 'remark', 'achiev', 'india', 'introduct', 'mindspark', 'adapt', 'learn', 'softwar', 'public', 'school', 'great', 'success', 'help', 'improv', 'math', 'score', 'month', 'scalabl', 'rate', 'per', 'student', 'per', 'year']\n",
            "<class 'list'>\n"
          ],
          "name": "stdout"
        }
      ]
    },
    {
      "cell_type": "code",
      "metadata": {
        "id": "dvlYXAvXgapZ",
        "colab_type": "code",
        "colab": {
          "base_uri": "https://localhost:8080/",
          "height": 88
        },
        "outputId": "6a3fc897-d185-432b-9580-1446d8d95df7"
      },
      "source": [
        "from nltk.stem.porter import PorterStemmer\n",
        "stemmer = PorterStemmer()\n",
        "stem_text2 =' '.join([stemmer.stem(w) for w in final_words2])\n",
        "#stem_text2 =[stemmer.stem(w) for w in final_words2]\n",
        "print(len(stem_text2))  \n",
        "print(stem_text2)\n",
        "print(type(stem_text2))"
      ],
      "execution_count": 75,
      "outputs": [
        {
          "output_type": "stream",
          "text": [
            "2801\n",
            "juli go import day indian educ system govern decid bring nation educ polici long term vision make india global knowledg superpow focu inclus particip holist approach third seri sinc independ first two introduc respect base pillar access equiti qualiti afford account articl focu vision plan made higher educ potenti risk ahead risk manag well identifi correctli right time polici expect bring posit long last chang indian higher educ system sever innov idea consid formul polici improv effect final achiev long term goal realli great step plan within polici ambit take indian educ system level excel let see enrol ratio increas next year almost doubl current percentag miss link seem non avail shortag basic infrastructur train faculti research facil gap demand suppli etc govern need ensur current facil strengthen ad resourc deliv effect educ anoth step multipl entri exit option undergradu cours appropri certif seem good initi practic oper glitch includ accept partial certif degre diploma industri anoth detail plan requir student want chang subject degre cours larger question final relat lose academ year dilut degre valu long run step taken make cours interdisciplinari game changer make overal educ system holist inclus step long term requir train multidisciplinari faculti remain silent polici provid broad framework mandatori follow educ contemporan subject give flexibl state centr suggest make polici set target final outcom expect achiev clariti fund arrang alloc talk make riski futur polici mention allow foreign campus open india commend step potenti remain week due high cost insuffici resourc alloc relev variou cours offer report state none top univers shown interest open campus india fact foreign univers want work india local collabor current mani undergradu postgradu program run india dual degre arrang strategi help get better valu degre much lesser price mani remain sceptic qualiti academia offer discontinu m phil focus research also reap larger long term benefit system abl manag current statu research student countri abl produc half requir e mani research seat tier institut remain vacant due variou intern extern issu m phil well accept cours among employ seen less rigor doctor far better mani pg cours discontinu ecosystem need substitut well accept among employ student establish academ bank credit abc good idea definit bring eas student academ institut also mention phase affili colleg next year expect empow colleg transform autonom degre grant colleg constitu colleg univers central regul govern grant qualiti accredit along dedic fund gdp innov technolog enabl flexibl option choos multidisciplinari idea expect bring sustain chang long term everi idea polici expect bring posit systemat chang system except need rememb plan polici fail due oper implement issu\n",
            "<class 'str'>\n"
          ],
          "name": "stdout"
        }
      ]
    },
    {
      "cell_type": "markdown",
      "metadata": {
        "id": "-iz2p_WvfEvK",
        "colab_type": "text"
      },
      "source": [
        "**Fit the model**"
      ]
    },
    {
      "cell_type": "code",
      "metadata": {
        "id": "rFm_poGuMG0d",
        "colab_type": "code",
        "colab": {
          "base_uri": "https://localhost:8080/",
          "height": 120
        },
        "outputId": "af16514e-cec3-4b76-8360-26e36fadacc6"
      },
      "source": [
        "from sklearn.feature_extraction.text import CountVectorizer \n",
        "c_vect = CountVectorizer()\n",
        "#c_vect.fit(stem_text)\n",
        "c_vect.fit([\" \".join(stem_text)])"
      ],
      "execution_count": 76,
      "outputs": [
        {
          "output_type": "execute_result",
          "data": {
            "text/plain": [
              "CountVectorizer(analyzer='word', binary=False, decode_error='strict',\n",
              "                dtype=<class 'numpy.int64'>, encoding='utf-8', input='content',\n",
              "                lowercase=True, max_df=1.0, max_features=None, min_df=1,\n",
              "                ngram_range=(1, 1), preprocessor=None, stop_words=None,\n",
              "                strip_accents=None, token_pattern='(?u)\\\\b\\\\w\\\\w+\\\\b',\n",
              "                tokenizer=None, vocabulary=None)"
            ]
          },
          "metadata": {
            "tags": []
          },
          "execution_count": 76
        }
      ]
    },
    {
      "cell_type": "code",
      "metadata": {
        "id": "CTOHt7iKuUpp",
        "colab_type": "code",
        "colab": {
          "base_uri": "https://localhost:8080/",
          "height": 88
        },
        "outputId": "9cb47834-2316-4374-a74d-047c447bb7e8"
      },
      "source": [
        "#vect1.fit_transform(string)\n",
        "print(\"bag of words :\",c_vect.get_feature_names())\n",
        "print(\"vocab        :\",c_vect.vocabulary_)\n",
        "print(\"vocab length        :\",len(c_vect.vocabulary_))"
      ],
      "execution_count": 77,
      "outputs": [
        {
          "output_type": "stream",
          "text": [
            "bag of words : ['abl', 'absenc', 'acceler', 'access', 'achiev', 'acknowledg', 'across', 'adapt', 'add', 'addit', 'address', 'advantag', 'affect', 'age', 'agil', 'ai', 'alreadi', 'also', 'among', 'analys', 'anxieti', 'arab', 'arguabl', 'around', 'aspect', 'assess', 'autom', 'avail', 'background', 'base', 'begin', 'behind', 'better', 'beyond', 'big', 'bilingu', 'blend', 'brainstorm', 'break', 'bring', 'broad', 'brows', 'build', 'capabl', 'centr', 'certain', 'challeng', 'chang', 'children', 'cite', 'class', 'climat', 'code', 'coher', 'commend', 'commun', 'compet', 'competit', 'complement', 'complet', 'comprehend', 'comput', 'conceiv', 'conceptu', 'conceptualis', 'concurr', 'consid', 'consider', 'constantli', 'consult', 'contain', 'content', 'contribut', 'core', 'could', 'countri', 'creat', 'creation', 'cross', 'crucial', 'cultur', 'current', 'curricula', 'curriculum', 'cut', 'cyberspac', 'debat', 'decad', 'decis', 'delv', 'demand', 'dematerialis', 'depend', 'deploy', 'design', 'determin', 'detriment', 'develop', 'differ', 'digit', 'digitalis', 'direct', 'discrimin', 'dispar', 'display', 'disrupt', 'distract', 'diversif', 'divid', 'document', 'done', 'draw', 'dwell', 'dynam', 'earli', 'econom', 'economi', 'edg', 'edtech', 'educ', 'effect', 'effort', 'element', 'els', 'emerg', 'emot', 'emphasi', 'employ', 'enabl', 'encourag', 'encouragingli', 'enfranchis', 'engag', 'english', 'enough', 'ensur', 'enter', 'entir', 'equit', 'especi', 'estim', 'ethic', 'evalu', 'even', 'eventu', 'everi', 'evid', 'evolv', 'exacerb', 'exampl', 'excel', 'exist', 'expend', 'experi', 'explicit', 'express', 'fact', 'far', 'fast', 'featur', 'feedback', 'ficci', 'field', 'find', 'firm', 'five', 'flexibl', 'fluenci', 'focu', 'focus', 'forc', 'foreign', 'foresight', 'forum', 'foster', 'found', 'foundat', 'framework', 'fulli', 'fun', 'fundament', 'futur', 'game', 'gamut', 'gender', 'gener', 'geographi', 'gig', 'global', 'go', 'goal', 'googl', 'govern', 'grasp', 'great', 'greater', 'greatli', 'hail', 'healthi', 'hearten', 'help', 'henc', 'holist', 'home', 'howev', 'idea', 'imper', 'improv', 'includ', 'inclus', 'incorpor', 'increas', 'india', 'indian', 'industri', 'inequ', 'inform', 'infrastructur', 'inhabit', 'initi', 'inspir', 'instanc', 'instead', 'instruct', 'integr', 'intellig', 'interdisciplinar', 'interest', 'intern', 'internet', 'introduc', 'introduct', 'intuit', 'keep', 'kindergarten', 'korea', 'lab', 'labour', 'landscap', 'languag', 'larg', 'larger', 'last', 'lay', 'lead', 'leadership', 'lean', 'learn', 'learner', 'least', 'leav', 'lesson', 'level', 'like', 'limit', 'linguist', 'linkag', 'literaci', 'live', 'local', 'loop', 'major', 'make', 'market', 'math', 'meaning', 'medium', 'middl', 'million', 'mindspark', 'modi', 'monitor', 'month', 'move', 'much', 'multilingu', 'must', 'name', 'narendra', 'narrow', 'nation', 'navig', 'nearli', 'nebul', 'necessarili', 'need', 'netf', 'network', 'non', 'notabl', 'nowher', 'numeraci', 'obama', 'often', 'one', 'onlin', 'onward', 'order', 'overal', 'overdu', 'pandem', 'part', 'pave', 'penetr', 'peopl', 'per', 'percentag', 'perform', 'perspect', 'pisa', 'polici', 'possibl', 'potenc', 'potenti', 'precoci', 'predict', 'prepar', 'prerog', 'prescrib', 'prescript', 'presid', 'previou', 'principl', 'privat', 'product', 'profici', 'program', 'programm', 'progress', 'promis', 'promot', 'prospect', 'provid', 'provis', 'public', 'pursu', 'push', 'put', 'question', 'quickli', 'race', 'rapidli', 'rate', 'rather', 'read', 'real', 'realiti', 'recognis', 'recommend', 'reform', 'regard', 'region', 'remark', 'represent', 'requir', 'requisit', 'research', 'resili', 'respect', 'restrict', 'result', 'revis', 'reviv', 'right', 'rote', 'sap', 'scalabl', 'school', 'scienc', 'scope', 'score', 'search', 'secondari', 'sector', 'seek', 'seem', 'sens', 'sensitis', 'set', 'shape', 'shift', 'shown', 'signific', 'significantli', 'silo', 'simpli', 'sinc', 'singapor', 'skill', 'socio', 'soft', 'softwar', 'sole', 'someth', 'south', 'speak', 'stage', 'stand', 'standard', 'stem', 'step', 'still', 'stori', 'structur', 'student', 'subtl', 'success', 'suggest', 'superior', 'sustain', 'sweden', 'syllabi', 'system', 'tailor', 'tap', 'task', 'taught', 'teach', 'teacher', 'teamwork', 'technolog', 'tell', 'tend', 'text', 'therefor', 'think', 'third', 'till', 'time', 'today', 'top', 'toward', 'track', 'tradit', 'transfigur', 'transform', 'trend', 'two', 'uk', 'uncertainti', 'urgent', 'us', 'use', 'user', 'vacuum', 'ventur', 'vision', 'vocat', 'voic', 'wait', 'way', 'week', 'well', 'wherea', 'whether', 'whole', 'wield', 'without', 'women', 'work', 'workforc', 'world', 'would', 'year', 'young']\n",
            "vocab        : {'educ': 119, 'polici': 310, 'commend': 54, 'vision': 446, 'potenc': 312, 'depend': 92, 'whether': 454, 'abl': 0, 'effect': 120, 'integr': 224, 'govern': 192, 'initi': 219, 'india': 212, 'introduc': 230, 'nation': 280, 'last': 242, 'week': 451, 'lay': 243, 'narendra': 278, 'modi': 270, 'broad': 40, 'direct': 101, 'conceiv': 62, 'reform': 349, 'consider': 67, 'overdu': 299, 'third': 426, 'document': 109, 'previou': 321, 'one': 294, 'revis': 361, 'whole': 455, 'gamut': 183, 'chang': 47, 'read': 344, 'progress': 328, 'overal': 298, 'firm': 164, 'grasp': 193, 'current': 81, 'socio': 389, 'econom': 115, 'landscap': 238, 'prospect': 331, 'futur': 181, 'uncertainti': 439, 'gener': 185, 'learner': 248, 'necessarili': 284, 'engag': 132, 'increas': 211, 'dematerialis': 91, 'digitalis': 100, 'economi': 116, 'requir': 354, 'complet': 59, 'set': 378, 'capabl': 43, 'order': 297, 'keep': 233, 'seem': 375, 'even': 143, 'urgent': 440, 'prerog': 317, 'trend': 436, 'toward': 431, 'disrupt': 105, 'autom': 26, 'acceler': 2, 'pandem': 300, 'acknowledg': 5, 'far': 157, 'prescript': 319, 'go': 189, 'pave': 302, 'way': 450, 'workforc': 460, 'prepar': 316, 'work': 459, 'promis': 329, 'much': 274, 'nebul': 283, 'fast': 158, 'world': 461, 'inhabit': 218, 'today': 429, 'larger': 241, 'gig': 187, 'therefor': 424, 'need': 285, 'agil': 14, 'quickli': 339, 'adapt': 7, 'labour': 237, 'forc': 170, 'done': 110, 'well': 452, 'recognis': 347, 'shift': 380, 'provid': 332, 'put': 337, 'flexibl': 166, 'core': 73, 'focu': 168, 'conceptu': 63, 'rather': 343, 'rote': 364, 'learn': 247, 'concurr': 65, 'emphasi': 126, 'soft': 390, 'skill': 388, 'like': 253, 'commun': 55, 'leadership': 245, 'teamwork': 419, 'hearten': 199, 'emerg': 124, 'challeng': 46, 'build': 42, 'resili': 357, 'climat': 51, 'technolog': 420, 'draw': 111, 'cross': 78, 'cut': 84, 'compet': 56, 'shown': 381, 'foresight': 172, 'seek': 374, 'break': 38, 'silo': 384, 'encourag': 129, 'interdisciplinar': 226, 'lead': 244, 'holist': 202, 'sens': 376, 'requisit': 355, 'digit': 99, 'crucial': 79, 'feedback': 160, 'loop': 260, 'regard': 350, 'fact': 156, 'enabl': 128, 'superior': 408, 'wield': 456, 'lean': 246, 'aspect': 24, 'without': 457, 'fulli': 178, 'dwell': 112, 'meaning': 265, 'big': 34, 'edtech': 118, 'contain': 70, 'potenti': 313, 'great': 194, 'idea': 205, 'use': 442, 'softwar': 391, 'tailor': 413, 'lesson': 251, 'blend': 36, 'ai': 15, 'track': 432, 'student': 404, 'interest': 227, 'exampl': 149, 'deploy': 93, 'right': 363, 'distract': 106, 'fundament': 180, 'sap': 365, 'conceptualis': 64, 'netf': 286, 'forum': 173, 'instanc': 221, 'brainstorm': 37, 'improv': 207, 'system': 412, 'perform': 307, 'entir': 137, 'also': 17, 'howev': 204, 'nearli': 282, 'enough': 134, 'foster': 174, 'arguabl': 22, 'two': 437, 'promot': 330, 'emot': 125, 'intellig': 225, 'foundat': 176, 'literaci': 257, 'numeraci': 291, 'excel': 150, 'move': 273, 'per': 305, 'standard': 398, 'must': 276, 'includ': 208, 'children': 48, 'begin': 30, 'precoci': 314, 'young': 464, 'age': 13, 'henc': 201, 'taught': 416, 'healthi': 198, 'product': 324, 'enter': 136, 'school': 367, 'countri': 75, 'across': 6, 'element': 122, 'curriculum': 83, 'level': 252, 'uk': 438, 'sweden': 410, 'teach': 417, 'principl': 322, 'comput': 61, 'program': 326, 'five': 165, 'presid': 320, 'obama': 292, 'scienc': 368, 'focus': 169, 'code': 52, 'kindergarten': 234, 'onward': 296, 'wherea': 453, 'prescrib': 318, 'introduct': 231, 'middl': 267, 'stage': 396, 'class': 50, 'beyond': 33, 'step': 400, 'creat': 76, 'design': 94, 'intuit': 232, 'cite': 49, 'think': 425, 'someth': 393, 'curricula': 82, 'earli': 114, 'make': 262, 'fun': 179, 'stori': 402, 'tell': 421, 'game': 182, 'advantag': 11, 'estim': 140, 'programm': 327, 'intern': 228, 'assess': 25, 'pisa': 309, 'found': 175, 'south': 394, 'korea': 235, 'singapor': 387, 'better': 32, 'analys': 19, 'text': 423, 'develop': 97, 'simpli': 385, 'greater': 195, 'experi': 153, 'navig': 281, 'notabl': 289, 'task': 415, 'base': 29, 'brows': 41, 'subtl': 405, 'differ': 98, 'eventu': 144, 'add': 8, 'signific': 382, 'competit': 57, 'edg': 117, 'languag': 239, 'debat': 86, 'around': 23, 'predict': 315, 'centr': 44, 'local': 259, 'region': 351, 'medium': 266, 'instruct': 223, 'possibl': 311, 'till': 427, 'secondari': 372, 'delv': 89, 'question': 338, 'consid': 66, 'sole': 392, 'perspect': 308, 'demand': 90, 'could': 74, 'inspir': 220, 'indian': 213, 'featur': 159, 'nowher': 290, 'among': 18, 'top': 430, 'internet': 229, 'ventur': 445, 'cyberspac': 85, 'affect': 12, 'access': 3, 'million': 268, 'user': 443, 'ficci': 161, 'avail': 27, 'onlin': 295, 'content': 71, 'would': 462, 'enfranchis': 131, 'narrow': 279, 'linguist': 255, 'scope': 369, 'limit': 254, 'represent': 353, 'restrict': 359, 'voic': 448, 'express': 155, 'live': 258, 'realiti': 346, 'vacuum': 444, 'inform': 216, 'certain': 45, 'geographi': 186, 'cultur': 80, 'research': 356, 'suggest': 407, 'multilingu': 275, 'peopl': 304, 'contribut': 72, 'significantli': 383, 'diversif': 107, 'reviv': 362, 'profici': 325, 'help': 200, 'effort': 121, 'expend': 152, 'market': 263, 'success': 406, 'addit': 9, 'detriment': 96, 'foreign': 171, 'especi': 139, 'english': 133, 'tap': 414, 'global': 188, 'network': 287, 'still': 401, 'determin': 95, 'googl': 191, 'search': 371, 'bring': 39, 'time': 428, 'result': 360, 'arab': 21, 'least': 249, 'comprehend': 60, 'creation': 77, 'tradit': 433, 'bilingu': 35, 'part': 301, 'teacher': 418, 'imper': 206, 'fluenci': 167, 'major': 261, 'hail': 197, 'non': 288, 'speak': 395, 'background': 28, 'absenc': 1, 'greatli': 196, 'exacerb': 148, 'inequ': 215, 'inclus': 209, 'provis': 333, 'address': 10, 'exist': 151, 'dispar': 103, 'explicit': 154, 'sustain': 409, 'ensur': 135, 'transform': 435, 'leav': 250, 'us': 441, 'behind': 31, 'women': 458, 'push': 336, 'pursu': 335, 'stem': 399, 'often': 293, 'display': 104, 'anxieti': 20, 'respect': 358, 'field': 162, 'sinc': 386, 'discrimin': 102, 'tend': 422, 'find': 163, 'incorpor': 210, 'gender': 184, 'race': 340, 'sensitis': 377, 'ethic': 141, 'alreadi': 16, 'recommend': 348, 'syllabi': 411, 'equit': 138, 'goal': 190, 'employ': 127, 'complement': 58, 'penetr': 303, 'infrastructur': 217, 'stand': 397, 'larg': 240, 'percentag': 306, 'home': 203, 'lab': 236, 'els': 123, 'divid': 108, 'industri': 214, 'name': 277, 'coher': 53, 'structur': 403, 'transfigur': 434, 'linkag': 256, 'dynam': 113, 'privat': 323, 'sector': 373, 'shape': 379, 'vocat': 447, 'evid': 146, 'decis': 88, 'rapidli': 341, 'evolv': 147, 'encouragingli': 130, 'real': 345, 'evalu': 142, 'consult': 69, 'monitor': 271, 'framework': 177, 'constantli': 68, 'instead': 222, 'wait': 449, 'everi': 145, 'decad': 87, 'remark': 352, 'achiev': 4, 'mindspark': 269, 'public': 334, 'math': 264, 'score': 370, 'month': 272, 'scalabl': 366, 'rate': 342, 'year': 463}\n",
            "vocab length        : 465\n"
          ],
          "name": "stdout"
        }
      ]
    },
    {
      "cell_type": "code",
      "metadata": {
        "id": "ucJwnWVkE1IH",
        "colab_type": "code",
        "colab": {
          "base_uri": "https://localhost:8080/",
          "height": 128
        },
        "outputId": "225cd893-5fad-4be8-9d75-87ea63af15dc"
      },
      "source": [
        "import pandas as pd\n",
        "df_text1=pd.DataFrame(c_vect.transform([\" \".join(stem_text)]).toarray(),columns=c_vect.get_feature_names())\n",
        "df_text1"
      ],
      "execution_count": 78,
      "outputs": [
        {
          "output_type": "execute_result",
          "data": {
            "text/html": [
              "<div>\n",
              "<style scoped>\n",
              "    .dataframe tbody tr th:only-of-type {\n",
              "        vertical-align: middle;\n",
              "    }\n",
              "\n",
              "    .dataframe tbody tr th {\n",
              "        vertical-align: top;\n",
              "    }\n",
              "\n",
              "    .dataframe thead th {\n",
              "        text-align: right;\n",
              "    }\n",
              "</style>\n",
              "<table border=\"1\" class=\"dataframe\">\n",
              "  <thead>\n",
              "    <tr style=\"text-align: right;\">\n",
              "      <th></th>\n",
              "      <th>abl</th>\n",
              "      <th>absenc</th>\n",
              "      <th>acceler</th>\n",
              "      <th>access</th>\n",
              "      <th>achiev</th>\n",
              "      <th>acknowledg</th>\n",
              "      <th>across</th>\n",
              "      <th>adapt</th>\n",
              "      <th>add</th>\n",
              "      <th>addit</th>\n",
              "      <th>address</th>\n",
              "      <th>advantag</th>\n",
              "      <th>affect</th>\n",
              "      <th>age</th>\n",
              "      <th>agil</th>\n",
              "      <th>ai</th>\n",
              "      <th>alreadi</th>\n",
              "      <th>also</th>\n",
              "      <th>among</th>\n",
              "      <th>analys</th>\n",
              "      <th>anxieti</th>\n",
              "      <th>arab</th>\n",
              "      <th>arguabl</th>\n",
              "      <th>around</th>\n",
              "      <th>aspect</th>\n",
              "      <th>assess</th>\n",
              "      <th>autom</th>\n",
              "      <th>avail</th>\n",
              "      <th>background</th>\n",
              "      <th>base</th>\n",
              "      <th>begin</th>\n",
              "      <th>behind</th>\n",
              "      <th>better</th>\n",
              "      <th>beyond</th>\n",
              "      <th>big</th>\n",
              "      <th>bilingu</th>\n",
              "      <th>blend</th>\n",
              "      <th>brainstorm</th>\n",
              "      <th>break</th>\n",
              "      <th>bring</th>\n",
              "      <th>...</th>\n",
              "      <th>think</th>\n",
              "      <th>third</th>\n",
              "      <th>till</th>\n",
              "      <th>time</th>\n",
              "      <th>today</th>\n",
              "      <th>top</th>\n",
              "      <th>toward</th>\n",
              "      <th>track</th>\n",
              "      <th>tradit</th>\n",
              "      <th>transfigur</th>\n",
              "      <th>transform</th>\n",
              "      <th>trend</th>\n",
              "      <th>two</th>\n",
              "      <th>uk</th>\n",
              "      <th>uncertainti</th>\n",
              "      <th>urgent</th>\n",
              "      <th>us</th>\n",
              "      <th>use</th>\n",
              "      <th>user</th>\n",
              "      <th>vacuum</th>\n",
              "      <th>ventur</th>\n",
              "      <th>vision</th>\n",
              "      <th>vocat</th>\n",
              "      <th>voic</th>\n",
              "      <th>wait</th>\n",
              "      <th>way</th>\n",
              "      <th>week</th>\n",
              "      <th>well</th>\n",
              "      <th>wherea</th>\n",
              "      <th>whether</th>\n",
              "      <th>whole</th>\n",
              "      <th>wield</th>\n",
              "      <th>without</th>\n",
              "      <th>women</th>\n",
              "      <th>work</th>\n",
              "      <th>workforc</th>\n",
              "      <th>world</th>\n",
              "      <th>would</th>\n",
              "      <th>year</th>\n",
              "      <th>young</th>\n",
              "    </tr>\n",
              "  </thead>\n",
              "  <tbody>\n",
              "    <tr>\n",
              "      <th>0</th>\n",
              "      <td>5</td>\n",
              "      <td>1</td>\n",
              "      <td>1</td>\n",
              "      <td>5</td>\n",
              "      <td>1</td>\n",
              "      <td>2</td>\n",
              "      <td>1</td>\n",
              "      <td>4</td>\n",
              "      <td>1</td>\n",
              "      <td>1</td>\n",
              "      <td>1</td>\n",
              "      <td>1</td>\n",
              "      <td>1</td>\n",
              "      <td>2</td>\n",
              "      <td>1</td>\n",
              "      <td>1</td>\n",
              "      <td>1</td>\n",
              "      <td>9</td>\n",
              "      <td>2</td>\n",
              "      <td>1</td>\n",
              "      <td>1</td>\n",
              "      <td>1</td>\n",
              "      <td>1</td>\n",
              "      <td>2</td>\n",
              "      <td>5</td>\n",
              "      <td>1</td>\n",
              "      <td>1</td>\n",
              "      <td>2</td>\n",
              "      <td>1</td>\n",
              "      <td>2</td>\n",
              "      <td>2</td>\n",
              "      <td>1</td>\n",
              "      <td>2</td>\n",
              "      <td>1</td>\n",
              "      <td>1</td>\n",
              "      <td>1</td>\n",
              "      <td>1</td>\n",
              "      <td>1</td>\n",
              "      <td>1</td>\n",
              "      <td>1</td>\n",
              "      <td>...</td>\n",
              "      <td>2</td>\n",
              "      <td>1</td>\n",
              "      <td>1</td>\n",
              "      <td>2</td>\n",
              "      <td>2</td>\n",
              "      <td>2</td>\n",
              "      <td>3</td>\n",
              "      <td>1</td>\n",
              "      <td>1</td>\n",
              "      <td>1</td>\n",
              "      <td>1</td>\n",
              "      <td>1</td>\n",
              "      <td>1</td>\n",
              "      <td>1</td>\n",
              "      <td>1</td>\n",
              "      <td>1</td>\n",
              "      <td>1</td>\n",
              "      <td>7</td>\n",
              "      <td>1</td>\n",
              "      <td>1</td>\n",
              "      <td>2</td>\n",
              "      <td>4</td>\n",
              "      <td>1</td>\n",
              "      <td>1</td>\n",
              "      <td>1</td>\n",
              "      <td>3</td>\n",
              "      <td>1</td>\n",
              "      <td>5</td>\n",
              "      <td>1</td>\n",
              "      <td>2</td>\n",
              "      <td>1</td>\n",
              "      <td>1</td>\n",
              "      <td>5</td>\n",
              "      <td>1</td>\n",
              "      <td>3</td>\n",
              "      <td>5</td>\n",
              "      <td>4</td>\n",
              "      <td>1</td>\n",
              "      <td>1</td>\n",
              "      <td>1</td>\n",
              "    </tr>\n",
              "  </tbody>\n",
              "</table>\n",
              "<p>1 rows × 465 columns</p>\n",
              "</div>"
            ],
            "text/plain": [
              "   abl  absenc  acceler  access  achiev  ...  workforc  world  would  year  young\n",
              "0    5       1        1       5       1  ...         5      4      1     1      1\n",
              "\n",
              "[1 rows x 465 columns]"
            ]
          },
          "metadata": {
            "tags": []
          },
          "execution_count": 78
        }
      ]
    },
    {
      "cell_type": "markdown",
      "metadata": {
        "id": "6bMhDHNQ_tx1",
        "colab_type": "text"
      },
      "source": [
        "**Compare**"
      ]
    },
    {
      "cell_type": "code",
      "metadata": {
        "id": "s7MkZmC9-M4a",
        "colab_type": "code",
        "colab": {}
      },
      "source": [
        "# stem_text2_list=[stem_text2]\n",
        "# c_new_vect = c_vect.transform(stem_text2_list)\n",
        "# c_new_vect\n",
        "# import pandas as pd\n",
        "# df = pd.DataFrame(c_new_vect.toarray(), columns=c_vect.get_feature_names())\n",
        "# df_1 = df[df > 0] \n",
        "# df_1\n",
        "# df_1.dropna(axis=1)"
      ],
      "execution_count": 79,
      "outputs": []
    },
    {
      "cell_type": "code",
      "metadata": {
        "id": "nA8Seu0EHFxi",
        "colab_type": "code",
        "colab": {}
      },
      "source": [
        "stem_text2_list=[stem_text2]\n",
        "c_vect2=CountVectorizer()\n",
        "c_vect2 = c_vect2.fit(stem_text2_list)\n",
        "c_new_vect=c_vect2.transform(stem_text2_list)"
      ],
      "execution_count": 80,
      "outputs": []
    },
    {
      "cell_type": "code",
      "metadata": {
        "id": "47GE9vGLHTUl",
        "colab_type": "code",
        "colab": {}
      },
      "source": [
        "df_text2= pd.DataFrame(c_new_vect.toarray(), columns=c_vect2.get_feature_names())"
      ],
      "execution_count": 81,
      "outputs": []
    },
    {
      "cell_type": "code",
      "metadata": {
        "id": "UyoAcKgcHUpm",
        "colab_type": "code",
        "colab": {
          "base_uri": "https://localhost:8080/",
          "height": 128
        },
        "outputId": "e916327a-8026-4c85-ebec-5985b5f17771"
      },
      "source": [
        "df_text2"
      ],
      "execution_count": 82,
      "outputs": [
        {
          "output_type": "execute_result",
          "data": {
            "text/html": [
              "<div>\n",
              "<style scoped>\n",
              "    .dataframe tbody tr th:only-of-type {\n",
              "        vertical-align: middle;\n",
              "    }\n",
              "\n",
              "    .dataframe tbody tr th {\n",
              "        vertical-align: top;\n",
              "    }\n",
              "\n",
              "    .dataframe thead th {\n",
              "        text-align: right;\n",
              "    }\n",
              "</style>\n",
              "<table border=\"1\" class=\"dataframe\">\n",
              "  <thead>\n",
              "    <tr style=\"text-align: right;\">\n",
              "      <th></th>\n",
              "      <th>abc</th>\n",
              "      <th>abl</th>\n",
              "      <th>academ</th>\n",
              "      <th>academia</th>\n",
              "      <th>accept</th>\n",
              "      <th>access</th>\n",
              "      <th>account</th>\n",
              "      <th>accredit</th>\n",
              "      <th>achiev</th>\n",
              "      <th>ad</th>\n",
              "      <th>affili</th>\n",
              "      <th>afford</th>\n",
              "      <th>ahead</th>\n",
              "      <th>alloc</th>\n",
              "      <th>allow</th>\n",
              "      <th>almost</th>\n",
              "      <th>along</th>\n",
              "      <th>also</th>\n",
              "      <th>ambit</th>\n",
              "      <th>among</th>\n",
              "      <th>anoth</th>\n",
              "      <th>approach</th>\n",
              "      <th>appropri</th>\n",
              "      <th>arrang</th>\n",
              "      <th>articl</th>\n",
              "      <th>autonom</th>\n",
              "      <th>avail</th>\n",
              "      <th>bank</th>\n",
              "      <th>base</th>\n",
              "      <th>basic</th>\n",
              "      <th>benefit</th>\n",
              "      <th>better</th>\n",
              "      <th>bring</th>\n",
              "      <th>broad</th>\n",
              "      <th>campus</th>\n",
              "      <th>centr</th>\n",
              "      <th>central</th>\n",
              "      <th>certif</th>\n",
              "      <th>chang</th>\n",
              "      <th>changer</th>\n",
              "      <th>...</th>\n",
              "      <th>sinc</th>\n",
              "      <th>state</th>\n",
              "      <th>statu</th>\n",
              "      <th>step</th>\n",
              "      <th>strategi</th>\n",
              "      <th>strengthen</th>\n",
              "      <th>student</th>\n",
              "      <th>subject</th>\n",
              "      <th>substitut</th>\n",
              "      <th>suggest</th>\n",
              "      <th>superpow</th>\n",
              "      <th>suppli</th>\n",
              "      <th>sustain</th>\n",
              "      <th>system</th>\n",
              "      <th>systemat</th>\n",
              "      <th>take</th>\n",
              "      <th>taken</th>\n",
              "      <th>talk</th>\n",
              "      <th>target</th>\n",
              "      <th>technolog</th>\n",
              "      <th>term</th>\n",
              "      <th>third</th>\n",
              "      <th>tier</th>\n",
              "      <th>time</th>\n",
              "      <th>top</th>\n",
              "      <th>train</th>\n",
              "      <th>transform</th>\n",
              "      <th>two</th>\n",
              "      <th>undergradu</th>\n",
              "      <th>univers</th>\n",
              "      <th>vacant</th>\n",
              "      <th>valu</th>\n",
              "      <th>variou</th>\n",
              "      <th>vision</th>\n",
              "      <th>want</th>\n",
              "      <th>week</th>\n",
              "      <th>well</th>\n",
              "      <th>within</th>\n",
              "      <th>work</th>\n",
              "      <th>year</th>\n",
              "    </tr>\n",
              "  </thead>\n",
              "  <tbody>\n",
              "    <tr>\n",
              "      <th>0</th>\n",
              "      <td>1</td>\n",
              "      <td>2</td>\n",
              "      <td>3</td>\n",
              "      <td>1</td>\n",
              "      <td>3</td>\n",
              "      <td>1</td>\n",
              "      <td>1</td>\n",
              "      <td>1</td>\n",
              "      <td>2</td>\n",
              "      <td>1</td>\n",
              "      <td>1</td>\n",
              "      <td>1</td>\n",
              "      <td>1</td>\n",
              "      <td>2</td>\n",
              "      <td>1</td>\n",
              "      <td>1</td>\n",
              "      <td>1</td>\n",
              "      <td>2</td>\n",
              "      <td>1</td>\n",
              "      <td>2</td>\n",
              "      <td>2</td>\n",
              "      <td>1</td>\n",
              "      <td>1</td>\n",
              "      <td>2</td>\n",
              "      <td>1</td>\n",
              "      <td>1</td>\n",
              "      <td>1</td>\n",
              "      <td>1</td>\n",
              "      <td>1</td>\n",
              "      <td>1</td>\n",
              "      <td>1</td>\n",
              "      <td>2</td>\n",
              "      <td>5</td>\n",
              "      <td>1</td>\n",
              "      <td>2</td>\n",
              "      <td>1</td>\n",
              "      <td>1</td>\n",
              "      <td>2</td>\n",
              "      <td>4</td>\n",
              "      <td>1</td>\n",
              "      <td>...</td>\n",
              "      <td>1</td>\n",
              "      <td>2</td>\n",
              "      <td>1</td>\n",
              "      <td>5</td>\n",
              "      <td>1</td>\n",
              "      <td>1</td>\n",
              "      <td>4</td>\n",
              "      <td>2</td>\n",
              "      <td>1</td>\n",
              "      <td>1</td>\n",
              "      <td>1</td>\n",
              "      <td>1</td>\n",
              "      <td>1</td>\n",
              "      <td>6</td>\n",
              "      <td>1</td>\n",
              "      <td>1</td>\n",
              "      <td>1</td>\n",
              "      <td>1</td>\n",
              "      <td>1</td>\n",
              "      <td>1</td>\n",
              "      <td>5</td>\n",
              "      <td>1</td>\n",
              "      <td>1</td>\n",
              "      <td>1</td>\n",
              "      <td>1</td>\n",
              "      <td>2</td>\n",
              "      <td>1</td>\n",
              "      <td>1</td>\n",
              "      <td>2</td>\n",
              "      <td>3</td>\n",
              "      <td>1</td>\n",
              "      <td>2</td>\n",
              "      <td>2</td>\n",
              "      <td>2</td>\n",
              "      <td>2</td>\n",
              "      <td>1</td>\n",
              "      <td>3</td>\n",
              "      <td>1</td>\n",
              "      <td>1</td>\n",
              "      <td>3</td>\n",
              "    </tr>\n",
              "  </tbody>\n",
              "</table>\n",
              "<p>1 rows × 265 columns</p>\n",
              "</div>"
            ],
            "text/plain": [
              "   abc  abl  academ  academia  accept  ...  week  well  within  work  year\n",
              "0    1    2       3         1       3  ...     1     3       1     1     3\n",
              "\n",
              "[1 rows x 265 columns]"
            ]
          },
          "metadata": {
            "tags": []
          },
          "execution_count": 82
        }
      ]
    },
    {
      "cell_type": "code",
      "metadata": {
        "id": "cH7vYGY9HYFp",
        "colab_type": "code",
        "colab": {
          "base_uri": "https://localhost:8080/",
          "height": 34
        },
        "outputId": "03c6080d-c9fb-46a3-e7db-7b83c86db36f"
      },
      "source": [
        "text1_words=set(c_vect.get_feature_names())     ## set() -> Build an unordered collection of unique elements.\n",
        "text2_words=set(c_vect2.get_feature_names())\n",
        "print(\"Number of commomn words are: {}\".format(len(text1_words.intersection(text2_words))))"
      ],
      "execution_count": 83,
      "outputs": [
        {
          "output_type": "stream",
          "text": [
            "Number of commomn words are: 93\n"
          ],
          "name": "stdout"
        }
      ]
    },
    {
      "cell_type": "code",
      "metadata": {
        "id": "8h6KcMygZwdB",
        "colab_type": "code",
        "colab": {}
      },
      "source": [
        ""
      ],
      "execution_count": 83,
      "outputs": []
    }
  ]
}