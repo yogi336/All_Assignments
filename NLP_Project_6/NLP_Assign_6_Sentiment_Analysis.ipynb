{
  "nbformat": 4,
  "nbformat_minor": 0,
  "metadata": {
    "colab": {
      "name": "NLP_Assign_6_Sentiment_Analysis.ipynb",
      "provenance": [],
      "collapsed_sections": []
    },
    "kernelspec": {
      "name": "python3",
      "display_name": "Python 3"
    }
  },
  "cells": [
    {
      "cell_type": "code",
      "metadata": {
        "id": "JSN5PGnMS3do",
        "colab_type": "code",
        "colab": {}
      },
      "source": [
        "## NLP_Assign_6_Sentiment_Analysis.ipynb"
      ],
      "execution_count": 1,
      "outputs": []
    },
    {
      "cell_type": "code",
      "metadata": {
        "id": "nmQeEwIadQic",
        "colab_type": "code",
        "colab": {
          "base_uri": "https://localhost:8080/",
          "height": 154
        },
        "outputId": "b56d5397-2a3b-4a22-ac13-b0ba76ec4cb7"
      },
      "source": [
        "import nltk\n",
        "nltk.download('punkt')\n",
        "nltk.download('stopwords')\n",
        "nltk.download('wordnet')\n",
        "nltk.download('vader_lexicon')"
      ],
      "execution_count": 2,
      "outputs": [
        {
          "output_type": "stream",
          "text": [
            "[nltk_data] Downloading package punkt to /root/nltk_data...\n",
            "[nltk_data]   Unzipping tokenizers/punkt.zip.\n",
            "[nltk_data] Downloading package stopwords to /root/nltk_data...\n",
            "[nltk_data]   Unzipping corpora/stopwords.zip.\n",
            "[nltk_data] Downloading package wordnet to /root/nltk_data...\n",
            "[nltk_data]   Unzipping corpora/wordnet.zip.\n",
            "[nltk_data] Downloading package vader_lexicon to /root/nltk_data...\n"
          ],
          "name": "stdout"
        },
        {
          "output_type": "execute_result",
          "data": {
            "text/plain": [
              "True"
            ]
          },
          "metadata": {
            "tags": []
          },
          "execution_count": 2
        }
      ]
    },
    {
      "cell_type": "code",
      "metadata": {
        "id": "WVk5zvGAcy-J",
        "colab_type": "code",
        "colab": {
          "base_uri": "https://localhost:8080/",
          "height": 71
        },
        "outputId": "9cc84827-68d8-4f94-d669-a7dc5a5eb254"
      },
      "source": [
        "import string\n",
        "from collections import Counter\n",
        "import matplotlib.pyplot as plt\n",
        "from nltk.corpus import stopwords\n",
        "from nltk.sentiment.vader import SentimentIntensityAnalyzer\n",
        "from nltk.stem import WordNetLemmatizer\n",
        "from nltk.tokenize import word_tokenize\n",
        "#nltk.download('vader_lexicon')\n",
        "import warnings\n",
        "warnings.filterwarnings('ignore')"
      ],
      "execution_count": 3,
      "outputs": [
        {
          "output_type": "stream",
          "text": [
            "/usr/local/lib/python3.6/dist-packages/nltk/twitter/__init__.py:20: UserWarning: The twython library has not been installed. Some functionality from the twitter package will not be available.\n",
            "  warnings.warn(\"The twython library has not been installed. \"\n"
          ],
          "name": "stderr"
        }
      ]
    },
    {
      "cell_type": "code",
      "metadata": {
        "id": "JwXkKA4Xc4XU",
        "colab_type": "code",
        "colab": {}
      },
      "source": [
        "text = open('/content/drive/My Drive/NLP/edu_policy_2020.txt', encoding=\"utf-8\").read()\n",
        "lower_case = text.lower()\n",
        "# str.maketrans removes any punctuations \n",
        "cleaned_text = lower_case.translate(str.maketrans('', '', string.punctuation))\n",
        "# Using word_tokenize to tokenize sentence into words\n",
        "tokenized_words = word_tokenize(cleaned_text, \"english\")"
      ],
      "execution_count": 4,
      "outputs": []
    },
    {
      "cell_type": "code",
      "metadata": {
        "id": "l9f-snG6dMPN",
        "colab_type": "code",
        "colab": {}
      },
      "source": [
        "# Removing Stop Words\n",
        "final_words = []\n",
        "for word in tokenized_words:\n",
        "    if word not in stopwords.words('english'):\n",
        "        final_words.append(word)"
      ],
      "execution_count": 5,
      "outputs": []
    },
    {
      "cell_type": "code",
      "metadata": {
        "id": "cIVEkgfRdgAy",
        "colab_type": "code",
        "colab": {}
      },
      "source": [
        "lemma_words = []\n",
        "for word in final_words:\n",
        "    word = WordNetLemmatizer().lemmatize(word)\n",
        "    lemma_words.append(word)"
      ],
      "execution_count": 6,
      "outputs": []
    },
    {
      "cell_type": "code",
      "metadata": {
        "id": "J8tUmZHzdp_B",
        "colab_type": "code",
        "colab": {
          "base_uri": "https://localhost:8080/",
          "height": 120
        },
        "outputId": "f143a566-3dad-45b6-9a72-5a2c2db31b53"
      },
      "source": [
        "emotion_list = []\n",
        "with open('/content/drive/My Drive/NLP/emotions.txt', 'r') as file:\n",
        "    for line in file:\n",
        "        clear_line = line.replace(\"\\n\", '').replace(\",\", '').replace(\"'\", '').strip()\n",
        "        word, emotion = clear_line.split(':')\n",
        "        if word in lemma_words:\n",
        "            emotion_list.append(emotion)\n",
        "\n",
        "print(\"People emotions from the text \\n\", emotion_list, '\\n \\n')\n",
        "w = Counter(emotion_list)\n",
        "print(\"Count of each emotion \\n\", w)"
      ],
      "execution_count": 7,
      "outputs": [
        {
          "output_type": "stream",
          "text": [
            "People emotions from the text \n",
            " [' fearless', ' adequate', ' happy', ' attached', ' attracted', ' happy'] \n",
            " \n",
            "\n",
            "Count of each emotion \n",
            " Counter({' happy': 2, ' fearless': 1, ' adequate': 1, ' attached': 1, ' attracted': 1})\n"
          ],
          "name": "stdout"
        }
      ]
    },
    {
      "cell_type": "code",
      "metadata": {
        "id": "C-QDks7Cx51X",
        "colab_type": "code",
        "colab": {
          "base_uri": "https://localhost:8080/",
          "height": 34
        },
        "outputId": "52ad3275-00b2-42de-960d-5dbc80d83e20"
      },
      "source": [
        "sia = SentimentIntensityAnalyzer()\n",
        "print (sia.polarity_scores(cleaned_text))"
      ],
      "execution_count": 15,
      "outputs": [
        {
          "output_type": "stream",
          "text": [
            "{'neg': 0.024, 'neu': 0.786, 'pos': 0.19, 'compound': 0.9989}\n"
          ],
          "name": "stdout"
        }
      ]
    },
    {
      "cell_type": "code",
      "metadata": {
        "id": "j7dfTgR4gvh-",
        "colab_type": "code",
        "colab": {}
      },
      "source": [
        "def sentiment_analyse(sentiment_text):\n",
        "    \n",
        "    score = SentimentIntensityAnalyzer().polarity_scores(sentiment_text)\n",
        "    \n",
        "    if score['neg'] > score['pos']:\n",
        "        print(\"\\n     ******Negative Sentiment*******\")\n",
        "        \n",
        "    elif score['neg'] < score['pos']:\n",
        "        print(\"\\n     ******Positive Sentiment*******\")\n",
        "    else:\n",
        "        print(\"Neutral Sentiment\")"
      ],
      "execution_count": 16,
      "outputs": []
    },
    {
      "cell_type": "code",
      "metadata": {
        "id": "5jlLjK7RhDqo",
        "colab_type": "code",
        "colab": {
          "base_uri": "https://localhost:8080/",
          "height": 302
        },
        "outputId": "81296bd6-1885-4957-a7af-149300abf671"
      },
      "source": [
        "sentiment_analyse(cleaned_text)\n",
        "\n",
        "fig, ax1 = plt.subplots()\n",
        "ax1.bar(w.keys(), w.values())\n",
        "fig.autofmt_xdate()\n",
        "plt.savefig('graph.png')\n",
        "plt.show()"
      ],
      "execution_count": 17,
      "outputs": [
        {
          "output_type": "stream",
          "text": [
            "\n",
            "     ******Positive Sentiment*******\n"
          ],
          "name": "stdout"
        },
        {
          "output_type": "display_data",
          "data": {
            "image/png": "[encoded data removed]",
            "text/plain": [
              "<Figure size 432x288 with 1 Axes>"
            ]
          },
          "metadata": {
            "tags": [],
            "needs_background": "light"
          }
        }
      ]
    },
    {
      "cell_type": "code",
      "metadata": {
        "id": "gXPDqt-BhICS",
        "colab_type": "code",
        "colab": {}
      },
      "source": [
        ""
      ],
      "execution_count": 10,
      "outputs": []
    }
  ]
}