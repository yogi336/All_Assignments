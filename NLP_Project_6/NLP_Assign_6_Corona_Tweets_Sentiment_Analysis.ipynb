{
  "nbformat": 4,
  "nbformat_minor": 0,
  "metadata": {
    "colab": {
      "name": "NLP_Assign_6_Corona_Tweets_Sentiment_Analysis.ipynb",
      "provenance": [],
      "collapsed_sections": []
    },
    "kernelspec": {
      "name": "python3",
      "display_name": "Python 3"
    }
  },
  "cells": [
    {
      "cell_type": "code",
      "metadata": {
        "id": "YoMaFhpg1cYx",
        "colab_type": "code",
        "colab": {}
      },
      "source": [
        "### NLP_Assign_6_Corona_Tweets_Sentiment_Analysis.ipynb"
      ],
      "execution_count": 32,
      "outputs": []
    },
    {
      "cell_type": "code",
      "metadata": {
        "id": "34Ex58T913zl",
        "colab_type": "code",
        "colab": {}
      },
      "source": [
        "import string\n",
        "from collections import Counter\n",
        "import matplotlib.pyplot as plt"
      ],
      "execution_count": 33,
      "outputs": []
    },
    {
      "cell_type": "code",
      "metadata": {
        "id": "YHqpAUcn14rH",
        "colab_type": "code",
        "colab": {
          "base_uri": "https://localhost:8080/",
          "height": 106
        },
        "outputId": "58a75ada-2dac-4605-8393-b2f24780f643"
      },
      "source": [
        "pip install GetOldTweets3"
      ],
      "execution_count": 34,
      "outputs": [
        {
          "output_type": "stream",
          "text": [
            "Requirement already satisfied: GetOldTweets3 in /usr/local/lib/python3.6/dist-packages (0.0.11)\n",
            "Requirement already satisfied: lxml>=3.5.0 in /usr/local/lib/python3.6/dist-packages (from GetOldTweets3) (4.2.6)\n",
            "Requirement already satisfied: pyquery>=1.2.10 in /usr/local/lib/python3.6/dist-packages (from GetOldTweets3) (1.4.1)\n",
            "Requirement already satisfied: cssselect>0.7.9 in /usr/local/lib/python3.6/dist-packages (from pyquery>=1.2.10->GetOldTweets3) (1.1.0)\n"
          ],
          "name": "stdout"
        }
      ]
    },
    {
      "cell_type": "code",
      "metadata": {
        "id": "rzQdVHme5H2_",
        "colab_type": "code",
        "colab": {}
      },
      "source": [
        "def get_tweets(start_date,end_date,topic):\n",
        "    import GetOldTweets3 as got   # library used to scrape data from twitter without any other tools\n",
        "    tweetCriteria = got.manager.TweetCriteria().setQuerySearch(topic) \\\n",
        "        .setSince(start_date) \\\n",
        "        .setUntil(end_date) \\\n",
        "        .setMaxTweets(100)\n",
        "    # Creation of list that contains all tweets\n",
        "    tweets = got.manager.TweetManager.getTweets(tweetCriteria)\n",
        "    # Creating list of chosen tweet data\n",
        "    text_tweets = [[tweet.text] for tweet in tweets]\n",
        "    return text_tweets"
      ],
      "execution_count": 51,
      "outputs": []
    },
    {
      "cell_type": "code",
      "metadata": {
        "id": "wAHZPWNLD0zY",
        "colab_type": "code",
        "colab": {}
      },
      "source": [
        "start_date_befor=\"2020-02-22\"\n",
        "end_date_befor=\"2020-03-23\"\n",
        "topic='#coronavirus'\n",
        "tweets_before  = get_tweets(start_date_befor,end_date_befor,topic)"
      ],
      "execution_count": 59,
      "outputs": []
    },
    {
      "cell_type": "code",
      "metadata": {
        "id": "WoBH9XeGE2mT",
        "colab_type": "code",
        "colab": {
          "base_uri": "https://localhost:8080/",
          "height": 34
        },
        "outputId": "ed3e6964-bb0c-47bb-f787-660fc82ad5cc"
      },
      "source": [
        "tweets_before[2]"
      ],
      "execution_count": 60,
      "outputs": [
        {
          "output_type": "execute_result",
          "data": {
            "text/plain": [
              "['Coronavirus: IOC considers postponing 2020 Tokyo Olympics #Coronavirus ']"
            ]
          },
          "metadata": {
            "tags": []
          },
          "execution_count": 60
        }
      ]
    },
    {
      "cell_type": "code",
      "metadata": {
        "id": "XKerS58yEe3C",
        "colab_type": "code",
        "colab": {}
      },
      "source": [
        "start_date_after=\"2020-03-24\"\n",
        "end_date_after=\"2020-04-23\"\n",
        "topic='#coronavirus'\n",
        "tweets_after  = get_tweets(start_date_after,end_date_after,topic)"
      ],
      "execution_count": 61,
      "outputs": []
    },
    {
      "cell_type": "code",
      "metadata": {
        "id": "syjPJ0kBE0j3",
        "colab_type": "code",
        "colab": {
          "base_uri": "https://localhost:8080/",
          "height": 34
        },
        "outputId": "6d710877-1996-4a34-940b-5be5d5676ed5"
      },
      "source": [
        "tweets_after[2]"
      ],
      "execution_count": 62,
      "outputs": [
        {
          "output_type": "execute_result",
          "data": {
            "text/plain": [
              "['Are you out of work due to #coronavirus? Is your resume ready for when the country opens back up?']"
            ]
          },
          "metadata": {
            "tags": []
          },
          "execution_count": 62
        }
      ]
    },
    {
      "cell_type": "code",
      "metadata": {
        "id": "UjWZrDHkE9f0",
        "colab_type": "code",
        "colab": {}
      },
      "source": [
        "# reading text file\n",
        "text = \"\"\n",
        "text_tweets = get_tweets(start_date_befor,end_date_befor,topic)\n",
        "\n",
        "length = len(text_tweets)\n",
        "\n",
        "for i in range(0, length):\n",
        "    text = text_tweets[i][0] + \" \" + text\n",
        "\n",
        "# converting to lowercase\n",
        "lower_case = text.lower()\n",
        "\n",
        "# Removing punctuations\n",
        "cleaned_text = lower_case.translate(str.maketrans('', '', string.punctuation))\n",
        "\n",
        "# splitting text into words\n",
        "tokenized_words_before = cleaned_text.split()"
      ],
      "execution_count": 63,
      "outputs": []
    },
    {
      "cell_type": "code",
      "metadata": {
        "id": "O4iNpO8VGNhZ",
        "colab_type": "code",
        "colab": {}
      },
      "source": [
        "# reading text file\n",
        "text = \"\"\n",
        "text_tweets = get_tweets(start_date_after,end_date_after,topic)\n",
        "\n",
        "length = len(text_tweets)\n",
        "\n",
        "for i in range(0, length):\n",
        "    text = text_tweets[i][0] + \" \" + text\n",
        "\n",
        "# converting to lowercase\n",
        "lower_case = text.lower()\n",
        "\n",
        "# Removing punctuations\n",
        "cleaned_text = lower_case.translate(str.maketrans('', '', string.punctuation))\n",
        "\n",
        "# splitting text into words\n",
        "tokenized_words_after = cleaned_text.split()"
      ],
      "execution_count": 64,
      "outputs": []
    },
    {
      "cell_type": "code",
      "metadata": {
        "id": "t9N79mYZGgga",
        "colab_type": "code",
        "colab": {}
      },
      "source": [
        "stop_words = [\"i\", \"me\", \"my\", \"myself\", \"we\", \"our\", \"ours\", \"ourselves\", \"you\", \"your\", \"yours\", \"yourself\",\n",
        "              \"yourselves\", \"he\", \"him\", \"his\", \"himself\", \"she\", \"her\", \"hers\", \"herself\", \"it\", \"its\", \"itself\",\n",
        "              \"they\", \"them\", \"their\", \"theirs\", \"themselves\", \"what\", \"which\", \"who\", \"whom\", \"this\", \"that\", \"these\",\n",
        "              \"those\", \"am\", \"is\", \"are\", \"was\", \"were\", \"be\", \"been\", \"being\", \"have\", \"has\", \"had\", \"having\", \"do\",\n",
        "              \"does\", \"did\", \"doing\", \"a\", \"an\", \"the\", \"and\", \"but\", \"if\", \"or\", \"because\", \"as\", \"until\", \"while\",\n",
        "              \"of\", \"at\", \"by\", \"for\", \"with\", \"about\", \"against\", \"between\", \"into\", \"through\", \"during\", \"before\",\n",
        "              \"after\", \"above\", \"below\", \"to\", \"from\", \"up\", \"down\", \"in\", \"out\", \"on\", \"off\", \"over\", \"under\", \"again\",\n",
        "              \"further\", \"then\", \"once\", \"here\", \"there\", \"when\", \"where\", \"why\", \"how\", \"all\", \"any\", \"both\", \"each\",\n",
        "              \"few\", \"more\", \"most\", \"other\", \"some\", \"such\", \"no\", \"nor\", \"not\", \"only\", \"own\", \"same\", \"so\", \"than\",\n",
        "              \"too\", \"very\", \"s\", \"t\", \"can\", \"will\", \"just\", \"don\", \"should\", \"now\"]"
      ],
      "execution_count": 68,
      "outputs": []
    },
    {
      "cell_type": "code",
      "metadata": {
        "id": "_pdidcIjG1Ey",
        "colab_type": "code",
        "colab": {}
      },
      "source": [
        "# Removing stop words from the tokenized words list\n",
        "final_words_befor = [word for word in tokenized_words_before if word not in stop_words]\n",
        "final_words_after = [word for word in tokenized_words_after if word not in stop_words]"
      ],
      "execution_count": 69,
      "outputs": []
    },
    {
      "cell_type": "code",
      "metadata": {
        "id": "oCAfc2jEHL9A",
        "colab_type": "code",
        "colab": {
          "base_uri": "https://localhost:8080/",
          "height": 54
        },
        "outputId": "68338a9c-0c92-4b2a-e9e5-2a00c3b3b3f3"
      },
      "source": [
        "# Get emotions text\n",
        "emotion_list = []\n",
        "with open('/content/drive/My Drive/NLP/emotions_corona.txt') as file:\n",
        "    for line in file:\n",
        "        clear_line = line.replace('\\n', '').replace(',', '').replace(\"'\", '').strip()\n",
        "        word, emotion = clear_line.split(':')\n",
        "        if word in final_words_befor:\n",
        "            emotion_list.append(emotion)\n",
        "\n",
        "w_befor = Counter(emotion_list)\n",
        "print(w_befor)"
      ],
      "execution_count": 70,
      "outputs": [
        {
          "output_type": "stream",
          "text": [
            "Counter({' fearless': 2, ' lost': 2, ' bored': 1, ' attracted': 1, ' adequate': 1, ' happy': 1, ' obsessed': 1, ' sad': 1, ' alone': 1, 'anxious': 1, 'anxiety': 1})\n"
          ],
          "name": "stdout"
        }
      ]
    },
    {
      "cell_type": "code",
      "metadata": {
        "id": "9OcRj8eAHdlb",
        "colab_type": "code",
        "colab": {
          "base_uri": "https://localhost:8080/",
          "height": 34
        },
        "outputId": "a2d06695-429e-4d95-8281-5ef841b90fc8"
      },
      "source": [
        "# Get emotions text\n",
        "emotion_list = []\n",
        "with open('/content/drive/My Drive/NLP/emotions_corona.txt') as file:\n",
        "    for line in file:\n",
        "        clear_line = line.replace('\\n', '').replace(',', '').replace(\"'\", '').strip()\n",
        "        word, emotion = clear_line.split(':')\n",
        "        if word in final_words_after:\n",
        "            emotion_list.append(emotion)\n",
        "\n",
        "w_after = Counter(emotion_list)\n",
        "print(w_after)"
      ],
      "execution_count": 71,
      "outputs": [
        {
          "output_type": "stream",
          "text": [
            "Counter({'anxiety': 2, ' esteemed': 1, ' sad': 1, ' happy': 1, ' fearless': 1, ' attracted': 1, ' free': 1, ' powerless': 1})\n"
          ],
          "name": "stdout"
        }
      ]
    },
    {
      "cell_type": "code",
      "metadata": {
        "id": "_y1S7iYKHtO_",
        "colab_type": "code",
        "colab": {
          "base_uri": "https://localhost:8080/",
          "height": 268
        },
        "outputId": "ad72ac1d-f0a8-4f75-d567-b8327eb65cda"
      },
      "source": [
        "fig, ax1 = plt.subplots()\n",
        "ax1.bar(w_befor.keys(), w_befor.values())\n",
        "fig.autofmt_xdate()\n",
        "#plt.savefig('graph.png')\n",
        "plt.show()"
      ],
      "execution_count": 74,
      "outputs": [
        {
          "output_type": "display_data",
          "data": {
            "image/png": "[encoded data removed]",
            "text/plain": [
              "<Figure size 432x288 with 1 Axes>"
            ]
          },
          "metadata": {
            "tags": [],
            "needs_background": "light"
          }
        }
      ]
    },
    {
      "cell_type": "code",
      "metadata": {
        "id": "RCh0UtAdHxn5",
        "colab_type": "code",
        "colab": {
          "base_uri": "https://localhost:8080/",
          "height": 269
        },
        "outputId": "586e8a43-ae20-42d9-f75d-268a8ba5ef33"
      },
      "source": [
        "fig, ax1 = plt.subplots()\n",
        "ax1.bar(w_after.keys(), w_after.values())\n",
        "fig.autofmt_xdate()\n",
        "#plt.savefig('graph.png')\n",
        "plt.show()"
      ],
      "execution_count": 75,
      "outputs": [
        {
          "output_type": "display_data",
          "data": {
            "image/png": "[encoded data removed]",
            "text/plain": [
              "<Figure size 432x288 with 1 Axes>"
            ]
          },
          "metadata": {
            "tags": [],
            "needs_background": "light"
          }
        }
      ]
    },
    {
      "cell_type": "code",
      "metadata": {
        "id": "-dlX5u5KH9vB",
        "colab_type": "code",
        "colab": {}
      },
      "source": [
        ""
      ],
      "execution_count": null,
      "outputs": []
    }
  ]
}